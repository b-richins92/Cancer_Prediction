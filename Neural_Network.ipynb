{
 "cells": [
  {
   "cell_type": "code",
   "execution_count": 1,
   "id": "36833343-9f58-4360-aeb7-7c2a3c4cf896",
   "metadata": {},
   "outputs": [
    {
     "name": "stderr",
     "output_type": "stream",
     "text": [
      "/home/brichins/.local/lib/python3.11/site-packages/torch/cuda/__init__.py:619: UserWarning: Can't initialize NVML\n",
      "  warnings.warn(\"Can't initialize NVML\")\n"
     ]
    }
   ],
   "source": [
    "import torch\n",
    "from torch import nn, Tensor\n",
    "import torchvision\n",
    "import torchvision.transforms as transforms\n",
    "from torch.utils.data import TensorDataset, Dataset, DataLoader\n",
    "import matplotlib.pyplot as plt\n",
    "from tqdm import tqdm\n",
    "from sklearn.metrics import classification_report\n",
    "from sklearn.model_selection import train_test_split\n",
    "import pandas as pd\n",
    "import numpy as np\n",
    "import time\n",
    "import copy\n",
    "from imblearn.over_sampling import SMOTE\n",
    "torch.set_num_threads(4)\n",
    "torch.set_num_interop_threads(4)"
   ]
  },
  {
   "cell_type": "code",
   "execution_count": 2,
   "id": "95fed8f0-e687-41e9-8698-e5251736608e",
   "metadata": {},
   "outputs": [],
   "source": [
    "with open('train_df') as f:\n",
    "    X_train = pd.read_csv(f)\n",
    "\n",
    "with open('val_df') as f:\n",
    "    X_val = pd.read_csv(f)\n",
    "\n",
    "with open('test_df') as f:\n",
    "    X_test = pd.read_csv(f)"
   ]
  },
  {
   "cell_type": "code",
   "execution_count": 3,
   "id": "ed5b96f0-b892-4a01-b52f-e0b6331e628e",
   "metadata": {},
   "outputs": [],
   "source": [
    "y_train=X_train.Cancer\n",
    "y_test=X_test.Cancer\n",
    "X_train=X_train.drop(\"Cancer\",axis=1)\n",
    "X_test=X_test.drop(\"Cancer\",axis=1)"
   ]
  },
  {
   "cell_type": "code",
   "execution_count": 4,
   "id": "0bd8bcf1-6b86-4b9b-8017-eb5e809f1d7d",
   "metadata": {},
   "outputs": [],
   "source": [
    "smote = SMOTE(random_state=42)\n",
    "X_train, y_train = smote.fit_resample(X_train, y_train)"
   ]
  },
  {
   "cell_type": "code",
   "execution_count": 5,
   "id": "23f8cd05-3e73-4eb1-af77-a9fd920a3b81",
   "metadata": {},
   "outputs": [],
   "source": [
    "dataset = TensorDataset( Tensor(X_train.values), Tensor(y_train.values.astype(int)))\n",
    "train_loader = DataLoader(dataset, batch_size= 50)"
   ]
  },
  {
   "cell_type": "code",
   "execution_count": 6,
   "id": "b618455d-1cf3-451d-90a9-a6c5ff792c62",
   "metadata": {},
   "outputs": [],
   "source": [
    "dataset = TensorDataset( Tensor(X_test.values), Tensor(y_test.values.astype(int)) )\n",
    "test_loader = DataLoader(dataset, batch_size= 50)"
   ]
  },
  {
   "cell_type": "markdown",
   "id": "b094e713-914d-41b4-b10f-31b2fe99168d",
   "metadata": {},
   "source": [
    "https://discuss.pytorch.org/t/load-dataframe-in-torch/47436/3\n",
    "https://pytorch.org/tutorials/beginner/basics/data_tutorial.html\n",
    "https://datascience.stackexchange.com/questions/45916/loading-own-train-data-and-labels-in-dataloader-using-pytorch"
   ]
  },
  {
   "cell_type": "code",
   "execution_count": 7,
   "id": "242814c8-104e-4037-9b97-9b44f997a820",
   "metadata": {},
   "outputs": [],
   "source": [
    "class NeuralNetwork(nn.Module):\n",
    "    def __init__(self,layer_1,layer_2,layer_3):\n",
    "        super(NeuralNetwork,self).__init__()\n",
    "        #self.flatten = nn.Flatten()\n",
    "        self.linear_relu_stack = nn.Sequential(\n",
    "            nn.BatchNorm1d(layer_1),\n",
    "            nn.Linear(layer_1, layer_2),\n",
    "            #nn.ReLU(),\n",
    "            #nn.Linear(layer_2, layer_2),\n",
    "            nn.ReLU(),\n",
    "            nn.Linear(layer_2, layer_3),\n",
    "            nn.Sigmoid()\n",
    "        )\n",
    "\n",
    "    def forward(self, x):\n",
    "        #x = self.flatten(x)\n",
    "        logits = self.linear_relu_stack(x)\n",
    "        return logits"
   ]
  },
  {
   "cell_type": "code",
   "execution_count": 8,
   "id": "7df74506-daf9-4927-b4b9-73639c7d9e05",
   "metadata": {},
   "outputs": [],
   "source": [
    "# hyperparameter values to consider.\n",
    "hiddens=[256]  #256\n",
    "lrs=[1e-4] #1e-4\n",
    "layer_1= X_train.shape[1]\n",
    "layer_3=1\n",
    "loss_function = nn.BCELoss()"
   ]
  },
  {
   "cell_type": "code",
   "execution_count": 9,
   "id": "ccd81157-bb80-4239-95d9-b90db90e5a2b",
   "metadata": {},
   "outputs": [],
   "source": [
    "torch.manual_seed(0)\n",
    "torch.backends.cudnn.deterministic = True\n",
    "torch.backends.cudnn.benchmark = False"
   ]
  },
  {
   "cell_type": "code",
   "execution_count": null,
   "id": "ff3f54c1-7912-4513-a7cb-af5c4fef2d52",
   "metadata": {
    "scrolled": true
   },
   "outputs": [],
   "source": [
    "def eval_model(model,data_loader):\n",
    "    model.eval()\n",
    "    y_true_list=[]\n",
    "    y_pred_list=[]\n",
    "    model.eval()\n",
    "    for x,y in data_loader:\n",
    "        outputs=model(x)\n",
    "        y_pred = torch.where(outputs >.48,1,0)   #.49\n",
    "        y_pred_list.extend(y_pred.clone().detach().tolist())\n",
    "        y_true_list.extend(y.clone().detach().tolist())\n",
    "    return classification_report(y_true_list, y_pred_list)\n",
    "\n",
    "best_model=None\n",
    "acclist=[]\n",
    "\n",
    "for h in hiddens:\n",
    "    for lr in lrs:\n",
    "        net = NeuralNetwork(layer_1, h, layer_3)\n",
    "        optimizer = torch.optim.SGD(net.parameters(), lr=lr)\n",
    "        epoch=0\n",
    "        for i in range(40):\n",
    "            epoch+=1\n",
    "            net.train()\n",
    "            for x,y in train_loader:\n",
    "                optimizer.zero_grad()\n",
    "                outputs = net(x)\n",
    "                loss= loss_function(outputs,y.unsqueeze(1))\n",
    "                loss.backward()\n",
    "                torch.nn.utils.clip_grad_value_(net.parameters(), .0005)  #.005\n",
    "                optimizer.step()\n",
    "            if epoch%1 ==0:\n",
    "                #acclist.append(eval_model(net,test_loader))\n",
    "                print(eval_model(net,test_loader))\n",
    "         \n",
    "            \n",
    "            "
   ]
  },
  {
   "cell_type": "code",
   "execution_count": null,
   "id": "277d409c-da47-4abe-9ef3-b8e0d994e32d",
   "metadata": {},
   "outputs": [],
   "source": []
  }
 ],
 "metadata": {
  "kernelspec": {
   "display_name": "Python 3 (ipykernel)",
   "language": "python",
   "name": "python3"
  },
  "language_info": {
   "codemirror_mode": {
    "name": "ipython",
    "version": 3
   },
   "file_extension": ".py",
   "mimetype": "text/x-python",
   "name": "python",
   "nbconvert_exporter": "python",
   "pygments_lexer": "ipython3",
   "version": "3.11.7"
  }
 },
 "nbformat": 4,
 "nbformat_minor": 5
}
