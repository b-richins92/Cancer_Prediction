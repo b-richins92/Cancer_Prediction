{
  "nbformat": 4,
  "nbformat_minor": 0,
  "metadata": {
    "colab": {
      "provenance": [],
      "authorship_tag": "ABX9TyNl/a6GMlVZWcJI1GxbxAPQ",
      "include_colab_link": true
    },
    "kernelspec": {
      "name": "python3",
      "display_name": "Python 3"
    },
    "language_info": {
      "name": "python"
    },
    "widgets": {
      "application/vnd.jupyter.widget-state+json": {
        "68bb6552c4ad4cd8baa4e54562ab847f": {
          "model_module": "@jupyter-widgets/controls",
          "model_name": "HBoxModel",
          "model_module_version": "1.5.0",
          "state": {
            "_dom_classes": [],
            "_model_module": "@jupyter-widgets/controls",
            "_model_module_version": "1.5.0",
            "_model_name": "HBoxModel",
            "_view_count": null,
            "_view_module": "@jupyter-widgets/controls",
            "_view_module_version": "1.5.0",
            "_view_name": "HBoxView",
            "box_style": "",
            "children": [
              "IPY_MODEL_6349ecb8dcf74f4c84d1c15ee117f07c",
              "IPY_MODEL_44eefe6aaac14dcca9e121165bead501",
              "IPY_MODEL_04055ce9cc944f0791e4ac6b6087d7ed"
            ],
            "layout": "IPY_MODEL_dd3e778d0d3b45d79f1dea600ad20c17"
          }
        },
        "6349ecb8dcf74f4c84d1c15ee117f07c": {
          "model_module": "@jupyter-widgets/controls",
          "model_name": "HTMLModel",
          "model_module_version": "1.5.0",
          "state": {
            "_dom_classes": [],
            "_model_module": "@jupyter-widgets/controls",
            "_model_module_version": "1.5.0",
            "_model_name": "HTMLModel",
            "_view_count": null,
            "_view_module": "@jupyter-widgets/controls",
            "_view_module_version": "1.5.0",
            "_view_name": "HTMLView",
            "description": "",
            "description_tooltip": null,
            "layout": "IPY_MODEL_784655e5583a43709c843227b574dae9",
            "placeholder": "​",
            "style": "IPY_MODEL_e6440fe5d1ad4a1fa470a838de4f17e7",
            "value": "Processing: 100%"
          }
        },
        "44eefe6aaac14dcca9e121165bead501": {
          "model_module": "@jupyter-widgets/controls",
          "model_name": "FloatProgressModel",
          "model_module_version": "1.5.0",
          "state": {
            "_dom_classes": [],
            "_model_module": "@jupyter-widgets/controls",
            "_model_module_version": "1.5.0",
            "_model_name": "FloatProgressModel",
            "_view_count": null,
            "_view_module": "@jupyter-widgets/controls",
            "_view_module_version": "1.5.0",
            "_view_name": "ProgressView",
            "bar_style": "",
            "description": "",
            "description_tooltip": null,
            "layout": "IPY_MODEL_7bcc73056d9e4e6ea9339d65a2f33afc",
            "max": 67,
            "min": 0,
            "orientation": "horizontal",
            "style": "IPY_MODEL_9a1c5a1dbe64411d8c75d5467135307f",
            "value": 67
          }
        },
        "04055ce9cc944f0791e4ac6b6087d7ed": {
          "model_module": "@jupyter-widgets/controls",
          "model_name": "HTMLModel",
          "model_module_version": "1.5.0",
          "state": {
            "_dom_classes": [],
            "_model_module": "@jupyter-widgets/controls",
            "_model_module_version": "1.5.0",
            "_model_name": "HTMLModel",
            "_view_count": null,
            "_view_module": "@jupyter-widgets/controls",
            "_view_module_version": "1.5.0",
            "_view_name": "HTMLView",
            "description": "",
            "description_tooltip": null,
            "layout": "IPY_MODEL_055f7e3f7e9d4d208d9eab23dd32a0ae",
            "placeholder": "​",
            "style": "IPY_MODEL_2c61a264fe854090bf3b5359a971d6de",
            "value": " 67/67 [27:55&lt;00:00, 14.79s/it]"
          }
        },
        "dd3e778d0d3b45d79f1dea600ad20c17": {
          "model_module": "@jupyter-widgets/base",
          "model_name": "LayoutModel",
          "model_module_version": "1.2.0",
          "state": {
            "_model_module": "@jupyter-widgets/base",
            "_model_module_version": "1.2.0",
            "_model_name": "LayoutModel",
            "_view_count": null,
            "_view_module": "@jupyter-widgets/base",
            "_view_module_version": "1.2.0",
            "_view_name": "LayoutView",
            "align_content": null,
            "align_items": null,
            "align_self": null,
            "border": null,
            "bottom": null,
            "display": null,
            "flex": null,
            "flex_flow": null,
            "grid_area": null,
            "grid_auto_columns": null,
            "grid_auto_flow": null,
            "grid_auto_rows": null,
            "grid_column": null,
            "grid_gap": null,
            "grid_row": null,
            "grid_template_areas": null,
            "grid_template_columns": null,
            "grid_template_rows": null,
            "height": null,
            "justify_content": null,
            "justify_items": null,
            "left": null,
            "margin": null,
            "max_height": null,
            "max_width": null,
            "min_height": null,
            "min_width": null,
            "object_fit": null,
            "object_position": null,
            "order": null,
            "overflow": null,
            "overflow_x": null,
            "overflow_y": null,
            "padding": null,
            "right": null,
            "top": null,
            "visibility": "hidden",
            "width": null
          }
        },
        "784655e5583a43709c843227b574dae9": {
          "model_module": "@jupyter-widgets/base",
          "model_name": "LayoutModel",
          "model_module_version": "1.2.0",
          "state": {
            "_model_module": "@jupyter-widgets/base",
            "_model_module_version": "1.2.0",
            "_model_name": "LayoutModel",
            "_view_count": null,
            "_view_module": "@jupyter-widgets/base",
            "_view_module_version": "1.2.0",
            "_view_name": "LayoutView",
            "align_content": null,
            "align_items": null,
            "align_self": null,
            "border": null,
            "bottom": null,
            "display": null,
            "flex": null,
            "flex_flow": null,
            "grid_area": null,
            "grid_auto_columns": null,
            "grid_auto_flow": null,
            "grid_auto_rows": null,
            "grid_column": null,
            "grid_gap": null,
            "grid_row": null,
            "grid_template_areas": null,
            "grid_template_columns": null,
            "grid_template_rows": null,
            "height": null,
            "justify_content": null,
            "justify_items": null,
            "left": null,
            "margin": null,
            "max_height": null,
            "max_width": null,
            "min_height": null,
            "min_width": null,
            "object_fit": null,
            "object_position": null,
            "order": null,
            "overflow": null,
            "overflow_x": null,
            "overflow_y": null,
            "padding": null,
            "right": null,
            "top": null,
            "visibility": null,
            "width": null
          }
        },
        "e6440fe5d1ad4a1fa470a838de4f17e7": {
          "model_module": "@jupyter-widgets/controls",
          "model_name": "DescriptionStyleModel",
          "model_module_version": "1.5.0",
          "state": {
            "_model_module": "@jupyter-widgets/controls",
            "_model_module_version": "1.5.0",
            "_model_name": "DescriptionStyleModel",
            "_view_count": null,
            "_view_module": "@jupyter-widgets/base",
            "_view_module_version": "1.2.0",
            "_view_name": "StyleView",
            "description_width": ""
          }
        },
        "7bcc73056d9e4e6ea9339d65a2f33afc": {
          "model_module": "@jupyter-widgets/base",
          "model_name": "LayoutModel",
          "model_module_version": "1.2.0",
          "state": {
            "_model_module": "@jupyter-widgets/base",
            "_model_module_version": "1.2.0",
            "_model_name": "LayoutModel",
            "_view_count": null,
            "_view_module": "@jupyter-widgets/base",
            "_view_module_version": "1.2.0",
            "_view_name": "LayoutView",
            "align_content": null,
            "align_items": null,
            "align_self": null,
            "border": null,
            "bottom": null,
            "display": null,
            "flex": null,
            "flex_flow": null,
            "grid_area": null,
            "grid_auto_columns": null,
            "grid_auto_flow": null,
            "grid_auto_rows": null,
            "grid_column": null,
            "grid_gap": null,
            "grid_row": null,
            "grid_template_areas": null,
            "grid_template_columns": null,
            "grid_template_rows": null,
            "height": null,
            "justify_content": null,
            "justify_items": null,
            "left": null,
            "margin": null,
            "max_height": null,
            "max_width": null,
            "min_height": null,
            "min_width": null,
            "object_fit": null,
            "object_position": null,
            "order": null,
            "overflow": null,
            "overflow_x": null,
            "overflow_y": null,
            "padding": null,
            "right": null,
            "top": null,
            "visibility": null,
            "width": null
          }
        },
        "9a1c5a1dbe64411d8c75d5467135307f": {
          "model_module": "@jupyter-widgets/controls",
          "model_name": "ProgressStyleModel",
          "model_module_version": "1.5.0",
          "state": {
            "_model_module": "@jupyter-widgets/controls",
            "_model_module_version": "1.5.0",
            "_model_name": "ProgressStyleModel",
            "_view_count": null,
            "_view_module": "@jupyter-widgets/base",
            "_view_module_version": "1.2.0",
            "_view_name": "StyleView",
            "bar_color": null,
            "description_width": ""
          }
        },
        "055f7e3f7e9d4d208d9eab23dd32a0ae": {
          "model_module": "@jupyter-widgets/base",
          "model_name": "LayoutModel",
          "model_module_version": "1.2.0",
          "state": {
            "_model_module": "@jupyter-widgets/base",
            "_model_module_version": "1.2.0",
            "_model_name": "LayoutModel",
            "_view_count": null,
            "_view_module": "@jupyter-widgets/base",
            "_view_module_version": "1.2.0",
            "_view_name": "LayoutView",
            "align_content": null,
            "align_items": null,
            "align_self": null,
            "border": null,
            "bottom": null,
            "display": null,
            "flex": null,
            "flex_flow": null,
            "grid_area": null,
            "grid_auto_columns": null,
            "grid_auto_flow": null,
            "grid_auto_rows": null,
            "grid_column": null,
            "grid_gap": null,
            "grid_row": null,
            "grid_template_areas": null,
            "grid_template_columns": null,
            "grid_template_rows": null,
            "height": null,
            "justify_content": null,
            "justify_items": null,
            "left": null,
            "margin": null,
            "max_height": null,
            "max_width": null,
            "min_height": null,
            "min_width": null,
            "object_fit": null,
            "object_position": null,
            "order": null,
            "overflow": null,
            "overflow_x": null,
            "overflow_y": null,
            "padding": null,
            "right": null,
            "top": null,
            "visibility": null,
            "width": null
          }
        },
        "2c61a264fe854090bf3b5359a971d6de": {
          "model_module": "@jupyter-widgets/controls",
          "model_name": "DescriptionStyleModel",
          "model_module_version": "1.5.0",
          "state": {
            "_model_module": "@jupyter-widgets/controls",
            "_model_module_version": "1.5.0",
            "_model_name": "DescriptionStyleModel",
            "_view_count": null,
            "_view_module": "@jupyter-widgets/base",
            "_view_module_version": "1.2.0",
            "_view_name": "StyleView",
            "description_width": ""
          }
        },
        "dc240683904f455194bc5c370d9c549d": {
          "model_module": "@jupyter-widgets/controls",
          "model_name": "VBoxModel",
          "model_module_version": "1.5.0",
          "state": {
            "_dom_classes": [
              "widget-interact"
            ],
            "_model_module": "@jupyter-widgets/controls",
            "_model_module_version": "1.5.0",
            "_model_name": "VBoxModel",
            "_view_count": null,
            "_view_module": "@jupyter-widgets/controls",
            "_view_module_version": "1.5.0",
            "_view_name": "VBoxView",
            "box_style": "",
            "children": [
              "IPY_MODEL_016d450d736347899a7d1c69f9b938f0",
              "IPY_MODEL_04bf2f3214ff4102840b67466584fde7"
            ],
            "layout": "IPY_MODEL_efb9c65ca6eb46979b65f0e8bb7dc41d"
          }
        },
        "016d450d736347899a7d1c69f9b938f0": {
          "model_module": "@jupyter-widgets/controls",
          "model_name": "ToggleButtonsModel",
          "model_module_version": "1.5.0",
          "state": {
            "_dom_classes": [],
            "_model_module": "@jupyter-widgets/controls",
            "_model_module_version": "1.5.0",
            "_model_name": "ToggleButtonsModel",
            "_options_labels": [
              "Pipeline Plot",
              "Hyperparameters",
              "AUC",
              "Confusion Matrix",
              "Threshold",
              "Precision Recall",
              "Prediction Error",
              "Class Report",
              "Feature Selection",
              "Learning Curve",
              "Manifold Learning",
              "Calibration Curve",
              "Validation Curve",
              "Dimensions",
              "Feature Importance",
              "Feature Importance (All)",
              "Decision Boundary",
              "Lift Chart",
              "Gain Chart",
              "Decision Tree",
              "KS Statistic Plot"
            ],
            "_view_count": null,
            "_view_module": "@jupyter-widgets/controls",
            "_view_module_version": "1.5.0",
            "_view_name": "ToggleButtonsView",
            "button_style": "",
            "description": "Plot Type:",
            "description_tooltip": null,
            "disabled": false,
            "icons": [
              ""
            ],
            "index": 2,
            "layout": "IPY_MODEL_1633d7615ed941f09998814f8433340e",
            "style": "IPY_MODEL_094c7dfa26fe4d05beef2bbfccf283db",
            "tooltips": []
          }
        },
        "04bf2f3214ff4102840b67466584fde7": {
          "model_module": "@jupyter-widgets/output",
          "model_name": "OutputModel",
          "model_module_version": "1.0.0",
          "state": {
            "_dom_classes": [],
            "_model_module": "@jupyter-widgets/output",
            "_model_module_version": "1.0.0",
            "_model_name": "OutputModel",
            "_view_count": null,
            "_view_module": "@jupyter-widgets/output",
            "_view_module_version": "1.0.0",
            "_view_name": "OutputView",
            "layout": "IPY_MODEL_7bba69a31e7e48c5be6b5d573250831f",
            "msg_id": "",
            "outputs": [
              {
                "output_type": "display_data",
                "data": {
                  "text/plain": "<Figure size 800x550 with 1 Axes>",
                  "image/png": "iVBORw0KGgoAAAANSUhEUgAAAroAAAH7CAYAAAAjETxNAAAAOXRFWHRTb2Z0d2FyZQBNYXRwbG90bGliIHZlcnNpb24zLjcuMSwgaHR0cHM6Ly9tYXRwbG90bGliLm9yZy/bCgiHAAAACXBIWXMAAA9hAAAPYQGoP6dpAADmiklEQVR4nOzdd3hTZf8G8PtkJ226J3RSoOy9ZMlQlK3iAF5AEERUwK04X9wioC8givAqKq8ioAg4QFw/FRUHe8+WUaB7J2nW+f2R9rShK4G0aZv7c11cJCfnnH7TdNx98j3PI4iiKIKIiIiIqImRebsAIiIiIqK6wKBLRERERE0Sgy4RERERNUkMukRERETUJDHoEhEREVGTxKBLRERERE0Sgy4RERERNUkMukRERETUJDHoEhEREVGTpPB2AUS+Yt68efjiiy8qbdfr9ejcuTPuu+8+dO/evdLj27dvx7p163Dw4EEUFxcjKCgIPXr0wF133YVOnTpV+bG++eYbrF+/HocPH4bRaER4eDh69+6NqVOnIjk5udZa8/Pz8f777+P777/H+fPnoVQqERMTg+HDh2Py5MnQ6XTufwIakFOnTuGRRx7ByZMnMXfuXMycOdOj51+2bBneeuutStt1Oh3atWuH6dOnY8iQIR79mDVZtGgRVq1ahWPHjtX5x/rzzz8xZcqUah+Pi4vDd999V+d1XA2TyYQ1a9bgm2++QWpqKgCgWbNmGDp0KKZOnYqQkBAA5c911apVGDhwYL3VN2/ePPz666/47bffAABZWVmYO3cuDh48iJtvvhkjRozwSl1EDRGDLlE9CgkJwZYtW6T7drsd586dw4oVK3DnnXfik08+cQqvzz77LDZv3oxp06bh4YcfRnBwMC5cuID169fjjjvuwLPPPouJEydK+4uiiCeeeALffvstZsyYgXnz5sHPzw/Hjx/HypUrcdttt2HJkiUYPHhwtTWePXsWU6dOhUajwf33349OnTqhuLgYO3fuxNtvv42vv/4aH330EYKCgurkc1Qf1qxZg5MnT2Lt2rVISEios4/z448/QqVSAXC8NpcuXcKaNWtw33334a233sJ1111XZx/b2xYvXozevXtX2i6Xy71QTdU+//xzbNq0CWvWrJG25ebmYtq0acjNzcXs2bPRs2dP2Gw27N69G2+99Ra+/PJLfPTRR4iNjfVa3U8//TQsFot0/4svvsCuXbuwcuVKdO7cGTqdDjt27EBgYKDXaiRqKBh0ieqRTCZDeHi407bIyEgsW7YMAwcOxJo1a7Bw4UIAwIYNG7B+/XqsWLHCKZg2a9YMPXr0QGRkJF5++WV06dIF7dq1AwCsXbsWmzdvxrvvvotBgwZJx8TGxmLAgAGYMmUKXnnlFQwYMAAKRdXf/o888ggUCgXWrVsHvV4vbW/Tpg169uyJ22+/HR999BHmzp3rqU9LvSsoKEBERAQ6duxYpx8nLCwMarVauh8REYEFCxbg4MGDeP/995t00A0ICKj0td7Q7Nmzp9K2559/HhcvXsSmTZsQHR0tbU9KSkK/fv0wduxYvPXWW1iwYEF9luqk4vcl4Ph6BoBrr71W2tbQP/dE9YU9ukQNgFarRXx8PC5duiRt++9//4sBAwZUO/o6Z84c+Pv746OPPpK2vf/+++jXr59TyC2jUqmwbNkybNmypdqQ+88//2D//v2YM2dOpV+mANC+fXts27ZNCrkbN25EcnIyTp065bTfkCFD8NBDDwEAzp8/j+TkZGzYsAHjx49Hhw4d8OGHHyI5OVl6W7hMeno62rZtiw8++AAAUFRUhBdffBE33HADOnbsiOuuuw4rV66EKIrSMX/99RcmTZqEnj17okuXLrj55pvx9ddfV/n8ymr7+uuvkZaWhuTkZCxbtgyAo51h1qxZ6NGjBzp06IARI0Y4jfQBQHJyMlauXIl77rkHHTt2vKJWAJlMhtatWzu91larFUuWLMHQoUPRvn179OvXD3PnzsX58+elfco+18ePH8fdd9+Nrl27on///njllVdgt9ul/U6dOoVJkyahY8eO6N+/P5YsWeL0+ap4vtGjR6Njx47o3r07pk+fjoMHD1b6ePv27cPkyZPRuXNnDBo0CFu2bMGFCxdw1113oWvXrhg6dCi++eYbtz8PZbVe6ec8JSUFc+bMwcCBA9GpUyfccsst+PHHH52OXbduHUaPHo0uXbqgZ8+euOuuu3Do0CEAwOTJk7Fhwwb89ddfSE5OxsaNG5GWloZt27Zh2rRpTiG3TLNmzfDFF1/g1VdfrfY5bdmyBTfffLP0eZ0wYQL++usvl+sCav+anjdvHvr16yc9j5UrV0qfq3nz5uHPP/9EcnIyfvnlF+mYffv2Yfr06ejbty+6dOmCf/3rX9i9e7f0eNkxW7duxejRo3HNNddU+xyJGhMGXaIGwGw249y5c2jWrBkAR+BLTU2tMrCWUalU6NevH3bu3AkAuHjxIs6dO+c0qnO58PBwaLXaah//888/IQhCjee40rds33vvPdx6663Yvn07xo4dC5VKhW3btjnts23bNgiCgJEjRwIAZs+eja+++goPPPAAvv76a9x999146623sHz5cgBAYWEh7rnnHrRp0wbr16/Hli1bcMMNN+CRRx7B3r17q6zjs88+w9ChQxEVFYUdO3bgrrvuQnZ2Nv71r38hLy8PK1euxFdffYWxY8fi5ZdfdvpDAnCMtHfv3h1bt25FYmLiFX0uTp8+Lb3WALBixQqsWrUKjz32GL7//nu88847SEtLq3LUfP78+bjtttuwZcsW3HHHHfjwww+xdetWAIDFYsE999yDrKwsrF69Gh988AHy8/OxefPmSp+DJ598Etdddx02bdqEDz74ABaLBVOmTHEK4ACwYMECzJw5E5s2bUJiYiKee+45PPXUU5g0aRI2btyIuLg4PPPMMyguLnbrc3A1n/Pc3FxMmjQJ586dwxtvvIEvvvgCPXr0wP333y99P/zxxx+YP38+pk2bhq+//hpr1qxBYGAg7rrrLhiNRixbtgzt27dH165dsWPHDowYMQJ///03RFGs8fsuJiYGMlnVvzr//vtvPPbYY7j22mvxzTffYMOGDUhISMA999yD9PR0l+py92t62bJlmDRpEgBgx44dePrppyvtk5KSgjvvvBM2mw2rVq3CunXrEBUVhbvuuqvSH6krVqzAAw88UOX1BESNEYMukZdlZWXhueeeQ1FRkdRvWxY2qhpVqqh58+ZIT0+H3W6XfpE2b978imtJT0+HXq9HQEDAFZ+jOq1bt8att96KZs2aISgoCIMGDaoUdLdu3Yq+ffsiPDwc+/btwx9//IHHH38cI0aMQFxcHO644w7ccccdeP/992E2m5GSkgKDwYDRo0cjMTERcXFxmDVrFtatW1dt721ISAjUajXkcjnCw8Ph5+eHzz77DPn5+Vi6dCm6desmhZNBgwZVGmHU6/WYOXMmYmJipP5bV+Xn5+ONN97A8ePHMXnyZGn7xIkTsWXLFtx4442Ijo5Gp06dcOutt+LQoUPIyclxOseIESMwbNgwxMbG4t5774VSqcT+/fsBOILWuXPn8OSTT6JHjx5o2bIlnnvuOQQHBzudo+wipQceeABJSUno2LEj3njjDZhMJmzcuNFp37Fjx2LAgAFITEzE+PHjYTQa0bt3bwwZMkTaVlxcjLNnz7r1ubiaz/mGDRuQnZ2NpUuXokePHkhKSsJTTz0ljf4CwMGDB6HVajFmzBg0b94cbdq0wcsvv4yVK1dCLpcjKCgICoUCSqUS4eHh0Gg0yMjIAHDl30Pt27fHV199hdmzZyM2NhYtWrTAjBkzYDAYpNHT2upy92s6KChI+uM1PDy8yndiPvjgA8hkMincJycn45VXXoGfn5/07kmZvn374rrrrkNUVNQVfQ6IGhr26BLVo+zsbHTt2lW6b7fbYTKZ0L59e7z99tvo3LkzAEAQBOnxmoiiCJlMBkEQpGOuhiAIVb7N7QkdOnRwuj9q1CjMnTsXZ8+eRVxcHC5cuIC9e/dKPcr79u0DAPTv39/puGuuuQYfffQRUlNT0bJlS8THx2POnDmYMGEC+vbti44dO0qfR1cdOHAAcXFxiIiIcNretWtX/PTTTygqKoK/v3+Vz6Mmffr0cbpvMBiQkJCABQsW4IYbbpC2q9VqbNmyBT/88APS09NhsVhgtVoBOC6OKrvKH4DTc1MoFAgICJB6NI8fP15ljV27dpUeKyoqQmpqKm655RanfcLCwhAbG4vDhw87bW/fvr10u+ziprZt21baVlhY6HTc7Nmzq7zw7LrrrsPChQuv6nO+f/9+xMXFIS4uzml7nz59pJHIfv36Yfny5bjjjjtw6623ok+fPkhMTHTpa+NKvwd0Oh327t2LZ599FmfPnoXRaJTOlZeX51Jdnvqarmj//v3o3LmzUwhWq9Xo1q2bU8sE4N7XN1FjwKBLVI+CgoKwbt066f7Bgwfx8MMPY/r06U7tAmVva587d67G8507dw7R0dEQBEEa/b2879UdzZo1Q2FhIXJycpzClSdcPtI0ePBg6PV6bNu2DTNnzsTWrVuh1WqlC7SKiooAADfeeKPTcWXhPzMzE61bt8ann36K9957D5s2bcJ//vMfhIaGYurUqbj77rtdDv9FRUVVjoSVBa3i4mLptjuj3Rs2bIBSqQTgaC2ZPn06xo0bh5tuuslpv0cffRQ7duzAo48+it69e0Or1WL79u1YtGhRpXNePrVbxT9OytoHLt/Hz8/P6blWfG6XP9/LWxAqtrqUfT6r2nZ5OPz3v/+NHj16VFv/1XzOi4qKcO7cOac/GgFH64bFYoHZbEa7du2wbt06vP/++1i6dCnmz5+Pli1b4uGHH8bQoUMrfVyg/PsuNTW12qn7avLBBx/g1VdfxYQJE/DUU08hMDAQ6enpTqP3tdWl0+k88jVdUVFREY4dO1bp82U2myt9n1f1mhA1Zgy6RPVILpcjPj5euh8fH49vv/0WL7/8Mvr16ydN2RUWFobWrVvj+++/x1133VXlucxmM3bu3CkFwYiICCQlJeG7777DjBkzqjzm7NmzOHjwIIYPH17lL8yyC1C2b9+O8ePHV3mOb7/9Fi1btkRSUlK1v3Rd6ddUqVQYNmyYFHS/+eYb3HDDDVKIKhsp/PDDD6ucJqnsqvKQkBA89thjeOyxx3Du3Dl89tlnePPNNxESEoJbb7211joAR5C6ePFipe1lo5RVhUJXxMbGSrMuxMfHY8qUKXjrrbcwbNgw6W3ooqIi/PTTT7j77rtx5513SsfWNppflbIQaTQancJoxdHWsudSFngrKioquqrWl4rCw8OdvtYvdzWf84CAAMTGxmLVqlVVPl52sWVycjIWLFgAURRx4MABrFq1CnPmzME333xTZRtAz549IZfL8d1331UbdH/77Tfo9foqH9+yZQu6dOmC+fPnS9subz1xpS5PfE1XFBAQgKioKLz00kuVHquu35ioqeBXOJGXPfXUUzAajZWu5J4+fTp27dqFr776qsrjli9fDoPB4DQ5//Tp07F37158/vnnlfY3m814+umnsWDBgmqDaKdOndCzZ0+89dZbUs9vRYcPH8bjjz+OTz/9FED56E/FX+ZnzpyR3qatzejRo3Ho0CH8/fffOHjwIMaOHSs9VvZWbUZGBuLj46V/AQEB0Gq10Ol0SE1NdbrSPjY2Fg899BBatWqFo0ePulRD2fM+d+5cpee8a9cuJCUlOY2IXo3Zs2cjODgYzz77rDQCarFYIIqi08iazWZzmm/ZVS1atAAAqWcXcIy07tq1S7rv7++Pli1b4u+//3Y6NiMjA+fOnavzKdfKXM3nvEuXLrh48SL8/f2dvjbkcjlCQ0Mhk8mwa9cuqf1FEAR06tQJL730Emw2m9TGATiPREdGRmL06NFYs2aN0z5l0tLS8Pjjj2PFihVV1mWxWCr1Q5e1UpR9nNrq8tTXdEVdunRBSkoKoqOjnT5foihWah0hamoYdIm8LCoqCnPmzMGmTZuklY4A4KabbsIdd9yBefPm4fXXX8fBgwdx4cIF/PPPP5g3bx7++9//4qWXXkJSUpJ0zLhx4zBu3Dg8++yzeOWVV3Dw4EGcP38eP//8MyZPnozjx4/jP//5T42jZQsWLIBarcbtt9+Ozz77DGfOnMHJkyfx4YcfYurUqejWrZs0dVi7du2gUCjw3nvvISUlBXv37sUzzzyDyMhIl5577969ERERgVdeeQWRkZFOCwx06NAB/fv3x4svviit0PbXX39hxowZmDVrFkRRxNmzZzF79mysXr0aqampSEtLw8aNG5GSkoKePXu6/BrccsstCAoKwkMPPYT9+/cjJSUFS5cuxS+//OLRVdP8/Pzw1FNP4a+//sKGDRsAAMHBwUhISMDGjRtx7NgxHDlyBPfee6+0St7ff/9d5ehrVfr06YPIyEgsXrwYe/fuxcmTJ/Hvf/8bBoPBab+7774bv/76K9566y2kpqZi7969eOCBBxAUFIRx48Z57PnW5Go+57fccgsCAwMxd+5c7Nq1C+fPn8c333yD2267TZou7qeffsJ9992H7du3Iy0tDadPn8aKFSug0WikMB8QEIDU1FQcOHBAGl1+6qmn0KJFC0yaNAkffPABTp06hZSUFGzcuBETJ05EWFgYXnjhhSrr6tKlC/7880/8/vvvOHPmDBYuXAi73Q65XI79+/cjJyen1ro89TVd0ZQpU1BcXIxHHnkEBw4cwLlz57B+/XrcdNNNTq1URE0RWxeIGoApU6bgiy++wHPPPYevvvpKetv5hRdewMCBA7F27Vp8/vnnKC4uRnBwMHr16oXPP/8cbdq0qXSusgUh1q1bh7vuugsmkwnR0dEYMGAA3nzzTadprarSvHlzbNq0Ce+99x5Wr16NF198EWq1GgkJCXj44Ycxbtw4qe+0WbNmeOGFF7B8+XKMGTMGCQkJeOKJJ7B06VKXnrdMJsPIkSOxevVqTJ8+vdLbqMuWLcObb76JF154AVlZWQgMDMR1112Hhx56CIIgYODAgXjllVfwwQcfYMmSJRAEAfHx8XjmmWecLvaqTUhICNasWYPXX38d06ZNQ0lJCVq0aIEFCxZU6qe9WjfccAMGDhyIhQsXYtCgQYiIiMDChQulacMiIyMxc+ZMjB07FidOnMBLL70EhULh0lvMarUaK1aswPPPP49JkyYhMDAQt912GyZMmIA333xT2u+mm26C3W7H6tWrpZDVq1cvvPzyyx7vza7O1XzOg4KC8Mknn2DRokWYNWsWDAYDoqOjceedd+Luu+8GADzwwAOQy+VYsGABMjIyoNPp0LZtW6xatUrqZ582bRoef/xxTJw4EQ8//DCmTZuGwMBArF27FmvWrMGWLVuwZMkSyGQyxMbGYvLkyZgwYUK1o80PPvggMjMzMXv2bKjVaowZMwb//ve/odPpsHbtWgiCgBdeeKHGuqKjoz3yNV1RfHw81qxZgzfffBNTpkyBxWKRvlcnTJhwReckaiwEsa4usSYiIiIi8iK2LhARERFRk8SgS0RERERNEoMuERERETVJXg+6v/76K/r27StdxV0du92ON998E0OHDkXPnj0xffr0WifTJyIiIiLf5dWgu2rVKrz00ks1Tipe5uOPP8aXX36JlStX4qeffkJCQgLuv//+OluulIiIiIgaN68GXbVajc8++8yloLtu3TpMnToVSUlJ8Pf3x0MPPYRTp05JE28TEREREVXk1Xl0K67oVBOTyYSTJ0+iXbt20rayFXEOHDiALl261HqOPXv2QBRFaf5PIiIiImpYLBYLBEFA165dPXK+RrFgRH5+PkRRrLTefWBgIHJzc106hyiKEEURZrO5Lkpssqx2EfklNphsdm+XQtSkCABkQnnrlSCUbRel+za7AJsoSPsoZCIUMhGACOGy48rOabYJsNjL36zTKOxQysq/fy/fHwAMFpnTMXqVtfTjlO9U4TAAQL5J4VRbsNYCmVBef1XHZBmUFSoHwnU1/zwWAWQZVNJ9uSAiRGup8RirKCDXWD6goZTZEaSx1niM2SZDfkn5r0ONwg69quZjjFYZiszlx+iUNvgpbTUeU2yRw2CRS/f1Kis0ipp/thaaFTBZHa+NACBIYyl/baqRZ1JIr6dcEBGksTp9rVUlx6iUXk+lzI5AjbXS63e5zAqvjSvP3w4B2Yby1yZAbYVaXvPzt4kC8kyOz7MAIFBjhbyW52K1CzBayz/P/qran4tVFGC1CdL3R211AY7nA9FRmOD0lU3ustnsKMo3QaNTwV8bAJlMXvtBLmoUQbfM1fTjKpVKmM1mJCQkSKtOUc0OXsrH9at+QrHZ8cNLIRPQOToI8cF+CNWpoFMpoFXIoZLLIAiOddsFoPS24xyCl771LRYLcnNzEBwcwlH8WghN4KezxWJBbk4ugkOCL3u9RQA2CLBDgA2CYCu/L9ggwPG1bbaXL1ksgwka+ZkKj9uk2wLsAGywi34otHaRjlHJLiFAuQuAHYJgd/yPsv9FCIIdJlsM8sz9pWN08mMIUO2p8XkV21uj0NINgOOXvL9iD/yUx5x3uuzHYqG1CwzW8hXzAvEbNPKaL9zNM/dDiT1Wuh8sfAeVLLvGY7LN18Mqhkr3w2TfQi6Yajwm0zwWdpT9/LUjR765xv1FUYYM8+3SfblQiDDZ1hqPsdr9kG0eLd3XyI8jUNhd4zFmWyhyzddL9wPFHVDb0yrsUfmbxGhNQKG1l3Q/TNgMma2q51/+AhVau8Nka116xhKEyzcDNWRDURSQbxkIs92xmqFCyEGI5dsan4tdVCLPPBRWMRgAoJKdR5D51xqPsYkaFFh6A1ACgg1q8Sx0JadqOUaNEjEejj+6bFBYM6G0F9Zcm10Ou+CHsu+TLIsJMqsLgygVmiwzr2SsquQKjqn575wGobpIJEIGEWpAlEGEAAFWCELZJ67i13L5bVFUwiqGlG4TIKAYclnxZScWnI6zixpYxbDSjylAIeRAJhic9rn8tk3Uw2oPk7YrhHQIMOCNuauRcT4HOr0Wn67/FIHqIJc+B65oFEE3KCgIMpkMeXl5Ttvz8vIQGhpa9UHV0Gq10Ol0HqyuacooNOKWNb+h2GyDIADDkpvhwwn9EO6v8XZpLjEYDDhy5Ajatm3L17uBMpQUwGwzwWa3wGqzwGo3w2q3wFbhdlJ4V6iV5a/fbyc+h8VWApvdApvdKv2z2MwwBhZDoZTjlu6PQiF3hF2TpRif/vlijXWoFTpM6POcdD+76AK+3LupxmOC/aIxtmsX6f657MP44cj/1XhMq3A9hrYrP+boRSN2nqo56HaPDUGfpPJj/km5iINpjqArQIAgyCATZKX/yyEIMvRJikeb6IrHXEBanrXCfuX7ygQZBMgwPKYDIgMTAQB20Y59ZzNRaMqCKAoARMfvKREQS0etZDIFbo3rDn9NEACg0JSD3anJsNktECFK76CJcIw+i6IIP3Ug/pXUHUq5YxQwNfMADpxvDjvsEEXHP3vp/yJE2EUbYoPbYlqr8ufy24nPcSK9xk8ZeiX2R6fY8mO2H9yFC3k1HzO842jEhpT/cbBp94/IM1RMEZUTxYReYxHsV/4H0v/+2AirrebBmFn9R0Emk8Nmt8JgLsTmml9+KOQKXN/CH1Z7Nmx2K4pL8nAqo5ZjZCLiA/+GXbTCZreVfr/UfIxcMCFY/XPNO1U6pgQ6xXG3jpHJbJChwK1jPEVAhe8VmVz62pcJCshkAuQyFeQyBeSCHKVDtJAJ8vJ/Mjnkpf/LBAVkggwKuUr6fpIJMshkigr3y/aVl2+rcF+ocJxQ4XtTkOq6bFvF73XIHANLgtcnzvKYNm8NwO23346HH3gEek2AR8/dKIKuWq1Gq1atcOjQIfTq5fgLuqCgAGfPnkWnTp28XF3TY7LYMPXT33GxwAgA+GBCP0zq3sLLVVF9E0URNtEKi7UEFpsJFltJ6T8zgnQR0GtCpH1PXPob2cUXYLGVwGozw2Izw2p37Ou4X4KByePRLKildMz2Q+8hz1BzaokOTHIKumeyDsBc5aiZg9kM2EQLFHAEXbms9tF8m9156EYuUwAQoJApIJcpHb/8yv4JjvsB2jCnY/w1IUiO6iP9spOXBkm5TCH9MtNrnf8obx6cjKHt7pR+KTp+kQlSoBQhIkAbLu0viiIiAxIRro+VQoxNtFYI/BbY7Ta0ib5GOsZkKUKBKRt+qoDy/WxWmEWjdF+j9JNCLgBkFpzFvnM/1Pg5iwhIkEIuAGQWnkVKVs0XBrcI7yKFXAAoLMlBdnFaDUcAKqXzu2+O16ZmSrnzH+M1HyM4PvcARNEOq90Cq80MjVIPf7Wl9F0qWemAlPP7U0cu/A6ZTAarzQyr3QyNwh92uQ0i7KVBv0JwL739yZ/P11p/RTa7BX+nfO3WMXbRikJTzaPxV0qAIH19y6TvCUVpCFRAkMkcjwlyCIIc8rJAWbpNLpOX3q4c/CqHw7LwKIfFbMWFtIuIi42DVqtzDqBScJVXcY7yP+qEpvDWVRMhiiJ2796N7t27S9sGDhyIvXv3IioqCvv37/fox2uwQTc9PR133nknVq1ahdjYWEyYMAErV67EwIEDERkZiUWLFqFt27bo2LGjt0ttUiw2O256/yd8d/wiAGBS9xYMuY2Y0VyIAlN2aVi9LLBaTTDbShAdlIQW4V2kY3af2Y5jF3fCbDNBFKseCurdYjTaNusn3T+XexRnsw/VWIvZanS6r5CpqtmznNXu3I8Zpo+FxVZSGjzLQ6hoF1CQV4iw0HDIUN7bJZcp0LflLRWC6uXhVVkpCOk1oZjY+9+wieWjxlZpBNnxf8WRPADIM2TATx1YYYS5pHx/0QqrzYLuFUI+AOw4vgGFpmynoCpeNnI4rsfj0m1BEPDjkY8goubhuS7x10EmOD4HdtFe6+tyeUuYK71xdrvz++1lH6+cUBpyFKX/y6FSOAdQf3UwogJblAYghVNAKbsfoY9zOiY+tAP0mhCYzWakp6cjIiIcCqWydBTYDrsowma34MiF32CxWWC1l0Cj9EdiWOfS19BS+nqaYbU57lvtZvzf0Y8rfa3VJt+Y6db+V67iH12Or1dFhdtOX89OAVReOsIolx4vez0q3pb+l74/yoOr41zOr6M3GAwGFF0SEB3Yiu/QNXJZWVl46KGH8PXXX2Pjxo0YNGiQ9FhUVFSdfEyvBt2ykGq1OkZUvv/+ewDAgQMHYLFYkJKSIl08Nn78eGRmZmLy5MkoLi5G79698dZbb3mn8Cbs2a17pZB7U8dYrLy9j5cr8k1lo6mKCiOSRaZcnM89ihKLASarASUWA0oq/G+xlSA6MAnXtpkgHZOStR9/nf6yxo8llymcgq4o2lFiNVR/AACLzblRzk8VCL0mFEq5Cgq52vG/zPG/Uq6GQq6qNAraM3EErHaL45e2XAmFTOX4J1eW/iJXVHprbliH6Y7PTWlAsdjMsNktKCouwKnCk0gMbQulQi3tn1lwBsUl+VKwcfxvrvC/Ba0jeznV9vvJz3Eqo+aezn6tbkWryB7S/ePpf+Fi3skaj2nXrB+C/cp/kBstRTCYa34bt6rRZqu9cpNieZhRwma3QSZ3BBKFTIXIgETnYC/IncKRSuE8aqrXhKBfq1ulkbrLg6hckFcaNY0NaYsJff5d4RgZ7KVvm1f8l5Z7XPr8W2xmxAS3cXpNyt4BMFmKYLGZkVFwBv+kbHV6rGLQv3Shxk9fHRFKv75VUMhL/8mUlcKn4rIgqpArHUFSfvljlfetuM0xIsnRSGoaRFHEzp07AQBvvvmmU9CtK14NugcOHKj2sZiYGBw7Vn7RhSAImDt3LubOnVsfpfmkT3anYOFPjtGfQUmR+HTyQCjlTacHyFvsoh0Wq8npLfgSiwEn0v9xBNUqQqvJYkCANhQ3dStfMTDPmIGdp2q+eMdkcb54QClXV9pHgACFXA2VQg2lXAON0s/p8ejAJMgEGZRyx+NKhbr0dvk/jdLf6ZjeSWPQu/R2WUi3loZQi80MURSdRkEN5gLkGtLLQ2fpW8Zl4dNqMyNQF46eiSOlY05n7sPvJz4vHXmruhfSnp6L6NAE6f6lgpRa34YvCnKeucWVkWbbZaN/jpCuRFWjxWUtDxUDOAC0jOiOEquhwghdhVHn0lCkUzn3qo3uOqc0eCorjFDLq+3VUyk0GN7pnlqfT/nzcgTrqMAWpaP+joBqtpoua18pcXq8/N0Cs7Tf5SG9vjk+r44g6hRMq9omV0FZ5W219MeXsvS24w8wBk+iKxEeHo433ngDv/76K/7973/Xy8dssK0LVL827j+Luz79HQAQE6jDx5MGMORWwWozo8RqgFald3p7+MC5n5yDaoXbZqsJMkGGyX1fkn5Bmm0m/JP6TY0f6/JRVY3CEZQVchXUCp3jn1In3VYpNAis0NMJALEhbTCq82xHQC0NtgqZ0rkfUeUcdK12MwK04dJIm8lUXCGEOoLowNbjpf0N5kJs3f+O04jp5W/B61SBuL3Xk9L9IlMudp7aVOPzN1mdQ7tMEKoczazo8gCqkmugkmucR94uCz0hftFOx7QI74JQ/+aOETint4rLQ6hWqXc6Zmg71+YEr6hT7CC3j7n89a1IFEVYbWaYbUaYrSbHP+m2EWabqfx26WOWy/azizVPD+Vpjj+6ysKl2jGaL70bUDrKX/qOgEKmlN4dsFtFXLqYgYS4RPhpA8qDq7z8XQFvvc1OROV+/PFHHD9+HLNmzZK2jR49GqNHj67hKM9i0CUcvJiLCWt+gdUuwl+twMZpgxAV4LtTsJ1I/weFxmwYzAUwmAthtBSixFKMEqtBGqUa1+Mx6DWOi4sECNh37ifYxepHsOyiDVabWRrV0yj8IEAGtVJbKbCW3daqnMNUsF80bu/1NOylPaBlo2zm0n5bi83kdFERAPx1+ivkGzOli8TKRkwrBppbuj/q9Nb9z8fW1joa16/lrdLMBjJBhkJTTo37Xx5Qy1oyBMgqhJsKQVSuQpA2wvn566LRLf4GyGXKCqNxjv2tZjvOnjmPNjHtnY5p26wv2jbrW2Ntl4sMTEBkYIJbx3iCKNphtpWUB1Gr0fH6OgXVspBa4XbZ14HVWOkPDM8TpHYUacS/tFVFqdBUGvmX/lV4V6DiKKpcuLLRUYPBAGPGEUQFtGTPJlEDtWrVKjzxxBOQy+Xo1asXunXr5pU6GHQJz2/fD6tdhFYpx/ezrkf3WPembGvoRFFEibUYhaYcFBpzUGjKdtw2OW4PTB6PqMDyC+4Op+1AruFSjecssRjKg64gwF8TBJvd6hRUNUodVIry2xXfXraJNoztOhcWu7l89M1qLB0VLka+MRPh+linj/n94Q9q7QMN0kU6zYaQW3yp1uditV0eQlVOQbe8b7Z8xMwRlB1hVSlXo030NRV6FZ3fGpaXvu3rVKdfFCb3fcmt/sNAXTg66QZX+ZjBYECmrKjSW/31qaxFpcRqdB5JrRBEqxxdtZWFWjOqa8nwBIVMBZVCA5VC6xjpLrut0EAl11YIo5rSMKupFFQVMmWTmtKIiOrOsGHD8OKLL0Kj0VSaHrY+Mej6uH0XcrBx/1kAwL19k9EzLqyWIxoWUbTDZClGsTkfhpJ86DWhThf87D63FSnZeyu9pV1RgTHbKehqVQEwmAugVemhVemhU+qhUfk72gNKA4F/hTCZb8xEp5jB5YGldMTNaC5CviELZpsJiWEdpRFQANh39nscufh7jc8txC8a0RWu1Fcrah65EgRZpSvHm4ckI9gvytGyUOmte0co9aswTRQAjOn6AOQyeWk/orLWICqXKdAnaWyN+1xOJsiABhiYRFGE1W5GicUIs9XgCK2lf4A4/jdW3la6r9lWgroMqkq5ukJILQuoFW4rtFBWEWDL9vPkSkNERJcrKSmBUqmETOb42R4fH4+PPvoIHTp0QFiY97IFg66Pe2G7Y746rVKOxwa383I1zkRRdApZ6QWpOJt1EMXmAhjM+SguyYfRXOj0NnyHmGvRw2+4dF8QZJVCrkyQw08dCI1SDz91IIJ05W+R5xnSodeEQKPUSW8RZxdfgKWg7C3iEsSGtEVSRPka3BfzTtZ6kViofzOn+5dPtVRGLlNILQyXX9meHNULzYNbS6NxSul/xyhcVRfJ9EgYDnf5qQNr36mRsNmtMFmKYbIUlf7vuG20FMFkdmwruSzQVjel2tUQIEBZMXhWNbJaGlqVVQZYteOPAyKiBmj//v2YNWsWJk+ejHvvvVfaXh+zKtSGQdeH7U3LwaYDjqVB7+uXjAh9/fbliqIIo7kQ+cZMFJqyUWDMQoEpG4aSfBSb8xGhj8PgtpOl/XOLL+HQhR01ntNQki/dNtsNuJh/AmqFFvbSi68cE7fbpNaFEmsYIgLipWOM5kIcu7Szxo9htjovWKCSl3/eykKnFGZKg02Yv3MbQovwrggPiC8PNKXHKOTVX/Effdk8rL7IMfWZsUJ4LYLRXIxCQy4umc8j5/QBWOwmx2PmohoXl3CXIMigVmhL21G0pbe1pRcClt0u315xVFUhV/FKfSJqkkRRxCOPPIKjR4/ixRdfxIgRIxAfH1/7gfWEQddHiaKIJ75yzBWqU8nx6KC6Gc119McaYDAXOF3dnp6fiu8OvV/jVfSFpvJpn+yiDYfSfoEAofTN4arfIu7T8mbptiAIKKrlIqnLQ6ta6Qe9JrRCSFU7vyUs1zj1wAJAXGh7TOjzHJRyjcujboG6cATqqr+C3leUtQqUBday8GqyFMNoKUJJ6f9lo68mS3HNCybk1f4xBQhQK/2gVfpDo/SDWulXKaSWhVcp2Cq1UMgYVomILicIApYsWYLRo0fj6aefRlxcXO0H1SMGXR+1Yd8ZfF+6MMRDA9td9WiuxVaCAmMW8gzpyCm+hHxDBgpN2SguyYPVboFSpsbEa+ZLQWHfuR9qnSoqLrT8CnqZIC8NOTX3QNrtVqD0wic5VIgL7gCdxr80qJaPnJa9jay+bLL8EL9ojOvxmFvPXSFXSkvOkqNdoMRicARUqWWg6LLAWnrfUlxj/7SrlHINBLsCAbpg+GkCoFH6V/jnB43SD1qV475aoeUFVUREV8hut2Pr1q0YMWKE9Du9Xbt22LdvH/z9/Ws5uv4x6Pqg83nFmPvFXwCAxBB/PHldB5eOs1hLkFFwBmarEbGh7aSLq/489SWOXPyt5mPtJSixGqTFCWpbeQsAml32Vn3ryJ4AHKOuGqVf6WwGfqX3HSNwFefOlAly9Em8hdMPXaXq2gXKR1+LYCx7zEPtAnKZQgqqWqWfU2gtC6waabsfSkxmHDlyBG2T2/L1JiKqI+np6bj77ruxY8cOLF++HBMmlK/E2RBDLsCg63MsNjsmrPkVmUUlAIC3b+0NrbLyl4EoiigqycWF3BM4nbkX2UVpTiOwozrPRpg+BgBgdiG0dmh+rdMUUwlhnRChj3cKqmpFaYAtnZ5LLnOuq2eLUVf0nMlZxXYBk6UYJnOFoFqhbcDldgEXOLcL+EOj8isNsRUDa2mQVfpfQU9rze8OEBHR1dPr9bh40fFu8Nq1azF+/PgG39LFoOtjFv/fIfyemgkAePq6jhiW3KzSPv+kbsXJ9F0wWYqqPU++MVMKutFBLWGyFEOt1EGvCUOANkQKLY7wqqt0kVXHmGs9+KyojNVmRnHpxXzFJXmOC/tK8mEwF3i8XUAl1ziF1ppGX9kuQETU+Ol0OixfvhzfffcdHnvssQYfcgEGXZ+SZzRj4U+HoZDZMaatGuPa5+L7Qx8gLrQ9Wkf1lPYzlBRUCrkKmQph/jEI08ciKrAFoiqswNUysjtaRnavt+fhq2x2qyPEluRJ06sVl+RJwdZQku9SS0h1ZIJCCqautAtcPuJORERNy8aNG7Fr1y68/PLL0rZevXqhV69eXqzKPfxN5QNMlmJkFJzBF/v+xqyeqUgIMkEpF7HHsU4EFHKlFHRNlmKczT4kHavXhKB/q9sRERDfKP5ya+wqTrlWYMyS/i8wZqHQlON2C4FcpoSfOhA6VQC0Sr0jqKoqtwxcWbsAERE1Ve+99x4ee8xxcXb//v0xfLj787I3BAy6Tdy5nCP44fCHAIBAFRBYYXVfAQJC/JshWFe+kphG6Yfk6N44nLYD7ZoPQOfYIdUubkBXzmw1SQH28lBb22wUZWSCAn7qwNIgG1h6O8jxv8pxW6XQMrwSEZHbxo0bhzfeeAMKhQJBQUHeLueKMeg2cna7DdnFF5BRkIqMglQUmnIwustcKdyE+JX34JosMpzK1WJo6y7oFNMW4fpYKOVqiKLzlF3d4m9AYlhnqQeX3OdoM8hDkSnXsThFSY50u8iU43KLgUbpj0BtOAK0YQjUhkGvCYWfJgh+qiBolH4MsURE5BGFhYVQKBTQah3TbgYFBWHdunWIj4+HXq/3cnVXjkG3ETKYC3Eh9zhSsw7gYv6pShcWFZXkQK9xDN36qQMRFng95nxxCucLNJjVtw1u7FDeW1NgzMYvxz7FgNa3SwsYyGUKhtxa2EU7TOYiFJWUh9ey1daKSnJhKMmvdc7fMgqZCgHasNIwWx5qA7ThHE0nIqI6t2PHDsyePRsjR4506sft0MG16UcbMgbdRmb7wfdxIe94FY8ICNZFOi1nW+Y/O2w4m69FiE6FF27sLG03mgvx3aH3UWjKxjf7V+CWHo9WWkDBF5mtJhjMBTCY82EoKSi9XQBD6ewFBnMBjOZCl4MsAKgVOug1IfDXhMBfEwy9OkQKtzpVAEdmiYjIa5YvX46zZ89ixYoVmDRpEtq2bevtkjyGQbeBEkU7LuafglapR7BfeQ+tTlX+9oFeE4L40I6ICmyB8IC4KkPqbykZ+OlkOgDg4WvbIVjnmMu2uCQf2w/+F4WmbABA57ghPhFyLdYSFJvzKsxYkIeismm4SsOt1eb+nKxymQL+6pDSMBsshVq9Ohj+mhCOzBIRUYP1xhtvYPTo0XjqqaeaVMgFGHQbHIutBCfTd+PIxd9QYMxCy4ju6N/6NunxpIhuCPVvhqjAlgjSRdQ6EvjSdwcAAEFaFe7vnwwAuJh3Cr8c+xRGSyEAoFPsYLRr1q+OnlH9stosKDBmIiPvPDIsx2E4m4ISW5EUaq9k1S6ZoIBOFQCdOsDxf9k/dSD81UHw14RAq/TnqCwRETV4ZrMZa9aswZ133gmFwhEDo6Oj8eeff0Iul9dydOPDoNtAGMyFOJT2C45f+huWCmHsYv4p2EU7ZKWT7UcHJSE6KMmlc/51Ngvbj10AAMwd0AYBGhVOZezGjuMbpLfdu8XfgI4xgzz7ZOqBxVaCfEMG8gwZyDNmSLcLTTlAhZaC9Kyaz6OUa+BfOlOBThVYIcyW31YrdAyxRETU6KWnp+OOO+7A/v37kZubi0cffVR6rCmGXIBBt0HIM2Rg+8H/wmAukLaF+jVH22Z9kRDeSQq57nq5dDRXr1Zi7oA2OJN9CDuOfwYRIpRyDQa0vh1xoe088hzqgiiKMJgLUGDMRL4xq/T/TOQZMlBcklfr8QJk8FMHwl8TXD7tltoxY0HZfbYUEBGRrwgLC4NG4/i99/vvv8Nut0Mma9qrVjLoellO0QV8e/A9lFiLAQDxoR3Qrln/q16gYW9aDr46fB4AcH//ZATr1Dh28SRE2KFSaDG84z1Ovb/eVDanrGMe2fJQW2DMdmlOWZVcgyBdJAJ1EQjSRSBIFwmVoMeZk2lo164ddDpdPTwLIiKihkcURSlPyOVyvP3229i+fTtmzpzZ5EMuwKDrdSfS/ykNuQL6tbwFrSosxXs1nv92HwBAp5LjwYGOxvJeLUbDLtrRKrJ7vYdcu92GQlNOlSt+lfUK10ar1CNAG4YgXWRpoI1AoC6yyv5Yg8EAQbhQF0+FiIiowRNFEatXr8aPP/6Ijz76SAq1LVq0wKxZs7xcXf1h0PWyXi1GQ63UQa8JRVJEV4+c8/eUDGw5VDqa268Nwv0db1PIBBn6trzZIx+jOiVWo9Qvm2/MQL4h063la6ueU9bxP9sMiIiIXLNmzRqpB/f999/HjBkzvFyRdzDoepkgCOgSd53HzieKIp78eg8AoG2EFQPjdsNkSYZG6efRj2G0FCG/NMzmGcovBnNldFaADP6aYGlRhIphlnPKEhERXb077rgDK1euhN1uR8+ennm3uDFi0PWCQlMOtCo9FDKlx8/91eHz2JGSgVCtGQ/1PY+MAiO+PbAKo7vOgUxw74pKUbSjuCRfGp2VAq0xA2arsdbj1Qo/BOrCEVghyAZow6HXhEAu45ceERGRp2RmZkIulyMkJAQAoFar8emnnzpdgOaLmDbqmSiK+PnYWhhK8tE9YbjH2hUAwGKz44kvdyNYa8G8a89CLpQAADrEXFtryBVFEQWmLGTkpyKj8Axyii8i35AB62XLC1dFpwp09Mtqw0svCgtHkC4CGqW/R54XERERVe/rr7/GQw89hL59+2L16tXSO6MxMTFersz7GHTr2cmMXcgqPAcAMFmKPHruFb8fQ0ZhNh4bkIoQrWO2gp6JI6sM0za7FdlFF5BRkOr4V3gGJktxDWcXoNeElAbaiNIwG4lAbTh7Z4mIiLzo+++/R1ZWFrZs2YI9e/agW7du3i6pwWDQrUeFphz8dfpLAECANgzJUX08du4cQwne/L9/8NiAVET6O0Ju94Qb0b75ANjsVuQaLiGn6AJyii8gu/R/m91a5bl0qkCE62PLp+zShiNAGw6F3POtFkRERHR1XnjhBZw4cQIPP/wwQ+5lGHTr0Z+ntsBiK4EAGQa0vsOjwfH1H/7CzJ4npJAbE9wG+YZMbN79H+QZMyCK1c14ICBYF4nIwAREBCQgQp8Af02Qx+oiIiIizykuLsZ//vMfzJ07F3q9HgCg1+vx1VdfebmyholBt55kFJzB+dyjAID2zQcgXB971ecURRH5xkykZp9GmOo7hPmVL65Q9rEup1MFIMSvGUL9myE8IB4R+ni2HhARETUCOTk5GDZsGE6fPo2srCy8+eab3i6pwWPQrQd20YadpzYBAJRyDTrGXHtF5xFFEYWmbFzMP4WLeadwKf+01OcbVsXsYXpNKEL9myHEr3np/82gVfECMSIiosYoODgYHTt2xOnTp5GdnQ2r1QqFglGuJvzs1IOUzP3IKb4IAOgWPwxqpetL0haX5ONi3klczD+FS/mnUFySX+V+eUYFCsyBGNuxO8IDYhHqHwO1QuuR+omIiMg7KoZZQRCwaNEijBgxArfeeivnnXcBg249KDRlQxBk8FcHIzm65gvQikvykF5wBpfyT+NS3ikUmLKq3E+vCUWYPgYpuSF45Ms05JmU2HTXIHSOu/qWCCIiIvIuq9WK//znP/j666+xbds2qNVqAEBoaChuu+02L1fXeDDo1oMucdehVWQPFJfkQybIpO120Ybc4kvIKEhFesEZZBaeqXbEVqcKRHRQEqIDkxAVmAS5TI4te5YiJfM8zLZwtA4PwMi2nC+PiIioKdi8eTNeeeUVAMDChQvxzDPPeLmixolBt574qYOgkmtxPvcYMgvOIKPgDDILz8FqN1e5v0bph6hAR7CNDkqCXhMqvUVhtVuw/eB/YbQUIjEYSArxw4xr+kAm41sYRERETcHNN9+M//3vfzAajZgwYYK3y2m0GHTrUNn8tRdyTyAt9zgyCs9UO81XgDYckaWzIIQHxCNQG15l740o2vHrsXXIKDgDANh2IhSncoMwuUeLOn0uREREVHfOnTsHu92O+Ph4AIBMJsPq1auh1+shl9e8uilVj0HXg+x2G9JLVxpLL0jFxbyTECFW2k8uUyDMP6Z03to4hAfEQ6OsYtqEKvyd8jXOZB8EAOy5GIDPDkZiRp8WCNSqPPpciIiIqH6sXbsWTzzxBNq3b4+vvvpKCrZBQUHeLawJYNC9SqIoIqvoHE5l7EFq1v5ql9GN0MejWXArNAtqhVD/5pDL3P/Un8rYg8MXfgMAWMRwvPtXGEQImNW39VU9ByIiIvKeCxcuoKioCH///Tf++usvXHPNNd4uqclg0L0CJVYj0vNP43zOMZzPPQqDueCyPQTIZQrY7BaoFTqM6fYg/FQBV/UxTZZi/HXaseqJnzoEz3wXA4vdjGviw9GlechVnZuIiIi854EHHsDx48dx9913o0ePHt4up0lh0K2FKNqRZ8hARuEZZBacRWbhOeQbMyrtJ5cpERfSDi0iukCAgO8PfwAA6Bo/7KpDLgDsSt2KEqtjtDi7pCdOZp8HADwxtP1Vn5uIiIjqR25uLubPn4958+YhOjoaAKBQKPDuu+96ubKmiUG3CqIoIi33OE5m7MLFvFNSwLycWqFD8+DWiAlpg9jgtlAqHHPc/XTkYwCASqFFy4juHqmpY8wgFJlyoVEFYfK6HABAt5gQjGrHKcWIiIgag8LCQvTv3x8XL17EhQsXsH79ei76UMcYdCuw2EqQmnUARy/8gezitEqP+6tDEB4Qi3B9HML1cQj1b+40Ly4AGEoKcDb7EACgVUR3KORKj9QWoA3DsA4z8M5vh5GWvxsA8NywTvwGISIiaiT0ej1uvvlmvP3224iKioLZbJYWgqC64fNBVxRFXMw7iePpf+NczhHY7BbpMY3SH3Gh7dEsqCUiAxKgVelrPd/x9L8gwjGFWG2roLmrxGrHaz8eBcDRXCIiosagsLAQen15fnjmmWcwZMgQDBkyxItV+Q6fDbomSzHOZB/E8Ut/I7vovNNjAdpwtI3ui1aRPdwakbXZrTh+6S8AQLOgVgjQhl1VjVlF53E6Yw+6xg+DUq7Gur2pSMs3AOBoLhERUUNmNBrx0ksvYfPmzdixY4c0VZhGo2HIrUc+F3SLSnLxR+oGnM895rR4g0bph8SwzkgM74xwfdwVhUhRtCM5qjcOXdiBttFXNzWIKNqx8+QmZBWdx4W8kxjT9QF8sjsFANAqTM/RXCIiogbs999/xzvvvAMAeP755/Hmm296uSLf5FNB1yZa8d2RlbDYS6RtgdoItInug1aRPa+6n1YhV6Fz3FC0bdYPSvnVLeBwMn0XskpHmltF9kBmUQl+PHEJADC+ayJHc4mIiBqwoUOHYsKECcjMzMTjjz/u7XJ8lo8FXRMs9hIIkKFds75oGdkDQbpIj4dGlUJzVceXWI3YdWYbACBIF4G20X3x9m8nYBcdq6yN75pwtSUSERGRBx05cgQlJSXo0qWLtO2NN96ASqXi4JQX+VTQBQCVXIPr2k9DREC8R89rsZmvehS3zL6z30srrPVqMRoymRxr9zjaFro2D0GbyECPfBwiIiK6ev/973/xzDPPICYmBj///DP8/PwAgDMqNACy2ndpWrrGDvd4yDVZirHuzxfx3aHVyC6qPC2ZO3KLL+HIhT8AAPGh7dEsqBVOZxdi55ksAMAEjuYSERE1KH5+fjCbzUhLS8OuXbu8XQ5V4HMjupH6RI+f82z2YVjtFqTlHkP3hBuv+DyiaMfvJzdChB1ymQI9EkcCAD7bd0ba5/YuCVdbLhEREXnQ+PHjcfLkSdx+++1ITk72djlUgY+N6ApQK/w8ftayBSICtGEI1kVd8XlOpu9CZuFZAECXuOug14QAAD7f79jWNyEcscGer5+IiIhcc+HCBfzrX//C4cOHpW2CIODZZ59lyG2AfG5E19MN4RZrCS7knQQAxIW2v6rzJ4R3Rp4xAxfzTqF9swEAgNScIvxzLhsAMK5T3NUXTERERFfEaDTiuuuuw6VLl5CWlobt27dDpfLM9TlUN3xsRNfz0vKOwy5aAQBxIe2v6lxKuQo9E0diZOf7IJPJAQAbS0dzAeCWTp7tLSYiIiLXabVazJkzB4Ig4Nprr4VYOhsSNVw+N6LraWVtC1qlHuF6zyziIJeVvyyf73f05/aKC0Uc2xaIiIjqVVpaGpo3by7dv+eee9C3b1907tzZi1WRqziiexXsdhvO5RwFAMSGtoMguP/ptFhL8POxtcg3ZlZ67HxesTTbwjiO5hIREdWbgoIC3H///bjmmmtw5kz5ReEymYwhtxFh0L0KlwpOw2IzAQDiQttd0Tn2nf8RKZn7sHn3EhQYs5we++JAxbYF9ucSERHVl9OnT2P9+vUoKirCCy+84O1y6AqxdeEqhevjkGfIQHRgktvHllgNOHrRMWdus6CWCNCGOT1eNttCt5gQtAjVX32xRERE5JIuXbrg4YcfxpkzZ/Daa695uxy6Qgy6V6FZUCs0C2oFs9Xk1FfrquOX/oLVZgYAdI4b6vTYxQIDdqRkAABu6cjRXCIiorr0119/IT8/H9dff7207YknnoBMxje/GzO+eh6gUmjcPsZut+HIhd8BAJEBiQjXxzo9vunAOZRdzDmuM/tziYiI6sry5csxYsQI3HvvvcjIyJC2M+Q2fnwFvSQ16wAM5gIAQPvm/Ss9XjatWMfoILQOD6jX2oiIiHxJhw4dYLfbYbFYcOTIEW+XQx7E1oUrIIoifj72CUL8miMxvJO0gpk7xx+6sAMAoNeEIiakrdPjmUUm/N+pdACcbYGIiMjTRFF0WuDp2muvxeLFi3H99dcjJsYzU4VSw8AR3SuQZ8hAatYB7D6zDRfzTrl9fEZBKrKLzgMA2jXrB9ll05JtOngO9tK+Ba6GRkRE5DknTpzADTfcgJ9//tlp+7Rp0xhymyAG3StwNvsgAECAgLjQtrXsXVmJ1QCdKhAquQYtI7tXevzzfY75+tpGBqJdVNBV1UpEREQOFosF48aNwz///IPZs2ejoKDA2yVRHWPrwhU4m30YABARkACN0t/t4+NC2yMmuA3yDOlQytVOj2UXl+DHk5cAcDSXiIjIk5RKJV566SXcfffdmD59Ovz8uOJoU8eg6yajuRDZxWkAHIH1SslkcoT4N6u0fcuhc7DZHW0LXCSCiIjoyomiiIMHD6Jjx47StjFjxqBbt25sU/ARbF1wU2bhOel2dGALt4612iwQy+YMq0bZbAstw/ToFB3sfoFERESEjIwM/Otf/8KQIUOwe/dup8cYcn0Hg66bMgsdQVQhUyLIL9KtY3ee2oStB95Fen5KlY/nG8347vhFAI62hYpXhBIREZHrjEYjduzYAZvNhsWLF3u7HPISti64Kat0RDfUPwYyQe7ycXmGDJzK2A0RIk5l7EFkYGKlfb48fB4Wmx0ApxUjIiK6GvHx8Xj55Zdx6NAhPPfcc94uh7yEQdcNomhHVpGjPzdc717/7N6z30GECJmgQOe4IVXuUzbbQkKIH7rFuDc3LxERkS/77rvvkJ6ejkmTJknbJk+e7MWKqCFg0HWDIMhwa8/HkVV4Hn7qIJePyy5KQ2rWAQBAm+g+VR5bYDLj22MXADhGc9m2QERE5JqlS5di/vz50Gg06NWrF1q3bu3tkqiBYI+um9QKHZoHt0aQLsKl/UVRxJ+ntwAAFDIVOsYMqnK/jfvPocTqaFu4rTPbFoiIiFx13XXXQaVSISAgABkZGd4uhxoQjujWsVMZu5FR4GhJ6BQ7BFpV1fPurt3juECtVZgePWJD660+IiKixqakpAQqlUp697Ndu3ZYvXo1evXqhdBQ/g6lchzRdUO+MRN20e7y/marCf+kbgUABGjD0L55/yr3u1RgxI8nHItETOiWyLYFIiKiauzZswfXXnstPv30U6ftw4cPZ8ilSrwadNPS0jBz5kz07t0bgwcPxsKFC2G3Vw6SdrsdS5cuxZAhQ9C1a1eMHj0a33zzTb3WarGVYNOuN/HJH/NxKmOPS8ekZu2HyVIEAOjdYgzksqoH0NfvTYW9dH7dCd0qz8ZAREREjjxw33334fjx45g3bx7S09O9XRI1cF5tXZgzZw7at2+P77//HtnZ2bjnnnsQFhaGadOmOe23du1abNiwAR9++CHi4+Pxyy+/YPbs2WjRogXatGlTL7Wm56dChB1Wuxn+atcWcmgd1QtalR4X8k6ieXD1jfFlbQs9YkPROjzAI/USERE1NTKZDEuWLMHtt9+O+fPnIyLCtetlyHd5bUT3wIEDOHr0KB599FHo9XokJCRg6tSpWLduXaV9Dx06hO7du6NFixaQy+UYPHgwgoKCcOzYsXqr92LeCQCAQq5CuD7W5eNiQ9qid4vR1T5+IrMAf53NBgBM6JpwVTUSERE1JTabDT/99JPTtl69emH//v2YOnUqW/2oVl4b0T106BCaN2+OwMBAaVv79u2RkpKCoqIi+PuXX7Q1aNAgzJ8/H0eOHEFSUhJ+/fVXGI1G9OrVy+2PazQar6jetFxH0A33i4fJVHJF56jK//5ynFcQgDFtImEwGDx2bl9W9jpf6etNjQtfb9/C19s3XLhwAXPmzMGff/6JF154AQkJCdJjCoWCvy+bKFEUPfoHjNeCbl5eHgICnN+mLwu9ubm5TkF32LBhOHLkCG666SYAgFarxYIFCxAdHe32x01NTXX7GKtYgjxTaR+QUYcjR47UuH+W9QTkUCJQHgeZUPOg+ZcHHG0LXcJ1yD2fily3q6OaXMnrTY0XX2/fwte7aSsoKMCJE47BoK+//hrXXHONlyui+qJSqTx2Lq/26IqlF2DVZtOmTdi0aRM2bNiA5ORk/PHHH3jkkUcQHR2NTp06ufUxExISoNVq3TrmXO4hwJFH0bFlHwRpI6vd12w14cjBzbDazVAF2NAjflS1+xrMVhxZdxQAMLx9PNq2betWXVQ9o9GI1NTUK3q9qfHh6+1b+Hr7jiVLluDvv//G8OHD+Xr7iLI/bjzFa0E3JCQEeXl5Ttvy8vIgCAJCQpyXv/3f//6HO+64Qwq1gwYNQp8+fbBlyxa3g65Wq4VOp3PrmMzzqQAAjdIf0SEJNQ6pnzr/N6x2MwCgbcw1NX6snWkXYbY5Zpm4rm2s23VR7a7k9abGi6+3b+Hr3XSIooiNGzfi5MmTeOKJJ6TtI0eOxODBg3HkyBG+3j7C033XXgu6HTp0wMWLF5GTkyMF2wMHDqBly5bw8/Nz2tdut8NmszltM5vN9VKnKNpxPtdx0Vvz4NY1vgCiKOL4pT8BAJEBCbVetPbzKUc7hFohQ++4MA9VTERE1LgsW7YM8+fPhyAI6N+/P/r16+ftkqiJ8NqsC+3atUPHjh2xePFiFBUV4dSpU1i9ejUmTJgAALjxxhvxzz//AACGDBmCzz77DEePHoXVasWOHTvwxx9/YOjQoXVep9VuRcuIbgjSRSI2pOapzDILz6HQlAPAMbVYbX4pDbp94sOhUcqvvlgiIqJG6LbbbkNQUBDi4uKgUHDRVvIcr341LV26FM8++yz69esHf39/jB8/HhMnTgQApKSkSFdU3nPPPbBarbj//vuRk5OD5s2b46WXXqqXxnSlXIUeiSPQI3FErT3FpzMdC0nIZUrEhbSvcV+jxYqdZ7IAANcmVd/zS0RE1NQUFBRAp9NJoTY6Ohrr169HcnIy9Hq9l6ujpsSrQTcqKgqrVq2q8rGKc+QqlUo8+OCDePDBB+upsqrV1LZgt9uQkrkfABAX0g5KhbrGc+08kyX15w5k0CUiIh9RtujTnXfeiUceeUTa3qNHDy9WRU2VV5cAbkou5J1AibUYANAiomut+5e1LajkMvSJZ38uERE1faIo4tVXX8X58+exYMECnD171tslURPHoFuDzMJz+OnIxzh4/meYraZa9wUAtcIPzYNa1Xru31IyAAC94sKgVbIfiYiImj5BEPDWW28hNjYWq1atQlxcnLdLoiaOCasG6fmncSb7AM5mH0RydM39wF3jr0fLyO7IN2ZCJqv5wjKb3Y4/zzr6c69JCPdYvURERA2J2WzGunXrMGnSJKn9LykpCf/88w+USqWXqyNfwKBbg8zC8wCAIF0klPLaV+nQa0Kg14TUut/BS3koKrECYNAlIqKm6fz585g4cSIOHjwIs9mM6dOnS48x5FJ9YetCDbKKHO0IYbXMh+uuP1KzpNvXsD+XiIiaoPDwcNjtjouuf/jhB5dXQyXyJI7oVsNoLkJxSR4A1Ljwg9FciJMZu9AivAv81EEunfuP1EwAQFKoHhF6LmdIRERNj1qtxjvvvIM//vgDM2bM8PiKV0Su4IhuNXINl6TbIX7R1e6XkrkPu1K3YcPfC1BkynPp3DvPOIIu2xaIiKgpsNvtWLVqFe6//36nkduOHTti5syZkMkYN8g7OKJbjTxDunQ7UBdR7X6ns/YBAEL9m8FfE1TreTMKjTiZVQgA6JPAtgUiImr8VqxYgWeeeQaAYzXTcePGebkiIgf+iVWNPINj+i9/dTCU8qoXfyguyUNW6bRiiWGdXTpv2WpoANCXI7pERNQETJ48GfHx8Wjfvj2Sk5O9XQ6RhCO61Sgb0Q3SVb9q2Zmsg9Lt+LAOLp23rD/XX61Ah6igKy+QiIjISzIyMqDT6eDv7w8A0Ov1+Pzzz9G8eXOo1TWvDEpUnziiW40BrW/HkLZT0L55/2r3OZPtCLqhfs1dmlYMAH44cREA0Cc+HHL2LBERUSOzZcsW9OvXD88995zT9hYtWjDkUoPDpFUNvSYEcaHtEB3UssrHDeZCpBecAeD6aG5GoRG7zucAAG5IbuaZQomIiOrRxo0bkZ2djQ8//BDHjh3zdjlENWLQvUJnsw8BcFxZGh/qWtD97vhF6fYNbRh0iYio8Vm8eDG6deuGjRs3sh+XGjwG3SrY7NZaJ7Y+m30YgKOHN1Dn2kVl2485gm7zQB3aRQZeXZFERER1rKioCAsXLkRJSYm0LTQ0FN999x2uvfZaL1ZG5BpejFaFP09/iTNZB9AsqBWubTOhyn2ubTMB53OOQBDkLp3Tbhex/dgFAI62BU6cTUREDdnFixcxcuRIpKamwmg0OvXk8ncYNRYc0a1CviEdJVYDLDZTtfuoFVokRXRDi3DXphXbdyEXGUWO8w1j2wIRETVwkZGRiI+PBwCkpqZKy/kSNSYc0b2MKIrSHLo1TS3mrrLRXJkg4LpWUR47LxERkafYbDbI5Y53KmUyGZYtW4adO3di3LhxHMWlRokjupcxWYpQYjUAqHpFNIO5EJmFZ2vt4b3ct6VBt3dcGIJ1nH6FiIgaDovFgtdffx0333wzbDabtD0mJga33norQy41Wgy6lykbzQWA4CpGdE+m/4Ov972NL3YthtVmdumchSYLfktxnJezLRARUUPz8ccf47XXXsOOHTvw9ttve7scIo9h68JlCozlS/QGaJ1nUxBFEacz9wAAtCo9FHKVS+f88eQlWO2OEeBhydEeqpSIiMgz/vWvf2HNmjVQq9UYNWqUt8sh8hgG3csUmBxBV6P0h0qhcXosp/iiNOKbFNHV5XNuOXgOABCqU6NHbKiHKiUiIroyZ86cgVqtRlSU45oRpVKJTz/9FCEhIVKPLlFTwNaFy5SN6AZoKwfSlKx9AACZIHd5NTSLzY4thxxBd0yHGC77S0REXrVmzRoMGDAAc+fOdbreJDw8nCGXmhymrstYbRYAQIAmrNJj53OOAgCig1pCrdC5dL6fT6Ujx+Do5b2lU7yHqiQiIroyR48eRVFREX766Sfs27fP2+UQ1Sm2Llzmho4zYLVZYLU7X2hWXJKHPEM6ACAm2PUlDzfuPwsACNAoMZTTihERkZc988wzOHv2LB566CF06dLF2+UQ1SmO6FZBIVdCo/Rz2paWe1y63dzFoGuz27HpoCPojmoXA7WCbwkREVH9yc7OxqOPPoq8vDxpm1arxZo1a9CtWzfvFUZUTzii66KytoUAbViV/btV+T01E+mFjtXQbukUV2e1ERERXS4rKwsDBgxAeno6CgsL8e6773q7JKJ6xxHdCvKNmcguSoOlivlxW0f3Ruuo3mgZ0d3l85W1LehUctyQzPlziYio/oSFhWHIkCEAHKO4VqvVyxUR1T+O6FZw5MLvOHrxD+hUgbi915NOj8UEJ7vVmyuKIr444Ai6w9s0h07FTzUREdUtg8EAna78YulXX30Vt9xyC4YOHerFqoi8hyO6FeSXzpEbqAuvZc/a/X0uG+fyHEsJs22BiIjqksFgwLx58zB48GAYDAZpe0BAAEMu+TQG3QryjI6gG6SNcNpecZ5BV207kgYAUMplGNk25uqLIyIiqsa3336LlStX4sSJE3j99de9XQ5Rg8H300uZrSYYzYUAgEBdedA1WYqxefd/EBmYiE6xgxHi59oSvr+edoTm3nFh0GuUni+YiIio1E033YTPPvsMdrsd9957r7fLIWowGHRLlS3tCwCB2vLWhfT8FBgthUjN2o+OMde6dC6z1YY/zmQCAPq3iKhlbyIiIvccPnwYcrkcycmOa0cEQcCqVaug1WohCIKXqyNqONi6UCrfWB50gyqM6F7MPwUAUCm0Lo/m7k7LgdFiAwAMYNAlIiIPeueddzBkyBDMmjULFotF2q7T6RhyiS7DoFsq3+gYgVUptNAo/aXtl0qDblRAIgTBtU/XjtK2BZkgoG/C1V/YRkREVEYURZjNZhw7dgx79uzxdjlEDRpbF0oVmXIAAAGaUOkvYoO5UGppiA5q6fK5fjntWCq4c7NgBGhUHq6UiIh82axZs3D27FncddddaN26tbfLIWrQOKJbKlgXhciARITpY6Vtl/JPS7ejApNcOo/dLuK3FMfoMNsWiIjoapw/fx5TpkzB2bNnpW0ymQyvvfYaQy6RCziiW6pz3FB0jnOea/BSnqNtQaP0d+rbrcnBS3nIMzpWVuOFaEREdKUKCgowaNAg5OTkIC8vD5s2bYJMxvEpInfwO6YGZReiRQcmudzgX9afCwADEhl0iYjoygQEBOCuu+6CTCZD9+7dYbPZvF0SUaPDEd1qmK0m6XZUUAuXj/s1xdGfmxwegAi91uN1ERFR05WRkYGIiPJBkkcffRQ33ngjunXr5sWqiBovBl0AucXpSMs9Cj91MGJD2kIhV0Kl0GBcj8dQZMqDUuH6BWW7zjkuauvD2RaIiMhF+fn5eOKJJ/DDDz/gt99+k8KuSqViyCW6CmxdAJBekIJ/Urfi52OfQBTtTo/5a4KgVuhcOk+hyYJT2Y7V1bo0C/Z4nURE1DTt27cP69evR3Z2Nl555RVvl0PUZHBEF0BxSR4AQK3QQalQX/F5DlzMlW53YtAlIiIXDRw4EDNmzEBRURGef/55b5dD1GQw6KI86PqpAwEAJksxzuccRURAPPQV5tWtzb4KQbczgy4REVVj586dAIA+ffpI21599VXI5XJvlUTUJLF1AUBxST4AQKdyBN30/BTsOLEBG3ctQp4h3eXz7L/gCLqxQToE6658ZJiIiJquN954AyNHjsTMmTNRUFAgbWfIJfI8Bl0ABrPjB42udEQ3o9AxMbdSrnZ5/lygPOiybYGIiKrTokULiKKIgoICHD582NvlEDVpPt+6IIoijKVB108VAADILDwDAAjXx0EQXPtbwG4XceBiHgC2LRARUTlRFJ1a4G666SacO3cOt9xyC5o3b+7FyoiaPp8f0TXbTLDaLQAAnSoANrsVWYVpABxB11WnsgtRbLYCADo1C/F8oURE1OgcP34cw4cPx549e5y2z5kzhyGXqB74fNA1lJT3R+nUgcgpvgC76Ais4QGuB919F3ghGhERlTMajRg1ahT++usv3HvvvTAajd4uicjn+HzQVSu06Bp3PVpH9UaANgwZBWelx9wZ0S3rz/VTKZAU6u/xOomIqHHRarV4+umnoVKpMHHiRKhUri8+RESe4fM9ujp1ADrHDZXuZ5ZeiBaki4Ba4foSvmUjuh2jgyCX+fzfD0REPkcURRw7dgxt2rSRtk2ZMgUDBw5EYmKiFysj8l1MZJepeCGaO/amOZb+5YwLRES+59KlS5gwYQKGDBmC48ePS9sFQWDIJfIiBt0KRNGOjjGDkRTRDTHBbWo/oFRGoRHn8w0AgG4xoXVVHhERNVA5OTn4v//7P5hMJixatMjb5RBRKZ9vXdh39gcUleQhIiAerSJ7oE10H7SJ7lP7gRXsSSu/EK1bc864QETka9q1a4ennnoKly5dwrPPPuvtcoiolM8H3bM5h5FdlAarzYxWkT2u6Bx70rIBAAqZgA7RQR6sjoiIGqLt27fDaDRi7Nix0ra5c+d6sSIiqorPB93yVdECrvgcu887+nM7RAVBreASjkRETdmCBQuwYMECBAQEoHv37oiJifF2SURUDZ/u0bWLNpjMRQAArVKPrftXYMfxDUjPT3XrPGVBl/25RERN36BBgyCTyaDVapGWlubtcoioBj49oms0F0GECACQCXKkF6QivSAVzYJbuXyOXEMJUnIcYblbDPtziYiaGovFAqVSKd3v3bs33n33XQwePBghIfy5T9SQ+fSIblnbAgBYbWbpdohftMvn2FM6rRgAdGXQJSJqUnbv3o3+/ftj27ZtTtvHjRvHkEvUCFxV0LVarZ6qwysMJfnSbaPVMSorlykQoA1z+Rx7StsWZIKATtGcQ5eIqKkwm8248847ceLECTz44IPIz8+v/SAialDcDrp2ux1Lly7F4MGD0a1bNwCO9bz//e9/w2w213J0w1JxRLfI5AisQbooyATXLyjbXTqi2zYyADqVT3eCEBE1KSqVCm+88Qb8/f3x1FNPISDgyi9aJiLvcDvoLlu2DJ9//jkmT54sbTMYDNi7dy+WLFni0eLqWlnQVSt0yC1OBwCE+EW5dY49vBCNiKhJsNls+PXXX522XX/99di3bx+mTJkCQRC8VBkRXSm3g+7mzZvxzjvv4K677pK+6UNDQ/Hmm29i8+bNHi+wLrWM6I5rkyeia9wwFJU4Aqs7/bnFJRYcz3KE5a5cKIKIqNE6d+4cRo0ahZtuugl//PGH02PBwWxLI2qs3A66OTk5aNeuXaXt8fHxja5/KVAXjsTwTgiuMIob4tfM5eOPZBRAdEzagPZRQR6ujoiI6otCocCxY8cgiiJWrVrl7XKIyEPcbipt1qwZjhw5grZt20IsS3kAfv/9d4SHh3u0uPqSU3xRuh3sxojuoUt50u32UYGeLImIiOpRdHQ0Fi5ciNOnT+Ohhx7ydjlE5CFuB90xY8bg/vvvx/Tp0yGKIrZv346DBw9i7dq1mDZtWl3UWOeSo3sjOigJ+cZMqBQal487XBp0g7UqROm1dVQdERF5kiiKWL9+PXJycnDvvfdK28eNG+fFqoioLrgddO+55x6YzWYsXboUFosFc+fORVhYGGbNmtWogq4oiti85z9QKbRo36w/4sM6IEgX4dY5DqU7WjXaRwXxIgUiokbitddew8KFC6FUKtG/f3907NjR2yURUR1xO+harVbMnTsXc+bMQU5ODtRqNfz9/WG1WnHx4kU0b968Lur0OIutBHkGx0wLrSJ7XNE5ykZ027FtgYio0bj99tuxfPlyREZGwmKxeLscIqpDbl+M1qOHIxQKgoDQ0FD4+/sDAEwmE26++WbPVleHTJYi6bY78+aWKSqx4ExuMQCgfWSQp8oiIiIPKygocLqmJCkpCevWrcPPP/8szQdPRE2TyyO6f/zxB/744w9YrVa88cYblR4/e/Zso1opzVgh6P56fB12pW7F6C5zoFXpXTr+cHr5DBMc0SUiaph++uknzJkzBw8//DDuuusuaXu/fv28WBUR1ReXg65KpUJqaipsNhu++uqrSo/rdDo8+uijHi2uLpksxU73LbYSaJR+Lh9fccaFDpxajIiowbHZbHj22Wdx4cIFPPfccxg1ahQiIty7FoOIGjeXg2737t3RvXt33H777Vi/fn1d1lQvKrYuAI5pxQTB9U6OsqAb5qdGBGdcICJqcORyOd5++21MmDABCxYsYMgl8kFu9+hWF3KtViuGDBly1QXVl8tHdIN0kW4df+hS+YwLRETkfSUlJdiwYYPTtk6dOmH37t0YNWqUl6oiIm9ye9YFk8mEt99+G3v37oXZbJa2Z2ZmwmQyebS4umQyO4/oBmrD3DpemnEhkv25RETelpqaikmTJuHw4cOQyWROc+Kq1WovVkZE3uT2iO4rr7yCjRs3Ijw8HAcOHEBcXBzy8/MRFhaGFStWuHWutLQ0zJw5E71798bgwYOxcOFC2O32Kvc9deoUJk+ejM6dO+Paa6/FBx984G7pTkqsBqf7AW4E3XyjGefzHcdzRJeIyPtCQ0NRVOQYwPj666+9XA0RNRRuB92ffvoJa9euxeLFiyGXy/H666/jq6++QuvWrXHmzBm3zjVnzhxERkbi+++/x+rVq/H999/jww8/rLSfyWTCjBkzcO2112Lnzp1YtmwZPvvsM5w6dcrd8iU9E0eiZ+JI6b47QfdghQvR2jHoEhF5nV6vx9tvv43XX38d//3vf71dDhE1EG4H3fz8fMTGxjoOlslgt9shl8sxe/ZsvPXWWy6f58CBAzh69CgeffRR6PV6JCQkYOrUqVi3bl2lfbdu3Qp/f3/MmDEDWq0WnTp1wldffYWkpCR3y5doVXppXkUBMujVIS4fu/9CrnS7c7PgK66BiIjcZ7fbsXHjRjz//PNO2/v27YsZM2ZAJnP7VxsRNVFu/zSIiorCnj17AAAhISHYt28fAMDf3x8ZGRkun+fQoUNo3rw5AgPLe1zbt2+PlJQU6e2nMrt27ULr1q3x5JNPokePHrjxxhuxZcsWd0uvkk4VCL02BDKZ64tG7L2QAwBICPFDkFblkTqIiMg1S5YswTvvvINVq1bhhx9+8HY5RNSAuX0x2sSJEzFp0iT8/vvvGDp0KObOnYvrr78ehw8fRnJyssvnycvLQ0BAgNO2stCbm5srrbgGAJcuXcI///yDF198Ec899xy2bduGJ554Ai1btkS7du3cqt9oNAIARFFEi5AeaBHSA3bRBoPBUMuR5facywYAtI8IcOs4qj9lr3PZ/9S08fX2Lbfddhvee+89REdHIygoiD+Hmzh+f/sWURQhCILHzud20J06dSqaNWuGgIAAPPbYYzAYDPjjjz8QHx+Pxx9/3K1zVVySsbb92rdvj9GjRwMAbr75Znz66afYtm2b20E3NTUVoijikGkjZFAgStkRIYoWLh9vtYtSj260woIjR4649fGpfqWmpnq7BKpHfL2bppycHPj7+0OlKn8HbeHChWjevDkA8Oewj+D3t++o+L1+tdwOugAwbNgwqZCXX375ij5wSEgI8vLynLbl5eVBEASEhDj3y4aHh1fat3nz5sjMzHT74yYkJEChkuHgPjtsMCM6Ohotwtq6fPzRjAKU2Bw/VId0bIm2bZu7XQPVPaPRiNTUVCQkJECr5YIeTR1f76bryy+/xJNPPolJkyZh3rx5AMpH9vh6+wZ+f/uWEydOePR8bgXdoqIi7Ny5E2q1Gn369IFSqXR6/KOPPsKUKVNcOleHDh1w8eJF5OTkSMH2wIEDaNmyJfz8nJfiTUpKwtq1a52Gs9PS0jBgwAB3ygcAaLVa2GXl8/8KMhEajdrlHt1jOenS7V6JUdDpdG7XQPVHq9XyNfIhfL2bFlEU8emnnyIvLw8rVqzAzJkzERMTIz3O19u38PX2DZ5sWwDcuBgtJSUFo0aNwuzZs3H33Xdj5MiRSE93hL7s7GzMmDEDCxcudPkDt2vXDh07dsTixYtRVFSEU6dOYfXq1ZgwYQIA4MYbb8Q///wDABgzZgxyc3OxYsUKmEwmfPXVVzh06BDGjBnjznOVVJxD9+/Ur2G0FLp8bNmMCwEaJRJC/GvZm4iIrpQgCFi2bBnat2+Pzz//3CnkEhG5wuWgu2TJEnTs2BE//fQTvv32W8TGxmLp0qX4+eefMXr0aKSnp1e7PHB1li5dioyMDPTr1w9TpkzBTTfdhIkTJwJwBOuyCwwiIyPx7rvvYtu2bejZsyeWLVuG5cuXIy4uzq2PV8ZsLW9olwkK6FQBNeztbG9p0O3SLNjjf3UQEfmywsJCLFmyBDabTdoWExODX3755YrewSMicrl1Ye/evfj0008RFRUFAHjuuecwcuRIbN68GdOmTcPcuXMrtTLUJioqCqtWrarysWPHjjnd79WrFzZv3uzW+atTMejqNcEQBNdnWdtXOrVYJ86fS0TkMampqbjppptw9uxZCIKAuXPnSo9xUIGIrpTLQTc3N1cKuQAQHx8PAPjf//6HLl26eLywulRSIegGaMNdPu5SgRHphSYAQOdmri8wQURENWvevDlCQ0Nx9uxZHDlyxONTDBGRb7qiWRfKyOXyRhdyAcBcoUdXrwl1+bh9FVZE69KcI7pERFfDbrdLq5gplUq8/fbbOHjwIMaNG+flyoioqbiqoNtYVRzR9VcH1rCns7K2BblMQLvIIE+XRUTkEywWCxYuXIjDhw9jzZo10shtcnKyWwsPERHVxuWgK4qitNhCTdsSExM9W2EdaB3VCwfO/x8AwE8d5PJxh9PzHceHB0CjdH3JYCIiKrdixQosWrQIAPDxxx9j0qRJXq6IiJoql4Ou2WzG8OHDnbaJoihtK+unagwr1BSX5Em3/dwY0T2RWQDAEXSJiOjKzJgxA//73/8QHh7O2RSIqE65HHQ/+uijuqyjXqkUWrSM6I7iknz4qV3vtT3OoEtE5LaUlBQEBwcjKCgIgGPi/02bNiEyMlLq0SUiqgsuB91evXrVZR31Sq3QokfiCKgUGsgE11oQsotLkGNwrKjWKlxfl+URETUJoijigw8+kKajXLFihfRYdHS0FysjIl/hk39KbzuwCp/++SL+Ov2Vy8ecyCqQbnNEl4iodoIg4J9//kFxcTE2btzo8TXsiYhq45NBt2wJYJVC6/IxZW0LAIMuEZGrXn31VQwdOhTfffcdWrVq5e1yiMjH+FzQFUVRWhmt4gpptSm7EC1Ao0SEv6ZOaiMiasyysrLw5JNPSsu3A0BAQAA2bNiAzp07e7EyIvJVPjePrsVWIt0uNOW4fNzxzEIAjtFcrtZDROTs/PnzGDp0KDIzMyGKIl577TVvl0REdGUjunl5edi4cSOWLVsmbUtLS/NYUXXJaClvQfBTuT+1WMswXohGRHS55s2bo3v37gAAq9XqNL86EZG3uD2ie/jwYUybNg12ux1GoxFz5szBuXPnMHr0aLz33nvSD7qGqrCkfBTXX+Pa1GKiKEoXo7E/l4jIwWQyQaNxtHIJgoA333wT06dPx9ChQ71cGRGRg9sjuq+//jpuueUW7Ny5U5r/MDY2Fg8++CDeeOMNjxfoaUZzvnTb1VXRLhQYYTDbAACtGHSJyMcZDAY88cQTGDFiBCwWi7Q9MjKSIZeIGhS3g+6+ffswd+5cyOVyp17ViRMn4tChQx4tri4YzIXSbX8XF4vgjAtEROXWr1+PVatWYe/evU4tbEREDY3brQtarbbKi7GKiooaxUVaFnv5xWh6bahLx1QMuq3Yo0tEPm7KlCn47LPPEBQUhEmTJnm7HCKiark9otuhQwcsX77caVthYSFefvlldOvWzWOF1RWdyjEiK5cpoVX6u3RM2YVokXoNArWqOquNiKghOnjwIM6dOyfdl8lkWLt2LdasWYOIiAgvVkZEVDO3g+6jjz6KDRs2oG/fvjCbzRg9ejQGDBiAP//8E4899lhd1OhRJRbH/I4apZ/LI9AnsxztDq3C2LZARL5l6dKlGDp0KO6//37Y7XZpu16vbxTv4hGRb3O7daF169b45ptv8OWXXyIlJQUajQaJiYkYNWoU/Pz86qJGj2oelAy9LhhymdzlY1KyiwAALUJdGwEmImoqCgsLYbFYsGvXLhw+fBgdOnTwdklERC5zO+guXboUt9xyC+688866qKfOqRV+iNQmQK3QubS/KIo4neMY0W0Ryv5cIvItjz32GDIyMjB37lwkJSV5uxwiIre43brw+eef4/rrr8fkyZPxxRdfwGh0fRndhuBo+m/Yun8Ffj2+zqX9M4pM0tRiiRzRJaIm7Pz585g2bRoyMzOlbSqVCkuWLGHIJaJGye2g+/PPP+ODDz5AQkICXn31VfTr1w9PPvkk/v7777qoz+OspUsAK2SuXVR2urRtAQASQxh0iahpyszMRP/+/bF582Y8/PDDXNmMiJqEK1oCuHfv3njxxRfx22+/4fXXX4fZbMa9996LYcOGebo+j8ssOgsAsNttLu1/Ort83l326BJRUxUeHo7bbrsNMpkMycnJTheeERE1Vm736FakVCrRpk0bpKSk4Ny5czh8+LCn6qozZpuj1UKEa6MVKTmOEV2NQo4ovbbO6iIiqm85OTkICQmR7s+fPx/jx49v8Eu5ExG56opGdC9duoTVq1fjtttuw/XXX4+tW7dixIgR+Pnnnz1dX51RKVwLracrzLjAqXSIqCnIy8vDzJkzMXjwYBQUlC+I4+fnx5BLRE2K2yO648ePx/79+xEaGorRo0fj5ZdfRuvWreuitjqlUboWdFNKWxd4IRoRNRW//vorPvvsMwDAokWL8MILL3i5IiKiuuF20I2JicHs2bPRt29fyGRXNCDcIKhdXBWtrHWBU4sRUVMxevRojBs3Dmq1Go8++qi3yyEiqjMuBd0zZ84gPj4eAHD//fdL26qSmJjoodLqlkZZ++IWJVYbzuc7VlJrwRkXiKiR+uOPP+Dn54dOnTpJ29555x0oFFd1mQYRUYPn0k+5MWPGYN++fQCA4cOHV9mrKooiBEHAkSNHPFthHRAgg14TWut+Z3KLUTbDDlsXiKgxevXVV7Fo0SK0bt0aP/30EzQaDQAw5BKRT3DpJ917770n3f7oo4/qrJj6oteGokV451r3c55ajK0LRNT4REdHQxRFXLp0CUePHkWXLl28XRIRUb1xKej26NFDur1z507MnTu30j7FxcV444030KtXL89V53GO4VmtC20LAJDCxSKIqJG78847kZ6ejsmTJ6NZs2beLoeIqF65fDWZ3W6H2WzGe++9B4vFArPZ7PTvzJkzWL9+fV3W6gEC+ra4HZ1ih7i0d9nUYpF6DXQqvs1HRA3b0aNHMXLkSJw4cULaJggCnnjiCYZcIvJJLqe3lStX4j//+Q8EQXC6oKGitm3beqywumKxmVBilcNkKa71grTTOY7WhRYhbFsgooYtPz8fN9xwAwoLC3Hfffdh69at7MMlIp/n8k/BWbNmYfDgwRg3bhxefPHFSo9rtVr07dvXo8XVhb/PbAEAjOoyu9agW9a6wAvRiKihCwwMxEMPPYQFCxZg7NixXOCGiAhuzqObnJyMZcuWYfDgwXVVT71RyJQ1Pi6KotOqaEREDYkoikhJSUGLFi2kbXPmzMGoUaPQsmVLL1ZGRNRwuBR0ly5dKl2AtmfPHuzZs6fafR9++GHPVFYnROmWvJagm2Mwo7DEAgBIZOsCETUgFy9exAMPPIC//voLv/32G5o3bw4AkMvlDLlERBW4FHS/+eYbKeh+9dVX1e4nCEIDD7rlagu6zlOLcUSXiBqOM2fO4IcffoAoinjjjTewePFib5dERNQguRR0t23bJt3+8ccf66yY+iSX1fzUT1eYWoxBl4gakj59+mDu3LmwWq14+umnvV0OEVGDdUWX5O7YsQP9+/cHABw6dAibNm1CUlISxo8f79Hi6lJtPboppTMuqOQyNAvQ1UdJRERV2rZtG5RKJYYOHSpte+6553jBGRFRLVyeR7fMu+++i3nz5gEAcnJyMHXqVBw9ehT//e9/8dZbb3m8wLoiE+Q1Pl42opsY4g+ZjL9MiMg7nn/+eUycOBGzZ89GTk6OtJ0hl4iodm4H3Q0bNuDdd98FAGzZsgWxsbFYs2YN/vvf/2LLli0eL7AuyAVFrb8kOLUYETUEZdM2CoKAM2fOeLkaIqLGxe3WhezsbLRv3x4A8Pvvv+PGG28EACQkJCAzM9Oz1dUBmSBHi4gute4nLRYRyhkXiKj+2Gw2yOXl7zhdf/31WLp0KUaOHIng4GAvVkZE1Pi4PaKr1+uRk5ODoqIi/P3339JoQ05ODlQqlccL9DStUo9+rW6tcR+LzY6zuQYAjtYFIqL6UPYzdefOnU7bJ02axJBLRHQF3B7Rve666zBt2jTIZDLEx8ejQ4cOKCkpwcsvv4zevXvXRY0epZRrat3nbG4x7KJjzl22LhBRfSguLsbEiRORnZ2N++67Dzt27IBOxwthiYiuhtsjuvPmzcPIkSPRv39/rFixAgBgt9uRm5uLZ555xuMFepaA3gk317pXSg6nFiOi+uXn54dXXnkF/v7+eOSRR6DVar1dEhFRo+f2iK5KpcLMmTOdtmm1Wrz//vseK6ounc87AoMtB0kRXavdp+JiEWxdIKK6YLPZsGvXLvTq1Uvaduutt2LQoEEIDw/3YmVERE2H2yO6drsdb7/9Nq6//nq0a9cO7dq1w/Dhw/Hhhx/WRX0ed+ji/+H4pb9q3KdsxoUwPzUCNA2/75iIGpeUlBSMGDECo0ePxsGDB6XtgiAw5BIReZDbI7rLli3Dxx9/jJtvvhktW7aE3W7H8ePHsXTpUqjV6ga+aISj77bW5X9LWxfYtkBEdcFut+PgwYOwWCxYsWJFo5qDnIioMXE76G7evBnvvPMOunfv7rT9+uuvx8svv9zAg66Dopblf1NLg24C2xaIqA4kJSXhpZdeQm5uLubOnevtcoiImqwrmke3a9fK/a29evVCWlqaR4qqa3J5zSO65/McU4vFBvnVRzlE1ISJoohPP/0Uoihi4sSJ0vZp06Z5sSoiIt/gdtBt1qwZDh48iE6dOjltP3ToEMLCwjxWWF1S1NC6YLbakF5kBADEBnFqHyK6Os899xyWL18OPz8/XHPNNUhMTPR2SUREPsPtoDtmzBjcd999mDJlClq1agUAOHbsGNasWYNbbrnF4wXWBZlQ/dNOyzegdApdNA/kiC4RXZ1bb70V7777LiIjI1FYWFj7AURE5DFuB92ZM2fCZrPh/fffR15eHgDHaml33HEHHnjgAU/XVydkMnm1j53PN0i3OaJLRO4qLi6Gn1/5H8mdO3fGJ598gmuuucZpOxER1T23g65cLsfs2bMxe/ZsFBYWoqSkBKGhoRAEoS7qqxMyofqgey6vYtDlLyUict0PP/yAuXPn4qWXXsLNN5cvTnPdddd5sSoiIt/l1jy658+fx6efforPP/8cOTk50Ov1CAsLa1QhNyG0C6KDkqp9PK006CrlMkT4175cMBERAJjNZjzyyCO4ePEiHn30URQUFHi7JCIin+fyiO6BAwcwadIkiKIIu92OxYsXY82aNUhKqj40NkTJEX0QHZxQ7ePn8ooBAM0DtZDJGk+AJyLvUqlUeOutt3D33Xdj8eLFCAgI8HZJREQ+z+UR3WXLluHmm2/G7t27sXv3bgwePBhLliypy9rqhLyWOXTLenRjeCEaEdXAZDLhyy+/dNrWv39/7N69GyNGjPBSVUREVJHLQXf37t2YO3cuFAoFVCoVHnzwQezbt68ua6sDAvxUwTXucb50RDeGF6IRUTVOnDiBIUOG4M4778QPP/zg9JhWq/VSVUREdDmXg67ZbEZISIh0Pzw8XJp1oTHZdfZrXMw7Ve3jZRejxQQy6BJR1YKDg5GVlQUA2Lhxo5erISKi6rjco9uYLjirnojT2bsRERRb5QVpJVYbMopMADjjAhFVLywsDEuXLsXFixcxdepUb5dDRETVcHt6saaguunF0irModucrQtEBMBut+Odd95BcXExHn/8cWn7jTfe6MWqiIjIFS4HXbPZjPHjx9e67dNPP/VMZXWouqB7nnPoEtFlXnjhBSxduhQymQyDBw9Gz549vV0SERG5yOWgO3bs2ErtC411zfbqVkYrm1oMYI8uETnMmDED77//PpKSkqDX671dDhERucHloPvaa6/VZR31qrbWBS4WQeS7MjIyEBoaCrnc8XMiJiYGX375Jdq1awelUunl6oiIyB1urYzWVFQXdMtmXOBiEUS+6fPPP0efPn3w9ttvO23v3LkzQy4RUSPkm0G3mtYFaQ5dLhZB5HNsNhvefvtt5OXl4bXXXkNmZqa3SyIioqvkm0G3mhHd9ELH1GLRAZzwncjXyOVyLF++HK1bt8b69esRHh7u7ZKIiOgq+VzQ7R43CkHaiCofu1hoBABEMegSNXkFBQVYuXIlRFGUtrVp0wa///47+vXr58XKiIjIU654Hl2LxYJLly4hNjbWk/XUuaSwbtCpK8+oIIoiLhU4gm60nkGXqCk7duwYbr/9dpw7dw46nQ6TJk2SHpPJfO7vfyKiJsvtn+gmkwlPPPEEunbtiuHDhwNwjIzMmDEDBQUFHi+wvuQazTDb7ACASAZdoiYtNjYWarUaALBr1y4vV0NERHXF7aC7cOFCHDlyBIsWLZKm3wEcF3IsWrTIo8V5XvUzKZSN5gLs0SVqiiq2KOh0Orzzzjt477338Oabb3qxKiIiqktuB91vv/0WS5cudVr+MiAgAK+++iq2b9/u0eI8T8QvJz9GcUl+pUcuVgi6UQGcQ5eoqTCbzXj55Zcxe/Zsp+3du3fHzTff7KWqiIioPrjdo1tcXIyEhIRK20NCQmAwGCof0MBcKjgFu2irvL2wwoguWxeImoxFixZh8eLFAIDhw4dj1KhRXq6IiIjqi9sjunFxcfjzzz8BOL8VuG3bNjRr1sxzldWhqqYXK2tdkMsEhPqp67skIqoj999/P5o1a4b+/fujU6dO3i6HiIjqkdsjuhMnTsScOXMwbtw42O12rF69GgcPHsS3336Lp59+2q1zpaWl4fnnn8e+ffug0+kwYsQIPPLIIzVe9Zyeno4bb7wRd911F+bMmeNu+QCqCbqlc+hG+Gsg51XXRI3W6dOnERUVBZ3OMbtKYGAgtm7diubNm3NGBSIiH+P2T/077rgDTzzxBHbu3Am5XI4VK1YgLS0NixYtwoQJE9w615w5cxAZGYnvv/8eq1evxvfff48PP/ywxmNeeuklp4vgrkRVK6OVtS7wQjSixkkURXzwwQcYOHAgXnjhBafHYmNjGXKJiHzQFc2jO27cOIwbN+6qPvCBAwdw9OhRrF69Gnq9Hnq9HlOnTsWHH36IadOmVXnMzz//jJMnT2LQoEFX9bFral3g1GJEjdf//d//wWAw4IMPPsDs2bMRExPj7ZKIiMiL3A66mzZtqvHxm266yaXzHDp0CM2bN0dgYKC0rX379khJSUFRURH8/f2d9jeZTHjhhRfw8ssv11pDbUpMJbAIVqdtF/KLAQDhOmWjuKiOamY0Gp3+p6bNaDRCEAS88MILKC4uxvz58xvNBbLkPn5/+xa+3r5FFEUIQvXTwbrL7aA7b968qk+kUECj0bgcdPPy8hAQEOC0rSz05ubmVgq6y5cvR5cuXdCnT5+rDrpHjxyr9EksC7pyUxGOHDlyVeenhiM1NdXbJVAdyc3NxWeffYZp06ZBoXD8KCsuLpbaFvh93PTx+9u38PX2HSqVymPncjvo7t+/3+m+zWbD6dOnsXLlSkyZMsWtc1WctaEmJ0+exIYNG/Dll1+6df6qCJChXbt2TttKrDYUmA8DADokxqBt26Sr/jjkXUajEampqUhISIBWy3aUpub06dO49957kZ2djZiYGNx77718vX0Iv799C19v33LixAmPns/toFtVym7fvj2effZZTJ8+HZs3b3bpPCEhIcjLy3PalpeXB0EQEBISIm0TRRHz58/HnDlzEB4e7m65lxEwoOUE6WrsMpk5RdLt2NCASo9T46XVavl6NkFt27ZF69at8ccff6C4uFj65cfX27fw9fYtfL19gyfbFoArvBitKgEBAThz5ozL+3fo0AEXL15ETk6OFGwPHDiAli1bws/PT9rvwoUL+Pvvv3HixAksXboUAGAwGCCTyfDjjz/iiy++cKvOqIDKo7VcLIKo4TObzdIf2nK5HMuXL0dKSgoGDx7MXlwiIqqS20F3x44dlbaZTCZ88803iIqKcvk87dq1Q8eOHbF48WI8+eSTSE9Px+rVq3HXXXcBAG688Ua89NJL6Nq1K37++WenY1999VVERUVhxowZ7pZfJeflfxl0iRqSoqIizJ8/HydPnsTGjRulacISEhKqXKWRiIiojNtBd8aMGRAEoVJ/bVBQEF577TW3zrV06VI8++yz6NevH/z9/TF+/HhMnDgRAJCSkgKDwQC5XF4pQGu1Wvj7+3uglcGhbLEIAIjiiC5Rg/L+++/j/fffBwCsXr0a06dP93JFRETUWLgddH/44YdK2zQaDUJCQtzuq4iKisKqVauqfOzYsWPVHuduoC4n4ucT/8PwzjOdtpbNoRugUUKn8lg3BxF5wKxZs/DZZ58hISEBY8aM8XY5RETUiLid6j744AO3l/ptSAzm/Erbynp0OZpL5H379+9HdHS09I6NSqXCl19+iYCAAI9fpEBERE2b22tibt26Ffn5lcNiY1Hlqmhc/pfI60RRxKJFi3DdddfhkUcecWqPCgwMZMglIiK3uT2i+/jjj+PJJ5/EuHHjEBsbC6VS6fR4YmKix4qrCzUv/6up73KIqJQgCEhPT4fVasWPP/6IlJQUtGjRwttlERFRI3ZFQRcAfvzxR6cRlrIl2xr6akSCUHkQmyO6RA3D/PnzUVBQgCeeeIIhl4iIrprbQfejjz6qizrqjUzmPKIriqI06wJ7dInqz9mzZ/Hyyy9j4cKF0nLgfn5+ePfdd71cGRERNRUuB93OnTtj37596NWrV13WU+dkl43o5hjMsNjsADiHLlF9OXfuHPr374+ioiKoVCosW7bM2yUREVET5PLFaJfPm9tYXd6je7GgfEUljugS1Y/Y2FgMGzYMcrkc0dHRTebnCxERNSwuj+g2lSueLw+6FReLYI8uUd3Jz89HYGCgdH/hwoW499570b17dy9WRURETZnLQddms2H9+vU1jrwIgoDbb7/dI4XVDQHdYoc7bXFa/pcjukQel5OTg0cffRRHjhzBTz/9BI3GMbtJcHAwQy4REdUpl4Ou1WrFc889V+M+DT/oAjpVoNP99NIZFxQyAaE6tTdKImrSvv76a2zatAkAsGzZMjz22GPeLYiIiHyGy0FXrVZj3759dVmLV5RNLRap10ImaxrtGUQNyaRJk7B582Y0b94cs2bN8nY5RETkQ9yeXqypKWtdiOJiEUQesWPHDkRFRaFly5YAHO/0fPLJJ1CpVF6ujIiIfI2PzbogYu/5b522lLUucGoxoqv3/PPPY8yYMbj33nthtVql7Qy5RETkDS4H3bFjx9ZlHfXm8rxePqLLoEt0tcoWfjh9+jROnDjh5WqIiMjXudy68OKLL9ZlHfXm8gUjyqYX49RiRFdvzpw5yM/Px6xZsxAVFeXtcoiIyMe5PKLbVFScR9dosSLPaAbAEV0idx0+fBg33XQT0tLSpG0KhQLz589nyCUiogbB94KurDzopldYLII9ukSuy8jIwPXXX49ffvkFDzzwQBPp4ScioqbG94KuUDHoli8WEenPWReIXBUREYEZM2ZAo9Fg6NChDLpERNQg+dz0YkKFHt1sg1m6HcagS1QtURRx/vx5xMbGStuefPJJTJo0Ca1atfJiZURERNXzuRFdAeWLQmQXl0i3Q7Sc/oioKhcuXMBtt92GYcOGIScnR9qu0WgYcomIqEHzvaBbYUQ311AedIN1DLpEVTl06BB+/PFHpKenY8mSJd4uh4iIyGU+1rogoGV4T+ledmnQDdKqIJf5XOYncsn111+PqVOnIiAgAE8++aS3yyEiInKZjwVd53l0c0p7dEN1am+VQ9TgfPPNNwgNDUXv3r2lbYsXL4YgCDUcRURE1PD4XNCtqKxHN9SPbQtEADBv3jysXLkSCQkJ+OWXX+Dv7w8ADLlERNQo+dz79Ta7VbqdU9q6EMwRXSIAQLdu3QAAJSUlOHv2rJerISIiujo+NqIr4kzOAXTw7wegPOiydYF8ld1uh6xCf/ptt92G/Px83H777QgMDPRiZURERFfP50Z0K74FW3YxWghnXCAf9Oeff6J///44dOiQtE0QBNx9990MuURE1CT4XtAFL0YjysvLw2233YajR49i1qxZsFgs3i6JiIjI43wv6JaO6FpsdhSYHL/cQxh0yccEBQXhmWeegV6vx/333w+Fwse6mIiIyCf4XtAtXRmt4mIRIX4MutS0Wa1W7Nu3z2nbjBkz8Oeff2L8+PGcVYGIiJok3wu6pb/Qs0vbFgD26FLTdvLkSQwfPhyjRo1CSkqKtF0mkyEqKsqLlREREdUt3wu6pU85p8KILnt0qSkrKirCvn37UFxcjHfffdfb5RAREdUbn2vMk0Z0iysEXbYuUBPWpUsXPPnkk5DJZJg9e7a3yyEiIqo3Phd0ZYLjKWdX7NHliC41EaIo4uOPP0ZQUBBGjRolbX/ooYe8WBUREZF3+FjQFRAd2BIAkFvaoyuXCQjUKL1ZFJHHPPbYY3j//fcREhKCnj17IjIy0tslEREReY3P9eiWKRvRDdaqeMU5NRljx44FAISEhCA7O9vL1RAREXmXj43oluPyv9QUGI1GaLVa6f6AAQPw0UcfYciQIdDpdF6sjIiIyPt8bkTXYnME3LKL0difS43Vd999hx49euDHH3902j5q1CiGXCIiIvhc0BWRa7gAoLxHN8SPc+hS41NcXIzZs2fj4sWLmDt3LoxGo7dLIiIianB8LOhWnkc3WMsRXWp8/Pz88MYbbyAiIgKLFi1yal8gIiIiB58Luii98CzfZAEABGk54wI1fEajEd99953TtpEjR+Kff/7BjTfe6KWqiIiIGjafC7oCyoKuo3UhUMPWBWrYDh8+jMGDB2PChAn4559/nB7z9/f3UlVEREQNn+8FXUGAKIrSiG4A59ClBk6v1+PChQuw2+1Yv369t8shIiJqNHxuejEBMhgtNtjsIgAGXWr4YmNjsWjRIhiNRkyZMsXb5RARETUavhd0BUFqWwDYukANi81mwzvvvAOVSoWZM2dK22+//XYvVkVERNQ4+V7QhYB8o0W6H8iL0agBmTdvHt577z2o1WoMGDAAbdu29XZJREREjZbP9ejKZSqnEd0ANYMuNRzTp0+HWq1G27ZtoVD43N+hREREHuVjv0kF6DUhKMjMk7YEatm6QN6TlZWF0NBQCKXT3rVp0wabN29G165doVTyjzAiIqKr4XMjukD5HLoAEMiL0cgLRFHEhg0b0LNnT3zyySdOj/Xq1Yshl4iIyAN8NOjyYjTyLrPZjIULFyI/Px/PPPMMCgoKvF0SERFRk+NzQddqM6OgdERXEAA/lY91b1CDoFarsXz5ciQlJeGTTz5BQECAt0siIiJqcnws6IoosRqkoBugVkImE7xcE/mCgoICrFmzxmlbz5498ccff+Caa67xUlVERERNm88NZ1acR5cXolF9OHToEMaPH4+0tDSEhoZixIgR0mOcWYGIiKju+NiILoAK8+hyajGqDzExMbDb7QCAX3/91cvVEBER+Q6fG04SBJk06wJnXKC6IoqiNGVYYGAg3n77beTl5WHs2LFeroyIiMh3+F7QhYCC0taFALYukIeVlJTg9ddfh9lsxosvvihtv/baa71YFRERkW/yvaArCNLFaBzRJU97/vnnsWLFCgDAsGHDMGDAAC9XRERE5Lt8rkdXQHnrQgCDLnnY3LlzERwcjIEDByIxMdHb5RAREfk0nxzRlWZd4GIRdJVSUlIQExMjrWQWFRWF7du3IzExETKZz/0dSURE1KD42G9iATJBztYFump2ux0rV65E//798eabbzo9lpSUxJBLRETUAPjcb2O7KIPRYgPAEV26cqIoYvPmzTAajVi6dCmys7O9XRIRERFdxueCbll/LgDoOaJLV0gul+Ott95C79698e233yI0NNTbJREREdFlfC7oFput0m292udalOkKpaen47XXXpMWfgCAxMREfPPNN2jfvr0XKyMiIqLq+FzSKyoxS7f9uTIaueDQoUMYO3YscnJyEBISgpkzZ0qPlS0KQURERA2Pj43oik4jun4qn8v5dAVatmyJ6OhoAMCFCxe8XA0RERG5yueSnsHCoEu1s1qtUCgcXx9qtRrvvvsuMjMzucIZERFRI+JzSa/YbJNuM+jS5YqKivDss88iJycHH3zwgdSa0K5dOy9XRkRERO7yuaRXMej682I0usySJUvw4YcfAgA2btyIcePGebkioqsjiiIsFgtsNlvtOzcSJSUl0v/sk2/6+Ho3HXK5HEqlsl5fRx/r0WXrAtXsgQceQEJCAsaMGYNBgwZ5uxyiq2K1WpGVlQWz2Vz7zo2ISqVCYmIiVCrOhe4L+Ho3HWazGVlZWbBarbXv7CE+l/QqBl2d0ueePl1m3759SExMREBAAADA398f3333HUJCQjhyQI2aKIrIzc1FWFhYk/taLhud1mg0kMvlXq6G6hpf76bFz88PWVlZ9fazyedGdItLHN8wOpUcMlnT+uFPrrPb7ViwYAGuv/56PPPMM06PhYaGNrlgQL7HYrFAq9Xya5mIGhRBEKDVamGxWGrf2QN8L+iWLv/LtgXfJpPJcPz4cVitVnzxxRecNoyaHJvNxtEvImqQ5HJ5vV034GNpT4ChdB5dBl1auHAhrFYr5s+fj2bNmnm7HCIiIvIwHxzRdSzh6q/iqmi+JDU1FXPnzoXJZJK2hYSE4MMPP0RiYqIXKyMiIqK64tWgm5aWhpkzZ6J3794YPHgwFi5cCLvdXuW+a9euxQ033ICuXbti7Nix+P7776/oYxaXcETX1xw7dgwDBgzA//73P7z66qveLoeImgiDwYApU6agc+fO2LVrl1vHJicn45dffqmjyoiojFeD7pw5cxAZGYnvv/8eq1evxvfffy/NYVrRt99+i8WLF+OVV17BX3/9hUmTJuHBBx/EuXPn3P6YxRYGXV/TunVr9OrVC3K5HH5+ft4uh4hqMWTIELRv3x4dO3aU/g0ZMgSvvvoqiouLnfY9ePAgZs+ejT59+qBz58647rrr8Prrr6OgoKDSeXfs2IGpU6eie/fu6Nq1K0aPHo3Vq1dXO8BSm99++w179uzBTz/9hO7du1/ROerTN998g9GjR6Nr16645ZZbsGPHjmr3zcvLw4MPPoi+ffuif//+ePrpp53eEXPFG2+8geTkZGzdurXSY0OGDMHatWsrbf/ll1+QnJzstC0jIwMvvfQSBg8ejE6dOmHgwIF48sknPXptxZEjRzBp0iR0794dw4YNw/vvv1/tvkVFRXjhhRcwcOBAdO3aFbNnz0ZOTg4A4O+//3b6uu3YsSM6dOhQ6TlR/fFa0D1w4ACOHj2KRx99FHq9HgkJCZg6dSrWrVtXaV+TyYSHH34Y3bt3h1KpxG233QY/Pz/s3bvX7Y9b1qOrY9BtskRRRFFRkXRfEAQsXboU27dvx+OPP+7FyojIVc888wwOHDiAAwcOYP/+/Xj33Xfx22+/YcGCBdI+v//+OyZNmoROnTph27Zt2Lt3L959912cPHkSEyZMcPo5sGHDBsyZMwdjxozBjh07sHPnTjz++OP48MMP8eSTT15RjUVFRQgICEBISMhVP9+6duTIETzxxBN49NFHsXPnTkydOhWzZ8/GpUuXqtz/2WefhdFoxFdffYXPP/8cp06dwqJFi1z+eDabDV988QVGjhyJzz///IrrvnTpEm677TaYzWb873//w759+/DRRx+huLgYt956KzIzM6/43GVMJhPuuece9OnTB7/++ivefPNNvPvuu9i+fXuV+7/yyivYvXs3Pv74Y/z666/Q6/WYN28eAPx/e3ceV2P6P378ddpLWRIhS9ZsrShLqBhKKGTJDMPHvo59GZnBZGdsYx1jG8ZSmSwNRsiQnUmhzEhDsqsk7Z3790e/7q/jhLJFXc/H4zw4933d9/W+z3U6532u+7qvmyZNmsjv29zHyJEjcXNze+c4hbdTaNne1atXMTMzo1SpUvKyBg0aEBMTQ3JyMoaGhvJyDw8PlW2TkpJ4/vw5pqamBaxV4llaznQW+poKUlJS3jp+4dMUHx8v/9KfO3cuqampAJQpU4YyZcqINi+icts5918h5y5SOjo6n+Ud0SRJQqlUqsReo0YNBgwYwIIFC/juu+9QKpXMnDmT3r17M2DAACBn2kBzc3OWLVtGhw4dWL16NePGjSMpKYk5c+Ywbtw4le+T5s2bs2TJEvbu3UtqamqeNyQIDg5m5cqV3L59mzJlyvD111/Tp08f/P39mTVrFllZWVhaWrJ+/XoaN26ssm18fDyzZs3i1KlT6Onp0aVLF8aMGSNP+ZZ7jAkJCcycOZMLFy6QmZmJjY0NM2bMoGLFigCsX7+e7du3k5CQQIUKFRg6dCidO3dGqVSycOFCgoKCeP78OVWrVmX8+PE4OjqqHceuXbto1aqVvM7d3Z1ff/2VwMBABg0apFL28ePHBAcHExAQIH9HDx06lLFjxzJhwgS0td98jcuxY8fQ0NBg7NixuLq6EhcXR4UKFV7bxrmvCfzf3LkLFy7E1NSUWbNmoauri1KppEqVKixatIhZs2Zx7949tR8ae/fu5bvvvsszrlmzZtG5c2eVZUePHiUzM5PBgwejqalJ3bp18fLyYufOnbRp00ZtH0ePHmXy5MnyRcxTp06ladOm3Lt3j/Lly6uUvXv3Lhs3bsTf3/+z/Fv8UJRKJRkZGUiSpLZOkqT3Oi1ioSW6iYmJ8iT9uXL/oBISElQS3RdJkoSPjw/W1tbY29sXvN6UnFMvGSnPiIyMLPD2wqfN39+foKAgAPbt24enp2fhBiR8VP/9919hh/BJyetCy6dpmfzz6NlHi6FOOSNK6RXs4l9JksjKylI7VZ6SkoIkSaSnpxMVFUVsbCzdu3fP85S6l5cXv//+O8OHDyckJISsrCw6deqkVrZOnTpMmDABpVKptu6ff/5h3LhxzJ8/H0dHR/7++2/GjBlDxYoV6dixI0qlkhUrVnD48GEAte19fHzQ0tLijz/+ICkpiYEDB2JqakrXrl2BnLtEpaWlMX/+fJKSkti3bx+SJDF58mRmz57NokWL5B7MzZs3U6FCBc6cOcOECRNo3LgxZ8+e5dSpU+zcuZOSJUuyf/9+pkyZwoEDB9SS0YiICFq2bKkSo4WFBZcvX1aLOzw8HA0NDapWrSqvq1mzJikpKURFRVG7du03tuGuXbtwdXXF2NgYGxsb/P39GThwoLz+VW2cexe/tLQ0srOz5aQS/u9WwLlye+Jf3ke7du1o167dK2PL63hr1apFZmamPLdrrVq18PPzy/O9lVfs2traRERE0KJFC5WyS5cupXPnzhgbGxd46EdRlp6eTkxMzCvXv8+74BXq+fu8MvnXyczMZMqUKdy4cYMtW7a8VZ1Z/3+0hll5E+rVq/dW+xA+XVOnTuX8+fPUrl2bdu3aYW5ujr6+fmGHJXxgqamp/Pfff6K9X5Dbo6unpycve5qageWSgySmfpyJ2gFK62vz7xQPSunn/4tLoVCgpaUlx65UKrl+/TpbtmyhU6dO6OrqEhsbi76+PlWrVs1zH7Vq1eLu3bvo6ury4MEDzMzMMDIyKlDsQUFBNG3aVD7t3KpVK1q3bs2RI0do27atnEy++BrnSkxM5K+//mLXrl2YmJhgYmLCjz/+qHJcue2T2zNsYGAAwBdffMHatWvR09MjLS0NTU1NSpcujb6+Ps7Ozpw/fx4NDQ3S0tLQ1taW1/Xs2ZPu3bujoaE+KjEpKQljY2OVWI2NjYmJiVGLPyUlBSMjI5W/pdyeypSUlDyP90WPHj0iNDSUcePGoaenh6enJ2vXrmXEiBFyT93LbZwrN8HR09Pj0aNHpKSkyIm1rq7uB7kBSnJyMqVLl1aJxcTEhKdPn6Kjo6P2ejo5OfHrr7/i4OBAmTJlWL9+PZIkqb02cXFxHD16lAMHDrzxNSuOatSoga6urtryf//9973WU2iJrrGxMYmJiSrLEhMTUSgUeY53SktLY/jw4aSmprJt2zbKlCnzVvWm/P8bRpQuoSd/qAifrxMnTlCjRg3MzMzkZfv370epVBIZGYm+vr5o52JEtPf/yU0IXrxpRM7/P/ad0hRoamoW6OYVCoWCOXPmMG/ePCAn0dXX16dPnz4qyVJ2djYaGhp5Jj+5yzU1NdHQ0ECpVBb4BhpxcXHUqlVLZTtzc3MuXbok7ze3jpfdvXsXpVJJtWrV5PUvX7CmoaGBpqYmd+7cYd68eYSHh5OWloZSqaR06dJoamri6OhI/fr1adu2Lc2aNaNVq1Z4eHhgYGBAx44d2bt3L87OzrRo0QInJyfc3d3zjEehUKjFmtey3LgkSVJZntsxlRvz6+zdu5c6depQt25dANzc3PD19eXChQs0bdpUrjuvfeUmlZqammhp5aQoucMZXvVav6u8XgdNTU2V98+Lvv32W2bPnk2PHj3Q09Ojf//+VKlSBR0dHZV9bN++nXbt2qkM2RByaGhooKenl2fHxPv+MVNoiW7Dhg25d+8e8fHxcmIbERFBrVq11K6MlySJsWPHoqWlxaZNm/L8BZBfz8UNI4oESZKYNm0aa9aswcXFBT8/P/mPQ09PT4zFFYQ8lNLX4ea0LkQ9fPrR6qxbvlSBenNz+fj44O3tDeTMljBixAg8PDzQ0tIiOzsbc3NzMjIyiI2NzbNXNyYmBnNzcxQKBebm5sTFxZGSklKgH0K5p9Fflp8v4tzk6E0zOiiVSoYMGUKjRo04dOgQxsbG+Pn5sXTpUiCnh3PNmjVERUVx5MgRtm3bxoYNG9i9ezelS5dm165dXLp0iWPHjrF8+XK2b9/Otm3b5CQxV5kyZfLsXMqrY8nY2Jjk5GSVu+vlblu2bNk3HntAQAB37tzB1tZWXpaRkUFAQICc6Gpra+d5Kj85OVn+ji9btixGRkbcuHGD+vXrv7HeXIGBgUyfPj3PdT/88IPakDZjY2O1YU+JiYmULl06z97xUqVKsWDBAvm5JEksW7ZMbXzuoUOH5GEXQuEptGyvfv36WFpasnjxYqZOncqDBw/YuHEj//vf/wBwdXXF19eXxo0bs2/fPm7cuMHevXvfKckFSMvK+dARie7nLfe0F0BYWBi3bt3C3Ny8cIMShM9AKX0dHKqVK+wwCsTR0ZE2bdowffp0edhanTp1MDc3Z8uWLfj4+KiUz8rKYteuXXJC07x5c/T09NiyZQtDhw5VKfvPP/8wZswYduzYoXbdSNWqVbl586bKsps3b1KlSpU3xmxmZoaGhgYxMTFywnfmzBlSUlJwcXGRyz1+/Ji4uDiWLl0qJ53Xrl2T12dmZpKenk7dunWpW7cuQ4YMoUOHDpw6dQonJyeUSiV2dnbY2dkxbNgwWrRoQVRUFA0bNlSJp2HDhly5ckVlWUREBO7u7mqx16tXD0mSiIqKokGDBnLZkiVLvvEGO+fOnePOnTvs3LlTZajIxYsXmTlzJt999x1GRkZUr16dq1evqm3/999/U6dOHSDnc/6LL75gy5YtanFmZ2czcOBAevbsiaurq8o6T0/PAl2f0bBhQ7Zv305WVpb8vRIREYG1tXWe5c+fP4+uri5WVlZAzndQdna2SjIeGRlJXFyc2phd4eMr1Hl0ly9fzsOHD2nRogV9+/bF09OT3r17Azm/xnN75QICAoiLi8Pe3l5lbrqXP9wKQkwv9vn79ttvGTx4MKGhoSLJFYQi7ttvvyUqKkqeglKhUPDdd9+xa9cuFi1aRHx8PJIkER0dTf/+/TEyMpJnYzA0NOTbb79lxYoVrF27luTkZDIyMjh+/DiDBg3C2dlZLckF6Ny5M6GhoRw7doysrCxOnDhBSEhIvpKo0qVL06ZNG1auXEliYiJ3795l+vTpPHjwQKWcsbExBgYGhIWFkZ6ezr59+4iMjCQ5OZnnz5+zYcMGBg0aJE8DFh0dzdOnT6latSqzZ89m8uTJ8rFfvXoVpVKZ5y3Ne/TowalTpwgJCSE9PR1/f3/+++8/eQaCw4cPy9+/xsbGtG/fnqVLlxIfH8/9+/dZuXIlXl5eciL49ddf88cff6jV4+fnR8uWLWnYsCHVqlWTH507d8bIyIj9+/cDMHDgQA4ePMiOHTtISUkhJSWFgIAAdu7cKU/VBTBmzBiSk5MZMWIE//33H5IkERMTwzfffMP9+/dp1qzZG9viTVq3bo2hoSGrV68mNTWVy5cv4+/vL59RePDgAa6urvLc/WfOnGHq1Kk8fvyYJ0+eMGfOHHr16qVytuDatWuULl36lRfWCx+RVEyEh4dLp86FSBrjtkga47ZIOy7FFHZIQgFcuXJF8vLykuLj4/NV/vnz59KFCxek58+ff+DIhE+BaG91KSkpUkpKSmGH8VacnZ2l3377TW35b7/9JtnZ2UlxcXFScnKylJWVJYWHh0tDhgyR7O3tJUtLS6lt27bSokWLpGfPnqltf/z4cemrr76SbG1tJTs7O6lr167S77///tpYdu/eLbm7u0s2NjZSx44dpQMHDsjrAgICpObNm79y26SkJGnUqFGSjY2N5OjoKC1atEjKzs6WJEmS6tSpIx0/flySJEkKDAyUWrRoIdnZ2UnTp0+XHj58KLVr105q3ry5lJ6eLn333XeSg4ODZG1tLbm6ukq7du2SJEmSEhMTpW+++UZq3LixZGNjI3l4eEiHDx9+ZTyHDh2S2rVrJzVo0EDy8PCQzp0798pjSUpKksaOHSvZ2NhITZo0kWbOnCmlp6fL652dnaUdO3aoHa+VldUrY1iwYIHUrVs3+fmlS5ek/v37S/b29pK9vb3Uu3dvKSQkRG27uLg4adKkSVKLFi0kS0tLydnZWZo9e7aUkJDwymMtqOvXr0u9evWSGjZsKDk5OUnbtm2T18XGxkp16tSRbty4IUmSJKWlpUkTJkyQ7OzsJHt7e2nWrFkqr40kSdKaNWskd3f39xZfUfO6z6fLly9L4eHh760uhSQVcOqDz1RERATJaQk47rgFwJ4BznSsX7mQoxLy4/bt29jb25ORkUHXrl1Zv379G7dJSUkhMjKSevXqiYuTigHR3upy5xQuirNQZGdnk5aWhp6e3ge5OEl4M39/fwwMDOjQocMHr0u0d9Hzus+n8PBwFAoFlpaW76WuQh26UJjEGN3PR9WqVenRowf6+vrY29sXeFo6QRAE4f0KCQn5LG57LAjFKtt7MT0yFInuJ0upVPLgwQP5rkAAvr6+jBo1Kl8TlQuCIAgf1k8//VTYIQhCvogeXeGTcufOHbp160bHjh1V7lNfsmRJkeQKgiAIglAgItEVPimnTp3i+PHjxMTEsHr16sIORxAEQRCEz1gxy/b+b/CCSHQ/Td27d+fAgQPUqFGD0aNHF3Y4giAIgiB8xopttmeoq13YIQjk3CqyVq1a8kTbCoWCX375Jc+70QiCIAiCIBREscwmNBQKdLWK5aF/UsaMGUO/fv0YOnSoyq02RZIrCIIgCML7UCwzihI6Wvm6V7nwYdWtWxeAhIQEbt++XcjRCIIgCIJQ1BTLRNdQt9iO2ChUL89/O3jwYGbMmEFoaCi1atUqpKgEQRDeTkpKCn379sXa2pqLFy8WaFsLCwv++uuvDxSZIAi5imWiKy5E+/jOnDlDq1atiImJkZdpaGgwevToPO8xLwhC8eXi4kKDBg2wtLSUHy4uLsydO5fnz5+rlL1y5QojR46kadOmWFtb07ZtWxYsWEBSUpLafk+ePEm/fv1o1KgRtra2dOrUiY0bN6JUKt8qztDQUP7++2+OHTv2Wdw8ITMzk/nz51O3bt03JtlxcXEMHjwYBwcHnJ2dWbhwYYFfp/Hjx2NhYUF4eLjaulcl+tu3b8fFxUVlWUxMDNOmTaNly5ZYW1vj4uKCr68viYmJBYrndU6fPo2Xlxd2dna4u7uzd+/eV5Z9/PgxEyZMoEWLFjRu3JipU6eSlpYGQGBgoMr71tLSkoYNG6odk/DxiERX+ODu37+Pp6cnV69eZcSIEW/9pSIIQvHh4+NDREQEERERhIeHs3btWkJDQ5k/f75c5tSpU3z11VdYWVlx8OBBwsLCWLt2LTdu3MDb21tlLm4/Pz9GjRpF586dOXnyJGfOnGHSpEls3ryZqVOnvlWMycnJlCxZEmNj43c+3g8tJSWF3r17k5iYmK+7S44aNQpTU1OCg4PZuHEjwcHBbN68Od/1PX36lODgYNzc3AgICHjruCMjI+nRowfly5fn999/59KlS6xcuZLr16/j7e0tJ5jv4uHDhwwfPpxevXpx+vRppk2bxvTp04mIiMiz/Pjx40lISGDPnj38+eefPHr0SH5fenp6yu/b3EeXLl1wc3N75ziFt1MsE11xV7SPq0KFCowdO5ZSpUrRv39/MT5aEIQCUSgU1K5dm0GDBnH48GEg5w6KM2fO5Msvv2Tw4MGULl0ahUJBzZo1+emnn0hNTWXt2rUAJCUlMWfOHCZMmEDXrl3R19dHV1eXli1bsnz5cgwNDVUuiH1RcHAwnTt3xsbGBhcXF7Zs2QLkJM4+Pj48fvwYS0tLzp8/r7ZtfHw8o0ePplGjRjg6OvLjjz/mmWTmlmvWrBmNGzdm0KBB3Lt3T16/bt06nJ2dsba2pn379uzZs0d+DebNm4ejoyM2NjZ07tyZEydO5HkcKSkpdOvWjblz577x9Y6IiCAqKooJEyZgZGSEubk5/fr1Y+fOnW/cNtfevXupX78+ffr0ISgo6K0T0lmzZtGiRQu++eYbTExM0NTUpF69eqxevRobGxsePnyots2qVavUelVzH3m10759+zA3N8fLywtdXV2aN2+Oi4sLfn5+amWfP3/O2bNnGTZsGCYmJhgbGzNlyhQCAwPzfA+Fh4cTEhLCsGHD3ur4hXdXrDI+iZwEy0Akuh9UZmYm//77rzxlGMC4cePo27evym19BUH4+DKy0niaqp4cfCil9Mujo6X3XvaVmZkp/z8qKorY2Fj69u2rVk5HR4devXrh7+/P+PHjOXnyJFlZWXTv3l2trJWVFVZWVnnWFxUVxTfffMOyZcto3bo1Fy5cYOjQoVSrVo3u3bujqanJ4sWLCQ0NzXN7Hx8ftLS0OH78OImJiXz11VdUrlyZHj16qJRbuHAhz58/58iRI0iSxJgxY5gzZw4rVqzg0qVLbNmyhV27dlGxYkVCQ0MZNWoUjo6OnDp1ilOnTrF3715KlSpFYGAgkydP5vjx42hrq06haWJiQq9evd74GgNcvXoVMzMzSpUqJS9r0KABMTExJCcnY2ho+MZ9+Pv706tXL+zs7ChVqhSHDh3Cw8MjX/XnevLkCZcuXcqzJ9nQ0PCVSfvw4cMZPnx4vuu5evWqyvcVQP369Tlw4MArt3mxw6ZkyZKkpKQQGxtLzZo1VcotWLCAoUOH5us1Ez6M4pXx/f8f0iXExWgfzPXr1xk+fDi3bt0iNDQUU1NTALS1tUWSKwiFLCMrDf/z88jIfvfTvfmlo6mHV5Mp75TsKpVKrl+/zs8//0ynTp0AiI2NRV9fX/6MeVmNGjW4c+cOkiRx584dzMzM0NHRKVC9AQEBNGvWjLZt2wLQrFkznJyc+OOPP2jduvVrt01ISODYsWMEBARgaGiIoaEhS5YsQUtL/ftn5syZZGVlYWBgAEDbtm1Zs2YNAM+ePUNDQwM9PT0UCgWOjo5cvHgRDQ0NkpKS0NLSQl9fH01NTbp160aXLl3eeYrGxMREtWsncpPehISENyZtERERREdH4+bmhkKhwMPDg4CAgAInurGxsQCYm5sXaLuCSkxMVHsflS5dmoSEBLWyJUqUoEmTJqxcuZKFCxeipaXFihUr0NLSUhszfPHiRf777z+8vLw+ZPjCGxTLoQtijO6H8/DhQ/7++2/i4+NZt25dYYcjCMJnytfXV+WUc58+fejQoQOTJk2Sy2RnZ79yvKkkSSq9bm9zbcCdO3fUeuiqVatGXFxcvrZVKpVUrlxZXmZra4ulpaVa2Vu3bjFq1CiaNGmCpaUls2bNkk+DN2vWjPr16+Pi4sKwYcPYvn27PAzA3d0dLS0tWrVqxZgxYwgMDCQ7O7vAx5mX/IzjfRU/Pz+cnJwoXbo0AB4eHpw7d05OXPMrt/0+tes6FixYgK6uLq6urnTv3h0HBwe0tbXVfsRs3ryZHj16oKurW0iRClDMenRz/2wNdcRd0T6Uli1bMnr0aMqWLVugU0eCIHx4Olo5vaufw9AFHx8fvL29gZzZEkaMGIGHhwdaWlpkZ2djbm5ORkYGsbGxVK1aVW37mJgYzM3NUSgUmJubExcXR0pKitxrmh+vGrebn+sMcntV35SkKZVKhgwZQqNGjTh06BDGxsb4+fmxdOlSIGcYxpo1a4iKiuLIkSNs27aNDRs2sHv3bkqXLs2uXbu4dOkSx44dY/ny5Wzfvp1t27bl2XOcX8bGxmq9k4mJiSgUijdeeJeamkpQUBDp6enY2trKyyVJIiAggDFjxgA5Z/nyGrf77NkzOTHMbdcbN24UaFaLVatWsXr16jzXbdiwgSZNmqgsK1OmjNrxJiQkvPJYK1asqLL/hIQEUlNTVXqFU1NTOX78OIMHD8533MKHUawSXQ1FTqorenTfD0mS2LJlC+bm5iqn8WbMmFF4QQmC8Fo6WnqUM1JPDD9ljo6OtGnThunTp8sXg9WpUwdzc3O2bNmCj4+PSvmsrCx27dqFp6cnAM2bN0dPT48tW7YwdOhQlbL//PMPY8aMYceOHWqn66tWrcrNmzdVlt28eZMqVaq8MWYzMzM0NDSIiYmRE74zZ86QkpKiMtXU48ePiYuLY+nSpXJide3aNXl9ZmYm6enp1K1bl7p16zJkyBA6dOjAqVOncHJyQqlUYmdnh52dHcOGDaNFixZERUXRsGHDN8b4Kg0bNuTevXvEx8fLMUVERFCrVi1KlCjx2m0PHjyIlpYW/v7+KkMo/vjjD3bu3Mno0aPR0NCgevXqXL16lXbt2qlsHxYWRp06dYCcBNTe3p5NmzapJbqpqal8+eWXTJs2TW1dQcfoWlpaqs0MceXKFaytrfMsHxISQpUqVeTe/tDQUCpVqkSFChXkMqGhoejp6dGgQYN8xyF8GGLogvDWRo4cydixYxkxYgRPnz4t7HAEQSjCvv32W6KiouQr/xUKBd999x27du1i0aJFxMfHI0kS0dHR9O/fHyMjIwYMGADkXLj07bffsmLFCtauXUtycjIZGRkcP36cQYMG4ezsnOd83p07dyY0NJRjx46RlZXFiRMnCAkJkRPo1yldujRt2rRh5cqVJCYmcvfuXaZPn86DBw9UyhkbG2NgYEBYWBjp6ens27ePyMhIkpOTef78ORs2bGDQoEHcv38fgOjoaJ4+fUrVqlWZPXs2kydPlo/96tWrKJVKKlWqVODXd+vWrYwdOxbIuRDL0tKSxYsXk5ycTHR0NBs3bpR72AFcXV25cOGC2n78/Pzo1KkT1atXp1q1avLD29ubJ0+ecPLkSQCGDBnCli1bOHToEOnp6SQlJbFu3TpOnz4t9/oCTJs2jcuXLzN16lTu37+PUqkkMjKSgQMHoqen98oLCQuiU6dOxMXF4efnR3p6OsePH+f48ePyRYPh4eG4urrKPfwHDx5k5syZJCcnExsby9KlS+nfv7/KPq9du4aZmZmYZegTUCwTXXFntPcjd17AEiVK5DnFiyAIwvtiYmLCuHHjWLhwoZwsNm3alG3btnHjxg3c3NywtrZm6NCh2NjY8Ouvv6Kvry9v361bN1avXs3Jkydp1aoVzZo1Y/ny5YwdO5aJEyfmWaetrS2zZ89m8eLFNGnShAULFrBo0SLs7e3zFfPcuXMxMDDA2dmZnj174urqSs+ePVXKaGlpMWPGDNatW0fz5s05f/48K1asoEKFCrRr147+/ftTp04dPD09sbGxYcyYMUyYMIF69eoxfvx4NDQ0aN++PXZ2dnKseZ1yf/FGBpDT62lpaSn3hickJKiMPV6+fDkPHz6kRYsW9O3bF09PT3r37i2vj4mJURt6cPPmTS5evEi3bt3U6s9N/HN7Tjt27MjSpUvZtGkTjo6OuLq6cvbsWTZu3Ej16tXl7erWrcuOHTtQKpV4eXlha2vLmDFjaNq0KRs2bFCbXeJtlC1blrVr17J161YaNWrEnDlzWLhwoXyb+tTUVGJiYuRxy5MnT0ZfX5+WLVvSq1cvPD096dOnj8o+Hz9+TLly5d45NuHdKaR3GXH+GYmIiOBZWjwtd9zmp672DGthUdghfXbS09PVBtX7+/vj7u6u8oXyKUhJSSEyMpJ69eoVaEye8HkS7a0uNTUV4JP723wfsrOzSUtLQ09PD01NzcIOp1hatmwZzs7O76VH9U1Eexc9r/t8Cg8PR6FQ5Hnh5tsolj26Yh7dgjt06BB2dnZq93P38vIqkl+kgiAIwqudP39e7vEUhE9ZsUx0xRjdgklISJDv1DN8+HCVSdsFQRCE4mfr1q0FnpdYEApDsUx0xRjdgilTpgyzZ8+mQoUK+Pr6vpcxUYIgCIIgCB9asUx0RY/u66WmpspXxub66quvOHPmDF988UUhRSUIgiAIglAwItEVVERERODk5ET37t25fv26vFyhUOQ5/Y4gCIIgCMKnqlglukopZz47Q11x6v1VtLW1uX37Nunp6Wzfvr2wwxEEQRAEQXhrxbJrU/TovlrdunXx9fVFV1eXL7/8srDDEQRBEARBeGvFMuMTiW6O7OxsVq5ciampqcok5rl3ExIEQRAEQficFcuMT19bTDgNMGrUKHbs2IGRkRHNmzfP1/3bBUEQBEEQPhfFaoyuhiLnJnA6msXqsF+pf//+aGhoULt2bTE3riAIn6VVq1bx1VdfFXYYgiB8oopdxqenpYFCoSjsMApFYmKiyvMmTZoQGBjIwYMHqVGjRuEEJQiC8A6GDx/O1q1bCzuMz96UKVOoV68elpaW8qN58+aMHj2a2NhYlbIPHz5k5syZ8i2Amzdvzvjx44mJiVHb782bNxk/fjzNmzfH2toaFxcXfH191b6PPlcnT57EwsKCmTNnqq2bMmUKY8eOVVuenp6OhYUFZ8+eVVm2atUq3NzcsLa2pmnTpgwaNIgLFy68t1gTExMZM2YMzZs3x9HRkWnTppGWlvbK8ps3b6Z9+/ZYW1vTrVs3rly5Iq+Lj49n4sSJNG/enCZNmtC3b1+uXr363mJ9n4pdolschy1IksSOHTuwsbHhjz/+UFnn6OiIllaxHMEiCIIgvMDV1ZWIiAj5sXfvXjQ0NBgyZAjZ2dkAPHjwAC8vL5KTk9myZQvh4eHs2bOHihUr4uXlxbVr1+T9RUZG4uXlRYUKFdi7dy+XLl1i5cqVXL9+HW9v79cmWZ8LPz8/3N3dCQoKIj09/a32kZWVxaBBgzh69CgLFizg77//JigoCGtra/r160doaOh7iXX69Omkpqayf/9+AgICiI6OZtGiRXmWDQwMZNmyZcyePZvz58/To0cPhgwZwvPnzwGYOXMmT548ISgoiNDQUGxsbBg8eLD8PvmUFLtEV1er+CW6ycnJ/PDDDyQlJTFhwoQi8eEiCELRZWFhQVBQEF27dsXKyorBgwdz//59BgwYgK2tLV5eXty9exeAFStW0KNHD3nbkydP0rlzZ2xsbPDw8OD06dMAnD17FltbWzZt2oSdnR1///03ADt27JB70VxdXdU6A1528uRJunbtiq2tLS1btmT58uUAREdHY2FhQVxcnFw2KysLBwcHgoKCAPjjjz/w8PDAxsaGNm3asHPnTrnslClTmDZtGn369KFjx44A3L59mwEDBuDg4ICDgwPjxo0jKSlJ3iYkJAQnJydsbW2ZOnUqy5Yto0+fPvL619WXHyYmJkyZMoXo6Gi5t3bJkiWYmpqycOFC+bqOcuXKMWHCBJycnFR6NmfNmoWjoyMTJ07ExMQETU1N6tWrx+rVq7GxseHhw4d51nv16lV69uyJjY0N7du358CBAwCcO3cOCwsLlYRy7NixTJkyBYDdu3fTsWNH5s2bh42NDatXr8bFxUVl39euXaNevXo8ePAApVLJ8uXLadu2rdxrefHixXy/PgkJCRw9epTRo0dTpkwZDh8+nO9tX/T7778TERHB2rVrsbS0RENDg7JlyzJy5EhGjx6dZ+93XFycSu/7iw8fHx+18o8fPyY4OJixY8dibGyMqakpw4cPJyAgIM+hi0ePHsXNzY3GjRujo6NDz549qVixIseOHQNy2qht27aUKVMGHR0dPDw8ePz4MY8ePXqr1+BDKnaJrp5WsTtkjIyMWL58OTVr1mTjxo3o6ekVdkiCIBSiR89uv/Hxomxl1hvLP0mOU9kmMytdbT8FsWPHDtasWcPevXs5ffo0gwYNYvz48Zw4cYLs7Gx+/fVXtW0ePHjAqFGjGDp0KOfPn+frr79mxIgRcqKQmZnJrVu3OHXqFDY2Nhw9epSFCxfyww8/cOHCBUaPHs3EiRNVbpbzopSUFEaNGoW3tzeXLl1i/fr1bNy4kaNHj1KzZk1q165NcHCwXP78+fOkp6fj7OxMREQE06ZNY+LEiVy8eJH58+czb948Ll26JJc/cuQI//vf/9i3bx8APj4+lC9fnhMnTnDgwAFiYmJYtWoVkDN8YNSoUfTr14+zZ8/SqFEjtm3bJu8rP/Xlx4tJkFKp5PDhwyrJ9Iv69u1LWFgYDx484MmTJ1y6dCnP8dOGhobMnTuXqlWrqq1LTU1lyJAhtGvXjnPnzvHdd98xdepUbt68ma94Hz58iK6uLufPn6d79+7cv3+fqKgoef3hw4dp3LgxpqambN68maCgINavX8/58+fx9PRk2LBhpKSk5KuuPXv2UK9ePczNzenUqRP+/v752u5lf/75J66urpQtW1Zt3eDBg3F3d1dbbmZmptL7/uLD19dXrXxkZCSamppYWFjIyxo0aEBKSsorX9uXh3mWKlWKyMhIAJycnAgKCuLhw4ekpKQQGBhIvXr1MDU1LdCxfwzF7px1cejRffr0KcHBwXTr1k1e1qZNG06dOoW2trhZhiAUd0GXV72hhIJ+jnPlZ6kZyW/cpoRuabo3mSI/j39+jwMRa+jnOO+tYnR3d6d8+fIA1KhRgwYNGlC/fn0A7O3tuXHjhto2Bw4coEqVKnTo0AGArl27oquri1KpBHKStt69e8s/9v39/enYsSONGzcGoEOHDmzYsIFDhw6pJAS5DAwM+OuvvyhRogQKhQILCwssLCy4cuUKLi4uuLq6EhwczNdffw1AcHAwTk5OGBgYsHv3bpycnHB0dASgcePGuLm5sWfPHuzs7ICc5MXZ2Vmub926dSgUCnR0dDA2NqZly5ZyonrmzBkMDAzo06cPmpqaeHl5qSRa+anvTR48eMDcuXOpX78+NWvW5MmTJyQnJ2Nubp5n+erVqwM5PdG53zW5y/Lr5MmTZGZm0q9fPzQ1NWnRogU//vgjenp6JCcnv3H7Z8+eMWjQILS1tTExMaFx48YEBwdTt25dIKdNvL29gZz279evn3w8ffr0YfPmzYSEhMjvodfx9/eX9+Xh4cHKlSu5c+cOlStXLtAxx8bG0qRJkwJtU1CJiYkYGhqqJK+lSpUCcnqmX+bs7MwPP/yAp6cnVlZWhISEcPnyZSpWrAjApEmTGDJkCC1btgRy3rs///zzJ3kNVLFLdPWKeKJ76dIl+vbty927dzE1NZU/5ACR5AqC8NnI/UIF0NXVVekp0tXVJSMjQ22b27dvqyUZL/eGVapUSf7/nTt3aNq0qcr6atWqqQw/eNmBAwfYtGkTcXFxKJVKMjMz5UTZzc2NVatWkZiYSKlSpQgODpZPI9++fZvTp09jaWkp70uSJJXPaDMzM5W6rly5wuLFi7l+/TqZmZlkZ2fTsGFDAB49ekSFChXQ1Py/77SGDRvKvdH5qe9lBw8elHukJUkiMzOTLl26MHPmTJUEJisrK8/tJSlnZiOFQiGXz/2RkV+3b99WOy4XFxfS0tJ4/PjxG7cvWbIkhoaG8nNXV1d27drFyJEjuXXrFtHR0bi6usp1zZ49mzlz5sjllUol9+7de2M9YWFh/Pfff7i5uQFQpUoVbGxs2L17N6NHj8738ULO6/Uxxrbmtk9+eHp6EhcXx6RJk0hOTsbV1ZUvvvhCbpfcISohISEYGRmxZcsWBgwYQFBQECVKlPgg8b+tYpfo6hbxoQuVKlUiNTUVyBlj87oPNUEQiid36+EFKq+vY/jGbTQUqp0IxiUqFrieF73cM6Sh8ebPbg0NjTcmVi9efJtXspxbd1xcnJwQAWzYsIGsrCxmzJjBokWL+OKLL9DW1qZ3795ymZo1a1KzZk2OHTtGzZo1SU5OplWrVgDo6enh7e3N9OnTXxnbi8nd06dPGTx4MN7e3vz8888YGhqydOlSTp06BeQkZC9fSPzia5Sf+l7m6urKkiVLgJwxnW5ubjRr1oxy5coBULZsWUqVKkV0dHSevcK543irV68ux/Lvv/8W6HR2ftrwRS8niC+/Ju3bt8fX15e4uDj+/PNPmjZtirGxMZDzGvn6+tK+fft815fLz8+PrKws2rRpIy/LzMzkwYMHjBw5Eg0NDbS1tfMcX/vs2TO5fsj5cZXXGYrXefn9+SIPDw+14QvGxsYkJyeTnZ0tv89yY8tryIRCoWDkyJGMHDlSXjZ06FCsrKxISUkhICCA3377Tf5BOmzYMDZt2kRoaCjt2rUr0LF8aMUu0S3qPboVKlSQL47Ia1yPIAhCOSP1sZGvo6mhVeBttLV0C7zNu6pcuTInTpxQWbZ161Zat26dZ/mqVauqjU+8efMmbdu2lcdAvmjt2rVUr15dPq2dnp6ulvS1b9+eY8eOER0dTZs2bdDV1ZXrenl/9+/fp1y5cioJ7otxPH/+nAEDBsg9lC/OaFC2bFnu37+PJEnyj4KIiAg50StofS8zMTFh/PjxzJkzh5YtW2JsbIxCoaBdu3Zs27YNLy8vtR8jv/32Gw4ODnLiZG9vz8aNG9U6XFJTU/nyyy+ZNm0ajRo1UllXpUoV4uLiyMjIQEdHB8gZC2tubi6/lqmpqfL/Y2Nj8xxm8uLr1LhxY0JCQjh8+LDKhYtVqlTh+vXrKolufoYePH/+nD/++IOZM2eqnBFITU3Fy8uL06dP06JFC2rUqEFoaKhKcgk5vcHa2trysI727dszffp0xo4dq1b3kiVLSE9Ply+4y5XX+/N16tWrhyRJREVF0aBBAyDn/VKyZMk8h5fExMRw8+ZNOZFPS0vj4sWLfP311yiVSiRJUvlBknsG4FNUtLs3X6KUFEXqYrT09HRmzJjBjz/+qLLc3d1dJLmCIBQ7HTt25N69e+zatYuMjAyCgoL48ccfX3kq1cPDg3379hEWFkZmZia7d+/m33//feXnp5mZGffv3+fevXs8fvyYGTNmUL58eR48eCCXcXNz4+zZsxw7dkxlnKeXlxeXLl0iICCAjIwMIiMj6d69O4cOHcqzrkqVKqGhocHff/9NSkoKmzZt4vHjxzx+/JisrCyaNGlCfHw8O3bsICMjg4CAAG7duvXW9eWlZ8+eVK9eXaV38JtvviEhIYHBgwfL9T1+/BhfX19CQkL4/vvv5bLTpk0jLCyMcePGcf/+fZRKJZGRkQwcOBA9PT2srKzU6mzVqhUGBgasWbOG9PR0zp07x8yZM9HU1MTMzAxNTU0OHTpEVlYWv//+e76GGbi5uREUFERkZCRffPGFvLxXr15s27aNsLAwsrOz+eOPP+jYsaM8o8fixYuZN099jPkff/yBrq4uXbp0oVq1avKjbt26uLi4yGOlu3TpQkZGBjNmzODJkydkZmZy5swZ5syZw8iRIylZsiSQ8z5s3Lgxffv25cyZM2RnZxMfH8/y5cvZunVrvsYLv4mxsTHt27dn6dKlxMfHc//+fVauXImXl5f84+jrr7+WZx15+PAh48aNIzw8nPT0dObOnUuVKlVo2rQphoaG2Nvbs3r1ah4/fkxaWhpr165FW1v7g481fhtFJ+vLp6J0MdqECRNYvnw58+bN4/Lly4UdjiAIQqEyMTHhl19+YdOmTTRp0oR169axcuVK+VT1y9zd3RkyZAiTJk3CwcGB3377jQ0bNrzyYqv27dvTqlUrOnToQM+ePXFycmLYsGEEBwezcOFCIGf4Qvny5Xn06BEtWrSQt61ZsyaLFy9m/fr1NG7cmFGjRjFgwIBXJjGmpqaMGzeOb7/9FmdnZ54+fcqiRYvIyMigd+/eVKlShdmzZ7N8+XJatGhBVFQUHh4eci9rQevLi0KhYObMmfz555/ytFLlypXDz8+PihUr0rdvX6ysrPDw8CApKQl/f39q1qwpb1+3bl127dqFUqmkS5cu2NraMmbMGJo2bcqGDRvyvG5ER0eHjRs3cvz4cZo0acL06dPx9fWlVq1amJiYMGHCBJYuXUrTpk2JjIzM1/G0a9eOsLAwWrRoIV+ABTk/Bnr37s3IkSNp1KgR69ev56effpLHcT969CjP6bICAgLo1KmT3OP8om7duhEcHExiYiKlS5dm165d8lhne3t75syZQ9++fRk8eLC8jYaGBmvXrqVr1658//332NnZ0blzZ6Kjo9mxY0eePwjexqxZszAyMqJNmzZ07twZKysrlRtaxMbG8vTpUwAcHBwYNWoUw4cPp2nTpty7d49Vq1bJ768lS5ZQpkwZPD09admyJaGhofz888+UKVPmvcT6PimkgoxO/oxFRETwNDWBn64p2dHPqbDDeS9u3rxJq1atcHBwYPny5WoXMhRnKSkpREZGUq9ePQwMDAo7HOEDE+2tLnesvr6+fiFH8v5lZ2eTlpaGnp5evk7DF1UZGRloa2vLycfkyZNRKpVy0l1UFFZ7x8bG8ssvvzBjxoyPVmdx8brPp/DwcBQKhcqFlO+i+PXoan++h3zr1i2VMTE1atQgODgYf39/keQKgiAUIykpKTRr1ozffvsNpVLJ1atXOXLkyCvHIwsFFxwc/EmeihcK5vPN+t6ChkL6LC9GUyqVrFmzhmbNmvHLL7+orKtbt+4nOW+dIAiC8OEYGBiwbNky/Pz8sLOzY9SoUfzvf/8T12e8R/379xevZxFQ7GZd+BynF8vKymLbtm2kpaUxd+5cevXqhZGRUWGHJQiCIBQiR0dHMYWkILzB55f1vaPPsUdXR0eHNWvW0KhRI/bv3y+SXEEQBEEQhHwQie4n6P79+yxfvlzlLiYNGjTgzz//lG+BKQiCIAiCILyeGLrwibl06RLdu3cnISGBSpUq4eXlJa8TY3EFQRAEQRDy79PO+j6AT71Ht06dOvI8f//++28hRyMIgiAIgvD5Ej26nwClUinfF9zQ0JA1a9aQkZEhLjIQBEEQBEF4B8Uu0f2UenSfPXuGj48PGhoaLFmyRF5ub29fiFEJgiAIgiAUDSLRLUSzZ8/m119/BXJuRdm2bdtCjkgQBEEQBKHo+PTO439ASknxSQ1dmDRpEqampnh6emJnZ1fY4QiCIAiCzMLCgoYNG2JpaYmlpSVWVla0a9eOlStXkpWVpVL29OnTDBgwgCZNmmBtbU2HDh1YvXo1GRkZavvdv38/vXr1wtbWlkaNGuHl5UVAQMDHOqwPbvz48VhYWBAeHq62zsLCgr/++ktt+fbt23FxcVFZdvPmTcaPH0/z5s2xtrbGxcUFX19fEhMT31usp0+fxsvLCzs7O9zd3dm7d+8ryz5+/JgJEybQokULGjduzNSpU0lLSwMgMDBQfp/kPho2bKh2TIXh08n6PhI97cLr0Q0PDyc9PV1+bmxszLFjx9iwYQPGxsaFFpcgCIIg5GXVqlVEREQQERFBWFgYCxYsYPv27Sp36dy9ezfDhw/H1dWVY8eO8ffffzN//nyOHTvGwIEDVZLipUuXMmfOHAYOHMjZs2c5ceIE//vf/5g7dy7Lly8vjEN8r54+fUpwcDBubm7vlLxHRkbi5eVFhQoV2Lt3L5cuXWLlypVcv34db29vOcF8Fw8fPmT48OH06tWL06dPM23aNKZPn05ERESe5cePH09CQgJ79uzhzz//5NGjR8yfPx8AT09P+X2S++jSpQtubm7vHOe7KnaJbmH06GZlZTFnzhzatGnD3LlzVdZVqFDho8cjCILwKbOwsCAoKIiuXbtiZWXF4MGDuX//PgMGDMDW1hYvLy/u3r0rl9+0aRNt27bF1tYWNzc3/vzzT3lddnY2ixYtokWLFjRp0oRvvvlG7hGbMmUK06ZNo0+fPnTs2BHISVQmTZqEo6Mjtra2DB48mDt37rwyVkmSWLRoEa1bt8bW1pYuXbpw/vx5ABYuXEifPn1Uyh8+fJjGjRuTkZFBWloas2bNwsnJCRsbG/r06cONGzdUXodNmzbh6OjIunXrANi7dy8dOnTA1tYWFxcXfvvtN5VjnTVrFra2tjg5OREUFES7du3YvXs3wBvrexMNDQ1sbGzo3bs3hw8fBiA5ORlfX18mTpxI9+7dMTQ0RENDA0tLS9asWcOVK1fw9/cHICYmhjVr1jBnzhzatm2Ljo4OBgYGdOjQgQULFqjMHf+yX3/9lTZt2mBnZ8eAAQPkNpkyZQpjx46Vy6Wnp2NhYcHZs2cB6NOnDwsXLqRTp04MHjyY7t2789NPP6ns29fXlwEDBgAQFxfH0KFDcXBwoEmTJkyaNInk5OR8v0Z79+6lfv369OnTh6CgoLdOSGfNmoWjoyMTJ07ExMQETU1N6tWrx+rVq7GxseHhw4dq26xatUqtVzX3kfuefNG+ffswNzfHy8sLXV1dmjdvjouLC35+fmplnz9/ztmzZxk2bBgmJiYYGxszZcoUAgMD8+y1Dw8PJyQkhGHDhr3V8b9PxS7RLYwxupqamly4cIHs7Gw2bdpEfHz8R49BEAQh16Nnt9/4eFG2MuuN5Z8kx6lsk5mVrrafgtixYwdr1qxh7969nD59mkGDBjF+/HhOnDhBdna2fH3D+fPnWbx4MatWreLSpUsMGjSICRMmyJ+zv/76K4cPH2bnzp2EhISQmprKDz/8INdz5MgR/ve//7Fv3z4AfHx8ePToEXv37uXEiRPo6ekxZsyYV8a5Z88eAgMD2blzJxcuXKBNmzaMHj2a7OxsXF1duXjxosqp5sOHD8tJ3qJFi7h27Ro7d+7kzJkzWFpaMnLkSJWELzg4mMDAQAYNGkRsbCyTJ0/Gx8eHS5cuMXv2bH744QeioqLkYz1w4AC7du1i7969HDhwQCUhyk99+ZGZmSn//+TJkyiVSrp3765WztjYmE6dOnHo0CH5WMzMzHByclIr6+LiwjfffJNnfcHBwWzatImVK1dy5swZKlasyIQJE/Idb1BQELNnz2bt2rW4uroSHByssv7IkSO4u7sjSRLDhw+nYsWKhISEcPDgQR48eCD3WuaHv78/nTt3xs7OjlKlSsnHXhBPnjzh0qVLfPXVV2rrDA0NmTt3LlWrVlVbN3z4cLVe1dxHkyZN1MpfvXpV7SZU9evX58qVK6+M7cX5/EuWLElKSgqxsbFq5RYsWMDQoUMxNDR87bF+DMUq0dVQSOhofvxDVigUrFixAjc3N44fPy6GKQiCUKiCLq96w2O1SvnUjOQ3bnM08leVbeKf3yPo8qq3jtHd3Z3y5ctjbm5OjRo1sLS0pH79+hgaGmJvb8/t2zlJdKNGjQgNDaVOnTooFAo6duxIeno6//zzD5BzWt3b25vKlStTokQJpk+fTqdOneR6zMzMcHZ2RqFQkJiYyOHDhxkzZgzGxsYYGhoyevRoIiIi8vwyB+jUqRMHDhygQoUKaGpq4u7uTnx8PHfv3sXS0pKKFSty7NgxIOfsXkhICG5ubiiVSvmUv6mpqZxQ3717V2Vsp5ubGyYmJigUCipXrsyZM2do3rw5CoWCZs2aUbZsWa5evQrA8ePH6dixI7Vr16ZkyZKMHz+e1NRUgHzX9zpZWVlcuHCBnTt3yq/h7du3qVSpEtra2nluU716dbmtYmNjMTc3z1ddL/r9999xdXWlbt266OjoMHbsWL7++muUSmW+treyssLKygqFQoGrqytRUVHExeX8MLty5QqPHj2ibdu2RERE8O+//zJx4kT09fUpW7Yso0aNYu/evfn6MRAREUF0dDRubm4oFAo8PDzeavhC7nutevXqBd62IBITEylZsqTKstKlS5OQkKBWtkSJEjRp0oSVK1fy5MkTnj59yooVK9DS0lIbM3zx4kX+++8/lRteFaZiN+uCtsaHT3Rv3rzJunXrmD17NpqaOT3IZmZmbNu27YPXLQiCUBRUrFhR/r+uri6mpqYqz3NPl2ZnZ7Ny5UoOHjyocrYsd31sbCyVK1eWl1epUoUqVarIz83MzOT/3717F0mSqFmzprwst+csLi5OZbtcqampzJkzh7/++ounT5+q1Z/bg9ilSxfOnTuHQqGgRYsWPHnyhOfPnzN8+HCVXjKlUsm9e/ewtrYGoFKlSvI6hULB9u3b8ff35+HDh0iSREZGhlzXo0ePaN26tVy+evXqco9afut72Yvls7OzMTY2ZvDgwXz99ddymezs7Dy3fTHu3H/zm5y+KDY2VuWC7bJlyxZo7OeLbWxmZoalpSXBwcF8/fXXHD58mJYtW1KyZEliY2PJzs7GwcFBZfvs7GwSEhLe2Enl5+eHk5MTpUuXBsDDw4NVq1YRGxub53vnVXJfr7d5rT6kBQsWMGvWLFxdXSlTpgyjR49m3759aGmpppKbN2+mR48e6OrqFlKkqopdoqup8WFvoxsWFkbHjh1JSUmhYsWKrzwVIwiCUFjcrYcXqLy+juEbt9FQqA4LMy5RscD1vOjlW55rvKKTYuXKlRw4cIA1a9ZQt25dJElSOR37puQqtzMCyHOs4Yv7WbVqFatX5/R2V6pUiUOHDjFz5kyuX7/Otm3bqFatGrGxsXzxxRfydm5ubnz11VekpaXx559/0q5dO7S0tNDT0wNyhmg0bNgwX/H5+fmxbt06Vq1aRZMmTdDU1FRJbJVKpVrPau7rlt/6XrZq1SpatWoFwM6dO1m2bBmenp7y+ho1ahAXF0daWppcx4tu3rxJjRo1ADA3N+fYsWNIklSgW9praGjke3hFXkn3i68h5LTJi4lu7jhSXV1dDAwM+Pvvv/MdW67U1FSCgoJIT0/H1tZWXi5JEgEBAfLwF21t7TzH7T579kxODHN/XP37778qP/De5MX358s2bNigNnyhTJkyar2xr0voK1asqLL/hIQEUlNTVWJMTU3l+PHjDB48ON9xf2jFaugCgJbmh010GzZsSN26ddHS0irwuCdBEISPoZxR1Tc+XqSpofXG8mUNzVS20dbSVdvPhxAREUGbNm2oX78+Ghoa8mn8XFWqVCEmJkZ+fuvWrVeeXcvtdbt586a8LPf/VatWVRkDmTv2Mjw8nM6dO2Nubo5CoVCrv2HDhpiYmHDq1CmCg4Pp0KEDAEZGRpQuXZrr16+rlH/dhW8RERE0btyYpk2boqmpyaNHj1TG4JYtW1Y+JZ97rElJSW9d38t69OhB1apVVS6qbt68Ofr6+uzYsUOtfFJSEkFBQfIxt23blsePH7N//361sidPnqRHjx5q05YBVK5cmf/++09+Hh8fz4YNG8jMzERHR0cengHIwyRep3379ly6dInLly8TFxcnT4FVtWpVtTGnycnJeZ7Kf9nBgwfR0tJi3759BAYGyo8xY8YQGBgo/9iqXr262nsEcjrJ6tSpA+QkoPb29mzcuFGtXGpqKl27duXixYtq6wo6RtfS0lJtPO6VK1de2bsfEhJCdHS0/Dw0NJRKlSqpXFQfGhqKnp4eDRo0yHMfhaHYJbqaBfgVmR+SJJGSkiI/19LSYs2aNfI4L0EQBOHDMTMzIyoqitTUVG7cuMH69esxMjLiwYMHAHTr1o3t27dz8+ZNnj9/zsKFC7lw4UKe+ypbtiyOjo4sW7aMxMREnj59ytKlS3FwcFAZSvGiypUrExERQUZGBmFhYQQFBQGoJKCurq788ssvSJKkcufLXr16sXr1aqKjo8nMzGTTpk14eXmpJG4vH+vNmzd5+vQpcXFx+Pr6UqlSJflYHRwc2LdvHzExMTx79owlS5ZgYGDw1vW9TKFQMGvWLIKCgjhx4gQABgYGTJs2jcWLF7NhwwaSk5NRKpWEh4fz5Zdf0qhRIzp37gzk/JAYPnw406dPx8/Pj7S0NFJTU9m/fz9jx47Fw8ND7TQ4QNeuXfnzzz+5fPkyGRkZ8lAVbW1tzM3NuXz5Mvfv3+fZs2ds2LBBrQc3r9exQYMGLFiwgNatW1OiRAkA6tSpg62tLbNnzyY+Pp6kpCS+//57Jk2aJG/r6uqa5/vHz8+PTp06Ub16dapVqyY/vL29efLkCSdPngRgyJAhbNmyhUOHDpGenk5SUhLr1q3j9OnTKjnDtGnTCAsLY9y4cdy/fx+lUklkZCQDBw5ET08PKyurfLXZ63Tq1Im4uDj8/PxIT0/n+PHjHD9+nB49egA5P+JcXV3lMx0HDx5k5syZJCcnExsby9KlS+nfv7/KPq9du4aZmVmBeuw/tGI3dEHrPQ5dePz4MePGjSM1NZVdu3bJDVurVq33VocgCILwakOGDGHs2LE0bdqU2rVrM3fuXExNTfH19cXY2Jg+ffoQHx+Pt7c3kiTRrFkzpk+f/sr9zZ8/n5kzZ+Lm5oaGhgbNmjVTmxbyRePHj2fSpEnY29tjbW3NggULgJzeta1bt9KgQQNcXV35+eef+eqrr1SSsOHDh5OUlETv3r3JzMykXr16/Pzzz+jr6+dZl7e3N+fOnaN169aYmZkxY8YMrly5wtKlSylXrhwDBw4kOjoaDw8PKlasyNSpUzl37pw8fKGg9eWlTp069OvXj++//559+/ZRokQJPD09KVeunDysIjMzk8qVK+Ph4UH//v1Vhp2MHDmSKlWqsHXrVubMmYO2tjZ16tRh4cKFec7GADkzMgwfPpzRo0eTkpKCra0tixcvBsDLy4tTp07h6upK+fLl8fHxUZtVIS+urq7Mnz9fbe7exYsXM2vWLNq0aYOOjg7NmjVj3rx58vqYmBi1oQc3b97k4sWLeb6vSpcuTZs2bQgICKBVq1Z07NgRIyMj1qxZg4+PD9ra2tSrV4+NGzeqXHxWt25ddu3axYoVK+jSpQspKSlUqFCBjh07MmjQoFde/FcQZcuWZe3atfj6+jJz5kzMzMxYuHAhdevWBXJ6j2NiYuSz05MnT2bKlCm0bNkSAwMDvL291abPe/z4MeXKlXvn2N4nhVRMzq9HRETwLC2eilUtqW76fmY9mDNnDosWLQJyxsb06tXrvexXeHcpKSlERkZSr149lR4NoWgS7a0ut5euIEnM5yI7O1seE/qm3rviJiMjAx0dHSBnGjAbGxvWr19Ps2bNCjmyt/cptfeyZctwdnZ+Lz2qxdnrPp/Cw8NRKBRYWlq+l7qK39CF99ijO27cOCwsLOjfv7882bggCIIgFIbAwECcnZ2JiYkhMzOTtWvXYmRk9N4SBiFn3ubcHk/h8yCGLhTA8ePHsbKyokyZMkDOVazBwcHy+B5BEARBKCydO3cmOjqavn37kpycTK1atVi5cuUnMWl/UbF169bCDkEooGKV6ColBVpvMY+uUqlkypQprF+/nm7duvHzzz/L60SSKwiCIHwKNDQ0GD9+POPHjy/sUAThkyGGLuSDhoaGPLNCSEgI9+/ff99hCYIgCIIgCO9ZserRhbcfupB7dejUqVMpX778e45KEARBEARBeN+KX49uPuZ2i4iIoE+fPjx//lxeVrJkSZYsWSKSXEEQPguamppvvDWrIAhCYcjOzv5oM2gUq0RXQyGh8YYe3WvXrtG2bVuCgoKYMWPGxwlMEAThPdPW1iY1NVXcoVEQhE+KJEmkpqa+l7mA86PYDV14k3r16tGuXTuOHj2KhYVFYYcjCILwVhQKBWXKlOHx48fo6+sX+vyj75NSqSQ9PR1A5WYEQtEk2rvoyM7OJjU1lTJlyny0u6cV+0RXqVQSHx+PiYkJkPPl8OOPP5KUlETNmjULOTpBEIS3p6WlhYmJCZmZmUVqGENGRgYxMTHUqFEDPT29wg5H+MBEexcdOjo6lChR4qPeIrhYJ7qxsbGMHDmSxMREDh8+LN9Nply5cp/cLewEQRDehkKhkD/biorc4Ri6urpF8s5vgirR3sK7KNRzAHFxcQwePBgHBwecnZ1ZuHAhSqUyz7Jbtmyhffv22NnZ4e3tzZUrV965/gMHDnDixAkiIiLYuHHjO+9PEARBEARB+HQUaqI7atQoTE1NCQ4OZuPGjQQHB7N582a1ckePHmXFihUsWLCAU6dO4ezszNChQ+W5bd/WwIEDad26NePHj6d///7vtC9BEARBEATh01JoiW5ERARRUVFMmDABIyMjzM3N6devHzt37lQru3PnTrp27Yq1tTV6enoMHDgQgGPHjhWozoy0LG7fvi0/19DQwN/fn2nTphW5U3uCIAiCIAjFXaElulevXsXMzIxSpUrJyxo0aEBMTAzJyclqZevXry8/19DQoF69ekRERBSozuSnqYwdO1ZleERRuhJZEARBEARB+D+FdjFaYmIiJUuWVFmWm/QmJCRgaGioUvbFhDi3bEJCQr7ry8zMpFy5cowePZqwsDC0tIr1dXhFXu7FC//+++9HvbpTKByivYsX0d7Fi2jv4iUzM/O9tnOhZnsFmcj8XSc9VygUaGtrU7ly5Xfaj/B5KIpXmguvJtq7eBHtXbyI9i5eFApF0Uh0jY2NSUxMVFmWmJiIQqHA2NhYZXmZMmXyLFu7du1812dra/u2oQqCIAiCIAifoUIbo9uwYUPu3btHfHy8vCwiIoJatWpRokQJtbJXr16Vn2dnZ3Pt2jWsra0/WryCIAiCIAjC56XQEt369etjaWnJ4sWLSU5OJjo6mo0bN+Lt7Q2Aq6srFy5cAMDb25vAwEDCwsJITU1l9erV6Ojo4OTkVFjhC4IgCIIgCJ+4Qh2ju3z5cqZPn06LFi0wNDSkV69e9O7dG4CYmBh5ntxWrVoxbtw4xowZw5MnT7C0tGTdunXiVoCCIAiCIAjCKymkd73KSxAEQRAEQRA+QYV6ZzRBEARBEARB+FBEoisIgiAIgiAUSSLRFQRBEARBEIokkegKgiAIgiAIRZJIdAVBEARBEIQiqUglunFxcQwePBgHBwecnZ1ZuHAhSqUyz7Jbtmyhffv22NnZ4e3tzZUrVz5ytMK7KEhbb9++nfbt22Nra4uHhwfBwcEfOVrhfShIm+d68OABtra2rFix4iNFKbwvBWnv6Oho+vTpg7W1Na1bt2bTpk0fN1jhneW3vZVKJcuXL8fFxQVbW1s6derEH3/8UQgRC+/ixIkTNG/enLFjx762nFKpZMmSJbRp04YmTZowYMAAYmNjC1RXkUp0R40ahampKcHBwWzcuJHg4GA2b96sVu7o0aOsWLGCBQsWcOrUKZydnRk6dKg8b6/w6ctvWx86dIjFixczZ84czp07x1dffcWYMWMK/IciFL78tvmLfH190dTU/EgRCu9Tfts7LS2NgQMH0rp1a86cOcOKFSvw9/cnOjq6EKIW3lZ+23v79u34+fmxfv16Lly4wLhx45g4cSJRUVGFELXwNn7++Wd8fX2pVq3aG8tu27aNffv2sW7dOo4dO4a5uTkjRoygIDPjFplENyIigqioKCZMmICRkRHm5ub069ePnTt3qpXduXMnXbt2xdraGj09PQYOHAjAsWPHPnbYwlsoSFunpaUxbtw4GjVqhLa2Nt27d6dEiRKEhYV9/MCFt1aQNs91/Phxbty4Ie6g+BkqSHsfOHAAQ0NDBg4ciL6+PlZWVuzfv5+aNWsWQuTC2yhIe1+9epVGjRpRo0YNNDU1cXZ2pnTp0ly/fr0QIhfehq6uLv7+/vlKdHfu3Em/fv2oWbMmhoaGjB07lujoaC5fvpzv+opMonv16lXMzMwoVaqUvKxBgwbExMSQnJysVrZ+/frycw0NDerVq0dERMRHi1d4ewVpaw8PD/luewBJSUk8f/4cU1PTjxav8O4K0uaQ8wNn1qxZfP/992hpFeoNIIW3UJD2vnjxInXq1GHq1Kk0btwYV1dX9u7d+7FDFt5BQdrbycmJc+fOERkZSUZGBkeOHCE1NRV7e/uPHbbwlvr27YuRkdEby6WlpXHjxg2VfM3Q0JBq1aoVKF8rMoluYmIiJUuWVFmW+0eTkJCgVvbFP6jcsi+XEz5NBWnrF0mShI+PD9bW1uJD8TNT0DZfuXIlNjY2NG3a9KPEJ7xfBWnv+/fvc+TIEZo3b86JEycYMmQIkydP5tq1ax8tXuHdFKS927VrR8+ePfH09MTS0pLx48czd+5cKlas+NHiFT6Op0+fIknSO+drRaqroyBjNsSdjz9vBW2/zMxMpkyZwo0bN9iyZcsHikr4kPLb5jdu3MDPz499+/Z94IiEDym/7S1JEg0aNKBTp04AdOnShR07dnDw4EGVniDh05bf9g4MDCQwMBA/Pz8sLCw4ffo048ePp2LFilhZWX3gKIXC8K75WpHp0TU2NiYxMVFlWWJiIgqFAmNjY5XlZcqUybPsy+WET1NB2hpyTn8MGTKEu3fvsm3bNkxMTD5SpML7kt82lySJGTNmMGrUKMqVK/eRoxTel4L8jZcrV07tNKiZmRmPHj360GEK70lB2nvr1q307NkTKysrdHV1cXJyomnTpmK4ShFUunRpNDQ08nxvlC1bNt/7KTKJbsOGDbl37x7x8fHysoiICGrVqkWJEiXUyl69elV+np2dzbVr17C2tv5o8QpvryBtLUkSY8eORUtLi02bNlGmTJmPHa7wHuS3ze/evcv58+dZvnw5Dg4OODg4EBQUxPr16+nSpUthhC68hYL8jdesWZN//vlHpdcnLi4OMzOzjxav8G4K0t5KpZLs7GyVZRkZGR8lTuHj0tXVpXbt2ir5WlJSErdv3y5Q732RSXTr16+PpaUlixcvJjk5mejoaDZu3Ii3tzcArq6uXLhwAQBvb28CAwMJCwsjNTWV1atXo6OjI67O/kwUpK337dvHjRs3WLZsGbq6uoUZtvAO8tvmFSpU4Pjx4+zZs0d+uLi40KtXL9atW1fIRyHkV0H+xjt37kxCQgJr1qwhLS2N/fv3c/XqVTp37lyYhyAUQEHa28XFBX9/f6KiosjKyuLkyZOcPn2aNm3aFOYhCO/JgwcPcHV1lacA9fb2ZsuWLURHR5OcnMyiRYuoV68elpaW+d5nkRqju3z5cqZPn06LFi0wNDSkV69e8hX3MTEx8jy5rVq1Yty4cYwZM4YnT55gaWnJunXr0NPTK8zwhQLIb1sHBAQQFxendvGZh4cHvr6+Hz1u4e3lp801NTWpUKGCynb6+voYGhqKoQyfmfz+jZuamrJ27Vpmz57NqlWrqFSpEitXrqRq1aqFGb5QQPlt7yFDhpCVlcWIESOIj4/HzMwMX19fmjVrVpjhCwWQm6RmZWUByDdxioiIIDMzk5iYGLmXvlevXjx69Ig+ffrw/PlzHBwc+OmnnwpUn0ISV2UJgiAIgiAIRVCRGbogCIIgCIIgCC8Sia4gCIIgCIJQJIlEVxAEQRAEQSiSRKIrCIIgCIIgFEki0RUEQRAEQRCKJJHoCoIgCIIgCEWSSHQFQRAEQRCEIkkkuoIgFGtnz57FwsKC6Ojowg7lnfj4+PDVV1+9cr2lpSV+fn4fMSJBEITCV6TujCYIQvHSp08fLly4gJaW+keZi4sLy5YtK4SoVO3evZupU6eio6Ojsrx27doMGDAAd3f391LPy3f627NnDzY2NlSrVg3IuevQh2RhYYGWlhYaGv/Xf2JgYEDt2rUZMmQILVu2zPe+7t+/z4kTJ+jevfuHCFUQhGJEJLqCIHzWXF1dWbJkSWGH8UYXLlxAV1cXgNTUVPbt28eECRNQKpV06tTpvdYlSRJz585lwYIFcqL7Mfj4+ODt7S0/f/bsGVu2bGHo0KH89ttvWFtb52s/hw8fZt++fSLRFQThnYmhC4IgFGkpKSnMmDGDZs2aYWVlRdu2bdm0adMry58+fZoePXrQqFEjGjduTP/+/blx44a8/vz58/Tp0wd7e3saNWrEsGHDiI2NLVBM+vr69OjRA3t7e44cOSIvP3z4MF27dsXOzg4HBwcmTJhAfHy8vH7btm20b98eGxsbmjVrxtSpU0lOTgZgypQp9OjRg2fPnmFpaUlCQgLDhw+XhzNYWFiwfft2du3ahaWlpbxdrvHjx9O7d28Anj59yrRp03BycsLa2ppOnToRFBRUoGMEMDIyYsSIEVSoUIF9+/bJy//66y+6d++OtbU19vb2DBo0iFu3bgEwf/585syZQ3h4OJaWloSGhsqvTffu3eXXZuLEiSqvjSAIQl5EoisIQpG2ePFiTp48ye+//87ly5fx8fFh7ty5nDhxQq1sZmYmI0aMoGvXrpw7d46QkBCqV6+Oj48PANHR0QwYMIA2bdpw8uRJgoODMTAwoH///mRkZBQ4tuzsbHnYxblz5xg1ahR9+/blzJkzBAQEcPPmTcaMGQNAWFgY8+bNY8mSJYSFhREYGEhMTAzr1q1T2aeRkREHDx4EYNWqVWzdulVlvZubGwqFguDgYHlZSkoKR48epUuXLgCMGDGCe/fusWPHDi5cuMCwYcOYNGkSp06dKvAxSpJEdna23Jv98OFDhg8fTrt27bh06RKHDx8mKyuLiRMnAjB58mQ8PDywsrIiIiKCFi1acPr0acaNG0e/fv04d+4ce/bs4eHDh4wcObLA8QiCULyIRFcQhCJt8uTJ7N69mwoVKqBQKHBycqJcuXKEhYWplc3IyCAtLQ09PT00NTUxNDRk+vTp7NixA4CdO3dSq1Yt+vXrh46ODmXKlGHatGnExsZy8eLFfMeUnJzM9u3buXjxIl27dgVg69atNGvWDE9PT3R0dKhcuTLDhw/n7Nmz3L17l6SkJCCnNxjA1NSU7du3M27cuAK9HkZGRri4uHDgwAF5WXBwMJIk4ebmRlRUFOfPn2fy5MlUqFABbW1tOnTogKOjI4GBgQWqKz4+ngULFvD48WM8PDwAKF++PCdPnqR///5oampSqlQp2rdvz5UrV8jKyspzP1u3bsXJyQl3d3e0tLSoUKECEyZM4OLFiwXuTRcEoXgRY3QFQfisHTx4UKV3MteQIUMYOXIkDx48YOHChVy4cIFnz54BOQltenq62jYlSpRg3LhxTJ8+nTVr1tCsWTO++OILmjdvDsDNmzeJjIzE0tJSZTstLS3u3Lnz2jgbN24s/9/AwICaNWuyatUqed+3bt2iadOmKtvUqlULgNu3b9O0aVPatm2Lu7s7VlZWNG3alI4dO8plCsLT05ORI0fy9OlTSpUqxb59+2jXrh2GhobcvHkTAC8vL5VtJEnCxsbmtfv19fVlzpw5cvnMzEwcHR3ZtGkTderUkcsFBQWxY8cO7ty5Q1ZWFkqlkuzsbJUe7hfdvHmTW7duqb3umpqa3LlzhypVqhT4NRAEoXgQia4gCJ+1112MplQqGThwICYmJmzfvp2qVauiUCho3br1K/c3cOBAvLy8CA0N5cSJE4wYMQIXFxcWL16Mnp4eLVu2VBsukB8vXoyWl7wSb6VSCYBCoUBHR4clS5YQGxvLiRMnCAkJYd26dXz33Xf06tWrQLE4OjpSqlQpDh8+jIuLC6dOneKXX34BkGM8fvw4xsbGBdrvixejPX36lI4dO1KnTh2VJH/Pnj34+vri6+tLhw4d0NfXx8/PTx4ekhc9PT169uzJ999/X6B4BEEQxNAFQRCKrCdPnvDff//x5ZdfUq1aNRQKBffu3ePBgwev3CY+Pp7SpUvj7u7OvHnzWLVqFfv37ycxMZHq1asTFRVFdna2XD47O/uNvbn5YW5uzvXr11WW/fvvv/K6rKwskpKSqFKlCr1792bdunUMHjyYbdu2FbguLS0t3N3dOXjwIH/++SempqY4ODgAUL16dQCuXLmisk1cXJzKcb9JqVKlmD17Nps2bVIZ23vx4kWqV69Ot27d5GEYly9ffu2+qlevztWrV1WWpaam8vDhw3zHIwhC8SQSXUEQiixjY2OMjIy4dOkSWVlZXL9+nZkzZ1KlShXu3bunVv7ixYvyhWbZ2dlkZGQQFhaGiYkJpUqVwtvbm8TERBYsWEBSUhLJycksWrQILy8vtVkMCsrb25szZ84QGBhIZmYmt27dYuXKlTg7O2NqasrPP/9M79695RtbJCYm8s8//1CjRg21fRkYGAA5p/xzx/a+zNPTk7Nnz7Jnzx66dOmCQqEAoEaNGrRu3ZoFCxYQHR1NdnY2oaGhdO7cWWVcb360atUKLy8vJk+eTEJCAgDVqlXj/v373Lp1i+TkZLZu3Sof0927d4GcccgPHz4kISGB1NRU+vXrR3h4OBs2bCAlJYWEhAR8fHzo16+f3OstCIKQF5HoCoJQZGlqajJv3jxCQkJo3Lgx06dPZ+TIkfTr148jR47IV/rnatSoEVOmTGH27NnY2dnRsmVLzp07x5o1a1AoFFSqVIl169Zx+fJlWrZsScuWLfnnn3/YvHkzhoaG7xRr69atmTt3Lhs3bsTe3p7+/fvj4ODA4sWLARgwYADNmzenX79+WFlZ0bFjRwwNDfM8nW9sbEznzp1ZtGgRX375ZZ711a9fH3Nzc/7++288PT1V1s2fP5+GDRvSu3dvrK2tmTVrFpMmTaJjx44FPq4pU6ago6MjD03w9vbG0dERT09P2rVrx/3791m9ejV16tSha9euREVF4eHhQVZWFq1btyY4OBgrKyuWLl3Knj17cHBwoE2bNmRmZvLzzz+r3KBCEAThZQpJkqTCDkIQBEEQBEEQ3jfxU1gQBEEQBEEokkSiKwiCIAiCIBRJItEVBEEQBEEQiiSR6AqCIAiCIAhFkkh0BUEQBEEQhCJJJLqCIAiCIAhCkSQSXUEQBEEQBKFIEomuIAiCIAiCUCSJRFcQBEEQBEEokkSiKwiCIAiCIBRJItEVBEEQBEEQiiSR6AqCIAiCIAhF0v8D8EqtD7oMc0oAAAAASUVORK5CYII=\n"
                },
                "metadata": {}
              }
            ]
          }
        },
        "efb9c65ca6eb46979b65f0e8bb7dc41d": {
          "model_module": "@jupyter-widgets/base",
          "model_name": "LayoutModel",
          "model_module_version": "1.2.0",
          "state": {
            "_model_module": "@jupyter-widgets/base",
            "_model_module_version": "1.2.0",
            "_model_name": "LayoutModel",
            "_view_count": null,
            "_view_module": "@jupyter-widgets/base",
            "_view_module_version": "1.2.0",
            "_view_name": "LayoutView",
            "align_content": null,
            "align_items": null,
            "align_self": null,
            "border": null,
            "bottom": null,
            "display": null,
            "flex": null,
            "flex_flow": null,
            "grid_area": null,
            "grid_auto_columns": null,
            "grid_auto_flow": null,
            "grid_auto_rows": null,
            "grid_column": null,
            "grid_gap": null,
            "grid_row": null,
            "grid_template_areas": null,
            "grid_template_columns": null,
            "grid_template_rows": null,
            "height": null,
            "justify_content": null,
            "justify_items": null,
            "left": null,
            "margin": null,
            "max_height": null,
            "max_width": null,
            "min_height": null,
            "min_width": null,
            "object_fit": null,
            "object_position": null,
            "order": null,
            "overflow": null,
            "overflow_x": null,
            "overflow_y": null,
            "padding": null,
            "right": null,
            "top": null,
            "visibility": null,
            "width": null
          }
        },
        "1633d7615ed941f09998814f8433340e": {
          "model_module": "@jupyter-widgets/base",
          "model_name": "LayoutModel",
          "model_module_version": "1.2.0",
          "state": {
            "_model_module": "@jupyter-widgets/base",
            "_model_module_version": "1.2.0",
            "_model_name": "LayoutModel",
            "_view_count": null,
            "_view_module": "@jupyter-widgets/base",
            "_view_module_version": "1.2.0",
            "_view_name": "LayoutView",
            "align_content": null,
            "align_items": null,
            "align_self": null,
            "border": null,
            "bottom": null,
            "display": null,
            "flex": null,
            "flex_flow": null,
            "grid_area": null,
            "grid_auto_columns": null,
            "grid_auto_flow": null,
            "grid_auto_rows": null,
            "grid_column": null,
            "grid_gap": null,
            "grid_row": null,
            "grid_template_areas": null,
            "grid_template_columns": null,
            "grid_template_rows": null,
            "height": null,
            "justify_content": null,
            "justify_items": null,
            "left": null,
            "margin": null,
            "max_height": null,
            "max_width": null,
            "min_height": null,
            "min_width": null,
            "object_fit": null,
            "object_position": null,
            "order": null,
            "overflow": null,
            "overflow_x": null,
            "overflow_y": null,
            "padding": null,
            "right": null,
            "top": null,
            "visibility": null,
            "width": null
          }
        },
        "094c7dfa26fe4d05beef2bbfccf283db": {
          "model_module": "@jupyter-widgets/controls",
          "model_name": "ToggleButtonsStyleModel",
          "model_module_version": "1.5.0",
          "state": {
            "_model_module": "@jupyter-widgets/controls",
            "_model_module_version": "1.5.0",
            "_model_name": "ToggleButtonsStyleModel",
            "_view_count": null,
            "_view_module": "@jupyter-widgets/base",
            "_view_module_version": "1.2.0",
            "_view_name": "StyleView",
            "button_width": "",
            "description_width": "",
            "font_weight": ""
          }
        },
        "7bba69a31e7e48c5be6b5d573250831f": {
          "model_module": "@jupyter-widgets/base",
          "model_name": "LayoutModel",
          "model_module_version": "1.2.0",
          "state": {
            "_model_module": "@jupyter-widgets/base",
            "_model_module_version": "1.2.0",
            "_model_name": "LayoutModel",
            "_view_count": null,
            "_view_module": "@jupyter-widgets/base",
            "_view_module_version": "1.2.0",
            "_view_name": "LayoutView",
            "align_content": null,
            "align_items": null,
            "align_self": null,
            "border": null,
            "bottom": null,
            "display": null,
            "flex": null,
            "flex_flow": null,
            "grid_area": null,
            "grid_auto_columns": null,
            "grid_auto_flow": null,
            "grid_auto_rows": null,
            "grid_column": null,
            "grid_gap": null,
            "grid_row": null,
            "grid_template_areas": null,
            "grid_template_columns": null,
            "grid_template_rows": null,
            "height": null,
            "justify_content": null,
            "justify_items": null,
            "left": null,
            "margin": null,
            "max_height": null,
            "max_width": null,
            "min_height": null,
            "min_width": null,
            "object_fit": null,
            "object_position": null,
            "order": null,
            "overflow": null,
            "overflow_x": null,
            "overflow_y": null,
            "padding": null,
            "right": null,
            "top": null,
            "visibility": null,
            "width": null
          }
        }
      }
    }
  },
  "cells": [
    {
      "cell_type": "markdown",
      "metadata": {
        "id": "view-in-github",
        "colab_type": "text"
      },
      "source": [
        "<a href=\"https://colab.research.google.com/github/b-richins92/Cancer_Prediction/blob/main/models_with_Smote.ipynb\" target=\"_parent\"><img src=\"https://colab.research.google.com/assets/colab-badge.svg\" alt=\"Open In Colab\"/></a>"
      ]
    },
    {
      "cell_type": "code",
      "execution_count": null,
      "metadata": {
        "colab": {
          "base_uri": "https://localhost:8080/"
        },
        "id": "g5FHTQzKORaB",
        "outputId": "92a0ee52-c323-4981-81cd-4c66cb3a19d8"
      },
      "outputs": [
        {
          "output_type": "stream",
          "name": "stdout",
          "text": [
            "Collecting pycaret\n",
            "  Downloading pycaret-3.3.2-py3-none-any.whl (486 kB)\n",
            "\u001b[2K     \u001b[90m━━━━━━━━━━━━━━━━━━━━━━━━━━━━━━━━━━━━━━━━\u001b[0m \u001b[32m486.1/486.1 kB\u001b[0m \u001b[31m5.5 MB/s\u001b[0m eta \u001b[36m0:00:00\u001b[0m\n",
            "\u001b[?25hRequirement already satisfied: ipython>=5.5.0 in /usr/local/lib/python3.10/dist-packages (from pycaret) (7.34.0)\n",
            "Requirement already satisfied: ipywidgets>=7.6.5 in /usr/local/lib/python3.10/dist-packages (from pycaret) (7.7.1)\n",
            "Requirement already satisfied: tqdm>=4.62.0 in /usr/local/lib/python3.10/dist-packages (from pycaret) (4.66.4)\n",
            "Requirement already satisfied: numpy<1.27,>=1.21 in /usr/local/lib/python3.10/dist-packages (from pycaret) (1.25.2)\n",
            "Requirement already satisfied: pandas<2.2.0 in /usr/local/lib/python3.10/dist-packages (from pycaret) (2.0.3)\n",
            "Requirement already satisfied: jinja2>=3 in /usr/local/lib/python3.10/dist-packages (from pycaret) (3.1.4)\n",
            "Requirement already satisfied: scipy<=1.11.4,>=1.6.1 in /usr/local/lib/python3.10/dist-packages (from pycaret) (1.11.4)\n",
            "Collecting joblib<1.4,>=1.2.0 (from pycaret)\n",
            "  Downloading joblib-1.3.2-py3-none-any.whl (302 kB)\n",
            "\u001b[2K     \u001b[90m━━━━━━━━━━━━━━━━━━━━━━━━━━━━━━━━━━━━━━━━\u001b[0m \u001b[32m302.2/302.2 kB\u001b[0m \u001b[31m5.9 MB/s\u001b[0m eta \u001b[36m0:00:00\u001b[0m\n",
            "\u001b[?25hCollecting scikit-learn>1.4.0 (from pycaret)\n",
            "  Downloading scikit_learn-1.5.0-cp310-cp310-manylinux_2_17_x86_64.manylinux2014_x86_64.whl (13.3 MB)\n",
            "\u001b[2K     \u001b[90m━━━━━━━━━━━━━━━━━━━━━━━━━━━━━━━━━━━━━━━━\u001b[0m \u001b[32m13.3/13.3 MB\u001b[0m \u001b[31m22.6 MB/s\u001b[0m eta \u001b[36m0:00:00\u001b[0m\n",
            "\u001b[?25hCollecting pyod>=1.1.3 (from pycaret)\n",
            "  Downloading pyod-1.1.3.tar.gz (160 kB)\n",
            "\u001b[2K     \u001b[90m━━━━━━━━━━━━━━━━━━━━━━━━━━━━━━━━━━━━━━━━\u001b[0m \u001b[32m160.5/160.5 kB\u001b[0m \u001b[31m8.4 MB/s\u001b[0m eta \u001b[36m0:00:00\u001b[0m\n",
            "\u001b[?25h  Preparing metadata (setup.py) ... \u001b[?25l\u001b[?25hdone\n",
            "Collecting imbalanced-learn>=0.12.0 (from pycaret)\n",
            "  Downloading imbalanced_learn-0.12.3-py3-none-any.whl (258 kB)\n",
            "\u001b[2K     \u001b[90m━━━━━━━━━━━━━━━━━━━━━━━━━━━━━━━━━━━━━━━━\u001b[0m \u001b[32m258.3/258.3 kB\u001b[0m \u001b[31m13.4 MB/s\u001b[0m eta \u001b[36m0:00:00\u001b[0m\n",
            "\u001b[?25hCollecting category-encoders>=2.4.0 (from pycaret)\n",
            "  Downloading category_encoders-2.6.3-py2.py3-none-any.whl (81 kB)\n",
            "\u001b[2K     \u001b[90m━━━━━━━━━━━━━━━━━━━━━━━━━━━━━━━━━━━━━━━━\u001b[0m \u001b[32m81.9/81.9 kB\u001b[0m \u001b[31m7.0 MB/s\u001b[0m eta \u001b[36m0:00:00\u001b[0m\n",
            "\u001b[?25hRequirement already satisfied: lightgbm>=3.0.0 in /usr/local/lib/python3.10/dist-packages (from pycaret) (4.1.0)\n",
            "Requirement already satisfied: numba>=0.55.0 in /usr/local/lib/python3.10/dist-packages (from pycaret) (0.58.1)\n",
            "Requirement already satisfied: requests>=2.27.1 in /usr/local/lib/python3.10/dist-packages (from pycaret) (2.31.0)\n",
            "Requirement already satisfied: psutil>=5.9.0 in /usr/local/lib/python3.10/dist-packages (from pycaret) (5.9.5)\n",
            "Requirement already satisfied: markupsafe>=2.0.1 in /usr/local/lib/python3.10/dist-packages (from pycaret) (2.1.5)\n",
            "Requirement already satisfied: importlib-metadata>=4.12.0 in /usr/local/lib/python3.10/dist-packages (from pycaret) (7.1.0)\n",
            "Requirement already satisfied: nbformat>=4.2.0 in /usr/local/lib/python3.10/dist-packages (from pycaret) (5.10.4)\n",
            "Requirement already satisfied: cloudpickle in /usr/local/lib/python3.10/dist-packages (from pycaret) (2.2.1)\n",
            "Collecting deprecation>=2.1.0 (from pycaret)\n",
            "  Downloading deprecation-2.1.0-py2.py3-none-any.whl (11 kB)\n",
            "Collecting xxhash (from pycaret)\n",
            "  Downloading xxhash-3.4.1-cp310-cp310-manylinux_2_17_x86_64.manylinux2014_x86_64.whl (194 kB)\n",
            "\u001b[2K     \u001b[90m━━━━━━━━━━━━━━━━━━━━━━━━━━━━━━━━━━━━━━━━\u001b[0m \u001b[32m194.1/194.1 kB\u001b[0m \u001b[31m6.0 MB/s\u001b[0m eta \u001b[36m0:00:00\u001b[0m\n",
            "\u001b[?25hRequirement already satisfied: matplotlib<3.8.0 in /usr/local/lib/python3.10/dist-packages (from pycaret) (3.7.1)\n",
            "Collecting scikit-plot>=0.3.7 (from pycaret)\n",
            "  Downloading scikit_plot-0.3.7-py3-none-any.whl (33 kB)\n",
            "Requirement already satisfied: yellowbrick>=1.4 in /usr/local/lib/python3.10/dist-packages (from pycaret) (1.5)\n",
            "Requirement already satisfied: plotly>=5.14.0 in /usr/local/lib/python3.10/dist-packages (from pycaret) (5.15.0)\n",
            "Collecting kaleido>=0.2.1 (from pycaret)\n",
            "  Downloading kaleido-0.2.1-py2.py3-none-manylinux1_x86_64.whl (79.9 MB)\n",
            "\u001b[2K     \u001b[90m━━━━━━━━━━━━━━━━━━━━━━━━━━━━━━━━━━━━━━━━\u001b[0m \u001b[32m79.9/79.9 MB\u001b[0m \u001b[31m8.4 MB/s\u001b[0m eta \u001b[36m0:00:00\u001b[0m\n",
            "\u001b[?25hCollecting schemdraw==0.15 (from pycaret)\n",
            "  Downloading schemdraw-0.15-py3-none-any.whl (106 kB)\n",
            "\u001b[2K     \u001b[90m━━━━━━━━━━━━━━━━━━━━━━━━━━━━━━━━━━━━━━━━\u001b[0m \u001b[32m106.8/106.8 kB\u001b[0m \u001b[31m6.1 MB/s\u001b[0m eta \u001b[36m0:00:00\u001b[0m\n",
            "\u001b[?25hCollecting plotly-resampler>=0.8.3.1 (from pycaret)\n",
            "  Downloading plotly_resampler-0.10.0-py3-none-any.whl (80 kB)\n",
            "\u001b[2K     \u001b[90m━━━━━━━━━━━━━━━━━━━━━━━━━━━━━━━━━━━━━━━━\u001b[0m \u001b[32m80.7/80.7 kB\u001b[0m \u001b[31m6.2 MB/s\u001b[0m eta \u001b[36m0:00:00\u001b[0m\n",
            "\u001b[?25hRequirement already satisfied: statsmodels>=0.12.1 in /usr/local/lib/python3.10/dist-packages (from pycaret) (0.14.2)\n",
            "Collecting sktime==0.26.0 (from pycaret)\n",
            "  Downloading sktime-0.26.0-py3-none-any.whl (21.8 MB)\n",
            "\u001b[2K     \u001b[90m━━━━━━━━━━━━━━━━━━━━━━━━━━━━━━━━━━━━━━━━\u001b[0m \u001b[32m21.8/21.8 MB\u001b[0m \u001b[31m29.2 MB/s\u001b[0m eta \u001b[36m0:00:00\u001b[0m\n",
            "\u001b[?25hCollecting tbats>=1.1.3 (from pycaret)\n",
            "  Downloading tbats-1.1.3-py3-none-any.whl (44 kB)\n",
            "\u001b[2K     \u001b[90m━━━━━━━━━━━━━━━━━━━━━━━━━━━━━━━━━━━━━━━━\u001b[0m \u001b[32m44.0/44.0 kB\u001b[0m \u001b[31m2.9 MB/s\u001b[0m eta \u001b[36m0:00:00\u001b[0m\n",
            "\u001b[?25hCollecting pmdarima>=2.0.4 (from pycaret)\n",
            "  Downloading pmdarima-2.0.4-cp310-cp310-manylinux_2_17_x86_64.manylinux2014_x86_64.manylinux_2_28_x86_64.whl (2.1 MB)\n",
            "\u001b[2K     \u001b[90m━━━━━━━━━━━━━━━━━━━━━━━━━━━━━━━━━━━━━━━━\u001b[0m \u001b[32m2.1/2.1 MB\u001b[0m \u001b[31m29.1 MB/s\u001b[0m eta \u001b[36m0:00:00\u001b[0m\n",
            "\u001b[?25hCollecting wurlitzer (from pycaret)\n",
            "  Downloading wurlitzer-3.1.0-py3-none-any.whl (8.4 kB)\n",
            "Requirement already satisfied: packaging in /usr/local/lib/python3.10/dist-packages (from sktime==0.26.0->pycaret) (24.0)\n",
            "Collecting scikit-base<0.8.0 (from sktime==0.26.0->pycaret)\n",
            "  Downloading scikit_base-0.7.8-py3-none-any.whl (130 kB)\n",
            "\u001b[2K     \u001b[90m━━━━━━━━━━━━━━━━━━━━━━━━━━━━━━━━━━━━━━━━\u001b[0m \u001b[32m130.1/130.1 kB\u001b[0m \u001b[31m10.6 MB/s\u001b[0m eta \u001b[36m0:00:00\u001b[0m\n",
            "\u001b[?25hCollecting scikit-learn>1.4.0 (from pycaret)\n",
            "  Downloading scikit_learn-1.4.2-cp310-cp310-manylinux_2_17_x86_64.manylinux2014_x86_64.whl (12.1 MB)\n",
            "\u001b[2K     \u001b[90m━━━━━━━━━━━━━━━━━━━━━━━━━━━━━━━━━━━━━━━━\u001b[0m \u001b[32m12.1/12.1 MB\u001b[0m \u001b[31m42.0 MB/s\u001b[0m eta \u001b[36m0:00:00\u001b[0m\n",
            "\u001b[?25hRequirement already satisfied: patsy>=0.5.1 in /usr/local/lib/python3.10/dist-packages (from category-encoders>=2.4.0->pycaret) (0.5.6)\n",
            "Requirement already satisfied: threadpoolctl>=2.0.0 in /usr/local/lib/python3.10/dist-packages (from imbalanced-learn>=0.12.0->pycaret) (3.5.0)\n",
            "Requirement already satisfied: zipp>=0.5 in /usr/local/lib/python3.10/dist-packages (from importlib-metadata>=4.12.0->pycaret) (3.18.2)\n",
            "Requirement already satisfied: setuptools>=18.5 in /usr/local/lib/python3.10/dist-packages (from ipython>=5.5.0->pycaret) (67.7.2)\n",
            "Collecting jedi>=0.16 (from ipython>=5.5.0->pycaret)\n",
            "  Downloading jedi-0.19.1-py2.py3-none-any.whl (1.6 MB)\n",
            "\u001b[2K     \u001b[90m━━━━━━━━━━━━━━━━━━━━━━━━━━━━━━━━━━━━━━━━\u001b[0m \u001b[32m1.6/1.6 MB\u001b[0m \u001b[31m53.7 MB/s\u001b[0m eta \u001b[36m0:00:00\u001b[0m\n",
            "\u001b[?25hRequirement already satisfied: decorator in /usr/local/lib/python3.10/dist-packages (from ipython>=5.5.0->pycaret) (4.4.2)\n",
            "Requirement already satisfied: pickleshare in /usr/local/lib/python3.10/dist-packages (from ipython>=5.5.0->pycaret) (0.7.5)\n",
            "Requirement already satisfied: traitlets>=4.2 in /usr/local/lib/python3.10/dist-packages (from ipython>=5.5.0->pycaret) (5.7.1)\n",
            "Requirement already satisfied: prompt-toolkit!=3.0.0,!=3.0.1,<3.1.0,>=2.0.0 in /usr/local/lib/python3.10/dist-packages (from ipython>=5.5.0->pycaret) (3.0.43)\n",
            "Requirement already satisfied: pygments in /usr/local/lib/python3.10/dist-packages (from ipython>=5.5.0->pycaret) (2.16.1)\n",
            "Requirement already satisfied: backcall in /usr/local/lib/python3.10/dist-packages (from ipython>=5.5.0->pycaret) (0.2.0)\n",
            "Requirement already satisfied: matplotlib-inline in /usr/local/lib/python3.10/dist-packages (from ipython>=5.5.0->pycaret) (0.1.7)\n",
            "Requirement already satisfied: pexpect>4.3 in /usr/local/lib/python3.10/dist-packages (from ipython>=5.5.0->pycaret) (4.9.0)\n",
            "Requirement already satisfied: ipykernel>=4.5.1 in /usr/local/lib/python3.10/dist-packages (from ipywidgets>=7.6.5->pycaret) (5.5.6)\n",
            "Requirement already satisfied: ipython-genutils~=0.2.0 in /usr/local/lib/python3.10/dist-packages (from ipywidgets>=7.6.5->pycaret) (0.2.0)\n",
            "Requirement already satisfied: widgetsnbextension~=3.6.0 in /usr/local/lib/python3.10/dist-packages (from ipywidgets>=7.6.5->pycaret) (3.6.6)\n",
            "Requirement already satisfied: jupyterlab-widgets>=1.0.0 in /usr/local/lib/python3.10/dist-packages (from ipywidgets>=7.6.5->pycaret) (3.0.10)\n",
            "Requirement already satisfied: contourpy>=1.0.1 in /usr/local/lib/python3.10/dist-packages (from matplotlib<3.8.0->pycaret) (1.2.1)\n",
            "Requirement already satisfied: cycler>=0.10 in /usr/local/lib/python3.10/dist-packages (from matplotlib<3.8.0->pycaret) (0.12.1)\n",
            "Requirement already satisfied: fonttools>=4.22.0 in /usr/local/lib/python3.10/dist-packages (from matplotlib<3.8.0->pycaret) (4.51.0)\n",
            "Requirement already satisfied: kiwisolver>=1.0.1 in /usr/local/lib/python3.10/dist-packages (from matplotlib<3.8.0->pycaret) (1.4.5)\n",
            "Requirement already satisfied: pillow>=6.2.0 in /usr/local/lib/python3.10/dist-packages (from matplotlib<3.8.0->pycaret) (9.4.0)\n",
            "Requirement already satisfied: pyparsing>=2.3.1 in /usr/local/lib/python3.10/dist-packages (from matplotlib<3.8.0->pycaret) (3.1.2)\n",
            "Requirement already satisfied: python-dateutil>=2.7 in /usr/local/lib/python3.10/dist-packages (from matplotlib<3.8.0->pycaret) (2.8.2)\n",
            "Requirement already satisfied: fastjsonschema>=2.15 in /usr/local/lib/python3.10/dist-packages (from nbformat>=4.2.0->pycaret) (2.19.1)\n",
            "Requirement already satisfied: jsonschema>=2.6 in /usr/local/lib/python3.10/dist-packages (from nbformat>=4.2.0->pycaret) (4.19.2)\n",
            "Requirement already satisfied: jupyter-core!=5.0.*,>=4.12 in /usr/local/lib/python3.10/dist-packages (from nbformat>=4.2.0->pycaret) (5.7.2)\n",
            "Requirement already satisfied: llvmlite<0.42,>=0.41.0dev0 in /usr/local/lib/python3.10/dist-packages (from numba>=0.55.0->pycaret) (0.41.1)\n",
            "Requirement already satisfied: pytz>=2020.1 in /usr/local/lib/python3.10/dist-packages (from pandas<2.2.0->pycaret) (2023.4)\n",
            "Requirement already satisfied: tzdata>=2022.1 in /usr/local/lib/python3.10/dist-packages (from pandas<2.2.0->pycaret) (2024.1)\n",
            "Requirement already satisfied: tenacity>=6.2.0 in /usr/local/lib/python3.10/dist-packages (from plotly>=5.14.0->pycaret) (8.3.0)\n",
            "Collecting dash>=2.9.0 (from plotly-resampler>=0.8.3.1->pycaret)\n",
            "  Downloading dash-2.17.0-py3-none-any.whl (7.5 MB)\n",
            "\u001b[2K     \u001b[90m━━━━━━━━━━━━━━━━━━━━━━━━━━━━━━━━━━━━━━━━\u001b[0m \u001b[32m7.5/7.5 MB\u001b[0m \u001b[31m56.2 MB/s\u001b[0m eta \u001b[36m0:00:00\u001b[0m\n",
            "\u001b[?25hCollecting orjson<4.0.0,>=3.8.0 (from plotly-resampler>=0.8.3.1->pycaret)\n",
            "  Downloading orjson-3.10.3-cp310-cp310-manylinux_2_17_x86_64.manylinux2014_x86_64.whl (142 kB)\n",
            "\u001b[2K     \u001b[90m━━━━━━━━━━━━━━━━━━━━━━━━━━━━━━━━━━━━━━━━\u001b[0m \u001b[32m142.5/142.5 kB\u001b[0m \u001b[31m4.2 MB/s\u001b[0m eta \u001b[36m0:00:00\u001b[0m\n",
            "\u001b[?25hCollecting tsdownsample>=0.1.3 (from plotly-resampler>=0.8.3.1->pycaret)\n",
            "  Downloading tsdownsample-0.1.3-cp310-cp310-manylinux_2_17_x86_64.manylinux2014_x86_64.whl (2.1 MB)\n",
            "\u001b[2K     \u001b[90m━━━━━━━━━━━━━━━━━━━━━━━━━━━━━━━━━━━━━━━━\u001b[0m \u001b[32m2.1/2.1 MB\u001b[0m \u001b[31m38.9 MB/s\u001b[0m eta \u001b[36m0:00:00\u001b[0m\n",
            "\u001b[?25hRequirement already satisfied: Cython!=0.29.18,!=0.29.31,>=0.29 in /usr/local/lib/python3.10/dist-packages (from pmdarima>=2.0.4->pycaret) (3.0.10)\n",
            "Requirement already satisfied: urllib3 in /usr/local/lib/python3.10/dist-packages (from pmdarima>=2.0.4->pycaret) (2.0.7)\n",
            "Requirement already satisfied: six in /usr/local/lib/python3.10/dist-packages (from pyod>=1.1.3->pycaret) (1.16.0)\n",
            "Requirement already satisfied: charset-normalizer<4,>=2 in /usr/local/lib/python3.10/dist-packages (from requests>=2.27.1->pycaret) (3.3.2)\n",
            "Requirement already satisfied: idna<4,>=2.5 in /usr/local/lib/python3.10/dist-packages (from requests>=2.27.1->pycaret) (3.7)\n",
            "Requirement already satisfied: certifi>=2017.4.17 in /usr/local/lib/python3.10/dist-packages (from requests>=2.27.1->pycaret) (2024.2.2)\n",
            "Requirement already satisfied: Flask<3.1,>=1.0.4 in /usr/local/lib/python3.10/dist-packages (from dash>=2.9.0->plotly-resampler>=0.8.3.1->pycaret) (2.2.5)\n",
            "Requirement already satisfied: Werkzeug<3.1 in /usr/local/lib/python3.10/dist-packages (from dash>=2.9.0->plotly-resampler>=0.8.3.1->pycaret) (3.0.3)\n",
            "Collecting dash-html-components==2.0.0 (from dash>=2.9.0->plotly-resampler>=0.8.3.1->pycaret)\n",
            "  Downloading dash_html_components-2.0.0-py3-none-any.whl (4.1 kB)\n",
            "Collecting dash-core-components==2.0.0 (from dash>=2.9.0->plotly-resampler>=0.8.3.1->pycaret)\n",
            "  Downloading dash_core_components-2.0.0-py3-none-any.whl (3.8 kB)\n",
            "Collecting dash-table==5.0.0 (from dash>=2.9.0->plotly-resampler>=0.8.3.1->pycaret)\n",
            "  Downloading dash_table-5.0.0-py3-none-any.whl (3.9 kB)\n",
            "Requirement already satisfied: typing-extensions>=4.1.1 in /usr/local/lib/python3.10/dist-packages (from dash>=2.9.0->plotly-resampler>=0.8.3.1->pycaret) (4.11.0)\n",
            "Collecting retrying (from dash>=2.9.0->plotly-resampler>=0.8.3.1->pycaret)\n",
            "  Downloading retrying-1.3.4-py3-none-any.whl (11 kB)\n",
            "Requirement already satisfied: nest-asyncio in /usr/local/lib/python3.10/dist-packages (from dash>=2.9.0->plotly-resampler>=0.8.3.1->pycaret) (1.6.0)\n",
            "Requirement already satisfied: jupyter-client in /usr/local/lib/python3.10/dist-packages (from ipykernel>=4.5.1->ipywidgets>=7.6.5->pycaret) (6.1.12)\n",
            "Requirement already satisfied: tornado>=4.2 in /usr/local/lib/python3.10/dist-packages (from ipykernel>=4.5.1->ipywidgets>=7.6.5->pycaret) (6.3.3)\n",
            "Requirement already satisfied: parso<0.9.0,>=0.8.3 in /usr/local/lib/python3.10/dist-packages (from jedi>=0.16->ipython>=5.5.0->pycaret) (0.8.4)\n",
            "Requirement already satisfied: attrs>=22.2.0 in /usr/local/lib/python3.10/dist-packages (from jsonschema>=2.6->nbformat>=4.2.0->pycaret) (23.2.0)\n",
            "Requirement already satisfied: jsonschema-specifications>=2023.03.6 in /usr/local/lib/python3.10/dist-packages (from jsonschema>=2.6->nbformat>=4.2.0->pycaret) (2023.12.1)\n",
            "Requirement already satisfied: referencing>=0.28.4 in /usr/local/lib/python3.10/dist-packages (from jsonschema>=2.6->nbformat>=4.2.0->pycaret) (0.35.1)\n",
            "Requirement already satisfied: rpds-py>=0.7.1 in /usr/local/lib/python3.10/dist-packages (from jsonschema>=2.6->nbformat>=4.2.0->pycaret) (0.18.1)\n",
            "Requirement already satisfied: platformdirs>=2.5 in /usr/local/lib/python3.10/dist-packages (from jupyter-core!=5.0.*,>=4.12->nbformat>=4.2.0->pycaret) (4.2.2)\n",
            "Requirement already satisfied: ptyprocess>=0.5 in /usr/local/lib/python3.10/dist-packages (from pexpect>4.3->ipython>=5.5.0->pycaret) (0.7.0)\n",
            "Requirement already satisfied: wcwidth in /usr/local/lib/python3.10/dist-packages (from prompt-toolkit!=3.0.0,!=3.0.1,<3.1.0,>=2.0.0->ipython>=5.5.0->pycaret) (0.2.13)\n",
            "Requirement already satisfied: notebook>=4.4.1 in /usr/local/lib/python3.10/dist-packages (from widgetsnbextension~=3.6.0->ipywidgets>=7.6.5->pycaret) (6.5.5)\n",
            "Requirement already satisfied: itsdangerous>=2.0 in /usr/local/lib/python3.10/dist-packages (from Flask<3.1,>=1.0.4->dash>=2.9.0->plotly-resampler>=0.8.3.1->pycaret) (2.2.0)\n",
            "Requirement already satisfied: click>=8.0 in /usr/local/lib/python3.10/dist-packages (from Flask<3.1,>=1.0.4->dash>=2.9.0->plotly-resampler>=0.8.3.1->pycaret) (8.1.7)\n",
            "Requirement already satisfied: pyzmq<25,>=17 in /usr/local/lib/python3.10/dist-packages (from notebook>=4.4.1->widgetsnbextension~=3.6.0->ipywidgets>=7.6.5->pycaret) (24.0.1)\n",
            "Requirement already satisfied: argon2-cffi in /usr/local/lib/python3.10/dist-packages (from notebook>=4.4.1->widgetsnbextension~=3.6.0->ipywidgets>=7.6.5->pycaret) (23.1.0)\n",
            "Requirement already satisfied: nbconvert>=5 in /usr/local/lib/python3.10/dist-packages (from notebook>=4.4.1->widgetsnbextension~=3.6.0->ipywidgets>=7.6.5->pycaret) (6.5.4)\n",
            "Requirement already satisfied: Send2Trash>=1.8.0 in /usr/local/lib/python3.10/dist-packages (from notebook>=4.4.1->widgetsnbextension~=3.6.0->ipywidgets>=7.6.5->pycaret) (1.8.3)\n",
            "Requirement already satisfied: terminado>=0.8.3 in /usr/local/lib/python3.10/dist-packages (from notebook>=4.4.1->widgetsnbextension~=3.6.0->ipywidgets>=7.6.5->pycaret) (0.18.1)\n",
            "Requirement already satisfied: prometheus-client in /usr/local/lib/python3.10/dist-packages (from notebook>=4.4.1->widgetsnbextension~=3.6.0->ipywidgets>=7.6.5->pycaret) (0.20.0)\n",
            "Requirement already satisfied: nbclassic>=0.4.7 in /usr/local/lib/python3.10/dist-packages (from notebook>=4.4.1->widgetsnbextension~=3.6.0->ipywidgets>=7.6.5->pycaret) (1.0.0)\n",
            "Requirement already satisfied: jupyter-server>=1.8 in /usr/local/lib/python3.10/dist-packages (from nbclassic>=0.4.7->notebook>=4.4.1->widgetsnbextension~=3.6.0->ipywidgets>=7.6.5->pycaret) (1.24.0)\n",
            "Requirement already satisfied: notebook-shim>=0.2.3 in /usr/local/lib/python3.10/dist-packages (from nbclassic>=0.4.7->notebook>=4.4.1->widgetsnbextension~=3.6.0->ipywidgets>=7.6.5->pycaret) (0.2.4)\n",
            "Requirement already satisfied: lxml in /usr/local/lib/python3.10/dist-packages (from nbconvert>=5->notebook>=4.4.1->widgetsnbextension~=3.6.0->ipywidgets>=7.6.5->pycaret) (4.9.4)\n",
            "Requirement already satisfied: beautifulsoup4 in /usr/local/lib/python3.10/dist-packages (from nbconvert>=5->notebook>=4.4.1->widgetsnbextension~=3.6.0->ipywidgets>=7.6.5->pycaret) (4.12.3)\n",
            "Requirement already satisfied: bleach in /usr/local/lib/python3.10/dist-packages (from nbconvert>=5->notebook>=4.4.1->widgetsnbextension~=3.6.0->ipywidgets>=7.6.5->pycaret) (6.1.0)\n",
            "Requirement already satisfied: defusedxml in /usr/local/lib/python3.10/dist-packages (from nbconvert>=5->notebook>=4.4.1->widgetsnbextension~=3.6.0->ipywidgets>=7.6.5->pycaret) (0.7.1)\n",
            "Requirement already satisfied: entrypoints>=0.2.2 in /usr/local/lib/python3.10/dist-packages (from nbconvert>=5->notebook>=4.4.1->widgetsnbextension~=3.6.0->ipywidgets>=7.6.5->pycaret) (0.4)\n",
            "Requirement already satisfied: jupyterlab-pygments in /usr/local/lib/python3.10/dist-packages (from nbconvert>=5->notebook>=4.4.1->widgetsnbextension~=3.6.0->ipywidgets>=7.6.5->pycaret) (0.3.0)\n",
            "Requirement already satisfied: mistune<2,>=0.8.1 in /usr/local/lib/python3.10/dist-packages (from nbconvert>=5->notebook>=4.4.1->widgetsnbextension~=3.6.0->ipywidgets>=7.6.5->pycaret) (0.8.4)\n",
            "Requirement already satisfied: nbclient>=0.5.0 in /usr/local/lib/python3.10/dist-packages (from nbconvert>=5->notebook>=4.4.1->widgetsnbextension~=3.6.0->ipywidgets>=7.6.5->pycaret) (0.10.0)\n",
            "Requirement already satisfied: pandocfilters>=1.4.1 in /usr/local/lib/python3.10/dist-packages (from nbconvert>=5->notebook>=4.4.1->widgetsnbextension~=3.6.0->ipywidgets>=7.6.5->pycaret) (1.5.1)\n",
            "Requirement already satisfied: tinycss2 in /usr/local/lib/python3.10/dist-packages (from nbconvert>=5->notebook>=4.4.1->widgetsnbextension~=3.6.0->ipywidgets>=7.6.5->pycaret) (1.3.0)\n",
            "Requirement already satisfied: argon2-cffi-bindings in /usr/local/lib/python3.10/dist-packages (from argon2-cffi->notebook>=4.4.1->widgetsnbextension~=3.6.0->ipywidgets>=7.6.5->pycaret) (21.2.0)\n",
            "Requirement already satisfied: anyio<4,>=3.1.0 in /usr/local/lib/python3.10/dist-packages (from jupyter-server>=1.8->nbclassic>=0.4.7->notebook>=4.4.1->widgetsnbextension~=3.6.0->ipywidgets>=7.6.5->pycaret) (3.7.1)\n",
            "Requirement already satisfied: websocket-client in /usr/local/lib/python3.10/dist-packages (from jupyter-server>=1.8->nbclassic>=0.4.7->notebook>=4.4.1->widgetsnbextension~=3.6.0->ipywidgets>=7.6.5->pycaret) (1.8.0)\n",
            "Requirement already satisfied: cffi>=1.0.1 in /usr/local/lib/python3.10/dist-packages (from argon2-cffi-bindings->argon2-cffi->notebook>=4.4.1->widgetsnbextension~=3.6.0->ipywidgets>=7.6.5->pycaret) (1.16.0)\n",
            "Requirement already satisfied: soupsieve>1.2 in /usr/local/lib/python3.10/dist-packages (from beautifulsoup4->nbconvert>=5->notebook>=4.4.1->widgetsnbextension~=3.6.0->ipywidgets>=7.6.5->pycaret) (2.5)\n",
            "Requirement already satisfied: webencodings in /usr/local/lib/python3.10/dist-packages (from bleach->nbconvert>=5->notebook>=4.4.1->widgetsnbextension~=3.6.0->ipywidgets>=7.6.5->pycaret) (0.5.1)\n",
            "Requirement already satisfied: sniffio>=1.1 in /usr/local/lib/python3.10/dist-packages (from anyio<4,>=3.1.0->jupyter-server>=1.8->nbclassic>=0.4.7->notebook>=4.4.1->widgetsnbextension~=3.6.0->ipywidgets>=7.6.5->pycaret) (1.3.1)\n",
            "Requirement already satisfied: exceptiongroup in /usr/local/lib/python3.10/dist-packages (from anyio<4,>=3.1.0->jupyter-server>=1.8->nbclassic>=0.4.7->notebook>=4.4.1->widgetsnbextension~=3.6.0->ipywidgets>=7.6.5->pycaret) (1.2.1)\n",
            "Requirement already satisfied: pycparser in /usr/local/lib/python3.10/dist-packages (from cffi>=1.0.1->argon2-cffi-bindings->argon2-cffi->notebook>=4.4.1->widgetsnbextension~=3.6.0->ipywidgets>=7.6.5->pycaret) (2.22)\n",
            "Building wheels for collected packages: pyod\n",
            "  Building wheel for pyod (setup.py) ... \u001b[?25l\u001b[?25hdone\n",
            "  Created wheel for pyod: filename=pyod-1.1.3-py3-none-any.whl size=190250 sha256=8ac184a9fde806697fcfd30c6c8862e7007ce432c6074a2fd4c959973e35f824\n",
            "  Stored in directory: /root/.cache/pip/wheels/05/f8/db/124d43bec122d6ec0ab3713fadfe25ebed8af52ec561682b4e\n",
            "Successfully built pyod\n",
            "Installing collected packages: kaleido, dash-table, dash-html-components, dash-core-components, xxhash, wurlitzer, tsdownsample, scikit-base, schemdraw, retrying, orjson, joblib, jedi, deprecation, scikit-learn, sktime, scikit-plot, pyod, imbalanced-learn, dash, pmdarima, plotly-resampler, category-encoders, tbats, pycaret\n",
            "  Attempting uninstall: joblib\n",
            "    Found existing installation: joblib 1.4.2\n",
            "    Uninstalling joblib-1.4.2:\n",
            "      Successfully uninstalled joblib-1.4.2\n",
            "  Attempting uninstall: scikit-learn\n",
            "    Found existing installation: scikit-learn 1.2.2\n",
            "    Uninstalling scikit-learn-1.2.2:\n",
            "      Successfully uninstalled scikit-learn-1.2.2\n",
            "  Attempting uninstall: imbalanced-learn\n",
            "    Found existing installation: imbalanced-learn 0.10.1\n",
            "    Uninstalling imbalanced-learn-0.10.1:\n",
            "      Successfully uninstalled imbalanced-learn-0.10.1\n",
            "Successfully installed category-encoders-2.6.3 dash-2.17.0 dash-core-components-2.0.0 dash-html-components-2.0.0 dash-table-5.0.0 deprecation-2.1.0 imbalanced-learn-0.12.3 jedi-0.19.1 joblib-1.3.2 kaleido-0.2.1 orjson-3.10.3 plotly-resampler-0.10.0 pmdarima-2.0.4 pycaret-3.3.2 pyod-1.1.3 retrying-1.3.4 schemdraw-0.15 scikit-base-0.7.8 scikit-learn-1.4.2 scikit-plot-0.3.7 sktime-0.26.0 tbats-1.1.3 tsdownsample-0.1.3 wurlitzer-3.1.0 xxhash-3.4.1\n"
          ]
        }
      ],
      "source": [
        "!pip install pycaret\n"
      ]
    },
    {
      "cell_type": "code",
      "source": [
        "import pycaret\n",
        "pycaret.__version__\n"
      ],
      "metadata": {
        "colab": {
          "base_uri": "https://localhost:8080/",
          "height": 35
        },
        "id": "DfpDNhPVRn1A",
        "outputId": "d822c840-f909-48e6-94fc-7f13e7faf74e"
      },
      "execution_count": null,
      "outputs": [
        {
          "output_type": "execute_result",
          "data": {
            "text/plain": [
              "'3.3.2'"
            ],
            "application/vnd.google.colaboratory.intrinsic+json": {
              "type": "string"
            }
          },
          "metadata": {},
          "execution_count": 2
        }
      ]
    },
    {
      "cell_type": "code",
      "source": [
        "import os\n",
        "import requests\n",
        "from zipfile import ZipFile\n",
        "from urllib.request import urlretrieve\n",
        "import pandas as pd\n",
        "import numpy as np\n",
        "import altair as alt\n",
        "from vega_datasets import data\n",
        "%matplotlib inline\n",
        "import seaborn as sns\n",
        "sns.set()\n",
        "import matplotlib.pyplot as plt\n",
        "from sklearn.model_selection import train_test_split\n",
        "from sklearn.preprocessing import StandardScaler, OneHotEncoder\n",
        "import statsmodels.api as sm\n",
        "from sklearn.feature_selection import RFECV\n",
        "from sklearn.ensemble import RandomForestClassifier\n",
        "from sklearn.experimental import enable_iterative_imputer\n",
        "from sklearn.impute import IterativeImputer\n",
        "from imblearn.over_sampling import SMOTE\n",
        "from sklearn.metrics import recall_score, precision_score, accuracy_score, f1_score"
      ],
      "metadata": {
        "id": "vEFrQGZaRvP9"
      },
      "execution_count": null,
      "outputs": []
    },
    {
      "cell_type": "markdown",
      "source": [
        "Loading the prepocessed dataset"
      ],
      "metadata": {
        "id": "h_dp8qImXfdr"
      }
    },
    {
      "cell_type": "code",
      "source": [
        "data = pd.read_csv('clean_df.csv')"
      ],
      "metadata": {
        "id": "Es4-GNxwR9O4"
      },
      "execution_count": null,
      "outputs": []
    },
    {
      "cell_type": "code",
      "source": [
        "data.columns"
      ],
      "metadata": {
        "colab": {
          "base_uri": "https://localhost:8080/"
        },
        "id": "gMQCQarCbbDy",
        "outputId": "7a48473f-4640-42b1-9530-396a060e855f"
      },
      "execution_count": null,
      "outputs": [
        {
          "output_type": "execute_result",
          "data": {
            "text/plain": [
              "Index(['Gender', 'Num of Bad Mental Health Days', 'Could Afford Doctor',\n",
              "       'Years Since Last Checkup', 'Exercise in Past 30 Days',\n",
              "       'Hours of Sleeping', 'Heart Attack', 'Heart Disease', 'Stroke',\n",
              "       'Asthma', 'Cancer', 'Depression', 'Kidney Disease', 'Arthritis',\n",
              "       'Diabetes', 'Married', 'Deaf', 'Blind', 'Mammogram', 'Smoked 100',\n",
              "       'Smokeless Tobacco', 'Cigarettes per Day', 'CT Scan', 'CT for Cancer',\n",
              "       'Drinks per Session', 'Flu Vaccine', 'Pneumonia Vaccine',\n",
              "       'Tetanus Last 10 Years', 'Had COVID', 'Metropolitan',\n",
              "       'Weight in Pounds', 'Height in Inches', 'Insulin',\n",
              "       'General Health_Excellent', 'General Health_Fair',\n",
              "       'General Health_Good', 'General Health_Poor',\n",
              "       'General Health_Very good',\n",
              "       'Ethnicity_American Indian and Alaskan Native',\n",
              "       'Ethnicity_Asian and Pacific Islander', 'Ethnicity_Black',\n",
              "       'Ethnicity_Hispanic', 'Ethnicity_Multiracial, non-Hispanic',\n",
              "       'Ethnicity_White', 'Education_attended_college',\n",
              "       'Education_did_not_graduate_high_school', 'Education_graduated_college',\n",
              "       'Education_graduated_high_school', 'BMI Category_normal_weight',\n",
              "       'BMI Category_obese', 'BMI Category_over_weight',\n",
              "       'BMI Category_underweight'],\n",
              "      dtype='object')"
            ]
          },
          "metadata": {},
          "execution_count": 22
        }
      ]
    },
    {
      "cell_type": "code",
      "source": [
        "data = data.drop(['General Health_Excellent', 'General Health_Fair',\n",
        "       'General Health_Good', 'General Health_Poor',\n",
        "       'General Health_Very good', 'CT Scan', 'CT for Cancer'], axis=1)"
      ],
      "metadata": {
        "id": "HAoMc9KPR9_s"
      },
      "execution_count": null,
      "outputs": []
    },
    {
      "cell_type": "code",
      "source": [
        "data.columns"
      ],
      "metadata": {
        "colab": {
          "base_uri": "https://localhost:8080/"
        },
        "id": "TxffBgbGb0Gf",
        "outputId": "aa9ea289-d55d-4206-9707-bd198e0ba377"
      },
      "execution_count": null,
      "outputs": [
        {
          "output_type": "execute_result",
          "data": {
            "text/plain": [
              "Index(['Gender', 'Num of Bad Mental Health Days', 'Could Afford Doctor',\n",
              "       'Years Since Last Checkup', 'Exercise in Past 30 Days',\n",
              "       'Hours of Sleeping', 'Heart Attack', 'Heart Disease', 'Stroke',\n",
              "       'Asthma', 'Cancer', 'Depression', 'Kidney Disease', 'Arthritis',\n",
              "       'Diabetes', 'Married', 'Deaf', 'Blind', 'Mammogram', 'Smoked 100',\n",
              "       'Smokeless Tobacco', 'Cigarettes per Day', 'Drinks per Session',\n",
              "       'Flu Vaccine', 'Pneumonia Vaccine', 'Tetanus Last 10 Years',\n",
              "       'Had COVID', 'Metropolitan', 'Weight in Pounds', 'Height in Inches',\n",
              "       'Insulin', 'Ethnicity_American Indian and Alaskan Native',\n",
              "       'Ethnicity_Asian and Pacific Islander', 'Ethnicity_Black',\n",
              "       'Ethnicity_Hispanic', 'Ethnicity_Multiracial, non-Hispanic',\n",
              "       'Ethnicity_White', 'Education_attended_college',\n",
              "       'Education_did_not_graduate_high_school', 'Education_graduated_college',\n",
              "       'Education_graduated_high_school', 'BMI Category_normal_weight',\n",
              "       'BMI Category_obese', 'BMI Category_over_weight',\n",
              "       'BMI Category_underweight'],\n",
              "      dtype='object')"
            ]
          },
          "metadata": {},
          "execution_count": 27
        }
      ]
    },
    {
      "cell_type": "code",
      "source": [
        "data = data.dropna()"
      ],
      "metadata": {
        "id": "wHYRkd7GSlmO"
      },
      "execution_count": null,
      "outputs": []
    },
    {
      "cell_type": "code",
      "source": [
        "#data.isnull().sum()"
      ],
      "metadata": {
        "id": "e0M2x-58SymA"
      },
      "execution_count": null,
      "outputs": []
    },
    {
      "cell_type": "code",
      "source": [
        "X= data.drop('Cancer', axis=1)\n",
        "y=data.Cancer\n",
        "\n",
        "X_train, X_test, y_train, y_test = train_test_split(X,y)\n",
        "\n",
        "smote=SMOTE()\n",
        "X_train, y_train = smote.fit_resample(X_train,y_train)"
      ],
      "metadata": {
        "id": "LOJSzWwdSPRm"
      },
      "execution_count": null,
      "outputs": []
    },
    {
      "cell_type": "code",
      "source": [
        "from pycaret.classification import *\n",
        "s = setup(X_train, target= y_train, session_id = 123)\n"
      ],
      "metadata": {
        "colab": {
          "base_uri": "https://localhost:8080/",
          "height": 757
        },
        "id": "foCZsgVhSxyU",
        "outputId": "bb0c0c71-5ea3-4b55-e88e-fabd34dbdac4"
      },
      "execution_count": null,
      "outputs": [
        {
          "output_type": "stream",
          "name": "stdout",
          "text": [
            "Warning: No categorical columns found. Calling 'transform' will only return input data.\n"
          ]
        },
        {
          "output_type": "display_data",
          "data": {
            "text/plain": [
              "<pandas.io.formats.style.Styler at 0x7d47dbdd2230>"
            ],
            "text/html": [
              "<style type=\"text/css\">\n",
              "#T_c42de_row9_col1 {\n",
              "  background-color: lightgreen;\n",
              "}\n",
              "</style>\n",
              "<table id=\"T_c42de\" class=\"dataframe\">\n",
              "  <thead>\n",
              "    <tr>\n",
              "      <th class=\"blank level0\" >&nbsp;</th>\n",
              "      <th id=\"T_c42de_level0_col0\" class=\"col_heading level0 col0\" >Description</th>\n",
              "      <th id=\"T_c42de_level0_col1\" class=\"col_heading level0 col1\" >Value</th>\n",
              "    </tr>\n",
              "  </thead>\n",
              "  <tbody>\n",
              "    <tr>\n",
              "      <th id=\"T_c42de_level0_row0\" class=\"row_heading level0 row0\" >0</th>\n",
              "      <td id=\"T_c42de_row0_col0\" class=\"data row0 col0\" >Session id</td>\n",
              "      <td id=\"T_c42de_row0_col1\" class=\"data row0 col1\" >123</td>\n",
              "    </tr>\n",
              "    <tr>\n",
              "      <th id=\"T_c42de_level0_row1\" class=\"row_heading level0 row1\" >1</th>\n",
              "      <td id=\"T_c42de_row1_col0\" class=\"data row1 col0\" >Target</td>\n",
              "      <td id=\"T_c42de_row1_col1\" class=\"data row1 col1\" >Cancer</td>\n",
              "    </tr>\n",
              "    <tr>\n",
              "      <th id=\"T_c42de_level0_row2\" class=\"row_heading level0 row2\" >2</th>\n",
              "      <td id=\"T_c42de_row2_col0\" class=\"data row2 col0\" >Target type</td>\n",
              "      <td id=\"T_c42de_row2_col1\" class=\"data row2 col1\" >Binary</td>\n",
              "    </tr>\n",
              "    <tr>\n",
              "      <th id=\"T_c42de_level0_row3\" class=\"row_heading level0 row3\" >3</th>\n",
              "      <td id=\"T_c42de_row3_col0\" class=\"data row3 col0\" >Original data shape</td>\n",
              "      <td id=\"T_c42de_row3_col1\" class=\"data row3 col1\" >(143030, 45)</td>\n",
              "    </tr>\n",
              "    <tr>\n",
              "      <th id=\"T_c42de_level0_row4\" class=\"row_heading level0 row4\" >4</th>\n",
              "      <td id=\"T_c42de_row4_col0\" class=\"data row4 col0\" >Transformed data shape</td>\n",
              "      <td id=\"T_c42de_row4_col1\" class=\"data row4 col1\" >(143030, 45)</td>\n",
              "    </tr>\n",
              "    <tr>\n",
              "      <th id=\"T_c42de_level0_row5\" class=\"row_heading level0 row5\" >5</th>\n",
              "      <td id=\"T_c42de_row5_col0\" class=\"data row5 col0\" >Transformed train set shape</td>\n",
              "      <td id=\"T_c42de_row5_col1\" class=\"data row5 col1\" >(100121, 45)</td>\n",
              "    </tr>\n",
              "    <tr>\n",
              "      <th id=\"T_c42de_level0_row6\" class=\"row_heading level0 row6\" >6</th>\n",
              "      <td id=\"T_c42de_row6_col0\" class=\"data row6 col0\" >Transformed test set shape</td>\n",
              "      <td id=\"T_c42de_row6_col1\" class=\"data row6 col1\" >(42909, 45)</td>\n",
              "    </tr>\n",
              "    <tr>\n",
              "      <th id=\"T_c42de_level0_row7\" class=\"row_heading level0 row7\" >7</th>\n",
              "      <td id=\"T_c42de_row7_col0\" class=\"data row7 col0\" >Numeric features</td>\n",
              "      <td id=\"T_c42de_row7_col1\" class=\"data row7 col1\" >30</td>\n",
              "    </tr>\n",
              "    <tr>\n",
              "      <th id=\"T_c42de_level0_row8\" class=\"row_heading level0 row8\" >8</th>\n",
              "      <td id=\"T_c42de_row8_col0\" class=\"data row8 col0\" >Categorical features</td>\n",
              "      <td id=\"T_c42de_row8_col1\" class=\"data row8 col1\" >14</td>\n",
              "    </tr>\n",
              "    <tr>\n",
              "      <th id=\"T_c42de_level0_row9\" class=\"row_heading level0 row9\" >9</th>\n",
              "      <td id=\"T_c42de_row9_col0\" class=\"data row9 col0\" >Preprocess</td>\n",
              "      <td id=\"T_c42de_row9_col1\" class=\"data row9 col1\" >True</td>\n",
              "    </tr>\n",
              "    <tr>\n",
              "      <th id=\"T_c42de_level0_row10\" class=\"row_heading level0 row10\" >10</th>\n",
              "      <td id=\"T_c42de_row10_col0\" class=\"data row10 col0\" >Imputation type</td>\n",
              "      <td id=\"T_c42de_row10_col1\" class=\"data row10 col1\" >simple</td>\n",
              "    </tr>\n",
              "    <tr>\n",
              "      <th id=\"T_c42de_level0_row11\" class=\"row_heading level0 row11\" >11</th>\n",
              "      <td id=\"T_c42de_row11_col0\" class=\"data row11 col0\" >Numeric imputation</td>\n",
              "      <td id=\"T_c42de_row11_col1\" class=\"data row11 col1\" >mean</td>\n",
              "    </tr>\n",
              "    <tr>\n",
              "      <th id=\"T_c42de_level0_row12\" class=\"row_heading level0 row12\" >12</th>\n",
              "      <td id=\"T_c42de_row12_col0\" class=\"data row12 col0\" >Categorical imputation</td>\n",
              "      <td id=\"T_c42de_row12_col1\" class=\"data row12 col1\" >mode</td>\n",
              "    </tr>\n",
              "    <tr>\n",
              "      <th id=\"T_c42de_level0_row13\" class=\"row_heading level0 row13\" >13</th>\n",
              "      <td id=\"T_c42de_row13_col0\" class=\"data row13 col0\" >Maximum one-hot encoding</td>\n",
              "      <td id=\"T_c42de_row13_col1\" class=\"data row13 col1\" >25</td>\n",
              "    </tr>\n",
              "    <tr>\n",
              "      <th id=\"T_c42de_level0_row14\" class=\"row_heading level0 row14\" >14</th>\n",
              "      <td id=\"T_c42de_row14_col0\" class=\"data row14 col0\" >Encoding method</td>\n",
              "      <td id=\"T_c42de_row14_col1\" class=\"data row14 col1\" >None</td>\n",
              "    </tr>\n",
              "    <tr>\n",
              "      <th id=\"T_c42de_level0_row15\" class=\"row_heading level0 row15\" >15</th>\n",
              "      <td id=\"T_c42de_row15_col0\" class=\"data row15 col0\" >Fold Generator</td>\n",
              "      <td id=\"T_c42de_row15_col1\" class=\"data row15 col1\" >StratifiedKFold</td>\n",
              "    </tr>\n",
              "    <tr>\n",
              "      <th id=\"T_c42de_level0_row16\" class=\"row_heading level0 row16\" >16</th>\n",
              "      <td id=\"T_c42de_row16_col0\" class=\"data row16 col0\" >Fold Number</td>\n",
              "      <td id=\"T_c42de_row16_col1\" class=\"data row16 col1\" >10</td>\n",
              "    </tr>\n",
              "    <tr>\n",
              "      <th id=\"T_c42de_level0_row17\" class=\"row_heading level0 row17\" >17</th>\n",
              "      <td id=\"T_c42de_row17_col0\" class=\"data row17 col0\" >CPU Jobs</td>\n",
              "      <td id=\"T_c42de_row17_col1\" class=\"data row17 col1\" >-1</td>\n",
              "    </tr>\n",
              "    <tr>\n",
              "      <th id=\"T_c42de_level0_row18\" class=\"row_heading level0 row18\" >18</th>\n",
              "      <td id=\"T_c42de_row18_col0\" class=\"data row18 col0\" >Use GPU</td>\n",
              "      <td id=\"T_c42de_row18_col1\" class=\"data row18 col1\" >False</td>\n",
              "    </tr>\n",
              "    <tr>\n",
              "      <th id=\"T_c42de_level0_row19\" class=\"row_heading level0 row19\" >19</th>\n",
              "      <td id=\"T_c42de_row19_col0\" class=\"data row19 col0\" >Log Experiment</td>\n",
              "      <td id=\"T_c42de_row19_col1\" class=\"data row19 col1\" >False</td>\n",
              "    </tr>\n",
              "    <tr>\n",
              "      <th id=\"T_c42de_level0_row20\" class=\"row_heading level0 row20\" >20</th>\n",
              "      <td id=\"T_c42de_row20_col0\" class=\"data row20 col0\" >Experiment Name</td>\n",
              "      <td id=\"T_c42de_row20_col1\" class=\"data row20 col1\" >clf-default-name</td>\n",
              "    </tr>\n",
              "    <tr>\n",
              "      <th id=\"T_c42de_level0_row21\" class=\"row_heading level0 row21\" >21</th>\n",
              "      <td id=\"T_c42de_row21_col0\" class=\"data row21 col0\" >USI</td>\n",
              "      <td id=\"T_c42de_row21_col1\" class=\"data row21 col1\" >ce3c</td>\n",
              "    </tr>\n",
              "  </tbody>\n",
              "</table>\n"
            ]
          },
          "metadata": {}
        }
      ]
    },
    {
      "cell_type": "code",
      "source": [
        "best = compare_models(n_select = 3)"
      ],
      "metadata": {
        "colab": {
          "base_uri": "https://localhost:8080/",
          "height": 520,
          "referenced_widgets": [
            "68bb6552c4ad4cd8baa4e54562ab847f",
            "6349ecb8dcf74f4c84d1c15ee117f07c",
            "44eefe6aaac14dcca9e121165bead501",
            "04055ce9cc944f0791e4ac6b6087d7ed",
            "dd3e778d0d3b45d79f1dea600ad20c17",
            "784655e5583a43709c843227b574dae9",
            "e6440fe5d1ad4a1fa470a838de4f17e7",
            "7bcc73056d9e4e6ea9339d65a2f33afc",
            "9a1c5a1dbe64411d8c75d5467135307f",
            "055f7e3f7e9d4d208d9eab23dd32a0ae",
            "2c61a264fe854090bf3b5359a971d6de"
          ]
        },
        "id": "pTpFHFmWTLO4",
        "outputId": "d2ee7c95-0049-4dcd-b1ec-d50827e13ba8"
      },
      "execution_count": null,
      "outputs": [
        {
          "output_type": "display_data",
          "data": {
            "text/plain": [
              "<IPython.core.display.HTML object>"
            ],
            "text/html": []
          },
          "metadata": {}
        },
        {
          "output_type": "display_data",
          "data": {
            "text/plain": [
              "<pandas.io.formats.style.Styler at 0x7d47ea46a3b0>"
            ],
            "text/html": [
              "<style type=\"text/css\">\n",
              "#T_a7b8d th {\n",
              "  text-align: left;\n",
              "}\n",
              "#T_a7b8d_row0_col0, #T_a7b8d_row0_col2, #T_a7b8d_row0_col3, #T_a7b8d_row0_col4, #T_a7b8d_row0_col7, #T_a7b8d_row1_col0, #T_a7b8d_row1_col2, #T_a7b8d_row1_col3, #T_a7b8d_row1_col4, #T_a7b8d_row1_col5, #T_a7b8d_row2_col0, #T_a7b8d_row2_col1, #T_a7b8d_row2_col3, #T_a7b8d_row2_col4, #T_a7b8d_row2_col5, #T_a7b8d_row2_col6, #T_a7b8d_row2_col7, #T_a7b8d_row3_col0, #T_a7b8d_row3_col1, #T_a7b8d_row3_col2, #T_a7b8d_row3_col3, #T_a7b8d_row3_col4, #T_a7b8d_row3_col5, #T_a7b8d_row3_col6, #T_a7b8d_row3_col7, #T_a7b8d_row4_col0, #T_a7b8d_row4_col1, #T_a7b8d_row4_col2, #T_a7b8d_row4_col3, #T_a7b8d_row4_col5, #T_a7b8d_row4_col6, #T_a7b8d_row4_col7, #T_a7b8d_row5_col0, #T_a7b8d_row5_col1, #T_a7b8d_row5_col2, #T_a7b8d_row5_col3, #T_a7b8d_row5_col4, #T_a7b8d_row5_col5, #T_a7b8d_row5_col6, #T_a7b8d_row5_col7, #T_a7b8d_row6_col0, #T_a7b8d_row6_col1, #T_a7b8d_row6_col2, #T_a7b8d_row6_col3, #T_a7b8d_row6_col4, #T_a7b8d_row6_col5, #T_a7b8d_row6_col6, #T_a7b8d_row6_col7, #T_a7b8d_row7_col0, #T_a7b8d_row7_col1, #T_a7b8d_row7_col2, #T_a7b8d_row7_col4, #T_a7b8d_row7_col5, #T_a7b8d_row7_col6, #T_a7b8d_row7_col7, #T_a7b8d_row8_col0, #T_a7b8d_row8_col1, #T_a7b8d_row8_col2, #T_a7b8d_row8_col3, #T_a7b8d_row8_col4, #T_a7b8d_row8_col5, #T_a7b8d_row8_col6, #T_a7b8d_row8_col7, #T_a7b8d_row9_col0, #T_a7b8d_row9_col1, #T_a7b8d_row9_col2, #T_a7b8d_row9_col3, #T_a7b8d_row9_col4, #T_a7b8d_row9_col5, #T_a7b8d_row9_col6, #T_a7b8d_row9_col7, #T_a7b8d_row10_col0, #T_a7b8d_row10_col1, #T_a7b8d_row10_col2, #T_a7b8d_row10_col3, #T_a7b8d_row10_col4, #T_a7b8d_row10_col5, #T_a7b8d_row10_col6, #T_a7b8d_row10_col7, #T_a7b8d_row11_col0, #T_a7b8d_row11_col1, #T_a7b8d_row11_col2, #T_a7b8d_row11_col3, #T_a7b8d_row11_col4, #T_a7b8d_row11_col5, #T_a7b8d_row11_col6, #T_a7b8d_row11_col7, #T_a7b8d_row12_col0, #T_a7b8d_row12_col1, #T_a7b8d_row12_col2, #T_a7b8d_row12_col3, #T_a7b8d_row12_col4, #T_a7b8d_row12_col5, #T_a7b8d_row12_col6, #T_a7b8d_row12_col7, #T_a7b8d_row13_col0, #T_a7b8d_row13_col1, #T_a7b8d_row13_col2, #T_a7b8d_row13_col3, #T_a7b8d_row13_col4, #T_a7b8d_row13_col5, #T_a7b8d_row13_col6, #T_a7b8d_row13_col7, #T_a7b8d_row14_col0, #T_a7b8d_row14_col1, #T_a7b8d_row14_col2, #T_a7b8d_row14_col3, #T_a7b8d_row14_col4, #T_a7b8d_row14_col5, #T_a7b8d_row14_col6, #T_a7b8d_row14_col7 {\n",
              "  text-align: left;\n",
              "}\n",
              "#T_a7b8d_row0_col1, #T_a7b8d_row0_col5, #T_a7b8d_row0_col6, #T_a7b8d_row1_col1, #T_a7b8d_row1_col6, #T_a7b8d_row1_col7, #T_a7b8d_row2_col2, #T_a7b8d_row4_col4, #T_a7b8d_row7_col3 {\n",
              "  text-align: left;\n",
              "  background-color: yellow;\n",
              "}\n",
              "#T_a7b8d_row0_col8, #T_a7b8d_row1_col8, #T_a7b8d_row2_col8, #T_a7b8d_row3_col8, #T_a7b8d_row4_col8, #T_a7b8d_row5_col8, #T_a7b8d_row6_col8, #T_a7b8d_row7_col8, #T_a7b8d_row8_col8, #T_a7b8d_row9_col8, #T_a7b8d_row10_col8, #T_a7b8d_row11_col8, #T_a7b8d_row13_col8, #T_a7b8d_row14_col8 {\n",
              "  text-align: left;\n",
              "  background-color: lightgrey;\n",
              "}\n",
              "#T_a7b8d_row12_col8 {\n",
              "  text-align: left;\n",
              "  background-color: yellow;\n",
              "  background-color: lightgrey;\n",
              "}\n",
              "</style>\n",
              "<table id=\"T_a7b8d\" class=\"dataframe\">\n",
              "  <thead>\n",
              "    <tr>\n",
              "      <th class=\"blank level0\" >&nbsp;</th>\n",
              "      <th id=\"T_a7b8d_level0_col0\" class=\"col_heading level0 col0\" >Model</th>\n",
              "      <th id=\"T_a7b8d_level0_col1\" class=\"col_heading level0 col1\" >Accuracy</th>\n",
              "      <th id=\"T_a7b8d_level0_col2\" class=\"col_heading level0 col2\" >AUC</th>\n",
              "      <th id=\"T_a7b8d_level0_col3\" class=\"col_heading level0 col3\" >Recall</th>\n",
              "      <th id=\"T_a7b8d_level0_col4\" class=\"col_heading level0 col4\" >Prec.</th>\n",
              "      <th id=\"T_a7b8d_level0_col5\" class=\"col_heading level0 col5\" >F1</th>\n",
              "      <th id=\"T_a7b8d_level0_col6\" class=\"col_heading level0 col6\" >Kappa</th>\n",
              "      <th id=\"T_a7b8d_level0_col7\" class=\"col_heading level0 col7\" >MCC</th>\n",
              "      <th id=\"T_a7b8d_level0_col8\" class=\"col_heading level0 col8\" >TT (Sec)</th>\n",
              "    </tr>\n",
              "  </thead>\n",
              "  <tbody>\n",
              "    <tr>\n",
              "      <th id=\"T_a7b8d_level0_row0\" class=\"row_heading level0 row0\" >rf</th>\n",
              "      <td id=\"T_a7b8d_row0_col0\" class=\"data row0 col0\" >Random Forest Classifier</td>\n",
              "      <td id=\"T_a7b8d_row0_col1\" class=\"data row0 col1\" >0.9343</td>\n",
              "      <td id=\"T_a7b8d_row0_col2\" class=\"data row0 col2\" >0.9662</td>\n",
              "      <td id=\"T_a7b8d_row0_col3\" class=\"data row0 col3\" >0.8737</td>\n",
              "      <td id=\"T_a7b8d_row0_col4\" class=\"data row0 col4\" >0.9943</td>\n",
              "      <td id=\"T_a7b8d_row0_col5\" class=\"data row0 col5\" >0.9301</td>\n",
              "      <td id=\"T_a7b8d_row0_col6\" class=\"data row0 col6\" >0.8686</td>\n",
              "      <td id=\"T_a7b8d_row0_col7\" class=\"data row0 col7\" >0.8751</td>\n",
              "      <td id=\"T_a7b8d_row0_col8\" class=\"data row0 col8\" >20.0170</td>\n",
              "    </tr>\n",
              "    <tr>\n",
              "      <th id=\"T_a7b8d_level0_row1\" class=\"row_heading level0 row1\" >lightgbm</th>\n",
              "      <td id=\"T_a7b8d_row1_col0\" class=\"data row1 col0\" >Light Gradient Boosting Machine</td>\n",
              "      <td id=\"T_a7b8d_row1_col1\" class=\"data row1 col1\" >0.9343</td>\n",
              "      <td id=\"T_a7b8d_row1_col2\" class=\"data row1 col2\" >0.9655</td>\n",
              "      <td id=\"T_a7b8d_row1_col3\" class=\"data row1 col3\" >0.8694</td>\n",
              "      <td id=\"T_a7b8d_row1_col4\" class=\"data row1 col4\" >0.9991</td>\n",
              "      <td id=\"T_a7b8d_row1_col5\" class=\"data row1 col5\" >0.9298</td>\n",
              "      <td id=\"T_a7b8d_row1_col6\" class=\"data row1 col6\" >0.8686</td>\n",
              "      <td id=\"T_a7b8d_row1_col7\" class=\"data row1 col7\" >0.8761</td>\n",
              "      <td id=\"T_a7b8d_row1_col8\" class=\"data row1 col8\" >16.8050</td>\n",
              "    </tr>\n",
              "    <tr>\n",
              "      <th id=\"T_a7b8d_level0_row2\" class=\"row_heading level0 row2\" >et</th>\n",
              "      <td id=\"T_a7b8d_row2_col0\" class=\"data row2 col0\" >Extra Trees Classifier</td>\n",
              "      <td id=\"T_a7b8d_row2_col1\" class=\"data row2 col1\" >0.9329</td>\n",
              "      <td id=\"T_a7b8d_row2_col2\" class=\"data row2 col2\" >0.9699</td>\n",
              "      <td id=\"T_a7b8d_row2_col3\" class=\"data row2 col3\" >0.8845</td>\n",
              "      <td id=\"T_a7b8d_row2_col4\" class=\"data row2 col4\" >0.9793</td>\n",
              "      <td id=\"T_a7b8d_row2_col5\" class=\"data row2 col5\" >0.9295</td>\n",
              "      <td id=\"T_a7b8d_row2_col6\" class=\"data row2 col6\" >0.8659</td>\n",
              "      <td id=\"T_a7b8d_row2_col7\" class=\"data row2 col7\" >0.8700</td>\n",
              "      <td id=\"T_a7b8d_row2_col8\" class=\"data row2 col8\" >26.6500</td>\n",
              "    </tr>\n",
              "    <tr>\n",
              "      <th id=\"T_a7b8d_level0_row3\" class=\"row_heading level0 row3\" >xgboost</th>\n",
              "      <td id=\"T_a7b8d_row3_col0\" class=\"data row3 col0\" >Extreme Gradient Boosting</td>\n",
              "      <td id=\"T_a7b8d_row3_col1\" class=\"data row3 col1\" >0.9319</td>\n",
              "      <td id=\"T_a7b8d_row3_col2\" class=\"data row3 col2\" >0.9632</td>\n",
              "      <td id=\"T_a7b8d_row3_col3\" class=\"data row3 col3\" >0.8691</td>\n",
              "      <td id=\"T_a7b8d_row3_col4\" class=\"data row3 col4\" >0.9940</td>\n",
              "      <td id=\"T_a7b8d_row3_col5\" class=\"data row3 col5\" >0.9274</td>\n",
              "      <td id=\"T_a7b8d_row3_col6\" class=\"data row3 col6\" >0.8639</td>\n",
              "      <td id=\"T_a7b8d_row3_col7\" class=\"data row3 col7\" >0.8708</td>\n",
              "      <td id=\"T_a7b8d_row3_col8\" class=\"data row3 col8\" >4.7060</td>\n",
              "    </tr>\n",
              "    <tr>\n",
              "      <th id=\"T_a7b8d_level0_row4\" class=\"row_heading level0 row4\" >gbc</th>\n",
              "      <td id=\"T_a7b8d_row4_col0\" class=\"data row4 col0\" >Gradient Boosting Classifier</td>\n",
              "      <td id=\"T_a7b8d_row4_col1\" class=\"data row4 col1\" >0.9318</td>\n",
              "      <td id=\"T_a7b8d_row4_col2\" class=\"data row4 col2\" >0.9634</td>\n",
              "      <td id=\"T_a7b8d_row4_col3\" class=\"data row4 col3\" >0.8641</td>\n",
              "      <td id=\"T_a7b8d_row4_col4\" class=\"data row4 col4\" >0.9995</td>\n",
              "      <td id=\"T_a7b8d_row4_col5\" class=\"data row4 col5\" >0.9269</td>\n",
              "      <td id=\"T_a7b8d_row4_col6\" class=\"data row4 col6\" >0.8637</td>\n",
              "      <td id=\"T_a7b8d_row4_col7\" class=\"data row4 col7\" >0.8717</td>\n",
              "      <td id=\"T_a7b8d_row4_col8\" class=\"data row4 col8\" >34.7820</td>\n",
              "    </tr>\n",
              "    <tr>\n",
              "      <th id=\"T_a7b8d_level0_row5\" class=\"row_heading level0 row5\" >ada</th>\n",
              "      <td id=\"T_a7b8d_row5_col0\" class=\"data row5 col0\" >Ada Boost Classifier</td>\n",
              "      <td id=\"T_a7b8d_row5_col1\" class=\"data row5 col1\" >0.9199</td>\n",
              "      <td id=\"T_a7b8d_row5_col2\" class=\"data row5 col2\" >0.9593</td>\n",
              "      <td id=\"T_a7b8d_row5_col3\" class=\"data row5 col3\" >0.8630</td>\n",
              "      <td id=\"T_a7b8d_row5_col4\" class=\"data row5 col4\" >0.9739</td>\n",
              "      <td id=\"T_a7b8d_row5_col5\" class=\"data row5 col5\" >0.9151</td>\n",
              "      <td id=\"T_a7b8d_row5_col6\" class=\"data row5 col6\" >0.8398</td>\n",
              "      <td id=\"T_a7b8d_row5_col7\" class=\"data row5 col7\" >0.8453</td>\n",
              "      <td id=\"T_a7b8d_row5_col8\" class=\"data row5 col8\" >8.5740</td>\n",
              "    </tr>\n",
              "    <tr>\n",
              "      <th id=\"T_a7b8d_level0_row6\" class=\"row_heading level0 row6\" >dt</th>\n",
              "      <td id=\"T_a7b8d_row6_col0\" class=\"data row6 col0\" >Decision Tree Classifier</td>\n",
              "      <td id=\"T_a7b8d_row6_col1\" class=\"data row6 col1\" >0.8819</td>\n",
              "      <td id=\"T_a7b8d_row6_col2\" class=\"data row6 col2\" >0.8819</td>\n",
              "      <td id=\"T_a7b8d_row6_col3\" class=\"data row6 col3\" >0.8939</td>\n",
              "      <td id=\"T_a7b8d_row6_col4\" class=\"data row6 col4\" >0.8729</td>\n",
              "      <td id=\"T_a7b8d_row6_col5\" class=\"data row6 col5\" >0.8833</td>\n",
              "      <td id=\"T_a7b8d_row6_col6\" class=\"data row6 col6\" >0.7637</td>\n",
              "      <td id=\"T_a7b8d_row6_col7\" class=\"data row6 col7\" >0.7640</td>\n",
              "      <td id=\"T_a7b8d_row6_col8\" class=\"data row6 col8\" >1.5270</td>\n",
              "    </tr>\n",
              "    <tr>\n",
              "      <th id=\"T_a7b8d_level0_row7\" class=\"row_heading level0 row7\" >knn</th>\n",
              "      <td id=\"T_a7b8d_row7_col0\" class=\"data row7 col0\" >K Neighbors Classifier</td>\n",
              "      <td id=\"T_a7b8d_row7_col1\" class=\"data row7 col1\" >0.7627</td>\n",
              "      <td id=\"T_a7b8d_row7_col2\" class=\"data row7 col2\" >0.8989</td>\n",
              "      <td id=\"T_a7b8d_row7_col3\" class=\"data row7 col3\" >0.9829</td>\n",
              "      <td id=\"T_a7b8d_row7_col4\" class=\"data row7 col4\" >0.6824</td>\n",
              "      <td id=\"T_a7b8d_row7_col5\" class=\"data row7 col5\" >0.8056</td>\n",
              "      <td id=\"T_a7b8d_row7_col6\" class=\"data row7 col6\" >0.5255</td>\n",
              "      <td id=\"T_a7b8d_row7_col7\" class=\"data row7 col7\" >0.5853</td>\n",
              "      <td id=\"T_a7b8d_row7_col8\" class=\"data row7 col8\" >13.7440</td>\n",
              "    </tr>\n",
              "    <tr>\n",
              "      <th id=\"T_a7b8d_level0_row8\" class=\"row_heading level0 row8\" >ridge</th>\n",
              "      <td id=\"T_a7b8d_row8_col0\" class=\"data row8 col0\" >Ridge Classifier</td>\n",
              "      <td id=\"T_a7b8d_row8_col1\" class=\"data row8 col1\" >0.6941</td>\n",
              "      <td id=\"T_a7b8d_row8_col2\" class=\"data row8 col2\" >0.7484</td>\n",
              "      <td id=\"T_a7b8d_row8_col3\" class=\"data row8 col3\" >0.7248</td>\n",
              "      <td id=\"T_a7b8d_row8_col4\" class=\"data row8 col4\" >0.6828</td>\n",
              "      <td id=\"T_a7b8d_row8_col5\" class=\"data row8 col5\" >0.7032</td>\n",
              "      <td id=\"T_a7b8d_row8_col6\" class=\"data row8 col6\" >0.3881</td>\n",
              "      <td id=\"T_a7b8d_row8_col7\" class=\"data row8 col7\" >0.3889</td>\n",
              "      <td id=\"T_a7b8d_row8_col8\" class=\"data row8 col8\" >0.6690</td>\n",
              "    </tr>\n",
              "    <tr>\n",
              "      <th id=\"T_a7b8d_level0_row9\" class=\"row_heading level0 row9\" >lda</th>\n",
              "      <td id=\"T_a7b8d_row9_col0\" class=\"data row9 col0\" >Linear Discriminant Analysis</td>\n",
              "      <td id=\"T_a7b8d_row9_col1\" class=\"data row9 col1\" >0.6940</td>\n",
              "      <td id=\"T_a7b8d_row9_col2\" class=\"data row9 col2\" >0.7484</td>\n",
              "      <td id=\"T_a7b8d_row9_col3\" class=\"data row9 col3\" >0.7248</td>\n",
              "      <td id=\"T_a7b8d_row9_col4\" class=\"data row9 col4\" >0.6828</td>\n",
              "      <td id=\"T_a7b8d_row9_col5\" class=\"data row9 col5\" >0.7032</td>\n",
              "      <td id=\"T_a7b8d_row9_col6\" class=\"data row9 col6\" >0.3881</td>\n",
              "      <td id=\"T_a7b8d_row9_col7\" class=\"data row9 col7\" >0.3888</td>\n",
              "      <td id=\"T_a7b8d_row9_col8\" class=\"data row9 col8\" >1.2760</td>\n",
              "    </tr>\n",
              "    <tr>\n",
              "      <th id=\"T_a7b8d_level0_row10\" class=\"row_heading level0 row10\" >lr</th>\n",
              "      <td id=\"T_a7b8d_row10_col0\" class=\"data row10 col0\" >Logistic Regression</td>\n",
              "      <td id=\"T_a7b8d_row10_col1\" class=\"data row10 col1\" >0.6934</td>\n",
              "      <td id=\"T_a7b8d_row10_col2\" class=\"data row10 col2\" >0.7477</td>\n",
              "      <td id=\"T_a7b8d_row10_col3\" class=\"data row10 col3\" >0.7227</td>\n",
              "      <td id=\"T_a7b8d_row10_col4\" class=\"data row10 col4\" >0.6827</td>\n",
              "      <td id=\"T_a7b8d_row10_col5\" class=\"data row10 col5\" >0.7021</td>\n",
              "      <td id=\"T_a7b8d_row10_col6\" class=\"data row10 col6\" >0.3867</td>\n",
              "      <td id=\"T_a7b8d_row10_col7\" class=\"data row10 col7\" >0.3874</td>\n",
              "      <td id=\"T_a7b8d_row10_col8\" class=\"data row10 col8\" >16.4420</td>\n",
              "    </tr>\n",
              "    <tr>\n",
              "      <th id=\"T_a7b8d_level0_row11\" class=\"row_heading level0 row11\" >svm</th>\n",
              "      <td id=\"T_a7b8d_row11_col0\" class=\"data row11 col0\" >SVM - Linear Kernel</td>\n",
              "      <td id=\"T_a7b8d_row11_col1\" class=\"data row11 col1\" >0.6493</td>\n",
              "      <td id=\"T_a7b8d_row11_col2\" class=\"data row11 col2\" >0.7435</td>\n",
              "      <td id=\"T_a7b8d_row11_col3\" class=\"data row11 col3\" >0.6897</td>\n",
              "      <td id=\"T_a7b8d_row11_col4\" class=\"data row11 col4\" >0.6577</td>\n",
              "      <td id=\"T_a7b8d_row11_col5\" class=\"data row11 col5\" >0.6244</td>\n",
              "      <td id=\"T_a7b8d_row11_col6\" class=\"data row11 col6\" >0.2986</td>\n",
              "      <td id=\"T_a7b8d_row11_col7\" class=\"data row11 col7\" >0.3319</td>\n",
              "      <td id=\"T_a7b8d_row11_col8\" class=\"data row11 col8\" >14.0930</td>\n",
              "    </tr>\n",
              "    <tr>\n",
              "      <th id=\"T_a7b8d_level0_row12\" class=\"row_heading level0 row12\" >nb</th>\n",
              "      <td id=\"T_a7b8d_row12_col0\" class=\"data row12 col0\" >Naive Bayes</td>\n",
              "      <td id=\"T_a7b8d_row12_col1\" class=\"data row12 col1\" >0.6370</td>\n",
              "      <td id=\"T_a7b8d_row12_col2\" class=\"data row12 col2\" >0.7350</td>\n",
              "      <td id=\"T_a7b8d_row12_col3\" class=\"data row12 col3\" >0.8505</td>\n",
              "      <td id=\"T_a7b8d_row12_col4\" class=\"data row12 col4\" >0.5960</td>\n",
              "      <td id=\"T_a7b8d_row12_col5\" class=\"data row12 col5\" >0.7008</td>\n",
              "      <td id=\"T_a7b8d_row12_col6\" class=\"data row12 col6\" >0.2739</td>\n",
              "      <td id=\"T_a7b8d_row12_col7\" class=\"data row12 col7\" >0.3029</td>\n",
              "      <td id=\"T_a7b8d_row12_col8\" class=\"data row12 col8\" >0.5590</td>\n",
              "    </tr>\n",
              "    <tr>\n",
              "      <th id=\"T_a7b8d_level0_row13\" class=\"row_heading level0 row13\" >qda</th>\n",
              "      <td id=\"T_a7b8d_row13_col0\" class=\"data row13 col0\" >Quadratic Discriminant Analysis</td>\n",
              "      <td id=\"T_a7b8d_row13_col1\" class=\"data row13 col1\" >0.6241</td>\n",
              "      <td id=\"T_a7b8d_row13_col2\" class=\"data row13 col2\" >0.6766</td>\n",
              "      <td id=\"T_a7b8d_row13_col3\" class=\"data row13 col3\" >0.7861</td>\n",
              "      <td id=\"T_a7b8d_row13_col4\" class=\"data row13 col4\" >0.5993</td>\n",
              "      <td id=\"T_a7b8d_row13_col5\" class=\"data row13 col5\" >0.6659</td>\n",
              "      <td id=\"T_a7b8d_row13_col6\" class=\"data row13 col6\" >0.2482</td>\n",
              "      <td id=\"T_a7b8d_row13_col7\" class=\"data row13 col7\" >0.2800</td>\n",
              "      <td id=\"T_a7b8d_row13_col8\" class=\"data row13 col8\" >1.1590</td>\n",
              "    </tr>\n",
              "    <tr>\n",
              "      <th id=\"T_a7b8d_level0_row14\" class=\"row_heading level0 row14\" >dummy</th>\n",
              "      <td id=\"T_a7b8d_row14_col0\" class=\"data row14 col0\" >Dummy Classifier</td>\n",
              "      <td id=\"T_a7b8d_row14_col1\" class=\"data row14 col1\" >0.5000</td>\n",
              "      <td id=\"T_a7b8d_row14_col2\" class=\"data row14 col2\" >0.5000</td>\n",
              "      <td id=\"T_a7b8d_row14_col3\" class=\"data row14 col3\" >0.9000</td>\n",
              "      <td id=\"T_a7b8d_row14_col4\" class=\"data row14 col4\" >0.4500</td>\n",
              "      <td id=\"T_a7b8d_row14_col5\" class=\"data row14 col5\" >0.6000</td>\n",
              "      <td id=\"T_a7b8d_row14_col6\" class=\"data row14 col6\" >0.0000</td>\n",
              "      <td id=\"T_a7b8d_row14_col7\" class=\"data row14 col7\" >0.0000</td>\n",
              "      <td id=\"T_a7b8d_row14_col8\" class=\"data row14 col8\" >0.7270</td>\n",
              "    </tr>\n",
              "  </tbody>\n",
              "</table>\n"
            ]
          },
          "metadata": {}
        },
        {
          "output_type": "display_data",
          "data": {
            "text/plain": [
              "Processing:   0%|          | 0/67 [00:00<?, ?it/s]"
            ],
            "application/vnd.jupyter.widget-view+json": {
              "version_major": 2,
              "version_minor": 0,
              "model_id": "68bb6552c4ad4cd8baa4e54562ab847f"
            }
          },
          "metadata": {
            "application/vnd.jupyter.widget-view+json": {
              "colab": {
                "custom_widget_manager": {
                  "url": "https://ssl.gstatic.com/colaboratory-static/widgets/colab-cdn-widget-manager/2b70e893a8ba7c0f/manager.min.js"
                }
              }
            }
          }
        },
        {
          "output_type": "display_data",
          "data": {
            "text/plain": [
              "<IPython.core.display.HTML object>"
            ],
            "text/html": []
          },
          "metadata": {}
        }
      ]
    },
    {
      "cell_type": "code",
      "source": [
        "selected_model = best[0]\n",
        "\n",
        "# Plot the feature importance of the selected model\n",
        "plot_model(selected_model, plot='feature')\n"
      ],
      "metadata": {
        "colab": {
          "base_uri": "https://localhost:8080/",
          "height": 485
        },
        "id": "ThetTx_rTjyK",
        "outputId": "7a4e53c5-490f-4201-8d09-1372e294a35f"
      },
      "execution_count": null,
      "outputs": [
        {
          "output_type": "display_data",
          "data": {
            "text/plain": [
              "<IPython.core.display.HTML object>"
            ],
            "text/html": []
          },
          "metadata": {}
        },
        {
          "output_type": "display_data",
          "data": {
            "text/plain": [
              "<Figure size 800x500 with 1 Axes>"
            ],
            "image/png": "[encoded data removed]"
          },
          "metadata": {}
        },
        {
          "output_type": "display_data",
          "data": {
            "text/plain": [
              "<IPython.core.display.HTML object>"
            ],
            "text/html": []
          },
          "metadata": {}
        }
      ]
    },
    {
      "cell_type": "code",
      "source": [
        "print(best)"
      ],
      "metadata": {
        "colab": {
          "base_uri": "https://localhost:8080/"
        },
        "id": "LL3Mx_A8UgMP",
        "outputId": "099c973a-afe5-4bd3-a114-af4fd3e251e3"
      },
      "execution_count": null,
      "outputs": [
        {
          "output_type": "stream",
          "name": "stdout",
          "text": [
            "[RandomForestClassifier(bootstrap=True, ccp_alpha=0.0, class_weight=None,\n",
            "                       criterion='gini', max_depth=None, max_features='sqrt',\n",
            "                       max_leaf_nodes=None, max_samples=None,\n",
            "                       min_impurity_decrease=0.0, min_samples_leaf=1,\n",
            "                       min_samples_split=2, min_weight_fraction_leaf=0.0,\n",
            "                       monotonic_cst=None, n_estimators=100, n_jobs=-1,\n",
            "                       oob_score=False, random_state=123, verbose=0,\n",
            "                       warm_start=False), LGBMClassifier(boosting_type='gbdt', class_weight=None, colsample_bytree=1.0,\n",
            "               importance_type='split', learning_rate=0.1, max_depth=-1,\n",
            "               min_child_samples=20, min_child_weight=0.001, min_split_gain=0.0,\n",
            "               n_estimators=100, n_jobs=-1, num_leaves=31, objective=None,\n",
            "               random_state=123, reg_alpha=0.0, reg_lambda=0.0, subsample=1.0,\n",
            "               subsample_for_bin=200000, subsample_freq=0), ExtraTreesClassifier(bootstrap=False, ccp_alpha=0.0, class_weight=None,\n",
            "                     criterion='gini', max_depth=None, max_features='sqrt',\n",
            "                     max_leaf_nodes=None, max_samples=None,\n",
            "                     min_impurity_decrease=0.0, min_samples_leaf=1,\n",
            "                     min_samples_split=2, min_weight_fraction_leaf=0.0,\n",
            "                     monotonic_cst=None, n_estimators=100, n_jobs=-1,\n",
            "                     oob_score=False, random_state=123, verbose=0,\n",
            "                     warm_start=False)]\n"
          ]
        }
      ]
    },
    {
      "cell_type": "code",
      "source": [
        "evaluate_model(selected_model)"
      ],
      "metadata": {
        "colab": {
          "base_uri": "https://localhost:8080/",
          "height": 667,
          "referenced_widgets": [
            "dc240683904f455194bc5c370d9c549d",
            "016d450d736347899a7d1c69f9b938f0",
            "04bf2f3214ff4102840b67466584fde7",
            "efb9c65ca6eb46979b65f0e8bb7dc41d",
            "1633d7615ed941f09998814f8433340e",
            "094c7dfa26fe4d05beef2bbfccf283db",
            "7bba69a31e7e48c5be6b5d573250831f"
          ]
        },
        "id": "OUoqWkwYUsyM",
        "outputId": "9d2537c8-7c00-47f0-e1fc-20cb4277f378"
      },
      "execution_count": null,
      "outputs": [
        {
          "output_type": "display_data",
          "data": {
            "text/plain": [
              "interactive(children=(ToggleButtons(description='Plot Type:', icons=('',), options=(('Pipeline Plot', 'pipelin…"
            ],
            "application/vnd.jupyter.widget-view+json": {
              "version_major": 2,
              "version_minor": 0,
              "model_id": "dc240683904f455194bc5c370d9c549d"
            }
          },
          "metadata": {
            "application/vnd.jupyter.widget-view+json": {
              "colab": {
                "custom_widget_manager": {
                  "url": "https://ssl.gstatic.com/colaboratory-static/widgets/colab-cdn-widget-manager/2b70e893a8ba7c0f/manager.min.js"
                }
              }
            }
          }
        }
      ]
    },
    {
      "cell_type": "code",
      "source": [],
      "metadata": {
        "id": "ljZOlWoMkmdA"
      },
      "execution_count": null,
      "outputs": []
    }
  ]
}