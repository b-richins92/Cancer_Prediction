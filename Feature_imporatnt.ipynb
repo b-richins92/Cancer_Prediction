{
  "nbformat": 4,
  "nbformat_minor": 0,
  "metadata": {
    "colab": {
      "provenance": [],
      "authorship_tag": "ABX9TyMB0eJnE510lygawJhm5/AD",
      "include_colab_link": true
    },
    "kernelspec": {
      "name": "python3",
      "display_name": "Python 3"
    },
    "language_info": {
      "name": "python"
    }
  },
  "cells": [
    {
      "cell_type": "markdown",
      "metadata": {
        "id": "view-in-github",
        "colab_type": "text"
      },
      "source": [
        "<a href=\"https://colab.research.google.com/github/b-richins92/Cancer_Prediction/blob/main/Feature_imporatnt.ipynb\" target=\"_parent\"><img src=\"https://colab.research.google.com/assets/colab-badge.svg\" alt=\"Open In Colab\"/></a>"
      ]
    },
    {
      "cell_type": "code",
      "execution_count": 5,
      "metadata": {
        "id": "KwBm9hEIon_5"
      },
      "outputs": [],
      "source": [
        "import pandas as pd\n",
        "import numpy as np\n",
        "import altair as alt\n",
        "import matplotlib.pyplot as plt\n",
        "from sklearn.model_selection import train_test_split\n",
        "from sklearn.preprocessing import StandardScaler, OneHotEncoder\n",
        "import statsmodels.api as sm\n",
        "from sklearn.feature_selection import RFE\n",
        "from sklearn.ensemble import RandomForestClassifier\n",
        "from sklearn.experimental import enable_iterative_imputer\n",
        "from sklearn.impute import IterativeImputer\n",
        "from imblearn.over_sampling import SMOTE\n",
        "from sklearn.metrics import recall_score, precision_score, accuracy_score, f1_score\n",
        "from sklearn.naive_bayes import GaussianNB"
      ]
    },
    {
      "cell_type": "code",
      "source": [
        "# Read the training dataset from 'train_df.csv' into a DataFrame\n",
        "train_df = pd.read_csv('train_df.csv')\n",
        "\n",
        "# Read the test dataset from 'test_df.csv' into a DataFrame\n",
        "test_df = pd.read_csv('test_df.csv')\n",
        "\n",
        "# Read the validation dataset from 'val_df.csv' into a DataFrame\n",
        "val_df = pd.read_csv('val_df.csv')"
      ],
      "metadata": {
        "id": "bcAHLaLJo9qp"
      },
      "execution_count": 6,
      "outputs": []
    },
    {
      "cell_type": "code",
      "source": [
        "#Define the important columns for RFE\n",
        "important_column_10= [\n",
        "    'Age Group', 'Hours of Sleeping', 'Arthritis', 'Married',\n",
        "    'Days Drinking', 'Flu Vaccine', 'Pneumonia Vaccine', 'Had COVID',\n",
        "    'Metropolitan', 'BMI', 'Cancer'\n",
        "    ]\n",
        "# Select the important columns for RFE from the training, testing, and validation DataFrames\n",
        "train_df_10 = train_df[important_column_10]\n",
        "test_df_10=  test_df[important_column_10]\n",
        "val_df_10 = val_df[important_column_10]"
      ],
      "metadata": {
        "id": "KULVbmbVpSG-"
      },
      "execution_count": 7,
      "outputs": []
    },
    {
      "cell_type": "code",
      "source": [
        "#Selected Features (Top 15):\n",
        "important_column_15 = [\n",
        "    'Age Group', 'Num of Bad Mental Health Days','Years Since Last Checkup',\n",
        "    'Hours of Sleeping', 'Arthritis', 'Married', 'Age Started Smoking', 'Days Drinking',\n",
        "    'Flu Vaccine','Pneumonia Vaccine', 'Tetanus Last 10 Years', 'Had COVID',\n",
        "    'Metropolitan', 'BMI', 'Ethnicity_White', 'Cancer'\n",
        "    ]"
      ],
      "metadata": {
        "id": "zOEK_DZ4qDg3"
      },
      "execution_count": 8,
      "outputs": []
    },
    {
      "cell_type": "code",
      "source": [
        "#train_df.columns"
      ],
      "metadata": {
        "id": "F36xXNFasu0l"
      },
      "execution_count": 25,
      "outputs": []
    },
    {
      "cell_type": "code",
      "source": [
        "# Select the important columns for RFE from the training, testing, and validation DataFrames\n",
        "train_df_15 = train_df[important_column_15]\n",
        "test_df_15=  test_df[important_column_15]\n",
        "val_df_15 = val_df[important_column_15]"
      ],
      "metadata": {
        "id": "cPfK1-rZrPbu"
      },
      "execution_count": 10,
      "outputs": []
    },
    {
      "cell_type": "code",
      "source": [
        "#Selected Features (Top 15):\n",
        "important_column_20 = [\n",
        "    'Age Group', 'Num of Bad Mental Health Days','Years Since Last Checkup',\n",
        "    'Exercise in Past 30 Days','Hours of Sleeping', 'Asthma', 'Depression',\n",
        "    'Arthritis', 'Married','Deaf', 'Age Started Smoking', 'Cigarettes per Day',\n",
        "    'Days Drinking', 'Flu Vaccine', 'Pneumonia Vaccine', 'Tetanus Last 10 Years',\n",
        "    'Had COVID', 'Metropolitan', 'BMI', 'Ethnicity_White', 'Cancer'\n",
        "]"
      ],
      "metadata": {
        "id": "buvOSG3Nts7s"
      },
      "execution_count": 11,
      "outputs": []
    },
    {
      "cell_type": "code",
      "source": [],
      "metadata": {
        "id": "t9TBk9QAbIKu"
      },
      "execution_count": null,
      "outputs": []
    },
    {
      "cell_type": "code",
      "source": [
        "train_df_20 = train_df[important_column_20]\n",
        "test_df_20=  test_df[important_column_20]\n",
        "val_df_20 = val_df[important_column_20]"
      ],
      "metadata": {
        "id": "UWGjwWV-BT9B"
      },
      "execution_count": 12,
      "outputs": []
    },
    {
      "cell_type": "code",
      "source": [
        "X_train_10= train_df_10.drop('Cancer', axis=1)\n",
        "y_train_10 = train_df_10['Cancer']"
      ],
      "metadata": {
        "id": "9jk9JffPBdIm"
      },
      "execution_count": 13,
      "outputs": []
    },
    {
      "cell_type": "code",
      "source": [
        "X_train_15= train_df_15.drop('Cancer', axis=1)\n",
        "y_train_15= train_df_15['Cancer']"
      ],
      "metadata": {
        "id": "lW9oOuFVEc_P"
      },
      "execution_count": 14,
      "outputs": []
    },
    {
      "cell_type": "code",
      "source": [
        "X_train_20= train_df_20.drop('Cancer', axis=1)\n",
        "y_train_20 = train_df_20['Cancer']"
      ],
      "metadata": {
        "id": "cBBEdIMQEsF6"
      },
      "execution_count": 15,
      "outputs": []
    },
    {
      "cell_type": "code",
      "source": [
        "X_test_10= test_df_10.drop('Cancer', axis=1)\n",
        "y_test_10 = test_df_10['Cancer']"
      ],
      "metadata": {
        "id": "YKsP7pxcE9DF"
      },
      "execution_count": 16,
      "outputs": []
    },
    {
      "cell_type": "code",
      "source": [
        "X_test_15= test_df_15.drop('Cancer', axis=1)\n",
        "y_test_15 = test_df_15['Cancer']"
      ],
      "metadata": {
        "id": "jnh3fzFYFXg9"
      },
      "execution_count": 17,
      "outputs": []
    },
    {
      "cell_type": "code",
      "source": [
        "X_test_20= test_df_20.drop('Cancer', axis=1)\n",
        "y_test_20 = test_df_20['Cancer']"
      ],
      "metadata": {
        "id": "QjjucmYYFeH6"
      },
      "execution_count": 18,
      "outputs": []
    },
    {
      "cell_type": "code",
      "source": [],
      "metadata": {
        "id": "qyNLPkvOFv93"
      },
      "execution_count": null,
      "outputs": []
    },
    {
      "cell_type": "code",
      "source": [
        "from sklearn.discriminant_analysis import QuadraticDiscriminantAnalysis\n",
        "\n",
        "def evaluate_model(X_train, y_train, X_test, y_test):\n",
        "    # Initialize SMOTE with a random state for reproducibility\n",
        "    smote = SMOTE(random_state=42)\n",
        "\n",
        "    # Apply SMOTE to the training data to handle class imbalance\n",
        "    # This generates synthetic samples for the minority class\n",
        "    X_train, y_train = smote.fit_resample(X_train, y_train)\n",
        "    model = QuadraticDiscriminantAnalysis()\n",
        "    model.fit(X_train, y_train)\n",
        "    y_pred = model.predict(X_test)\n",
        "    accuracy = accuracy_score(y_test, y_pred)\n",
        "    recall = recall_score(y_test, y_pred, average='binary')\n",
        "    precision = precision_score(y_test, y_pred, average='binary')\n",
        "    f1 = f1_score(y_test, y_pred, average='binary')\n",
        "    model = print(f'Accuracy: {accuracy}, Recall: {recall}, Precision: {precision}, F1: {f1}')\n",
        "    return model"
      ],
      "metadata": {
        "id": "Mp4XAsKoF4rs"
      },
      "execution_count": 20,
      "outputs": []
    },
    {
      "cell_type": "code",
      "source": [
        "print('Selected Features (Top 10)')\n",
        "\n",
        "evaluate_model(X_train_10, y_train_10, X_test_10, y_test_10)"
      ],
      "metadata": {
        "colab": {
          "base_uri": "https://localhost:8080/"
        },
        "id": "NsC76itgeTc_",
        "outputId": "5f1d12b0-9ac4-4653-f48d-38cc50c2872f"
      },
      "execution_count": 34,
      "outputs": [
        {
          "output_type": "stream",
          "name": "stdout",
          "text": [
            "Selected Features (Top 10)\n",
            "Accuracy: 0.5969461510661366, Recall: 0.7879450964790133, Precision: 0.1909928154684411, F1: 0.30745944267639524\n"
          ]
        }
      ]
    },
    {
      "cell_type": "code",
      "source": [
        "print('Selected Features (Top 15)')\n",
        "\n",
        "evaluate_model(X_train_15, y_train_15, X_test_15, y_test_15)"
      ],
      "metadata": {
        "colab": {
          "base_uri": "https://localhost:8080/"
        },
        "id": "p1twpF7Chd4q",
        "outputId": "aa96ca00-cf0f-4dfa-9a7e-0cbabb8f3fa1"
      },
      "execution_count": 31,
      "outputs": [
        {
          "output_type": "stream",
          "name": "stdout",
          "text": [
            "Selected Features (Top 15)\n",
            "Accuracy: 0.5964943982652693, Recall: 0.787149393276308, Precision: 0.19068960532022552, F1: 0.3070059740864303\n"
          ]
        }
      ]
    },
    {
      "cell_type": "code",
      "source": [
        "print('Selected Features (Top 20)')\n",
        "\n",
        "evaluate_model(X_train_20, y_train_20, X_test_20, y_test_20)"
      ],
      "metadata": {
        "colab": {
          "base_uri": "https://localhost:8080/"
        },
        "id": "DXop6lwEhwuj",
        "outputId": "83fac680-aa81-4e76-8489-eb8a629c512d"
      },
      "execution_count": 32,
      "outputs": [
        {
          "output_type": "stream",
          "name": "stdout",
          "text": [
            "Selected Features (Top 20)\n",
            "Accuracy: 0.6246611853993495, Recall: 0.7441814203302168, Precision: 0.19615142617449666, F1: 0.3104693140794224\n"
          ]
        }
      ]
    },
    {
      "cell_type": "code",
      "source": [],
      "metadata": {
        "id": "91nTe-bQniLQ"
      },
      "execution_count": null,
      "outputs": []
    }
  ]
}