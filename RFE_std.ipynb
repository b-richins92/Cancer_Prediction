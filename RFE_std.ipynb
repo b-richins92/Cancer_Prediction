{
 "cells": [
  {
   "cell_type": "code",
   "execution_count": 1,
   "id": "529963e7",
   "metadata": {},
   "outputs": [],
   "source": [
    "import sys\n",
    "import pandas as pd\n",
    "import numpy as np\n",
    "%matplotlib inline\n",
    "import seaborn as sns\n",
    "sns.set()\n",
    "import matplotlib.pyplot as plt\n",
    "from sklearn.model_selection import train_test_split\n",
    "from sklearn.preprocessing import StandardScaler, OneHotEncoder\n",
    "#import statsmodels.api as sm\n",
    "from sklearn.feature_selection import RFECV\n",
    "from sklearn.ensemble import RandomForestClassifier\n",
    "from sklearn.experimental import enable_iterative_imputer\n",
    "from sklearn.impute import IterativeImputer\n",
    "from sklearn.metrics import recall_score, precision_score, accuracy_score, f1_score, roc_auc_score, roc_curve\n",
    "from sklearn.feature_selection import RFE\n",
    "from sklearn.linear_model import LogisticRegression\n",
    "from sklearn.svm import SVC\n",
    "from sklearn.model_selection import StratifiedKFold\n",
    "from imblearn.over_sampling import SMOTE"
   ]
  },
  {
   "cell_type": "code",
   "execution_count": 2,
   "id": "0a8d560a",
   "metadata": {},
   "outputs": [],
   "source": [
    "# Load the training dataset from the CSV file into a pandas DataFrame\n",
    "train_df = pd.read_csv(\"train_df.csv\")\n",
    "\n",
    "# Load the testing dataset from the CSV file into a pandas DataFrame\n",
    "test_df = pd.read_csv(\"test_df.csv\")"
   ]
  },
  {
   "cell_type": "code",
   "execution_count": 3,
   "id": "42ace42f",
   "metadata": {},
   "outputs": [],
   "source": [
    "#Separate the features and target variable from the training dataset\n",
    "X_train = train_df.drop('Cancer', axis=1)  # Features for training\n",
    "y_train = train_df.Cancer  # Target variable for training\n",
    "\n",
    "# Separate the features and target variable from the testing dataset\n",
    "X_test = test_df.drop('Cancer', axis=1)  # Features for testing\n",
    "y_test = test_df.Cancer  # Target variable for testing\n",
    "\n",
    "# Apply Synthetic Minority Over-sampling Technique (SMOTE) to balance the training dataset\n",
    "smote = SMOTE()\n",
    "X_train, y_train = smote.fit_resample(X_train, y_train)"
   ]
  },
  {
   "cell_type": "markdown",
   "id": "2f8fe8ea",
   "metadata": {},
   "source": [
    "# Select top 10 features"
   ]
  },
  {
   "cell_type": "code",
   "execution_count": 16,
   "id": "35aad643",
   "metadata": {},
   "outputs": [
    {
     "name": "stdout",
     "output_type": "stream",
     "text": [
      "['Age Group', 'Num of Bad Mental Health Days', 'Hours of Sleeping', 'Arthritis', 'Days Drinking', 'Pneumonia Vaccine', 'Tetanus Last 10 Years', 'Income', 'BMI', 'Ethnicity_White']\n"
     ]
    }
   ],
   "source": [
    "# Step 1: Create a RandomForest model\n",
    "model = RandomForestClassifier(random_state=42)\n",
    "\n",
    "# Step 2: Create RFE model and select top 10 features\n",
    "rfe = RFE(model, n_features_to_select=10)\n",
    "X_new = rfe.fit_transform(X_train, y_train)\n",
    "\n",
    "# Step 3: Fit the RandomForest model on the selected features\n",
    "model.fit(X_new, y_train)\n",
    "\n",
    "# Step 4: Get feature importances from the fitted RandomForest model\n",
    "feature_importances = model.feature_importances_\n",
    "\n",
    "# Step 5: Map feature importances back to the original feature names\n",
    "selected_features = [feature for feature, rank in zip(X_train.columns, rfe.ranking_) if rank == 1]\n",
    "\n",
    "# Combine feature names with their importances\n",
    "feature_importance_dict = dict(zip(selected_features, feature_importances))\n",
    "\n",
    "print(selected_features)"
   ]
  },
  {
   "cell_type": "code",
   "execution_count": 17,
   "id": "9d4c358f",
   "metadata": {},
   "outputs": [
    {
     "name": "stdout",
     "output_type": "stream",
     "text": [
      "Feature importances of the top 10 selected features:\n",
      "Age Group: 0.32339643954707764\n",
      "BMI: 0.12812359330495932\n",
      "Income: 0.09230940471631065\n",
      "Hours of Sleeping: 0.08201984829731047\n",
      "Days Drinking: 0.07808895783089995\n",
      "Pneumonia Vaccine: 0.07494320798612081\n",
      "Num of Bad Mental Health Days: 0.06104203828854451\n",
      "Ethnicity_White: 0.05633050772751841\n",
      "Tetanus Last 10 Years: 0.05402100742186446\n",
      "Arthritis: 0.049724994879393955\n"
     ]
    }
   ],
   "source": [
    "# Sort the feature importances from highest to lowest\n",
    "sorted_feature_importance = dict(sorted(feature_importance_dict.items(), key=lambda item: item[1], reverse=True))\n",
    "\n",
    "# Display the feature importances\n",
    "print(\"Feature importances of the top 10 selected features:\")\n",
    "for feature, importance in sorted_feature_importance.items():\n",
    "    print(f\"{feature}: {importance}\")"
   ]
  },
  {
   "cell_type": "markdown",
   "id": "99a80c6f",
   "metadata": {},
   "source": [
    "# Select top 20 features"
   ]
  },
  {
   "cell_type": "code",
   "execution_count": 18,
   "id": "9ce30624",
   "metadata": {},
   "outputs": [
    {
     "name": "stdout",
     "output_type": "stream",
     "text": [
      "['Gender', 'Age Group', 'Num of Bad Mental Health Days', 'Years Since Last Checkup', 'Hours of Sleeping', 'Arthritis', 'Married', 'Deaf', 'Age Started Smoking', 'Cigarettes per Day', 'Days Drinking', 'Flu Vaccine', 'Pneumonia Vaccine', 'Tetanus Last 10 Years', 'Had COVID', 'Metropolitan', 'Income', 'Insulin', 'BMI', 'Ethnicity_White']\n"
     ]
    }
   ],
   "source": [
    "# Step 1: Create a RandomForest model\n",
    "model = RandomForestClassifier(random_state=42)\n",
    "\n",
    "# Step 2: Create RFE model and select top 10 features\n",
    "rfe = RFE(model, n_features_to_select=20)\n",
    "X_new = rfe.fit_transform(X_train, y_train)\n",
    "\n",
    "# Step 3: Fit the RandomForest model on the selected features\n",
    "model.fit(X_new, y_train)\n",
    "\n",
    "# Step 4: Get feature importances from the fitted RandomForest model\n",
    "feature_importances = model.feature_importances_\n",
    "\n",
    "# Step 5: Map feature importances back to the original feature names\n",
    "selected_features = [feature for feature, rank in zip(X_train.columns, rfe.ranking_) if rank == 1]\n",
    "\n",
    "# Combine feature names with their importances\n",
    "feature_importance_dict = dict(zip(selected_features, feature_importances))\n",
    "\n",
    "print(selected_features)"
   ]
  },
  {
   "cell_type": "code",
   "execution_count": 19,
   "id": "a2e431b1",
   "metadata": {},
   "outputs": [
    {
     "name": "stdout",
     "output_type": "stream",
     "text": [
      "Feature importances of the top 20 selected features:\n",
      "Age Group: 0.23809381096216797\n",
      "BMI: 0.07039939235044029\n",
      "Income: 0.0660021660036188\n",
      "Pneumonia Vaccine: 0.06224467719542843\n",
      "Arthritis: 0.05579822749657169\n",
      "Hours of Sleeping: 0.0557480903675899\n",
      "Days Drinking: 0.055424455457025755\n",
      "Ethnicity_White: 0.052087797598521314\n",
      "Num of Bad Mental Health Days: 0.04426062702196869\n",
      "Flu Vaccine: 0.03940289439664135\n",
      "Tetanus Last 10 Years: 0.038747154903264455\n",
      "Age Started Smoking: 0.03227555000062279\n",
      "Had COVID: 0.030167551538606424\n",
      "Cigarettes per Day: 0.029871858351774166\n",
      "Gender: 0.029672553288737556\n",
      "Insulin: 0.022135887755072928\n",
      "Metropolitan: 0.02106508629569346\n",
      "Married: 0.019941536708986372\n",
      "Years Since Last Checkup: 0.018496303916176914\n",
      "Deaf: 0.018164378391090804\n"
     ]
    }
   ],
   "source": [
    "# Sort the feature importances from highest to lowest\n",
    "sorted_feature_importance = dict(sorted(feature_importance_dict.items(), key=lambda item: item[1], reverse=True))\n",
    "\n",
    "# Display the feature importances\n",
    "print(\"Feature importances of the top 20 selected features:\")\n",
    "for feature, importance in sorted_feature_importance.items():\n",
    "    print(f\"{feature}: {importance}\")"
   ]
  },
  {
   "cell_type": "markdown",
   "id": "40e5353c",
   "metadata": {},
   "source": [
    "# Select top 30 features"
   ]
  },
  {
   "cell_type": "code",
   "execution_count": 4,
   "id": "2e56e03b",
   "metadata": {},
   "outputs": [
    {
     "name": "stdout",
     "output_type": "stream",
     "text": [
      "['Gender', 'Age Group', 'Num of Bad Mental Health Days', 'Years Since Last Checkup', 'Exercise in Past 30 Days', 'Hours of Sleeping', 'Heart Disease', 'Asthma', 'Depression', 'Kidney Disease', 'Arthritis', 'Diabetes', 'Married', 'Deaf', 'Blind', 'Age Started Smoking', 'Cigarettes per Day', 'Days Drinking', 'Flu Vaccine', 'Pneumonia Vaccine', 'Tetanus Last 10 Years', 'Had COVID', 'Metropolitan', 'Income', 'Insulin', 'BMI', 'Ethnicity_Hispanic', 'Ethnicity_White', 'Education_attended_college', 'Education_graduated_college']\n"
     ]
    }
   ],
   "source": [
    "#Step 1: Create a RandomForest model\n",
    "model = RandomForestClassifier(random_state=42)\n",
    "\n",
    "# Step 2: Create RFE model and select top 10 features\n",
    "rfe = RFE(model, n_features_to_select=30)\n",
    "X_new = rfe.fit_transform(X_train, y_train)\n",
    "\n",
    "# Step 3: Fit the RandomForest model on the selected features\n",
    "model.fit(X_new, y_train)\n",
    "\n",
    "# Step 4: Get feature importances from the fitted RandomForest model\n",
    "feature_importances = model.feature_importances_\n",
    "\n",
    "# Step 5: Map feature importances back to the original feature names\n",
    "selected_features = [feature for feature, rank in zip(X_train.columns, rfe.ranking_) if rank == 1]\n",
    "\n",
    "# Combine feature names with their importances\n",
    "feature_importance_dict = dict(zip(selected_features, feature_importances))\n",
    "\n",
    "print(selected_features)"
   ]
  },
  {
   "cell_type": "code",
   "execution_count": 5,
   "id": "e81a56db",
   "metadata": {},
   "outputs": [
    {
     "name": "stdout",
     "output_type": "stream",
     "text": [
      "Feature importances of the top 10 selected features:\n",
      "Age Group: 0.21936064525432694\n",
      "Pneumonia Vaccine: 0.06101564749077503\n",
      "BMI: 0.05676233823362321\n",
      "Income: 0.05335230282931468\n",
      "Days Drinking: 0.050224008302660744\n",
      "Ethnicity_White: 0.05013458282544247\n",
      "Hours of Sleeping: 0.04676175451138773\n",
      "Arthritis: 0.045201880750900446\n",
      "Num of Bad Mental Health Days: 0.039216640823885214\n",
      "Tetanus Last 10 Years: 0.03382889523179323\n",
      "Flu Vaccine: 0.033759008969977404\n",
      "Age Started Smoking: 0.02751240582882533\n",
      "Cigarettes per Day: 0.026836667617601073\n",
      "Gender: 0.026670950859586148\n",
      "Had COVID: 0.02611082187197725\n",
      "Metropolitan: 0.01794051237727514\n",
      "Married: 0.01776958193865674\n",
      "Years Since Last Checkup: 0.017109908759581915\n",
      "Deaf: 0.016686093445087112\n",
      "Depression: 0.015838106186621504\n",
      "Exercise in Past 30 Days: 0.01561024936510931\n",
      "Insulin: 0.015472394693307478\n",
      "Asthma: 0.014174861908464753\n",
      "Heart Disease: 0.013330843097078686\n",
      "Kidney Disease: 0.01153221314102009\n",
      "Diabetes: 0.010436619950055412\n",
      "Education_graduated_college: 0.010251958896541702\n",
      "Blind: 0.010146216683652702\n",
      "Education_attended_college: 0.009610011993803888\n",
      "Ethnicity_Hispanic: 0.0073418761616667405\n"
     ]
    }
   ],
   "source": [
    "# Sort the feature importances from highest to lowest\n",
    "sorted_feature_importance = dict(sorted(feature_importance_dict.items(), key=lambda item: item[1], reverse=True))\n",
    "\n",
    "# Display the feature importances\n",
    "print(\"Feature importances of the top 10 selected features:\")\n",
    "for feature, importance in sorted_feature_importance.items():\n",
    "    print(f\"{feature}: {importance}\")"
   ]
  },
  {
   "cell_type": "markdown",
   "id": "7b1de941",
   "metadata": {},
   "source": [
    "# Select top 41 features"
   ]
  },
  {
   "cell_type": "code",
   "execution_count": 6,
   "id": "bbd83480",
   "metadata": {},
   "outputs": [
    {
     "name": "stdout",
     "output_type": "stream",
     "text": [
      "['Gender', 'Age Group', 'Num of Bad Mental Health Days', 'Could Afford Doctor', 'Years Since Last Checkup', 'Exercise in Past 30 Days', 'Hours of Sleeping', 'Heart Attack', 'Heart Disease', 'Stroke', 'Asthma', 'Depression', 'Kidney Disease', 'Arthritis', 'Diabetes', 'Married', 'Deaf', 'Blind', 'Smoked 100', 'Smokeless Tobacco', 'Age Started Smoking', 'Cigarettes per Day', 'Days Drinking', 'Flu Vaccine', 'Pneumonia Vaccine', 'Tetanus Last 10 Years', 'Had COVID', 'Metropolitan', 'Income', 'Insulin', 'BMI', 'Ethnicity_American Indian and Alaskan Native', 'Ethnicity_Asian and Pacific Islander', 'Ethnicity_Black', 'Ethnicity_Hispanic', 'Ethnicity_Multiracial, non-Hispanic', 'Ethnicity_White', 'Education_attended_college', 'Education_did_not_graduate_high_school', 'Education_graduated_college', 'Education_graduated_high_school']\n"
     ]
    }
   ],
   "source": [
    "#Step 1: Create a RandomForest model\n",
    "model = RandomForestClassifier(random_state=42)\n",
    "\n",
    "# Step 2: Create RFE model and select top 10 features\n",
    "rfe = RFE(model, n_features_to_select=41)\n",
    "X_new = rfe.fit_transform(X_train, y_train)\n",
    "\n",
    "# Step 3: Fit the RandomForest model on the selected features\n",
    "model.fit(X_new, y_train)\n",
    "\n",
    "# Step 4: Get feature importances from the fitted RandomForest model\n",
    "feature_importances = model.feature_importances_\n",
    "\n",
    "# Step 5: Map feature importances back to the original feature names\n",
    "selected_features = [feature for feature, rank in zip(X_train.columns, rfe.ranking_) if rank == 1]\n",
    "\n",
    "# Combine feature names with their importances\n",
    "feature_importance_dict = dict(zip(selected_features, feature_importances))\n",
    "\n",
    "print(selected_features)"
   ]
  },
  {
   "cell_type": "code",
   "execution_count": 7,
   "id": "f26cb9dc",
   "metadata": {},
   "outputs": [
    {
     "name": "stdout",
     "output_type": "stream",
     "text": [
      "Feature importances of the top 41 selected features:\n",
      "Age Group: 0.19404565046422337\n",
      "Pneumonia Vaccine: 0.06153400810111713\n",
      "BMI: 0.05262453580382287\n",
      "Income: 0.0500557602703951\n",
      "Ethnicity_White: 0.046528424353637916\n",
      "Days Drinking: 0.045932114425565836\n",
      "Hours of Sleeping: 0.045369664577126295\n",
      "Arthritis: 0.043834836224335635\n",
      "Num of Bad Mental Health Days: 0.036461950724925585\n",
      "Flu Vaccine: 0.0355748443157517\n",
      "Tetanus Last 10 Years: 0.03230594751586536\n",
      "Gender: 0.02596771598710079\n",
      "Had COVID: 0.024865174694881476\n",
      "Age Started Smoking: 0.024189656929890502\n",
      "Cigarettes per Day: 0.023262541407478795\n",
      "Years Since Last Checkup: 0.020828114860192645\n",
      "Metropolitan: 0.01785376867010825\n",
      "Married: 0.01728576228624887\n",
      "Depression: 0.015664063496423644\n",
      "Exercise in Past 30 Days: 0.015041058033033666\n",
      "Deaf: 0.014839507907729511\n",
      "Insulin: 0.014571864831854147\n",
      "Asthma: 0.014070656239549032\n",
      "Kidney Disease: 0.013256680546641735\n",
      "Heart Disease: 0.010762324603889022\n",
      "Diabetes: 0.009622673848484985\n",
      "Education_graduated_college: 0.009039010180897122\n",
      "Blind: 0.00885565346138936\n",
      "Smoked 100: 0.008481140501696708\n",
      "Could Afford Doctor: 0.008478227135188615\n",
      "Ethnicity_Hispanic: 0.008436771472707924\n",
      "Education_attended_college: 0.008421768265546522\n",
      "Heart Attack: 0.007897533928951622\n",
      "Education_graduated_high_school: 0.007711878120521484\n",
      "Stroke: 0.00741268793586756\n",
      "Smokeless Tobacco: 0.006134674378344235\n",
      "Ethnicity_Black: 0.0051096183763684015\n",
      "Education_did_not_graduate_high_school: 0.00307842323122482\n",
      "Ethnicity_Asian and Pacific Islander: 0.0024665529412000757\n",
      "Ethnicity_Multiracial, non-Hispanic: 0.0012287352386269454\n",
      "Ethnicity_American Indian and Alaskan Native: 0.0008980237111947502\n"
     ]
    }
   ],
   "source": [
    "# Sort the feature importances from highest to lowest\n",
    "sorted_feature_importance = dict(sorted(feature_importance_dict.items(), key=lambda item: item[1], reverse=True))\n",
    "\n",
    "# Display the feature importances\n",
    "print(\"Feature importances of the top 41 selected features:\")\n",
    "for feature, importance in sorted_feature_importance.items():\n",
    "    print(f\"{feature}: {importance}\")"
   ]
  }
 ],
 "metadata": {
  "kernelspec": {
   "display_name": "Python 3 (ipykernel)",
   "language": "python",
   "name": "python3"
  },
  "language_info": {
   "codemirror_mode": {
    "name": "ipython",
    "version": 3
   },
   "file_extension": ".py",
   "mimetype": "text/x-python",
   "name": "python",
   "nbconvert_exporter": "python",
   "pygments_lexer": "ipython3",
   "version": "3.9.7"
  }
 },
 "nbformat": 4,
 "nbformat_minor": 5
}
