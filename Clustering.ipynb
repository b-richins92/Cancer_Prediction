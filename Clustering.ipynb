{
 "cells": [
  {
   "cell_type": "code",
   "execution_count": 1,
   "id": "218ac7a3-9483-4443-8a4e-30624d54fff1",
   "metadata": {},
   "outputs": [],
   "source": [
    "### NOTE: If the code is rerun, due to the stochasticity of the algorithms (despite setting a random state parameter),\n",
    "# the results might be different. In order to see what is reflected in the report, please see printed output. Thank you!\n",
    "\n",
    "import pandas as pd\n",
    "from sklearn.cluster import KMeans, AgglomerativeClustering, DBSCAN\n",
    "from sklearn import metrics\n",
    "import numpy as np"
   ]
  },
  {
   "cell_type": "code",
   "execution_count": 2,
   "id": "54714890-17d7-41bf-a07e-d5ccc77d6d14",
   "metadata": {},
   "outputs": [],
   "source": [
    "with open('train_df_std') as f:\n",
    "    X = pd.read_csv(f)\n",
    "\n",
    "#Getting non standardized df to compute std and mean of cols to unstandardize clusters\n",
    "#for interpretability\n",
    "with open('train_df') as f:\n",
    "    X_raw = pd.read_csv(f)"
   ]
  },
  {
   "cell_type": "code",
   "execution_count": 4,
   "id": "693fd286-1094-49c0-9c70-d4eda87af68a",
   "metadata": {},
   "outputs": [],
   "source": [
    "# Creating a dataframe to keep the summaries of the clusters we find interesting\n",
    "cluster_df=pd.DataFrame()"
   ]
  },
  {
   "cell_type": "markdown",
   "id": "e4209f0c-4428-418d-b99a-986c854d16a8",
   "metadata": {},
   "source": [
    "## K-Means Section"
   ]
  },
  {
   "cell_type": "code",
   "execution_count": 6,
   "id": "4d00c75f-1494-4ea6-bdd1-cb6e9c02fcec",
   "metadata": {},
   "outputs": [
    {
     "data": {
      "text/plain": [
       "{'Age Group': [7.61845370221172, 3.5673440802355807],\n",
       " 'Num of Bad Mental Health Days': [4.396691238521362, 8.323896862439367],\n",
       " 'Years Since Last Checkup': [1.3449712518815946, 0.7691084640829157],\n",
       " 'Hours of Sleeping': [7.022121201546527, 1.4922760097657395],\n",
       " 'Age Started Smoking': [7.102010698097683, 8.921420510930034],\n",
       " 'Cigarettes per Day': [6.068767859836509, 10.3211089273867],\n",
       " 'Days Drinking': [1.191693481353699, 1.8552323422844226],\n",
       " 'Income': [6.781393771739068, 2.293759987057213],\n",
       " 'BMI': [28.54164256948259, 6.250201767308392]}"
      ]
     },
     "execution_count": 6,
     "metadata": {},
     "output_type": "execute_result"
    }
   ],
   "source": [
    "std_columns=['Age Group',\n",
    " 'Num of Bad Mental Health Days',\n",
    " 'Years Since Last Checkup',\n",
    " 'Hours of Sleeping',\n",
    " 'Age Started Smoking',\n",
    " 'Cigarettes per Day',\n",
    " 'Days Drinking',\n",
    "'Income',\n",
    " 'BMI']\n",
    "unstandardize_dict={}\n",
    "for col in std_columns:\n",
    "    unstandardize_dict[col]=[X_raw[col].mean(axis=0),X_raw[col].std(axis=0)]\n",
    "unstandardize_dict"
   ]
  },
  {
   "cell_type": "code",
   "execution_count": 3,
   "id": "c60f7e8c-db5a-480e-87a8-914625efbd85",
   "metadata": {},
   "outputs": [],
   "source": [
    "silhouette=[]\n",
    "DB=[]\n",
    "CH=[]\n",
    "cluster_list=[2,3,4,5,6,7,8,9,10,11,12]\n",
    "\n",
    "for i in cluster_list:\n",
    "    km = KMeans(n_clusters = i,init = 'k-means++',max_iter=1000, n_init=1,verbose=False,random_state=42)\n",
    "    km.fit(X)\n",
    "    silhouette.append(metrics.silhouette_score(X, km.labels_,sample_size = 1000))\n",
    "    DB.append(metrics.davies_bouldin_score(X,km.labels_))\n",
    "    CH.append(metrics.calinski_harabasz_score(X,km.labels_))"
   ]
  },
  {
   "cell_type": "code",
   "execution_count": 4,
   "id": "818db2af-1660-41af-82cb-b72054dea8e5",
   "metadata": {},
   "outputs": [
    {
     "data": {
      "text/plain": [
       "([0.14845809590997555,\n",
       "  0.14071196401267336,\n",
       "  0.09136555449786156,\n",
       "  0.0848647169492368,\n",
       "  0.10139634994462915,\n",
       "  0.09600249696319915,\n",
       "  0.07388673167849331,\n",
       "  0.08623306727333453,\n",
       "  0.08662793261613963,\n",
       "  0.07623884433323888,\n",
       "  0.07593484868942856],\n",
       " [2.5271553419653925,\n",
       "  2.298009839437643,\n",
       "  2.42284145474288,\n",
       "  2.304835532338005,\n",
       "  2.173453014771115,\n",
       "  2.1620000280912346,\n",
       "  2.1268801723174047,\n",
       "  2.052253298621979,\n",
       "  2.0064921953597405,\n",
       "  2.1189821259786075,\n",
       "  2.278282159225411],\n",
       " [50195.42902457939,\n",
       "  39072.68169559474,\n",
       "  34460.40655359041,\n",
       "  32390.940440474067,\n",
       "  30916.153021324564,\n",
       "  27979.67204857384,\n",
       "  26339.789009836237,\n",
       "  24953.10302644066,\n",
       "  23337.426406678005,\n",
       "  22269.82199962306,\n",
       "  20695.679233375937])"
      ]
     },
     "execution_count": 4,
     "metadata": {},
     "output_type": "execute_result"
    }
   ],
   "source": [
    "silhouette,DB,CH"
   ]
  },
  {
   "cell_type": "markdown",
   "id": "c7bd4503-8ae4-4f0f-a328-252f19a2326d",
   "metadata": {},
   "source": [
    "Since 2 clusters is the optimal amount of clusters for a silhouette score and DH score, let's use that clustering and see if we can notice anything interesting about the cancer rates in either of these clusters."
   ]
  },
  {
   "cell_type": "code",
   "execution_count": 25,
   "id": "e5caefc8-5630-4717-b188-49f0bdfbf06c",
   "metadata": {},
   "outputs": [
    {
     "data": {
      "text/plain": [
       "[0.14052244968922503, 0.096318814025152]"
      ]
     },
     "execution_count": 25,
     "metadata": {},
     "output_type": "execute_result"
    }
   ],
   "source": [
    "n_clusters=2\n",
    "km = KMeans(n_clusters = n_clusters,init = 'k-means++',max_iter=1000, n_init=1,verbose=False,random_state=42)\n",
    "km.fit(X)\n",
    "#Finding cancer ratio for each cluster\n",
    "X['labels']=km.labels_\n",
    "cancer_ratio=[]\n",
    "for i in range(n_clusters):\n",
    "    df=X[X.labels==i]\n",
    "    cancer_ratio.append(df.Cancer.sum()/len(df))\n",
    "cancer_ratio"
   ]
  },
  {
   "cell_type": "markdown",
   "id": "d3a9d85f-e0d6-400b-9859-39d5b129c68e",
   "metadata": {},
   "source": [
    "One cluster does have 14% cancer rate, but that doesn't meet our 1.5 x normal rate threshold. Let's now try a cluster count of 10 as DB suggests"
   ]
  },
  {
   "cell_type": "code",
   "execution_count": 7,
   "id": "6065ee91-5116-4026-a17f-f7fc3dfc960c",
   "metadata": {},
   "outputs": [
    {
     "data": {
      "text/plain": [
       "[0.1856427149818132,\n",
       " 0.03151401367842296,\n",
       " 0.07880763706202289,\n",
       " 0.11330890462129567,\n",
       " 0.15846719008859755,\n",
       " 0.15048873103189386,\n",
       " 0.20735413290113452,\n",
       " 0.1713536354363981,\n",
       " 0.08659855173097906,\n",
       " 0.014145784793875708]"
      ]
     },
     "execution_count": 7,
     "metadata": {},
     "output_type": "execute_result"
    }
   ],
   "source": [
    "n_clusters=10\n",
    "km = KMeans(n_clusters = n_clusters,init = 'k-means++',max_iter=1000, n_init=1,verbose=False,random_state=42)\n",
    "km.fit(X)\n",
    "#Finding cancer ratio for each cluster\n",
    "X['labels']=km.labels_\n",
    "cancer_ratio=[]\n",
    "for i in range(n_clusters):\n",
    "    df=X[X.labels==i]\n",
    "    cancer_ratio.append(df.Cancer.sum()/len(df))\n",
    "cancer_ratio"
   ]
  },
  {
   "cell_type": "markdown",
   "id": "2c48d4e1-d1da-404d-8ff1-33749a56dac7",
   "metadata": {},
   "source": [
    "Cluster with highest percent has about 20% cancer rate, almost twice that of the rate in our dataset, second highest has 18%."
   ]
  },
  {
   "cell_type": "code",
   "execution_count": 8,
   "id": "cc144522-4a63-46cf-bf33-6688d569337c",
   "metadata": {},
   "outputs": [
    {
     "data": {
      "text/plain": [
       "(6, 0, 7)"
      ]
     },
     "execution_count": 8,
     "metadata": {},
     "output_type": "execute_result"
    }
   ],
   "source": [
    "hi_cancer_index=np.argsort(cancer_ratio)[-1]\n",
    "second_best_index=np.argsort(cancer_ratio)[-2]\n",
    "third_best_index=np.argsort(cancer_ratio)[-3]\n",
    "hi_cancer_index,second_best_index,third_best_index"
   ]
  },
  {
   "cell_type": "code",
   "execution_count": 9,
   "id": "46ee70f2-cb7f-485f-811c-5c798161d0be",
   "metadata": {},
   "outputs": [
    {
     "name": "stdout",
     "output_type": "stream",
     "text": [
      "9872\n"
     ]
    },
    {
     "name": "stderr",
     "output_type": "stream",
     "text": [
      "/tmp/ipykernel_2555725/2236180705.py:6: SettingWithCopyWarning: \n",
      "A value is trying to be set on a copy of a slice from a DataFrame.\n",
      "Try using .loc[row_indexer,col_indexer] = value instead\n",
      "\n",
      "See the caveats in the documentation: https://pandas.pydata.org/pandas-docs/stable/user_guide/indexing.html#returning-a-view-versus-a-copy\n",
      "  hi_cancer_cluster[col]=(hi_cancer_cluster[col]*unstandardize_dict[col][1])+unstandardize_dict[col][0]\n"
     ]
    },
    {
     "data": {
      "text/plain": [
       "Gender                                           0.661467\n",
       "Age Group                                        9.945551\n",
       "Num of Bad Mental Health Days                    3.969330\n",
       "Could Afford Doctor                              0.072462\n",
       "Years Since Last Checkup                         1.184986\n",
       "Exercise in Past 30 Days                         0.604079\n",
       "Hours of Sleeping                                6.963819\n",
       "Heart Attack                                     0.173467\n",
       "Heart Disease                                    0.183634\n",
       "Stroke                                           0.098590\n",
       "Asthma                                           0.185533\n",
       "Depression                                       0.255338\n",
       "Kidney Disease                                   0.099743\n",
       "Arthritis                                        0.587183\n",
       "Diabetes                                         0.314362\n",
       "Married                                          0.499267\n",
       "Deaf                                             0.206597\n",
       "Blind                                            0.100683\n",
       "Smoked 100                                       1.000000\n",
       "Smokeless Tobacco                                0.974739\n",
       "Age Started Smoking                             16.377798\n",
       "Cigarettes per Day                              44.521225\n",
       "Days Drinking                                    1.018920\n",
       "Flu Vaccine                                      0.615779\n",
       "Pneumonia Vaccine                                0.636254\n",
       "Tetanus Last 10 Years                            0.650018\n",
       "Had COVID                                        0.265277\n",
       "Metropolitan                                     0.653258\n",
       "Income                                           6.038251\n",
       "Insulin                                          0.107484\n",
       "BMI                                             30.563322\n",
       "Ethnicity_American Indian and Alaskan Native     0.017119\n",
       "Ethnicity_Asian and Pacific Islander             0.011447\n",
       "Ethnicity_Black                                  0.023805\n",
       "Ethnicity_Hispanic                               0.037480\n",
       "Ethnicity_Multiracial, non-Hispanic              0.020462\n",
       "Ethnicity_White                                  0.863047\n",
       "Education_attended_college                       0.319692\n",
       "Education_did_not_graduate_high_school           0.096637\n",
       "Education_graduated_college                      0.258408\n",
       "Education_graduated_high_school                  0.322224\n",
       "Cancer                                           0.207354\n",
       "labels                                           6.000000\n",
       "Name: Cluster_A, dtype: float64"
      ]
     },
     "execution_count": 9,
     "metadata": {},
     "output_type": "execute_result"
    }
   ],
   "source": [
    "hi_cancer_cluster=X[X.labels==hi_cancer_index]\n",
    "print(len(hi_cancer_cluster))\n",
    "\n",
    "#unstandardizing cluster\n",
    "for col in unstandardize_dict.keys():\n",
    "    hi_cancer_cluster[col]=(hi_cancer_cluster[col]*unstandardize_dict[col][1])+unstandardize_dict[col][0]\n",
    "    \n",
    "cluster_df['Cluster_A']=hi_cancer_cluster.sum()/len(hi_cancer_cluster)\n",
    "#note the binary columns will display as percentages, continuous/ordinal variables  will be average values\n",
    "cluster_df.Cluster_A"
   ]
  },
  {
   "cell_type": "code",
   "execution_count": 10,
   "id": "29705c9a-0df5-4825-ae12-9f0efc6d5b60",
   "metadata": {},
   "outputs": [
    {
     "name": "stdout",
     "output_type": "stream",
     "text": [
      "58284\n"
     ]
    },
    {
     "name": "stderr",
     "output_type": "stream",
     "text": [
      "/tmp/ipykernel_2555725/214843959.py:5: SettingWithCopyWarning: \n",
      "A value is trying to be set on a copy of a slice from a DataFrame.\n",
      "Try using .loc[row_indexer,col_indexer] = value instead\n",
      "\n",
      "See the caveats in the documentation: https://pandas.pydata.org/pandas-docs/stable/user_guide/indexing.html#returning-a-view-versus-a-copy\n",
      "  second_best_cluster[col]=(second_best_cluster[col]*unstandardize_dict[col][1])+unstandardize_dict[col][0]\n"
     ]
    },
    {
     "data": {
      "text/plain": [
       "Gender                                           0.317806\n",
       "Age Group                                       10.967730\n",
       "Num of Bad Mental Health Days                    1.187493\n",
       "Could Afford Doctor                              0.035235\n",
       "Years Since Last Checkup                         1.061886\n",
       "Exercise in Past 30 Days                         0.718539\n",
       "Hours of Sleeping                                7.203059\n",
       "Heart Attack                                     0.077287\n",
       "Heart Disease                                    0.090660\n",
       "Stroke                                           0.067133\n",
       "Asthma                                           0.125070\n",
       "Depression                                       0.120026\n",
       "Kidney Disease                                   0.077420\n",
       "Arthritis                                        0.529734\n",
       "Diabetes                                         0.225464\n",
       "Married                                          0.477393\n",
       "Deaf                                             0.144777\n",
       "Blind                                            0.067954\n",
       "Smoked 100                                       0.043563\n",
       "Smokeless Tobacco                                0.990853\n",
       "Age Started Smoking                              0.776706\n",
       "Cigarettes per Day                               0.645974\n",
       "Days Drinking                                    0.392906\n",
       "Flu Vaccine                                      0.663978\n",
       "Pneumonia Vaccine                                0.660959\n",
       "Tetanus Last 10 Years                            0.612516\n",
       "Had COVID                                        0.219229\n",
       "Metropolitan                                     0.668007\n",
       "Income                                           5.902602\n",
       "Insulin                                          0.074249\n",
       "BMI                                             27.535232\n",
       "Ethnicity_American Indian and Alaskan Native     0.010826\n",
       "Ethnicity_Asian and Pacific Islander             0.023540\n",
       "Ethnicity_Black                                  0.089510\n",
       "Ethnicity_Hispanic                               0.072764\n",
       "Ethnicity_Multiracial, non-Hispanic              0.011976\n",
       "Ethnicity_White                                  0.758407\n",
       "Education_attended_college                       0.295072\n",
       "Education_did_not_graduate_high_school           0.057786\n",
       "Education_graduated_college                      0.358778\n",
       "Education_graduated_high_school                  0.280763\n",
       "Cancer                                           0.185643\n",
       "labels                                           0.000000\n",
       "Name: Cluster_B, dtype: float64"
      ]
     },
     "execution_count": 10,
     "metadata": {},
     "output_type": "execute_result"
    }
   ],
   "source": [
    "second_best_cluster=X[X.labels==second_best_index]\n",
    "print(len(second_best_cluster))\n",
    "#unstandardizing cluster\n",
    "for col in unstandardize_dict.keys():\n",
    "    second_best_cluster[col]=(second_best_cluster[col]*unstandardize_dict[col][1])+unstandardize_dict[col][0]\n",
    "\n",
    "cluster_df['Cluster_B']=second_best_cluster.sum()/len(second_best_cluster)\n",
    "#note the binary columns will display as percentages, continuous/ordinal variables  will be average values\n",
    "cluster_df.Cluster_B"
   ]
  },
  {
   "cell_type": "code",
   "execution_count": 11,
   "id": "dfc0a267-0a28-4db9-95bc-146cda7502a8",
   "metadata": {},
   "outputs": [
    {
     "name": "stdout",
     "output_type": "stream",
     "text": [
      "6863\n"
     ]
    },
    {
     "name": "stderr",
     "output_type": "stream",
     "text": [
      "/tmp/ipykernel_2555725/11580871.py:5: SettingWithCopyWarning: \n",
      "A value is trying to be set on a copy of a slice from a DataFrame.\n",
      "Try using .loc[row_indexer,col_indexer] = value instead\n",
      "\n",
      "See the caveats in the documentation: https://pandas.pydata.org/pandas-docs/stable/user_guide/indexing.html#returning-a-view-versus-a-copy\n",
      "  third_best_cluster[col]=(third_best_cluster[col]*unstandardize_dict[col][1])+unstandardize_dict[col][0]\n"
     ]
    },
    {
     "data": {
      "text/plain": [
       "Gender                                           0.410316\n",
       "Age Group                                        9.247072\n",
       "Num of Bad Mental Health Days                    8.231239\n",
       "Could Afford Doctor                              0.116339\n",
       "Years Since Last Checkup                         1.165598\n",
       "Exercise in Past 30 Days                         0.475216\n",
       "Hours of Sleeping                               11.736419\n",
       "Heart Attack                                     0.148296\n",
       "Heart Disease                                    0.136319\n",
       "Stroke                                           0.134104\n",
       "Asthma                                           0.210521\n",
       "Depression                                       0.392443\n",
       "Kidney Disease                                   0.116674\n",
       "Arthritis                                        0.521122\n",
       "Diabetes                                         0.293866\n",
       "Married                                          0.307498\n",
       "Deaf                                             0.182726\n",
       "Blind                                            0.157428\n",
       "Smoked 100                                       0.618147\n",
       "Smokeless Tobacco                                0.977233\n",
       "Age Started Smoking                             10.686036\n",
       "Cigarettes per Day                               8.787580\n",
       "Days Drinking                                    0.597966\n",
       "Flu Vaccine                                      0.547240\n",
       "Pneumonia Vaccine                                0.536713\n",
       "Tetanus Last 10 Years                            0.588703\n",
       "Had COVID                                        0.243498\n",
       "Metropolitan                                     0.664900\n",
       "Income                                           4.560265\n",
       "Insulin                                          0.105381\n",
       "BMI                                             29.531229\n",
       "Ethnicity_American Indian and Alaskan Native     0.030307\n",
       "Ethnicity_Asian and Pacific Islander             0.018505\n",
       "Ethnicity_Black                                  0.159114\n",
       "Ethnicity_Hispanic                               0.087425\n",
       "Ethnicity_Multiracial, non-Hispanic              0.025936\n",
       "Ethnicity_White                                  0.641993\n",
       "Education_attended_college                       0.294478\n",
       "Education_did_not_graduate_high_school           0.148332\n",
       "Education_graduated_college                      0.179805\n",
       "Education_graduated_high_school                  0.371849\n",
       "Cancer                                           0.171354\n",
       "labels                                           7.000000\n",
       "Name: Cluster_C, dtype: float64"
      ]
     },
     "execution_count": 11,
     "metadata": {},
     "output_type": "execute_result"
    }
   ],
   "source": [
    "third_best_cluster=X[X.labels==third_best_index]\n",
    "print(len(third_best_cluster))\n",
    "#unstandardizing cluster\n",
    "for col in unstandardize_dict.keys():\n",
    "    third_best_cluster[col]=(third_best_cluster[col]*unstandardize_dict[col][1])+unstandardize_dict[col][0]\n",
    "\n",
    "cluster_df['Cluster_C']=third_best_cluster.sum()/len(third_best_cluster)\n",
    "#note the binary columns will display as percentages, continuous/ordinal variables  will be average values\n",
    "cluster_df.Cluster_C"
   ]
  },
  {
   "cell_type": "markdown",
   "id": "51a921d6-1c24-48d2-9cb0-06e0af1c4cde",
   "metadata": {},
   "source": [
    "## Agglomerative Clustering"
   ]
  },
  {
   "cell_type": "code",
   "execution_count": 12,
   "id": "d4b79c33-dd99-4fa3-8cb7-24b84dd62087",
   "metadata": {},
   "outputs": [],
   "source": [
    "#Using test_df_std since the training set was too large for agglomerative clustering.\n",
    "with open('test_df_std') as f:\n",
    "    X_test = pd.read_csv(f)\n",
    "\n",
    "#Getting non standardized df to compute std and mean of cols to unstandardize clusters\n",
    "#for interpretability\n",
    "with open('test_df') as f:\n",
    "    X_test_raw = pd.read_csv(f)"
   ]
  },
  {
   "cell_type": "code",
   "execution_count": 13,
   "id": "aa9b89bb-68fa-48c7-a839-4615b7da3879",
   "metadata": {},
   "outputs": [
    {
     "data": {
      "text/plain": [
       "{'Age Group': [7.638452311890301, 3.5625952863530213],\n",
       " 'Num of Bad Mental Health Days': [4.340016914039027, 8.230763178131637],\n",
       " 'Years Since Last Checkup': [1.340917946897508, 0.7639975045505629],\n",
       " 'Hours of Sleeping': [7.0295587870438085, 1.4861359866832793],\n",
       " 'Age Started Smoking': [7.144020162681092, 8.966439888729122],\n",
       " 'Cigarettes per Day': [6.129175824737502, 10.239826310172502],\n",
       " 'Days Drinking': [1.1970157616380357, 1.8572624874076875],\n",
       " 'Income': [6.788780921541784, 2.2916063949734133],\n",
       " 'BMI': [28.50097698549277, 6.208919952944744]}"
      ]
     },
     "execution_count": 13,
     "metadata": {},
     "output_type": "execute_result"
    }
   ],
   "source": [
    "std_columns=['Age Group',\n",
    " 'Num of Bad Mental Health Days',\n",
    " 'Years Since Last Checkup',\n",
    " 'Hours of Sleeping',\n",
    " 'Age Started Smoking',\n",
    " 'Cigarettes per Day',\n",
    " 'Days Drinking',\n",
    "'Income',\n",
    " 'BMI']\n",
    "unstandardize_dict={}\n",
    "for col in std_columns:\n",
    "    unstandardize_dict[col]=[X_test_raw[col].mean(axis=0),X_test_raw[col].std(axis=0)]\n",
    "unstandardize_dict"
   ]
  },
  {
   "cell_type": "code",
   "execution_count": 6,
   "id": "30a5646b-ffac-4f65-b0c6-d8a6137a55c0",
   "metadata": {},
   "outputs": [],
   "source": [
    "silhouette=[]\n",
    "DB=[]\n",
    "CH=[]\n",
    "for i in cluster_list:\n",
    "    ag=AgglomerativeClustering(n_clusters = i)\n",
    "    ag.fit(X_test)\n",
    "    silhouette.append(metrics.silhouette_score(X_test, ag.labels_,sample_size = 1000))\n",
    "    DB.append(metrics.davies_bouldin_score(X_test,ag.labels_))\n",
    "    CH.append(metrics.calinski_harabasz_score(X_test,ag.labels_))"
   ]
  },
  {
   "cell_type": "code",
   "execution_count": 7,
   "id": "e4d55bc1-ab34-4407-94b8-5d58a63c9a3b",
   "metadata": {},
   "outputs": [
    {
     "data": {
      "text/plain": [
       "([0.08211701905989412,\n",
       "  0.08473679005431885,\n",
       "  0.09076583608028277,\n",
       "  0.09543171795822326,\n",
       "  0.05705645295330608,\n",
       "  0.03717906037408408,\n",
       "  0.04663522271856349,\n",
       "  0.0628275243239851,\n",
       "  0.06920644900880353,\n",
       "  0.04259119821655351,\n",
       "  0.05472384813808576],\n",
       " [3.4646500455593023,\n",
       "  2.8794410764682037,\n",
       "  2.52572513967907,\n",
       "  2.2679409736121032,\n",
       "  2.5570631087319744,\n",
       "  2.5070816556690105,\n",
       "  2.4733325544094122,\n",
       "  2.3024955330054437,\n",
       "  2.2501168708895127,\n",
       "  2.265086143871992,\n",
       "  2.3394051283250827],\n",
       " [3391.5359910315615,\n",
       "  3349.4647871267252,\n",
       "  3255.422898075652,\n",
       "  3246.540273586324,\n",
       "  2970.777571451951,\n",
       "  2724.989226623972,\n",
       "  2521.058425347685,\n",
       "  2367.2723846987096,\n",
       "  2248.621295099417,\n",
       "  2155.9960873322316,\n",
       "  2081.5884581923156])"
      ]
     },
     "execution_count": 7,
     "metadata": {},
     "output_type": "execute_result"
    }
   ],
   "source": [
    "silhouette,DB,CH"
   ]
  },
  {
   "cell_type": "code",
   "execution_count": 8,
   "id": "4025e77b-b147-48d8-8ca5-8c9601fb78c8",
   "metadata": {},
   "outputs": [
    {
     "data": {
      "text/plain": [
       "[0.10933249633814605,\n",
       " 0.1442349846558527,\n",
       " 0.04013556903317874,\n",
       " 0.12082066869300911,\n",
       " 0.14284420289855074]"
      ]
     },
     "execution_count": 8,
     "metadata": {},
     "output_type": "execute_result"
    }
   ],
   "source": [
    "#Silhouette score algo says 5 is the optimal cluster amount\n",
    "n_clusters=5\n",
    "ag = AgglomerativeClustering(n_clusters = n_clusters)\n",
    "ag.fit(X_test)\n",
    "#Finding cancer ratio for each cluster\n",
    "X_test['labels']=ag.labels_\n",
    "cancer_ratio=[]\n",
    "for i in range(n_clusters):\n",
    "    df=X_test[X_test.labels==i]\n",
    "    cancer_ratio.append(df.Cancer.sum()/len(df))\n",
    "cancer_ratio"
   ]
  },
  {
   "cell_type": "markdown",
   "id": "df4809f7-6a58-4dfd-8e78-9ee91615fe00",
   "metadata": {},
   "source": [
    "Nothing too interesting here."
   ]
  },
  {
   "cell_type": "code",
   "execution_count": 14,
   "id": "a285baed-f07e-4652-a160-d400071e3906",
   "metadata": {},
   "outputs": [
    {
     "data": {
      "text/plain": [
       "[0.054637607704004054,\n",
       " 0.12082066869300911,\n",
       " 0.04013556903317874,\n",
       " 0.09076803723816912,\n",
       " 0.22129186602870812,\n",
       " 0.1364170913367307,\n",
       " 0.18310457053912552,\n",
       " 0.18706467661691542,\n",
       " 0.1564245810055866,\n",
       " 0.11050156739811912]"
      ]
     },
     "execution_count": 14,
     "metadata": {},
     "output_type": "execute_result"
    }
   ],
   "source": [
    "#DB algo says 10 is the optimal cluster\n",
    "n_clusters=10\n",
    "ag = AgglomerativeClustering(n_clusters = n_clusters)\n",
    "ag.fit(X_test)\n",
    "#Finding cancer ratio for each cluster\n",
    "X_test['labels']=ag.labels_\n",
    "cancer_ratio=[]\n",
    "for i in range(n_clusters):\n",
    "    df=X_test[X_test.labels==i]\n",
    "    cancer_ratio.append(df.Cancer.sum()/len(df))\n",
    "cancer_ratio"
   ]
  },
  {
   "cell_type": "code",
   "execution_count": 15,
   "id": "3d2fe906-0792-4b42-802e-234b76738791",
   "metadata": {},
   "outputs": [
    {
     "data": {
      "text/plain": [
       "(4, 7, 6)"
      ]
     },
     "execution_count": 15,
     "metadata": {},
     "output_type": "execute_result"
    }
   ],
   "source": [
    "hi_cancer_index=np.argsort(cancer_ratio)[-1]\n",
    "second_best_index=np.argsort(cancer_ratio)[-2]\n",
    "third_best_index=np.argsort(cancer_ratio)[-3]\n",
    "hi_cancer_index,second_best_index,third_best_index"
   ]
  },
  {
   "cell_type": "code",
   "execution_count": 16,
   "id": "a1fa2019-1c20-481e-b527-70e2ccb47b10",
   "metadata": {},
   "outputs": [
    {
     "name": "stdout",
     "output_type": "stream",
     "text": [
      "836\n"
     ]
    },
    {
     "name": "stderr",
     "output_type": "stream",
     "text": [
      "/tmp/ipykernel_2555725/9296929.py:6: SettingWithCopyWarning: \n",
      "A value is trying to be set on a copy of a slice from a DataFrame.\n",
      "Try using .loc[row_indexer,col_indexer] = value instead\n",
      "\n",
      "See the caveats in the documentation: https://pandas.pydata.org/pandas-docs/stable/user_guide/indexing.html#returning-a-view-versus-a-copy\n",
      "  hi_cancer_cluster[col]=(hi_cancer_cluster[col]*unstandardize_dict[col][1])+unstandardize_dict[col][0]\n"
     ]
    },
    {
     "data": {
      "text/plain": [
       "Gender                                           0.699761\n",
       "Age Group                                        9.999817\n",
       "Num of Bad Mental Health Days                    2.080246\n",
       "Could Afford Doctor                              0.049220\n",
       "Years Since Last Checkup                         1.099826\n",
       "Exercise in Past 30 Days                         0.636684\n",
       "Hours of Sleeping                                7.056922\n",
       "Heart Attack                                     0.165946\n",
       "Heart Disease                                    0.160810\n",
       "Stroke                                           0.091219\n",
       "Asthma                                           0.186037\n",
       "Depression                                       0.193082\n",
       "Kidney Disease                                   0.086914\n",
       "Arthritis                                        0.531161\n",
       "Diabetes                                         0.298863\n",
       "Married                                          0.536401\n",
       "Deaf                                             0.189100\n",
       "Blind                                            0.089947\n",
       "Smoked 100                                       1.000000\n",
       "Smokeless Tobacco                                0.965311\n",
       "Age Started Smoking                             16.545053\n",
       "Cigarettes per Day                              45.335126\n",
       "Days Drinking                                    0.482802\n",
       "Flu Vaccine                                      0.621958\n",
       "Pneumonia Vaccine                                0.625633\n",
       "Tetanus Last 10 Years                            0.684635\n",
       "Had COVID                                        0.300041\n",
       "Metropolitan                                     0.692816\n",
       "Income                                           6.294201\n",
       "Insulin                                          0.095324\n",
       "BMI                                             29.753705\n",
       "Ethnicity_American Indian and Alaskan Native     0.017943\n",
       "Ethnicity_Asian and Pacific Islander             0.020335\n",
       "Ethnicity_Black                                  0.041866\n",
       "Ethnicity_Hispanic                               0.044258\n",
       "Ethnicity_Multiracial, non-Hispanic              0.019139\n",
       "Ethnicity_White                                  0.818182\n",
       "Education_attended_college                       0.297847\n",
       "Education_did_not_graduate_high_school           0.101675\n",
       "Education_graduated_college                      0.269139\n",
       "Education_graduated_high_school                  0.327751\n",
       "Cancer                                           0.221292\n",
       "labels                                           4.000000\n",
       "Name: Cluster_D, dtype: float64"
      ]
     },
     "execution_count": 16,
     "metadata": {},
     "output_type": "execute_result"
    }
   ],
   "source": [
    "hi_cancer_cluster=X_test[X_test.labels==hi_cancer_index]\n",
    "print(len(hi_cancer_cluster))\n",
    "\n",
    "#unstandardizing cluster\n",
    "for col in unstandardize_dict.keys():\n",
    "    hi_cancer_cluster[col]=(hi_cancer_cluster[col]*unstandardize_dict[col][1])+unstandardize_dict[col][0]\n",
    "    \n",
    "cluster_df['Cluster_D']=hi_cancer_cluster.sum()/len(hi_cancer_cluster)    \n",
    "#note the binary columns will display as percentages, continuous/ordinal variables  will be average values\n",
    "cluster_df.Cluster_D"
   ]
  },
  {
   "cell_type": "code",
   "execution_count": 17,
   "id": "c6c50531-9621-42e0-8096-77ff45143612",
   "metadata": {},
   "outputs": [
    {
     "name": "stdout",
     "output_type": "stream",
     "text": [
      "2010\n"
     ]
    },
    {
     "name": "stderr",
     "output_type": "stream",
     "text": [
      "/tmp/ipykernel_2555725/399011662.py:6: SettingWithCopyWarning: \n",
      "A value is trying to be set on a copy of a slice from a DataFrame.\n",
      "Try using .loc[row_indexer,col_indexer] = value instead\n",
      "\n",
      "See the caveats in the documentation: https://pandas.pydata.org/pandas-docs/stable/user_guide/indexing.html#returning-a-view-versus-a-copy\n",
      "  second_best_cluster[col]=(second_best_cluster[col]*unstandardize_dict[col][1])+unstandardize_dict[col][0]\n"
     ]
    },
    {
     "data": {
      "text/plain": [
       "Gender                                           0.649254\n",
       "Age Group                                        9.324855\n",
       "Num of Bad Mental Health Days                    1.826708\n",
       "Could Afford Doctor                              0.045350\n",
       "Years Since Last Checkup                         1.077753\n",
       "Exercise in Past 30 Days                         0.791169\n",
       "Hours of Sleeping                                7.148834\n",
       "Heart Attack                                     0.084324\n",
       "Heart Disease                                    0.082206\n",
       "Stroke                                           0.045502\n",
       "Asthma                                           0.120428\n",
       "Depression                                       0.159363\n",
       "Kidney Disease                                   0.042515\n",
       "Arthritis                                        0.447280\n",
       "Diabetes                                         0.108099\n",
       "Married                                          0.589968\n",
       "Deaf                                             0.147894\n",
       "Blind                                            0.048232\n",
       "Smoked 100                                       0.997602\n",
       "Smokeless Tobacco                                0.971979\n",
       "Age Started Smoking                             17.482439\n",
       "Cigarettes per Day                              16.415261\n",
       "Days Drinking                                    5.502134\n",
       "Flu Vaccine                                      0.612620\n",
       "Pneumonia Vaccine                                0.531701\n",
       "Tetanus Last 10 Years                            0.690888\n",
       "Had COVID                                        0.270562\n",
       "Metropolitan                                     0.701794\n",
       "Income                                           7.283685\n",
       "Insulin                                          0.032287\n",
       "BMI                                             27.742635\n",
       "Ethnicity_American Indian and Alaskan Native     0.009950\n",
       "Ethnicity_Asian and Pacific Islander             0.011443\n",
       "Ethnicity_Black                                  0.038806\n",
       "Ethnicity_Hispanic                               0.027363\n",
       "Ethnicity_Multiracial, non-Hispanic              0.015920\n",
       "Ethnicity_White                                  0.869154\n",
       "Education_attended_college                       0.290050\n",
       "Education_did_not_graduate_high_school           0.026368\n",
       "Education_graduated_college                      0.465672\n",
       "Education_graduated_high_school                  0.215423\n",
       "Cancer                                           0.187065\n",
       "labels                                           7.000000\n",
       "Name: Cluster_E, dtype: float64"
      ]
     },
     "execution_count": 17,
     "metadata": {},
     "output_type": "execute_result"
    }
   ],
   "source": [
    "second_best_cluster=X_test[X_test.labels==second_best_index]\n",
    "print(len(second_best_cluster))\n",
    "\n",
    "#unstandardizing cluster\n",
    "for col in unstandardize_dict.keys():\n",
    "    second_best_cluster[col]=(second_best_cluster[col]*unstandardize_dict[col][1])+unstandardize_dict[col][0]\n",
    "    \n",
    "cluster_df['Cluster_E']=second_best_cluster.sum()/len(second_best_cluster)    \n",
    "#note the binary columns will display as percentages, continuous/ordinal variables  will be average values\n",
    "cluster_df.Cluster_E"
   ]
  },
  {
   "cell_type": "code",
   "execution_count": 18,
   "id": "25b86f3b-fc97-4918-b970-bc2f80bf8ece",
   "metadata": {},
   "outputs": [
    {
     "name": "stdout",
     "output_type": "stream",
     "text": [
      "7067\n"
     ]
    },
    {
     "name": "stderr",
     "output_type": "stream",
     "text": [
      "/tmp/ipykernel_2555725/2039246439.py:6: SettingWithCopyWarning: \n",
      "A value is trying to be set on a copy of a slice from a DataFrame.\n",
      "Try using .loc[row_indexer,col_indexer] = value instead\n",
      "\n",
      "See the caveats in the documentation: https://pandas.pydata.org/pandas-docs/stable/user_guide/indexing.html#returning-a-view-versus-a-copy\n",
      "  third_best_cluster[col]=(third_best_cluster[col]*unstandardize_dict[col][1])+unstandardize_dict[col][0]\n"
     ]
    },
    {
     "data": {
      "text/plain": [
       "Gender                                           0.354323\n",
       "Age Group                                       10.599729\n",
       "Num of Bad Mental Health Days                    0.891132\n",
       "Could Afford Doctor                              0.038961\n",
       "Years Since Last Checkup                         1.049624\n",
       "Exercise in Past 30 Days                         0.739002\n",
       "Hours of Sleeping                                7.188386\n",
       "Heart Attack                                     0.076587\n",
       "Heart Disease                                    0.091180\n",
       "Stroke                                           0.063761\n",
       "Asthma                                           0.131497\n",
       "Depression                                       0.113778\n",
       "Kidney Disease                                   0.068788\n",
       "Arthritis                                        0.501031\n",
       "Diabetes                                         0.216509\n",
       "Married                                          0.498984\n",
       "Deaf                                             0.139983\n",
       "Blind                                            0.066857\n",
       "Smoked 100                                       0.024238\n",
       "Smokeless Tobacco                                0.991208\n",
       "Age Started Smoking                              0.439725\n",
       "Cigarettes per Day                               0.345398\n",
       "Days Drinking                                    0.361686\n",
       "Flu Vaccine                                      0.652152\n",
       "Pneumonia Vaccine                                0.624172\n",
       "Tetanus Last 10 Years                            0.639058\n",
       "Had COVID                                        0.253384\n",
       "Metropolitan                                     0.670348\n",
       "Income                                           6.163423\n",
       "Insulin                                          0.071753\n",
       "BMI                                             27.708635\n",
       "Ethnicity_American Indian and Alaskan Native     0.011037\n",
       "Ethnicity_Asian and Pacific Islander             0.017688\n",
       "Ethnicity_Black                                  0.066082\n",
       "Ethnicity_Hispanic                               0.067780\n",
       "Ethnicity_Multiracial, non-Hispanic              0.007217\n",
       "Ethnicity_White                                  0.803311\n",
       "Education_attended_college                       0.293194\n",
       "Education_did_not_graduate_high_school           0.071317\n",
       "Education_graduated_college                      0.380359\n",
       "Education_graduated_high_school                  0.250035\n",
       "Cancer                                           0.183105\n",
       "labels                                           6.000000\n",
       "Name: Cluster_F, dtype: float64"
      ]
     },
     "execution_count": 18,
     "metadata": {},
     "output_type": "execute_result"
    }
   ],
   "source": [
    "third_best_cluster=X_test[X_test.labels==third_best_index]\n",
    "print(len(third_best_cluster))\n",
    "\n",
    "#unstandardizing cluster\n",
    "for col in unstandardize_dict.keys():\n",
    "    third_best_cluster[col]=(third_best_cluster[col]*unstandardize_dict[col][1])+unstandardize_dict[col][0]\n",
    "    \n",
    "cluster_df['Cluster_F']=third_best_cluster.sum()/len(third_best_cluster)    \n",
    "#note the binary columns will display as percentages, continuous/ordinal variables  will be average values\n",
    "cluster_df.Cluster_F"
   ]
  },
  {
   "cell_type": "code",
   "execution_count": 13,
   "id": "33fa3f15-ed56-4ec4-bd56-c1ae173f5e29",
   "metadata": {},
   "outputs": [
    {
     "data": {
      "text/plain": [
       "[0.15233573411660564, 0.06390648334105772]"
      ]
     },
     "execution_count": 13,
     "metadata": {},
     "output_type": "execute_result"
    }
   ],
   "source": [
    "#CH algo says 2 is the optimal cluster\n",
    "n_clusters=2\n",
    "ag = AgglomerativeClustering(n_clusters = n_clusters)\n",
    "ag.fit(X_test)\n",
    "#Finding cancer ratio for each cluster\n",
    "X_test['labels']=ag.labels_\n",
    "cancer_ratio=[]\n",
    "for i in range(n_clusters):\n",
    "    df=X_test[X_test.labels==i]\n",
    "    cancer_ratio.append(df.Cancer.sum()/len(df))\n",
    "cancer_ratio"
   ]
  },
  {
   "cell_type": "markdown",
   "id": "d6e810d5-c28d-4d90-a97d-94da44b6aa7b",
   "metadata": {},
   "source": [
    "Nothing that meets our threshold"
   ]
  },
  {
   "cell_type": "code",
   "execution_count": 22,
   "id": "73169c89-e034-4f0f-a660-087bebd25390",
   "metadata": {},
   "outputs": [],
   "source": [
    "# Exporting cluster_df to use in cluster visualization notebook\n",
    "cluster_df.to_csv('cluster_df')"
   ]
  },
  {
   "cell_type": "code",
   "execution_count": null,
   "id": "9ce52e29-cf0a-457f-9f64-86317109925f",
   "metadata": {},
   "outputs": [],
   "source": []
  }
 ],
 "metadata": {
  "kernelspec": {
   "display_name": "Python 3 (ipykernel)",
   "language": "python",
   "name": "python3"
  },
  "language_info": {
   "codemirror_mode": {
    "name": "ipython",
    "version": 3
   },
   "file_extension": ".py",
   "mimetype": "text/x-python",
   "name": "python",
   "nbconvert_exporter": "python",
   "pygments_lexer": "ipython3",
   "version": "3.11.7"
  }
 },
 "nbformat": 4,
 "nbformat_minor": 5
}
