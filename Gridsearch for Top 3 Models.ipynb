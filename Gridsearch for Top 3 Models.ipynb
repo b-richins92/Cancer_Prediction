{
 "cells": [
  {
   "cell_type": "code",
   "execution_count": 34,
   "id": "28b26747",
   "metadata": {},
   "outputs": [],
   "source": [
    "import os\n",
    "import requests\n",
    "import pandas as pd\n",
    "import numpy as np\n",
    "#import altair as alt\n",
    "#from vega_datasets import data\n",
    "import matplotlib.pyplot as plt\n",
    "from sklearn.preprocessing import StandardScaler, OneHotEncoder\n",
    "import statsmodels.api as sm\n",
    "from sklearn.feature_selection import RFECV\n",
    "from sklearn.ensemble import *\n",
    "from sklearn.experimental import enable_iterative_imputer\n",
    "from sklearn.impute import IterativeImputer\n",
    "from sklearn.model_selection import *\n",
    "from sklearn.metrics import *\n",
    "from imblearn.over_sampling import SMOTE\n",
    "from sklearn.inspection import permutation_importance\n",
    "import re\n",
    "from sklearn.naive_bayes import GaussianNB\n",
    "from sklearn.model_selection import GridSearchCV\n",
    "from sklearn.discriminant_analysis import QuadraticDiscriminantAnalysis\n",
    "from sklearn.svm import SVC\n",
    "from sklearn.linear_model import SGDClassifier\n",
    "from sklearn.neighbors import NearestNeighbors\n",
    "from imblearn.pipeline import Pipeline\n",
    "from sklearn.compose import ColumnTransformer\n",
    "import pickle"
   ]
  },
  {
   "cell_type": "code",
   "execution_count": 2,
   "id": "5aea2927",
   "metadata": {},
   "outputs": [],
   "source": [
    "train_df = pd.read_csv('train_df')\n",
    "test_df = pd.read_csv('test_df')\n",
    "\n",
    "train_df_std = pd.read_csv('train_df_std')\n",
    "test_df_std = pd.read_csv('test_df_std')"
   ]
  },
  {
   "cell_type": "code",
   "execution_count": 3,
   "id": "b1579442",
   "metadata": {},
   "outputs": [],
   "source": [
    "X_train, y_train = train_df.drop('Cancer', axis=1), train_df.Cancer\n",
    "X_test, y_test = test_df.drop('Cancer', axis=1), test_df.Cancer\n",
    "\n",
    "X_train_std, y_train_std = train_df_std.drop('Cancer', axis=1), train_df_std.Cancer\n",
    "X_test_std, y_test_std = test_df_std.drop('Cancer', axis=1), test_df_std.Cancer"
   ]
  },
  {
   "cell_type": "code",
   "execution_count": 4,
   "id": "06dff098-0ccd-48d1-ae14-e8b532e9a05e",
   "metadata": {},
   "outputs": [],
   "source": [
    "#Smoting the data\n",
    "smote = SMOTE(random_state=42)\n",
    "X_train_std, y_train_std = smote.fit_resample(X_train_std, y_train_std)"
   ]
  },
  {
   "cell_type": "code",
   "execution_count": 5,
   "id": "27467096",
   "metadata": {},
   "outputs": [
    {
     "name": "stdout",
     "output_type": "stream",
     "text": [
      "Test Scores\n",
      "Accuracy: 0.5403415251174557\n",
      "Precision: 0.1715045234318055\n",
      "Recall: 0.7957032027053909\n",
      "F1 Score: 0.2821869488536155\n",
      "********************\n",
      "CPU times: user 3 µs, sys: 1e+03 ns, total: 4 µs\n",
      "Wall time: 8.34 µs\n"
     ]
    }
   ],
   "source": [
    "# Baseline NB Model\n",
    "nb = GaussianNB()\n",
    "nb.fit(X_train_std, y_train_std)\n",
    "\n",
    "y_pred = nb.predict(X_test_std)\n",
    "accuracy = accuracy_score(y_test_std, y_pred)\n",
    "precision = precision_score(y_test_std, y_pred)\n",
    "recall = recall_score(y_test_std, y_pred)\n",
    "f1 = f1_score(y_test_std, y_pred)\n",
    "\n",
    "print('Test Scores')\n",
    "print(f'Accuracy: {accuracy}')\n",
    "print(f'Precision: {precision}')\n",
    "print(f'Recall: {recall}')\n",
    "print(f'F1 Score: {f1}')\n",
    "print('********************')\n",
    "%time"
   ]
  },
  {
   "cell_type": "markdown",
   "id": "8ae22219",
   "metadata": {},
   "source": [
    "## Naive Bayes Pipeline"
   ]
  },
  {
   "cell_type": "code",
   "execution_count": 40,
   "id": "9a356583",
   "metadata": {},
   "outputs": [
    {
     "name": "stdout",
     "output_type": "stream",
     "text": [
      "Best parameters found:  {'nb__var_smoothing': 3.125}\n",
      "Cross-validation recall:  0.8386\n",
      "Cross-validation recall std:  0.0067\n",
      "Cross-validation precision:  0.1821\n",
      "Cross-validation precision std:  0.001\n",
      "Cross-validation f1 score:  0.2992\n",
      "Cross-validation f1 std:  0.0015\n",
      "Cross-validation accuracy score:  0.5539\n",
      "Cross-validation accuracy std:  0.0032\n",
      "Pipeline(steps=[('ct',\n",
      "                 ColumnTransformer(transformers=[('std', StandardScaler(),\n",
      "                                                  ['Age Group',\n",
      "                                                   'Num of Bad Mental Health '\n",
      "                                                   'Days',\n",
      "                                                   'Years Since Last Checkup',\n",
      "                                                   'Hours of Sleeping',\n",
      "                                                   'Age Started Smoking',\n",
      "                                                   'Cigarettes per Day',\n",
      "                                                   'Days Drinking', 'Income',\n",
      "                                                   'BMI'])])),\n",
      "                ('smote', SMOTE(random_state=42)),\n",
      "                ('nb', GaussianNB(var_smoothing=3.125))])\n",
      "********************\n",
      "CPU times: user 3 µs, sys: 0 ns, total: 3 µs\n",
      "Wall time: 6.44 µs\n"
     ]
    }
   ],
   "source": [
    "#Column Transformer\n",
    "cols_to_std=['Age Group','Num of Bad Mental Health Days','Years Since Last Checkup','Hours of Sleeping','Age Started Smoking',\n",
    " 'Cigarettes per Day','Days Drinking','Income','BMI']\n",
    "\n",
    "ct = ColumnTransformer([('std',StandardScaler(),cols_to_std)])\n",
    "\n",
    "\n",
    "# NB pipeline\n",
    "nb_pipeline = Pipeline([\n",
    "    ('ct', ct),\n",
    "    ('smote', SMOTE(random_state=42)),  \n",
    "    ('nb', GaussianNB())\n",
    "])\n",
    "\n",
    "# NB Parameter Grid\n",
    "# Note: more values have been tested than what is shown, small amounts of values were run at a time to increase runtime.\n",
    "param_grid = {\n",
    "    'nb__var_smoothing': [3.075,3.1,3.125,3.15],\n",
    "}\n",
    "\n",
    "# Grid search\n",
    "grid_search = GridSearchCV(estimator=nb_pipeline, param_grid=param_grid, cv=5, scoring=['recall','precision','f1','accuracy'],refit='recall')\n",
    "grid_search.fit(X_train, y_train)\n",
    "\n",
    "#print(\"Results Table: \", pd.DataFrame(grid_search.cv_results_))\n",
    "#pd.set_option('display.max_columns',None)\n",
    "print(\"Best parameters found: \", grid_search.best_params_)\n",
    "print(\"Cross-validation recall: \", np.round(grid_search.cv_results_['mean_test_recall'][grid_search.best_index_],4))\n",
    "print(\"Cross-validation recall std: \", np.round(grid_search.cv_results_['std_test_recall'][grid_search.best_index_],4))\n",
    "print(\"Cross-validation precision: \", np.round(grid_search.cv_results_['mean_test_precision'][grid_search.best_index_],4))\n",
    "print(\"Cross-validation precision std: \", np.round(grid_search.cv_results_['std_test_precision'][grid_search.best_index_],4))\n",
    "print(\"Cross-validation f1 score: \", np.round(grid_search.cv_results_['mean_test_f1'][grid_search.best_index_],4))\n",
    "print(\"Cross-validation f1 std: \", np.round(grid_search.cv_results_['std_test_f1'][grid_search.best_index_],4))\n",
    "print(\"Cross-validation accuracy score: \", np.round(grid_search.cv_results_['mean_test_accuracy'][grid_search.best_index_],4))\n",
    "print(\"Cross-validation accuracy std: \", np.round(grid_search.cv_results_['std_test_accuracy'][grid_search.best_index_],4))\n",
    "\n",
    "grid_nb = grid_search.best_estimator_\n",
    "print(grid_nb)  \n",
    "\n",
    "print('********************')\n",
    "%time"
   ]
  },
  {
   "cell_type": "code",
   "execution_count": 41,
   "id": "242164f2",
   "metadata": {},
   "outputs": [
    {
     "name": "stdout",
     "output_type": "stream",
     "text": [
      "Test Scores\n",
      "Accuracy: 0.5509577159378388\n",
      "Precision: 0.18103337198814587\n",
      "Recall: 0.8384722498508056\n",
      "F1 Score: 0.29777463793712466\n"
     ]
    }
   ],
   "source": [
    "# Testing Grid Search nb\n",
    "y_pred = grid_nb.predict(X_test)\n",
    "accuracy = accuracy_score(y_test, y_pred)\n",
    "precision = precision_score(y_test, y_pred)\n",
    "recall = recall_score(y_test, y_pred)\n",
    "f1 = f1_score(y_test, y_pred)\n",
    "\n",
    "print('Test Scores')\n",
    "print(f'Accuracy: {accuracy}')\n",
    "print(f'Precision: {precision}')\n",
    "print(f'Recall: {recall}')\n",
    "print(f'F1 Score: {f1}')\n",
    "\n",
    "#print(' ')\n",
    "#print('Validation Scores')\n",
    "#y_pred = grid_nb.predict(X_val)\n",
    "#accuracy = accuracy_score(y_val, y_pred)\n",
    "#precision = precision_score(y_val, y_pred)\n",
    "#recall = recall_score(y_val, y_pred)\n",
    "#f1 = f1_score(y_val, y_pred)\n",
    "\n",
    "#print(f'Accuracy: {accuracy}')\n",
    "#print(f'Precision: {precision}')\n",
    "#print(f'Recall: {recall}')\n",
    "#print(f'F1 Score: {f1}')"
   ]
  },
  {
   "cell_type": "markdown",
   "id": "a1acf111-400c-4eb9-a9c4-4e8789297d7b",
   "metadata": {},
   "source": [
    "## SGDClassifier (SVM) Pipeline"
   ]
  },
  {
   "cell_type": "code",
   "execution_count": 6,
   "id": "448a89b1-8f81-4fcc-bbba-c4ab5dfcec92",
   "metadata": {},
   "outputs": [
    {
     "name": "stdout",
     "output_type": "stream",
     "text": [
      "Test Scores\n",
      "Accuracy: 0.6328379110950488\n",
      "Precision: 0.20468174644923726\n",
      "Recall: 0.774020290431669\n",
      "F1 Score: 0.32375088405375047\n",
      "********************\n",
      "CPU times: user 3 µs, sys: 1e+03 ns, total: 4 µs\n",
      "Wall time: 10 µs\n"
     ]
    }
   ],
   "source": [
    "# Baseline SGDClassifier Model\n",
    "sgdc = SGDClassifier()\n",
    "sgdc.fit(X_train_std, y_train_std)\n",
    "\n",
    "y_pred = sgdc.predict(X_test_std)\n",
    "accuracy = accuracy_score(y_test_std, y_pred)\n",
    "precision = precision_score(y_test_std, y_pred)\n",
    "recall = recall_score(y_test_std, y_pred)\n",
    "f1 = f1_score(y_test_std, y_pred)\n",
    "\n",
    "print('Test Scores')\n",
    "print(f'Accuracy: {accuracy}')\n",
    "print(f'Precision: {precision}')\n",
    "print(f'Recall: {recall}')\n",
    "print(f'F1 Score: {f1}')\n",
    "print('********************')\n",
    "%time"
   ]
  },
  {
   "cell_type": "code",
   "execution_count": 12,
   "id": "e074dca8-004f-4b75-96e1-41bb221eb983",
   "metadata": {},
   "outputs": [
    {
     "name": "stdout",
     "output_type": "stream",
     "text": [
      "Best parameters found:  {'sdgc__alpha': 0.5, 'sdgc__eta0': 0.025, 'sdgc__learning_rate': 'adaptive', 'sdgc__loss': 'hinge', 'sdgc__penalty': 'l2'}\n",
      "Cross-validation recall:  0.8655\n",
      "Cross-validation recall std:  0.0053\n",
      "Cross-validation precision:  0.1799\n",
      "Cross-validation precision std:  0.0007\n",
      "Cross-validation f1 score:  0.2978\n",
      "Cross-validation f1 std:  0.0012\n",
      "Cross-validation accuracy score:  0.5366\n",
      "Cross-validation accuracy std:  0.0011\n",
      "Pipeline(steps=[('ct',\n",
      "                 ColumnTransformer(transformers=[('std', StandardScaler(),\n",
      "                                                  ['Age Group',\n",
      "                                                   'Num of Bad Mental Health '\n",
      "                                                   'Days',\n",
      "                                                   'Years Since Last Checkup',\n",
      "                                                   'Hours of Sleeping',\n",
      "                                                   'Age Started Smoking',\n",
      "                                                   'Cigarettes per Day',\n",
      "                                                   'Days Drinking', 'Income',\n",
      "                                                   'BMI'])])),\n",
      "                ('smote', SMOTE(random_state=42)),\n",
      "                ('sdgc',\n",
      "                 SGDClassifier(alpha=0.5, eta0=0.025,\n",
      "                               learning_rate='adaptive'))])\n",
      "********************\n",
      "CPU times: user 3 µs, sys: 0 ns, total: 3 µs\n",
      "Wall time: 9.3 µs\n"
     ]
    }
   ],
   "source": [
    "#Column Transformer\n",
    "cols_to_std=['Age Group','Num of Bad Mental Health Days','Years Since Last Checkup','Hours of Sleeping','Age Started Smoking',\n",
    " 'Cigarettes per Day','Days Drinking','Income','BMI']\n",
    "\n",
    "ct = ColumnTransformer([('std',StandardScaler(),cols_to_std)])\n",
    "\n",
    "\n",
    "# sgdc pipeline\n",
    "sgdc_pipeline = Pipeline([\n",
    "    ('ct', ct),\n",
    "    ('smote', SMOTE(random_state=42)),  \n",
    "    ('sgdc', SGDClassifier())\n",
    "])\n",
    "\n",
    "# sgdc Parameter Grid \n",
    "# Note: more values have been tested than what is shown, small amounts of values were run at a time to increase runtime.\n",
    "param_grid = {\n",
    "    'sgdc__loss': ['hinge'], #using only hinge loss in order to implement SVM\n",
    "    'sgdc__penalty': ['l2'],\n",
    "    'sgdc__learning_rate': ['adaptive'],\n",
    "    'sgdc__alpha': [.75,.5,.25],\n",
    "    'sgdc__eta0': [.01,.025,.05,.075]\n",
    "}\n",
    "\n",
    "# Grid search\n",
    "grid_search = GridSearchCV(estimator=sgdc_pipeline, param_grid=param_grid, cv=5, scoring=['recall','precision','f1','accuracy'],refit='recall')\n",
    "grid_search.fit(X_train, y_train)\n",
    "\n",
    "print(\"Best parameters found: \", grid_search.best_params_)\n",
    "print(\"Cross-validation recall: \", np.round(grid_search.cv_results_['mean_test_recall'][grid_search.best_index_],4))\n",
    "print(\"Cross-validation recall std: \", np.round(grid_search.cv_results_['std_test_recall'][grid_search.best_index_],4))\n",
    "print(\"Cross-validation precision: \", np.round(grid_search.cv_results_['mean_test_precision'][grid_search.best_index_],4))\n",
    "print(\"Cross-validation precision std: \", np.round(grid_search.cv_results_['std_test_precision'][grid_search.best_index_],4))\n",
    "print(\"Cross-validation f1 score: \", np.round(grid_search.cv_results_['mean_test_f1'][grid_search.best_index_],4))\n",
    "print(\"Cross-validation f1 std: \", np.round(grid_search.cv_results_['std_test_f1'][grid_search.best_index_],4))\n",
    "print(\"Cross-validation accuracy score: \", np.round(grid_search.cv_results_['mean_test_accuracy'][grid_search.best_index_],4))\n",
    "print(\"Cross-validation accuracy std: \", np.round(grid_search.cv_results_['std_test_accuracy'][grid_search.best_index_],4))\n",
    "\n",
    "grid_sgdc = grid_search.best_estimator_\n",
    "print(grid_sgdc)  \n",
    "\n",
    "print('********************')\n",
    "%time"
   ]
  },
  {
   "cell_type": "code",
   "execution_count": 14,
   "id": "79b7bc7c-94dc-4f56-9990-ffdb99c4559e",
   "metadata": {},
   "outputs": [
    {
     "name": "stdout",
     "output_type": "stream",
     "text": [
      "Test Scores\n",
      "Accuracy: 0.5363209251897362\n",
      "Precision: 0.18014114151293797\n",
      "Recall: 0.8683111199522578\n",
      "F1 Score: 0.2983799302754802\n"
     ]
    }
   ],
   "source": [
    "# Testing Grid Search sgdc\n",
    "y_pred = grid_sgdc.predict(X_test)\n",
    "accuracy = accuracy_score(y_test, y_pred)\n",
    "precision = precision_score(y_test, y_pred)\n",
    "recall = recall_score(y_test, y_pred)\n",
    "f1 = f1_score(y_test, y_pred)\n",
    "\n",
    "print('Test Scores')\n",
    "print(f'Accuracy: {accuracy}')\n",
    "print(f'Precision: {precision}')\n",
    "print(f'Recall: {recall}')\n",
    "print(f'F1 Score: {f1}')"
   ]
  },
  {
   "cell_type": "markdown",
   "id": "91a2ea07-35a4-4c2a-9adf-752d31f813b5",
   "metadata": {},
   "source": [
    "## Random Forest Classifier"
   ]
  },
  {
   "cell_type": "code",
   "execution_count": 26,
   "id": "9fe36024-bb03-4c0d-912b-eb03b9b3cab8",
   "metadata": {},
   "outputs": [
    {
     "name": "stdout",
     "output_type": "stream",
     "text": [
      "Test Scores\n",
      "Accuracy: 0.8410056017347307\n",
      "Precision: 0.12574404761904762\n",
      "Recall: 0.06723692062860553\n",
      "F1 Score: 0.08762151652624757\n",
      "********************\n",
      "CPU times: user 3 µs, sys: 1 µs, total: 4 µs\n",
      "Wall time: 6.44 µs\n"
     ]
    }
   ],
   "source": [
    "# Baseline RFC Model\n",
    "rfc = RandomForestClassifier()\n",
    "\n",
    "# Even though we are doing an rfc, we are using a standardized dataset \n",
    "# since we get better results with it than non-standardized data\n",
    "rfc.fit(X_train_std, y_train_std)  \n",
    "\n",
    "y_pred = rfc.predict(X_test)\n",
    "accuracy = accuracy_score(y_test, y_pred)\n",
    "precision = precision_score(y_test, y_pred)\n",
    "recall = recall_score(y_test, y_pred)\n",
    "f1 = f1_score(y_test, y_pred)\n",
    "\n",
    "print('Test Scores')\n",
    "print(f'Accuracy: {accuracy}')\n",
    "print(f'Precision: {precision}')\n",
    "print(f'Recall: {recall}')\n",
    "print(f'F1 Score: {f1}')\n",
    "print('********************')\n",
    "%time"
   ]
  },
  {
   "cell_type": "code",
   "execution_count": 32,
   "id": "bb178ea8-b105-49db-81fe-1d2cc26659d9",
   "metadata": {},
   "outputs": [
    {
     "name": "stdout",
     "output_type": "stream",
     "text": [
      "Best parameters found:  {'rfc__criterion': 'gini', 'rfc__max_depth': 3, 'rfc__n_estimators': 30, 'rfc__random_state': 42}\n",
      "Cross-validation recall:  0.7859\n",
      "Cross-validation recall std:  0.0051\n",
      "Cross-validation precision:  0.1969\n",
      "Cross-validation precision std:  0.0014\n",
      "Cross-validation f1 score:  0.3149\n",
      "Cross-validation f1 std:  0.0017\n",
      "Cross-validation accuracy score:  0.6118\n",
      "Cross-validation accuracy std:  0.0044\n",
      "Pipeline(steps=[('ct',\n",
      "                 ColumnTransformer(transformers=[('std', StandardScaler(),\n",
      "                                                  ['Age Group',\n",
      "                                                   'Num of Bad Mental Health '\n",
      "                                                   'Days',\n",
      "                                                   'Years Since Last Checkup',\n",
      "                                                   'Hours of Sleeping',\n",
      "                                                   'Age Started Smoking',\n",
      "                                                   'Cigarettes per Day',\n",
      "                                                   'Days Drinking', 'Income',\n",
      "                                                   'BMI'])])),\n",
      "                ('smote', SMOTE(random_state=42)),\n",
      "                ('rfc',\n",
      "                 RandomForestClassifier(max_depth=3, n_estimators=30,\n",
      "                                        random_state=42))])\n",
      "********************\n",
      "CPU times: user 2 µs, sys: 0 ns, total: 2 µs\n",
      "Wall time: 6.2 µs\n"
     ]
    }
   ],
   "source": [
    "#Column Transformer\n",
    "cols_to_std=['Age Group','Num of Bad Mental Health Days','Years Since Last Checkup','Hours of Sleeping','Age Started Smoking',\n",
    " 'Cigarettes per Day','Days Drinking','Income','BMI']\n",
    "\n",
    "ct = ColumnTransformer([('std',StandardScaler(),cols_to_std)])\n",
    "\n",
    "\n",
    "# rfc pipeline\n",
    "rfc_pipeline = Pipeline([\n",
    "    ('ct', ct),\n",
    "    ('smote', SMOTE(random_state=42)),  \n",
    "    ('rfc', RandomForestClassifier())\n",
    "])\n",
    "\n",
    "# sgdc Parameter Grid  \n",
    "# Note: more values have been tested than what is shown, small amounts of values were run at a time to increase runtime.\n",
    "param_grid = {\n",
    "    'rfc__n_estimators': [29,30,31],\n",
    "    'rfc__criterion': ['gini'], #using gini to optimize run time\n",
    "    'rfc__max_depth': [2,3,4],\n",
    "    'rfc__random_state': [42]\n",
    "}\n",
    "\n",
    "# Grid search\n",
    "grid_search = GridSearchCV(estimator=rfc_pipeline, param_grid=param_grid, cv=5, scoring=['recall','precision','f1','accuracy'],refit='recall')\n",
    "grid_search.fit(X_train, y_train)\n",
    "\n",
    "print(\"Best parameters found: \", grid_search.best_params_)\n",
    "print(\"Cross-validation recall: \", np.round(grid_search.cv_results_['mean_test_recall'][grid_search.best_index_],4))\n",
    "print(\"Cross-validation recall std: \", np.round(grid_search.cv_results_['std_test_recall'][grid_search.best_index_],4))\n",
    "print(\"Cross-validation precision: \", np.round(grid_search.cv_results_['mean_test_precision'][grid_search.best_index_],4))\n",
    "print(\"Cross-validation precision std: \", np.round(grid_search.cv_results_['std_test_precision'][grid_search.best_index_],4))\n",
    "print(\"Cross-validation f1 score: \", np.round(grid_search.cv_results_['mean_test_f1'][grid_search.best_index_],4))\n",
    "print(\"Cross-validation f1 std: \", np.round(grid_search.cv_results_['std_test_f1'][grid_search.best_index_],4))\n",
    "print(\"Cross-validation accuracy score: \", np.round(grid_search.cv_results_['mean_test_accuracy'][grid_search.best_index_],4))\n",
    "print(\"Cross-validation accuracy std: \", np.round(grid_search.cv_results_['std_test_accuracy'][grid_search.best_index_],4))\n",
    "\n",
    "grid_rfc = grid_search.best_estimator_\n",
    "print(grid_rfc)  \n",
    "\n",
    "print('********************')\n",
    "%time"
   ]
  },
  {
   "cell_type": "code",
   "execution_count": 33,
   "id": "3a65a5d2-d2d5-4c38-9434-d2e799373bb5",
   "metadata": {},
   "outputs": [
    {
     "name": "stdout",
     "output_type": "stream",
     "text": [
      "Test Scores\n",
      "Accuracy: 0.6132770148174919\n",
      "Precision: 0.19674022066198596\n",
      "Recall: 0.7803859160533121\n",
      "F1 Score: 0.31425481635759206\n"
     ]
    }
   ],
   "source": [
    "# Testing Grid Search rfcc\n",
    "y_pred = grid_rfc.predict(X_test)\n",
    "accuracy = accuracy_score(y_test, y_pred)\n",
    "precision = precision_score(y_test, y_pred)\n",
    "recall = recall_score(y_test, y_pred)\n",
    "f1 = f1_score(y_test, y_pred)\n",
    "\n",
    "print('Test Scores')\n",
    "print(f'Accuracy: {accuracy}')\n",
    "print(f'Precision: {precision}')\n",
    "print(f'Recall: {recall}')\n",
    "print(f'F1 Score: {f1}')"
   ]
  },
  {
   "cell_type": "code",
   "execution_count": 35,
   "id": "c5a12139-b5b5-4844-8cab-16ea97948451",
   "metadata": {},
   "outputs": [],
   "source": [
    "pickle.dump(grid_sgdc, open('sgdc_model.pkl','wb'))\n",
    "pickle.dump(grid_rfc, open('rfc_model.pkl','wb'))"
   ]
  },
  {
   "cell_type": "code",
   "execution_count": null,
   "id": "911e78f0-6dcd-4f4e-9b08-c6571ecfe399",
   "metadata": {},
   "outputs": [],
   "source": [
    "pickle.dump(grid_nb, open('nb_model.pkl','wb'))"
   ]
  }
 ],
 "metadata": {
  "kernelspec": {
   "display_name": "Python 3 (ipykernel)",
   "language": "python",
   "name": "python3"
  },
  "language_info": {
   "codemirror_mode": {
    "name": "ipython",
    "version": 3
   },
   "file_extension": ".py",
   "mimetype": "text/x-python",
   "name": "python",
   "nbconvert_exporter": "python",
   "pygments_lexer": "ipython3",
   "version": "3.11.7"
  }
 },
 "nbformat": 4,
 "nbformat_minor": 5
}
