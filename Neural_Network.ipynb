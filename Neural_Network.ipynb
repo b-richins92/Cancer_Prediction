{
 "cells": [
  {
   "cell_type": "code",
   "execution_count": 1,
   "id": "36833343-9f58-4360-aeb7-7c2a3c4cf896",
   "metadata": {},
   "outputs": [
    {
     "name": "stderr",
     "output_type": "stream",
     "text": [
      "/home/brichins/.local/lib/python3.11/site-packages/torch/cuda/__init__.py:619: UserWarning: Can't initialize NVML\n",
      "  warnings.warn(\"Can't initialize NVML\")\n"
     ]
    }
   ],
   "source": [
    "import torch\n",
    "from torch import nn, Tensor\n",
    "import torchvision\n",
    "import torchvision.transforms as transforms\n",
    "from torch.utils.data import TensorDataset, Dataset, DataLoader\n",
    "import matplotlib.pyplot as plt\n",
    "from tqdm import tqdm\n",
    "from sklearn.metrics import classification_report\n",
    "from sklearn.model_selection import train_test_split\n",
    "import pandas as pd\n",
    "import numpy as np\n",
    "import time\n",
    "import copy\n",
    "from imblearn.over_sampling import SMOTE\n",
    "torch.set_num_threads(4)\n",
    "torch.set_num_interop_threads(4)"
   ]
  },
  {
   "cell_type": "code",
   "execution_count": 2,
   "id": "95fed8f0-e687-41e9-8698-e5251736608e",
   "metadata": {},
   "outputs": [],
   "source": [
    "with open('train_df_std') as f:\n",
    "    X_train = pd.read_csv(f)\n",
    "\n",
    "with open('val_df_std') as f:\n",
    "    X_val = pd.read_csv(f)\n",
    "\n",
    "with open('test_df_std') as f:\n",
    "    X_test = pd.read_csv(f)"
   ]
  },
  {
   "cell_type": "code",
   "execution_count": 3,
   "id": "ed5b96f0-b892-4a01-b52f-e0b6331e628e",
   "metadata": {},
   "outputs": [],
   "source": [
    "y_train=X_train.Cancer\n",
    "y_test=X_test.Cancer\n",
    "y_val=X_val.Cancer\n",
    "X_train=X_train.drop(\"Cancer\",axis=1)\n",
    "X_val=X_val.drop(\"Cancer\",axis=1)\n",
    "X_test=X_test.drop(\"Cancer\",axis=1)\n"
   ]
  },
  {
   "cell_type": "code",
   "execution_count": 4,
   "id": "0bd8bcf1-6b86-4b9b-8017-eb5e809f1d7d",
   "metadata": {},
   "outputs": [],
   "source": [
    "smote = SMOTE(random_state=42)\n",
    "X_train, y_train = smote.fit_resample(X_train, y_train)"
   ]
  },
  {
   "cell_type": "code",
   "execution_count": 5,
   "id": "23f8cd05-3e73-4eb1-af77-a9fd920a3b81",
   "metadata": {},
   "outputs": [],
   "source": [
    "dataset = TensorDataset( Tensor(X_train.values), Tensor(y_train.values.astype(int)))\n",
    "train_loader = DataLoader(dataset, batch_size= 50)"
   ]
  },
  {
   "cell_type": "code",
   "execution_count": 6,
   "id": "1d7837f8-c643-4fed-9326-64257080237a",
   "metadata": {},
   "outputs": [],
   "source": [
    "dataset = TensorDataset( Tensor(X_val.values), Tensor(y_val.values.astype(int)) )\n",
    "val_loader = DataLoader(dataset, batch_size= 50)"
   ]
  },
  {
   "cell_type": "code",
   "execution_count": 7,
   "id": "b618455d-1cf3-451d-90a9-a6c5ff792c62",
   "metadata": {},
   "outputs": [],
   "source": [
    "dataset = TensorDataset( Tensor(X_test.values), Tensor(y_test.values.astype(int)) )\n",
    "test_loader = DataLoader(dataset, batch_size= 50)"
   ]
  },
  {
   "cell_type": "markdown",
   "id": "b094e713-914d-41b4-b10f-31b2fe99168d",
   "metadata": {},
   "source": [
    "https://discuss.pytorch.org/t/load-dataframe-in-torch/47436/3\n",
    "https://pytorch.org/tutorials/beginner/basics/data_tutorial.html\n",
    "https://datascience.stackexchange.com/questions/45916/loading-own-train-data-and-labels-in-dataloader-using-pytorch"
   ]
  },
  {
   "cell_type": "code",
   "execution_count": 8,
   "id": "242814c8-104e-4037-9b97-9b44f997a820",
   "metadata": {},
   "outputs": [],
   "source": [
    "class NeuralNetwork(nn.Module):\n",
    "    def __init__(self,layer_1,layer_2,layer_3):\n",
    "        super(NeuralNetwork,self).__init__()\n",
    "        #self.flatten = nn.Flatten()\n",
    "        self.linear_relu_stack = nn.Sequential(\n",
    "            nn.BatchNorm1d(layer_1),\n",
    "            nn.Linear(layer_1, layer_2),\n",
    "            #nn.ReLU(),\n",
    "            #nn.Linear(128, 64),\n",
    "            nn.ReLU(),\n",
    "            nn.Linear(layer_2, layer_3),\n",
    "            nn.Sigmoid()\n",
    "        )\n",
    "\n",
    "    def forward(self, x):\n",
    "        #x = self.flatten(x)\n",
    "        logits = self.linear_relu_stack(x)\n",
    "        return logits"
   ]
  },
  {
   "cell_type": "code",
   "execution_count": 9,
   "id": "7df74506-daf9-4927-b4b9-73639c7d9e05",
   "metadata": {},
   "outputs": [],
   "source": [
    "# hyperparameter values to consider.\n",
    "hiddens=[64]  #256\n",
    "lrs=[1e-6] #1e-4\n",
    "layer_1= X_train.shape[1]\n",
    "layer_3=1\n",
    "loss_function = nn.BCELoss()"
   ]
  },
  {
   "cell_type": "code",
   "execution_count": 10,
   "id": "ccd81157-bb80-4239-95d9-b90db90e5a2b",
   "metadata": {},
   "outputs": [],
   "source": [
    "torch.manual_seed(0)\n",
    "torch.backends.cudnn.deterministic = True\n",
    "torch.backends.cudnn.benchmark = False"
   ]
  },
  {
   "cell_type": "code",
   "execution_count": 11,
   "id": "ff3f54c1-7912-4513-a7cb-af5c4fef2d52",
   "metadata": {
    "scrolled": true
   },
   "outputs": [
    {
     "name": "stdout",
     "output_type": "stream",
     "text": [
      "              precision    recall  f1-score   support\n",
      "\n",
      "         0.0       0.90      0.62      0.73     39244\n",
      "         1.0       0.14      0.49      0.22      5027\n",
      "\n",
      "    accuracy                           0.60     44271\n",
      "   macro avg       0.52      0.55      0.48     44271\n",
      "weighted avg       0.82      0.60      0.68     44271\n",
      "\n",
      "              precision    recall  f1-score   support\n",
      "\n",
      "         0.0       0.90      0.62      0.73     39244\n",
      "         1.0       0.14      0.49      0.22      5027\n",
      "\n",
      "    accuracy                           0.60     44271\n",
      "   macro avg       0.52      0.55      0.48     44271\n",
      "weighted avg       0.82      0.60      0.68     44271\n",
      "\n",
      "              precision    recall  f1-score   support\n",
      "\n",
      "         0.0       0.90      0.62      0.73     39244\n",
      "         1.0       0.14      0.49      0.22      5027\n",
      "\n",
      "    accuracy                           0.60     44271\n",
      "   macro avg       0.52      0.55      0.48     44271\n",
      "weighted avg       0.82      0.60      0.68     44271\n",
      "\n",
      "              precision    recall  f1-score   support\n",
      "\n",
      "         0.0       0.90      0.62      0.73     39244\n",
      "         1.0       0.14      0.49      0.22      5027\n",
      "\n",
      "    accuracy                           0.60     44271\n",
      "   macro avg       0.52      0.55      0.48     44271\n",
      "weighted avg       0.82      0.60      0.68     44271\n",
      "\n"
     ]
    },
    {
     "ename": "KeyboardInterrupt",
     "evalue": "",
     "output_type": "error",
     "traceback": [
      "\u001b[0;31m---------------------------------------------------------------------------\u001b[0m",
      "\u001b[0;31mKeyboardInterrupt\u001b[0m                         Traceback (most recent call last)",
      "Cell \u001b[0;32mIn[11], line 24\u001b[0m\n\u001b[1;32m     22\u001b[0m epoch\u001b[38;5;241m+\u001b[39m\u001b[38;5;241m=\u001b[39m\u001b[38;5;241m1\u001b[39m\n\u001b[1;32m     23\u001b[0m net\u001b[38;5;241m.\u001b[39mtrain()\n\u001b[0;32m---> 24\u001b[0m \u001b[38;5;28;01mfor\u001b[39;00m x,y \u001b[38;5;129;01min\u001b[39;00m train_loader:\n\u001b[1;32m     25\u001b[0m     optimizer\u001b[38;5;241m.\u001b[39mzero_grad()\n\u001b[1;32m     26\u001b[0m     outputs \u001b[38;5;241m=\u001b[39m net(x)\n",
      "File \u001b[0;32m~/.local/lib/python3.11/site-packages/torch/utils/data/dataloader.py:631\u001b[0m, in \u001b[0;36m_BaseDataLoaderIter.__next__\u001b[0;34m(self)\u001b[0m\n\u001b[1;32m    628\u001b[0m \u001b[38;5;28;01mif\u001b[39;00m \u001b[38;5;28mself\u001b[39m\u001b[38;5;241m.\u001b[39m_sampler_iter \u001b[38;5;129;01mis\u001b[39;00m \u001b[38;5;28;01mNone\u001b[39;00m:\n\u001b[1;32m    629\u001b[0m     \u001b[38;5;66;03m# TODO(https://github.com/pytorch/pytorch/issues/76750)\u001b[39;00m\n\u001b[1;32m    630\u001b[0m     \u001b[38;5;28mself\u001b[39m\u001b[38;5;241m.\u001b[39m_reset()  \u001b[38;5;66;03m# type: ignore[call-arg]\u001b[39;00m\n\u001b[0;32m--> 631\u001b[0m data \u001b[38;5;241m=\u001b[39m \u001b[38;5;28mself\u001b[39m\u001b[38;5;241m.\u001b[39m_next_data()\n\u001b[1;32m    632\u001b[0m \u001b[38;5;28mself\u001b[39m\u001b[38;5;241m.\u001b[39m_num_yielded \u001b[38;5;241m+\u001b[39m\u001b[38;5;241m=\u001b[39m \u001b[38;5;241m1\u001b[39m\n\u001b[1;32m    633\u001b[0m \u001b[38;5;28;01mif\u001b[39;00m \u001b[38;5;28mself\u001b[39m\u001b[38;5;241m.\u001b[39m_dataset_kind \u001b[38;5;241m==\u001b[39m _DatasetKind\u001b[38;5;241m.\u001b[39mIterable \u001b[38;5;129;01mand\u001b[39;00m \\\n\u001b[1;32m    634\u001b[0m         \u001b[38;5;28mself\u001b[39m\u001b[38;5;241m.\u001b[39m_IterableDataset_len_called \u001b[38;5;129;01mis\u001b[39;00m \u001b[38;5;129;01mnot\u001b[39;00m \u001b[38;5;28;01mNone\u001b[39;00m \u001b[38;5;129;01mand\u001b[39;00m \\\n\u001b[1;32m    635\u001b[0m         \u001b[38;5;28mself\u001b[39m\u001b[38;5;241m.\u001b[39m_num_yielded \u001b[38;5;241m>\u001b[39m \u001b[38;5;28mself\u001b[39m\u001b[38;5;241m.\u001b[39m_IterableDataset_len_called:\n",
      "File \u001b[0;32m~/.local/lib/python3.11/site-packages/torch/utils/data/dataloader.py:675\u001b[0m, in \u001b[0;36m_SingleProcessDataLoaderIter._next_data\u001b[0;34m(self)\u001b[0m\n\u001b[1;32m    673\u001b[0m \u001b[38;5;28;01mdef\u001b[39;00m \u001b[38;5;21m_next_data\u001b[39m(\u001b[38;5;28mself\u001b[39m):\n\u001b[1;32m    674\u001b[0m     index \u001b[38;5;241m=\u001b[39m \u001b[38;5;28mself\u001b[39m\u001b[38;5;241m.\u001b[39m_next_index()  \u001b[38;5;66;03m# may raise StopIteration\u001b[39;00m\n\u001b[0;32m--> 675\u001b[0m     data \u001b[38;5;241m=\u001b[39m \u001b[38;5;28mself\u001b[39m\u001b[38;5;241m.\u001b[39m_dataset_fetcher\u001b[38;5;241m.\u001b[39mfetch(index)  \u001b[38;5;66;03m# may raise StopIteration\u001b[39;00m\n\u001b[1;32m    676\u001b[0m     \u001b[38;5;28;01mif\u001b[39;00m \u001b[38;5;28mself\u001b[39m\u001b[38;5;241m.\u001b[39m_pin_memory:\n\u001b[1;32m    677\u001b[0m         data \u001b[38;5;241m=\u001b[39m _utils\u001b[38;5;241m.\u001b[39mpin_memory\u001b[38;5;241m.\u001b[39mpin_memory(data, \u001b[38;5;28mself\u001b[39m\u001b[38;5;241m.\u001b[39m_pin_memory_device)\n",
      "File \u001b[0;32m~/.local/lib/python3.11/site-packages/torch/utils/data/_utils/fetch.py:51\u001b[0m, in \u001b[0;36m_MapDatasetFetcher.fetch\u001b[0;34m(self, possibly_batched_index)\u001b[0m\n\u001b[1;32m     49\u001b[0m         data \u001b[38;5;241m=\u001b[39m \u001b[38;5;28mself\u001b[39m\u001b[38;5;241m.\u001b[39mdataset\u001b[38;5;241m.\u001b[39m__getitems__(possibly_batched_index)\n\u001b[1;32m     50\u001b[0m     \u001b[38;5;28;01melse\u001b[39;00m:\n\u001b[0;32m---> 51\u001b[0m         data \u001b[38;5;241m=\u001b[39m [\u001b[38;5;28mself\u001b[39m\u001b[38;5;241m.\u001b[39mdataset[idx] \u001b[38;5;28;01mfor\u001b[39;00m idx \u001b[38;5;129;01min\u001b[39;00m possibly_batched_index]\n\u001b[1;32m     52\u001b[0m \u001b[38;5;28;01melse\u001b[39;00m:\n\u001b[1;32m     53\u001b[0m     data \u001b[38;5;241m=\u001b[39m \u001b[38;5;28mself\u001b[39m\u001b[38;5;241m.\u001b[39mdataset[possibly_batched_index]\n",
      "File \u001b[0;32m~/.local/lib/python3.11/site-packages/torch/utils/data/_utils/fetch.py:51\u001b[0m, in \u001b[0;36m<listcomp>\u001b[0;34m(.0)\u001b[0m\n\u001b[1;32m     49\u001b[0m         data \u001b[38;5;241m=\u001b[39m \u001b[38;5;28mself\u001b[39m\u001b[38;5;241m.\u001b[39mdataset\u001b[38;5;241m.\u001b[39m__getitems__(possibly_batched_index)\n\u001b[1;32m     50\u001b[0m     \u001b[38;5;28;01melse\u001b[39;00m:\n\u001b[0;32m---> 51\u001b[0m         data \u001b[38;5;241m=\u001b[39m [\u001b[38;5;28mself\u001b[39m\u001b[38;5;241m.\u001b[39mdataset[idx] \u001b[38;5;28;01mfor\u001b[39;00m idx \u001b[38;5;129;01min\u001b[39;00m possibly_batched_index]\n\u001b[1;32m     52\u001b[0m \u001b[38;5;28;01melse\u001b[39;00m:\n\u001b[1;32m     53\u001b[0m     data \u001b[38;5;241m=\u001b[39m \u001b[38;5;28mself\u001b[39m\u001b[38;5;241m.\u001b[39mdataset[possibly_batched_index]\n",
      "File \u001b[0;32m~/.local/lib/python3.11/site-packages/torch/utils/data/dataset.py:209\u001b[0m, in \u001b[0;36mTensorDataset.__getitem__\u001b[0;34m(self, index)\u001b[0m\n\u001b[1;32m    208\u001b[0m \u001b[38;5;28;01mdef\u001b[39;00m \u001b[38;5;21m__getitem__\u001b[39m(\u001b[38;5;28mself\u001b[39m, index):\n\u001b[0;32m--> 209\u001b[0m     \u001b[38;5;28;01mreturn\u001b[39;00m \u001b[38;5;28mtuple\u001b[39m(tensor[index] \u001b[38;5;28;01mfor\u001b[39;00m tensor \u001b[38;5;129;01min\u001b[39;00m \u001b[38;5;28mself\u001b[39m\u001b[38;5;241m.\u001b[39mtensors)\n",
      "File \u001b[0;32m~/.local/lib/python3.11/site-packages/torch/utils/data/dataset.py:209\u001b[0m, in \u001b[0;36m<genexpr>\u001b[0;34m(.0)\u001b[0m\n\u001b[1;32m    208\u001b[0m \u001b[38;5;28;01mdef\u001b[39;00m \u001b[38;5;21m__getitem__\u001b[39m(\u001b[38;5;28mself\u001b[39m, index):\n\u001b[0;32m--> 209\u001b[0m     \u001b[38;5;28;01mreturn\u001b[39;00m \u001b[38;5;28mtuple\u001b[39m(tensor[index] \u001b[38;5;28;01mfor\u001b[39;00m tensor \u001b[38;5;129;01min\u001b[39;00m \u001b[38;5;28mself\u001b[39m\u001b[38;5;241m.\u001b[39mtensors)\n",
      "\u001b[0;31mKeyboardInterrupt\u001b[0m: "
     ]
    }
   ],
   "source": [
    "def eval_model(model,data_loader):\n",
    "    model.eval()\n",
    "    y_true_list=[]\n",
    "    y_pred_list=[]\n",
    "    model.eval()\n",
    "    for x,y in data_loader:\n",
    "        outputs=model(x)\n",
    "        y_pred = torch.where(outputs >.45,1,0)   #.49\n",
    "        y_pred_list.extend(y_pred.clone().detach().tolist())\n",
    "        y_true_list.extend(y.clone().detach().tolist())\n",
    "    return classification_report(y_true_list, y_pred_list)\n",
    "\n",
    "best_model=None\n",
    "acclist=[]\n",
    "\n",
    "for h in hiddens:\n",
    "    for lr in lrs:\n",
    "        net = NeuralNetwork(layer_1, h, layer_3)\n",
    "        optimizer = torch.optim.SGD(net.parameters(), lr=lr)\n",
    "        epoch=0\n",
    "        for i in range(30):\n",
    "            epoch+=1\n",
    "            net.train()\n",
    "            for x,y in train_loader:\n",
    "                optimizer.zero_grad()\n",
    "                outputs = net(x)\n",
    "                loss= loss_function(outputs,y.unsqueeze(1))\n",
    "                loss.backward()\n",
    "                torch.nn.utils.clip_grad_value_(net.parameters(), .005)  #.005\n",
    "                optimizer.step()\n",
    "            if epoch%1 ==0:\n",
    "                #acclist.append(eval_model(net,val_loader))\n",
    "                print(eval_model(net,val_loader))\n",
    "         \n",
    "            \n",
    "            "
   ]
  },
  {
   "cell_type": "code",
   "execution_count": 13,
   "id": "b987cee1-66f5-4a3c-8284-3def096713e4",
   "metadata": {},
   "outputs": [
    {
     "name": "stdout",
     "output_type": "stream",
     "text": [
      "              precision    recall  f1-score   support\n",
      "\n",
      "         0.0       0.91      0.60      0.72     39245\n",
      "         1.0       0.14      0.52      0.22      5027\n",
      "\n",
      "    accuracy                           0.59     44272\n",
      "   macro avg       0.52      0.56      0.47     44272\n",
      "weighted avg       0.82      0.59      0.66     44272\n",
      "\n"
     ]
    }
   ],
   "source": [
    "print(eval_model(net,test_loader))"
   ]
  },
  {
   "cell_type": "code",
   "execution_count": null,
   "id": "74175d2e-4a0c-4c1c-b65b-b95bf9b546b5",
   "metadata": {},
   "outputs": [],
   "source": []
  }
 ],
 "metadata": {
  "kernelspec": {
   "display_name": "Python 3 (ipykernel)",
   "language": "python",
   "name": "python3"
  },
  "language_info": {
   "codemirror_mode": {
    "name": "ipython",
    "version": 3
   },
   "file_extension": ".py",
   "mimetype": "text/x-python",
   "name": "python",
   "nbconvert_exporter": "python",
   "pygments_lexer": "ipython3",
   "version": "3.11.7"
  }
 },
 "nbformat": 4,
 "nbformat_minor": 5
}
